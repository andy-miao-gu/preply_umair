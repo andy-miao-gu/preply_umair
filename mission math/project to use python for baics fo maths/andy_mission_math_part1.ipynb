{
 "cells": [
  {
   "cell_type": "markdown",
   "metadata": {},
   "source": [
    "The bisection method is a simple and reliable numerical technique for finding the roots of a continuous function within a specified interval. The basic idea is to repeatedly divide the interval in half and determine which subinterval contains the root. Here's a brief explanation of the theory behind the bisection method followed by pseudocode:\n",
    "\n",
    "Theory:\n",
    "\n",
    "Given an interval [a, b] where f(a) and f(b) have opposite signs (i.e., f(a) * f(b) < 0), it is guaranteed that there is at least one root of the function f(x) within the interval [a, b]. The bisection method repeatedly bisects this interval and selects the subinterval where f(x) changes sign. The process continues until the width of the interval becomes smaller than a predefined tolerance, at which point the midpoint of the interval is considered an approximation of the root.\n",
    "\n"
   ]
  },
  {
   "cell_type": "code",
   "execution_count": 2,
   "metadata": {},
   "outputs": [],
   "source": [
    "def f (x):\n",
    "    return x**3 - 6*x**2 +11*x - 6\n",
    "\n",
    "f=lambda x: x**3 - 6*x**2 + 11*x - 6\n",
    "\n",
    "a = 100\n",
    "b = -100\n",
    "tol = 1e-3\n",
    "mx_int = 1000"
   ]
  },
  {
   "cell_type": "markdown",
   "metadata": {},
   "source": [
    "1. **Input**:\n",
    "   - Continuous function `f(x)`.\n",
    "   - Interval `[a, b]` where `f(a)` and `f(b)` have opposite signs.\n",
    "   - Tolerance `tolerance`.\n",
    "   - Maximum number of iterations `max_iterations`.\n",
    "\n",
    "2. **Check**:\n",
    "   - If `f(a) * f(b) >= 0`, return \"No root found within the given interval.\"\n",
    "\n",
    "3. Initialize `iteration` to 0.\n",
    "\n",
    "4. **Loop**:\n",
    "   - While `(b - a) / 2 > tolerance` and `iteration < max_iterations`:\n",
    "     1. Calculate the midpoint of the interval: `midpoint = (a + b) / 2`.\n",
    "     2. Calculate `f(midpoint)` and store it as `f_midpoint`.\n",
    "\n",
    "5. **Check**:\n",
    "   - If `f_midpoint` is exactly 0, return `midpoint` as the root.\n",
    "\n",
    "6. **Check**:\n",
    "   - If `f(a) * f_midpoint < 0`, set `b` to `midpoint` (the root is in the left subinterval).\n",
    "   - Otherwise, set `a` to `midpoint` (the root is in the right subinterval).\n",
    "\n",
    "7. Increment `iteration` by 1.\n",
    "\n",
    "8. **End Loop**.\n",
    "\n",
    "9. **Return** `(a + b) / 2` as the approximation of the root within the specified tolerance.\n"
   ]
  },
  {
   "cell_type": "code",
   "execution_count": 30,
   "metadata": {},
   "outputs": [],
   "source": [
    "def bisection_method(f,a,b,tol,mx_int):\n",
    "    # step 2\n",
    "    if f(a)*f(b)>=0:\n",
    "        print( \"no Root are found in interval\")\n",
    "    # step 3\n",
    "    iteration=0\n",
    "    # step 4\n",
    "    print(((b - a) / 2) > tol and iteration < mx_int)\n",
    "    while (b - a) / 2 > tol and iteration < mx_int:\n",
    "        print(iteration)\n",
    "        midpoint=(a+b)/2\n",
    "        f_midpoint=f(midpoint)\n",
    "        # step 5\n",
    "        if midpoint==0:\n",
    "            print(\"midpoint achieved\")\n",
    "            return midpoint\n",
    "        # step 6\n",
    "        if f(a)*f_midpoint<0:\n",
    "            b=midpoint\n",
    "        else:\n",
    "            a=midpoint\n",
    "        # step 7\n",
    "        iteration=iteration+1\n",
    "    \n",
    "    return (a+b)/2 "
   ]
  },
  {
   "cell_type": "code",
   "execution_count": 54,
   "metadata": {},
   "outputs": [
    {
     "name": "stdout",
     "output_type": "stream",
     "text": [
      "True\n",
      "0\n",
      "1\n",
      "2\n",
      "3\n",
      "4\n",
      "5\n",
      "6\n",
      "7\n",
      "8\n",
      "9\n",
      "10\n",
      "11\n",
      "12\n",
      "13\n",
      "14\n",
      "15\n",
      "16\n",
      "17\n",
      "18\n",
      "19\n",
      "20\n",
      "21\n",
      "22\n",
      "23\n",
      "24\n",
      "25\n",
      "26\n",
      "27\n",
      "28\n",
      "29\n",
      "30\n",
      "31\n",
      "32\n",
      "33\n",
      "34\n",
      "35\n",
      "36\n",
      "37\n",
      "38\n",
      "39\n",
      "40\n",
      "41\n",
      "42\n",
      "43\n",
      "44\n",
      "45\n"
     ]
    },
    {
     "data": {
      "text/plain": [
       "(-1.1803003019394964e-11, 'roots', 0.42857142857073427)"
      ]
     },
     "execution_count": 54,
     "metadata": {},
     "output_type": "execute_result"
    }
   ],
   "source": [
    "\n",
    "\n",
    "f=lambda x: x**2 + 6*x**2 + 11*x - 6\n",
    "\n",
    "a = 0\n",
    "b = 100\n",
    "tol = 1e-12\n",
    "mx_int = 100000\n",
    "# you can pass it function and possible duration and it will tell you about roots\n",
    "root = bisection_method(f,a,b,tol,mx_int)\n",
    "f(root),\"roots\",root"
   ]
  },
  {
   "cell_type": "code",
   "execution_count": 55,
   "metadata": {},
   "outputs": [],
   "source": [
    "import numpy as np\n",
    "import matplotlib.pyplot as plt"
   ]
  },
  {
   "cell_type": "code",
   "execution_count": 56,
   "metadata": {},
   "outputs": [
    {
     "data": {
      "text/plain": [
       "[<matplotlib.lines.Line2D at 0x7fce994692d0>]"
      ]
     },
     "execution_count": 56,
     "metadata": {},
     "output_type": "execute_result"
    },
    {
     "data": {
      "image/png": "[encoded data removed]",
      "text/plain": [
       "<Figure size 640x480 with 1 Axes>"
      ]
     },
     "metadata": {},
     "output_type": "display_data"
    }
   ],
   "source": [
    "plt.plot(np.arange(0,10,0.1),[f(i) for i in np.arange(0,10,0.1)])\n"
   ]
  },
  {
   "cell_type": "code",
   "execution_count": null,
   "metadata": {},
   "outputs": [],
   "source": []
  }
 ],
 "metadata": {
  "kernelspec": {
   "display_name": "base",
   "language": "python",
   "name": "python3"
  },
  "language_info": {
   "codemirror_mode": {
    "name": "ipython",
    "version": 3
   },
   "file_extension": ".py",
   "mimetype": "text/x-python",
   "name": "python",
   "nbconvert_exporter": "python",
   "pygments_lexer": "ipython3",
   "version": "3.10.9"
  },
  "orig_nbformat": 4
 },
 "nbformat": 4,
 "nbformat_minor": 2
}

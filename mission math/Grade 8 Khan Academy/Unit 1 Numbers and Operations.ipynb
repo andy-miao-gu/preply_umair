{
 "cells": [
  {
   "cell_type": "code",
   "execution_count": 1,
   "metadata": {},
   "outputs": [],
   "source": [
    "# Make a python code \n",
    "## in which if i write twpo number\n",
    "## you have to tell me the greatest number with which i can divide it \n",
    "\n",
    "# for example if i say 22 then the greatest number with which i can divide it is 11\n",
    "# You have tot tell the second greatest number with which i can divide it\n",
    "import math\n",
    "\n",
    "a = 10525\n",
    "GCF=lambda a,b: math.gcd(a, b)\n",
    "\n",
    "\n",
    "\n"
   ]
  },
  {
   "cell_type": "code",
   "execution_count": 5,
   "metadata": {},
   "outputs": [
    {
     "data": {
      "text/plain": [
       "[1,\n",
       " 2,\n",
       " 3,\n",
       " 5,\n",
       " 6,\n",
       " 7,\n",
       " 9,\n",
       " 10,\n",
       " 14,\n",
       " 15,\n",
       " 18,\n",
       " 21,\n",
       " 30,\n",
       " 35,\n",
       " 42,\n",
       " 45,\n",
       " 63,\n",
       " 70,\n",
       " 90,\n",
       " 105,\n",
       " 126,\n",
       " 210,\n",
       " 315,\n",
       " 630,\n",
       " 7649,\n",
       " 15298,\n",
       " 22947,\n",
       " 38245,\n",
       " 45894,\n",
       " 53543,\n",
       " 68841,\n",
       " 76490,\n",
       " 107086,\n",
       " 114735,\n",
       " 137682,\n",
       " 160629,\n",
       " 229470,\n",
       " 267715,\n",
       " 321258,\n",
       " 344205,\n",
       " 481887,\n",
       " 535430,\n",
       " 688410,\n",
       " 803145,\n",
       " 963774,\n",
       " 1606290,\n",
       " 2409435]"
      ]
     },
     "execution_count": 5,
     "metadata": {},
     "output_type": "execute_result"
    }
   ],
   "source": [
    "def GCF(x, y):\n",
    "    lst = []\n",
    "    for i in range(1, max(x,y)):\n",
    "        if x % i ==0 and y % i ==0:\n",
    "            lst.append(i)\n",
    "    return lst\n",
    "GCF(4818870,4818870)\n"
   ]
  },
  {
   "cell_type": "code",
   "execution_count": 6,
   "metadata": {},
   "outputs": [
    {
     "data": {
      "text/plain": [
       "'Sudo code\\nRun a for loop\\n# check if it is divisible by 2 ? both\\nif yes then divide\\n# again check if it is divisible by 2 not then increment to 3 \\n# an \\n\\n'"
      ]
     },
     "execution_count": 6,
     "metadata": {},
     "output_type": "execute_result"
    }
   ],
   "source": [
    "## find those number with which if i multiple them then i get same results\n",
    "\n",
    "\"\"\"\n",
    "18 and 12\n",
    "\n",
    "9 and 6 | 2\n",
    "3 and 2 | 3\n",
    "\n",
    "\"\"\"\n",
    "\"\"\"Sudo code\n",
    "Run a for loop\n",
    "# check if it is divisible by 2 ? both\n",
    "if yes then divide\n",
    "# again check if it is divisible by 2 not then increment to 3 \n",
    "# an \n",
    "\n",
    "\"\"\"\n"
   ]
  },
  {
   "cell_type": "code",
   "execution_count": 11,
   "metadata": {},
   "outputs": [
    {
     "name": "stdout",
     "output_type": "stream",
     "text": [
      "12.0 18.0 2\n",
      "4.0 6.0 3\n"
     ]
    }
   ],
   "source": [
    "def fun (a,b):\n",
    "    for i in range(2, max(a,b)):\n",
    "        if a % i == 0 and b % i == 0:\n",
    "            a = a/i\n",
    "            b = b/i\n",
    "            print( a,b,i )\n",
    "\n",
    "\n",
    "fun(24,36)"
   ]
  },
  {
   "cell_type": "markdown",
   "metadata": {},
   "source": [
    "<img src = \"https://www.basic-mathematics.com/images/divisibility-rules.jpg\">"
   ]
  },
  {
   "cell_type": "code",
   "execution_count": 13,
   "metadata": {},
   "outputs": [
    {
     "ename": "IndentationError",
     "evalue": "expected an indented block after function definition on line 7 (3748281280.py, line 8)",
     "output_type": "error",
     "traceback": [
      "\u001b[0;36m  Cell \u001b[0;32mIn[13], line 8\u001b[0;36m\u001b[0m\n\u001b[0;31m    print(\"the anwser is\",div/num)\u001b[0m\n\u001b[0m    ^\u001b[0m\n\u001b[0;31mIndentationError\u001b[0m\u001b[0;31m:\u001b[0m expected an indented block after function definition on line 7\n"
     ]
    }
   ],
   "source": [
    "    # How you step by step divide a nuber with calculat1ions you try it in python\n",
    "\n",
    "\n",
    "# no need to solve it on copy, just i write code \n",
    "\n",
    "## a code should solve eveni write any number \n",
    "def define(div,num):\n",
    "    print(\"the anwser is\",div/num)\n",
    "    if num%2==0 and div == 2:\n",
    "            print(\"since even you divide it by a half 2=1,4=2,6=3,8=4 and so on\",div/num)\n",
    "\n",
    "    if num%2==1:\n",
    "        print(\" divisibillity rules\")"
   ]
  },
  {
   "cell_type": "code",
   "execution_count": null,
   "metadata": {},
   "outputs": [],
   "source": [
    "Rules = \"\"\"\n",
    "point1 = define function\n",
    "point1.5 = i = 2\n",
    "point2 = write a while loop until you break Set it as True\n",
    "point3 = check if number is completely divisible by 2 \n",
    "    if yes then update number num = num  / 2\n",
    "point4 if number is not more divisible by i = 2\n",
    "    then pdate i = i + 1\n",
    "\n",
    "point 5 if (number / i ) <= break \n",
    "\n",
    "\"\"\""
   ]
  },
  {
   "cell_type": "code",
   "execution_count": 5,
   "metadata": {},
   "outputs": [],
   "source": [
    "def promax(promax):\n",
    "    i = 2\n",
    "    while (True):\n",
    "        \n",
    "        if promax % i == 0:\n",
    "            promax = promax / i\n",
    "            print(promax,i)\n",
    "        elif promax % i != 0:\n",
    "            i = i + 1\n",
    "        if promax ==1:\n",
    "            break"
   ]
  },
  {
   "cell_type": "code",
   "execution_count": 9,
   "metadata": {},
   "outputs": [
    {
     "name": "stdout",
     "output_type": "stream",
     "text": [
      "17.0 3\n",
      "1.0 17\n"
     ]
    }
   ],
   "source": [
    "promax(51)"
   ]
  },
  {
   "cell_type": "code",
   "execution_count": null,
   "metadata": {},
   "outputs": [],
   "source": []
  },
  {
   "cell_type": "code",
   "execution_count": null,
   "metadata": {},
   "outputs": [],
   "source": []
  }
 ],
 "metadata": {
  "kernelspec": {
   "display_name": "base",
   "language": "python",
   "name": "python3"
  },
  "language_info": {
   "codemirror_mode": {
    "name": "ipython",
    "version": 3
   },
   "file_extension": ".py",
   "mimetype": "text/x-python",
   "name": "python",
   "nbconvert_exporter": "python",
   "pygments_lexer": "ipython3",
   "version": "3.10.9"
  },
  "orig_nbformat": 4
 },
 "nbformat": 4,
 "nbformat_minor": 2
}

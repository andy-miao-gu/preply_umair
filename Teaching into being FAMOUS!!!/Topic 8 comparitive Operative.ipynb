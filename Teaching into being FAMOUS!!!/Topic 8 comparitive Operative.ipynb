{
 "cells": [
  {
   "cell_type": "markdown",
   "metadata": {},
   "source": [
    "# If you want to see what booleans are watch my data types video or else you won't really understand"
   ]
  },
  {
   "cell_type": "markdown",
   "metadata": {},
   "source": [
    "# how many types of total comparative operators"
   ]
  },
  {
   "cell_type": "code",
   "execution_count": null,
   "metadata": {},
   "outputs": [],
   "source": [
    "\"\"\">\n",
    "<\n",
    "==\n",
    "<=\n",
    ">=\n",
    "\"\"\""
   ]
  },
  {
   "cell_type": "markdown",
   "metadata": {},
   "source": [
    "# how to compare two numbers to get boolean"
   ]
  },
  {
   "cell_type": "code",
   "execution_count": 7,
   "metadata": {},
   "outputs": [
    {
     "data": {
      "text/plain": [
       "False"
      ]
     },
     "execution_count": 7,
     "metadata": {},
     "output_type": "execute_result"
    }
   ],
   "source": [
    "456>567"
   ]
  },
  {
   "cell_type": "markdown",
   "metadata": {},
   "source": [
    "# other than comparative operators we can also use 'in'"
   ]
  },
  {
   "cell_type": "code",
   "execution_count": 14,
   "metadata": {},
   "outputs": [
    {
     "data": {
      "text/plain": [
       "True"
      ]
     },
     "execution_count": 14,
     "metadata": {},
     "output_type": "execute_result"
    }
   ],
   "source": [
    "\"apple\" in \"brappgle Human bluefjhvchgvdfuihbflijvlhzgsujifzhdujiv brapple\""
   ]
  },
  {
   "cell_type": "markdown",
   "metadata": {},
   "source": [
    "# to see if my element is present in list"
   ]
  },
  {
   "cell_type": "code",
   "execution_count": 16,
   "metadata": {},
   "outputs": [
    {
     "data": {
      "text/plain": [
       "True"
      ]
     },
     "execution_count": 16,
     "metadata": {},
     "output_type": "execute_result"
    }
   ],
   "source": [
    "ifi=[1,3,4,3,3,5,3,4,5,19,100]\n",
    "19 in ifi"
   ]
  },
  {
   "cell_type": "markdown",
   "metadata": {},
   "source": [
    "# to see if an element is present in my dictionary"
   ]
  },
  {
   "cell_type": "code",
   "execution_count": 18,
   "metadata": {},
   "outputs": [
    {
     "data": {
      "text/plain": [
       "True"
      ]
     },
     "execution_count": 18,
     "metadata": {},
     "output_type": "execute_result"
    }
   ],
   "source": [
    "gigachad={\"blud\":\"bro\",\"brush\":\"crush\"}\n",
    "\"brush\" in gigachad"
   ]
  },
  {
   "cell_type": "markdown",
   "metadata": {},
   "source": [
    "# to see if 'apple' in my string 'i love apple'"
   ]
  },
  {
   "cell_type": "code",
   "execution_count": 21,
   "metadata": {},
   "outputs": [
    {
     "data": {
      "text/plain": [
       "True"
      ]
     },
     "execution_count": 21,
     "metadata": {},
     "output_type": "execute_result"
    }
   ],
   "source": [
    "\"apple\" in \"I love brapples\""
   ]
  },
  {
   "cell_type": "markdown",
   "metadata": {},
   "source": [
    "# 'dog' in tuple"
   ]
  },
  {
   "cell_type": "code",
   "execution_count": 23,
   "metadata": {},
   "outputs": [
    {
     "data": {
      "text/plain": [
       "True"
      ]
     },
     "execution_count": 23,
     "metadata": {},
     "output_type": "execute_result"
    }
   ],
   "source": [
    "gublu=(4,5,2,5,3,\"dog\",5,3,5,54,5665)\n",
    "\"dog\" in gublu"
   ]
  },
  {
   "cell_type": "markdown",
   "metadata": {},
   "source": [
    "# to see if x is greater than y using x>y"
   ]
  },
  {
   "cell_type": "code",
   "execution_count": 25,
   "metadata": {},
   "outputs": [
    {
     "data": {
      "text/plain": [
       "True"
      ]
     },
     "execution_count": 25,
     "metadata": {},
     "output_type": "execute_result"
    }
   ],
   "source": [
    "x=100\n",
    "y=89\n",
    "x>y"
   ]
  },
  {
   "cell_type": "code",
   "execution_count": 28,
   "metadata": {},
   "outputs": [],
   "source": [
    "def odd_or_even(arr):\n",
    "    total = sum(arr)\n",
    "    if total % 2 == 0:\n",
    "        total=\"even\"\n",
    "    else:\n",
    "        total=\"odd\"\n",
    "    return total\n"
   ]
  },
  {
   "cell_type": "code",
   "execution_count": 30,
   "metadata": {},
   "outputs": [
    {
     "ename": "TypeError",
     "evalue": "odd_or_even() takes 1 positional argument but 2 were given",
     "output_type": "error",
     "traceback": [
      "\u001b[0;31m---------------------------------------------------------------------------\u001b[0m",
      "\u001b[0;31mTypeError\u001b[0m                                 Traceback (most recent call last)",
      "\u001b[1;32m/Users/andymiaogu/Desktop/preply_umair/Teaching into being FAMOUS!!!/Topic 8 comparitive Operative.ipynb Cell 19\u001b[0m line \u001b[0;36m1\n\u001b[0;32m----> <a href='vscode-notebook-cell:/Users/andymiaogu/Desktop/preply_umair/Teaching%20into%20being%20FAMOUS%21%21%21/Topic%208%20comparitive%20Operative.ipynb#X43sZmlsZQ%3D%3D?line=0'>1</a>\u001b[0m odd_or_even(\u001b[39m12\u001b[39;49m,\u001b[39m8\u001b[39;49m)\n",
      "\u001b[0;31mTypeError\u001b[0m: odd_or_even() takes 1 positional argument but 2 were given"
     ]
    }
   ],
   "source": [
    "odd_or_even(12,8)"
   ]
  },
  {
   "cell_type": "code",
   "execution_count": 31,
   "metadata": {},
   "outputs": [],
   "source": [
    "def get_sum(a,b):\n",
    "    lst=[]\n",
    "    add=a+b\n",
    "    if a==b:\n",
    "        add=+a\n",
    "    if a > b:\n",
    "        for each in range(b,a+):\n",
    "            lst.append(each)\n",
    "        add=+sum(lst)\n",
    "    if b > a:\n",
    "        for i in range(a,b):\n",
    "            lst.append(i)\n",
    "        add=+sum(lst)\n",
    "    \n",
    "    return add"
   ]
  },
  {
   "cell_type": "code",
   "execution_count": 34,
   "metadata": {},
   "outputs": [
    {
     "data": {
      "text/plain": [
       "55"
      ]
     },
     "execution_count": 34,
     "metadata": {},
     "output_type": "execute_result"
    }
   ],
   "source": [
    "get_sum(1,11)"
   ]
  },
  {
   "cell_type": "code",
   "execution_count": 42,
   "metadata": {},
   "outputs": [],
   "source": []
  },
  {
   "cell_type": "code",
   "execution_count": 43,
   "metadata": {},
   "outputs": [
    {
     "ename": "ValueError",
     "evalue": "invalid literal for int() with base 10: 'D'",
     "output_type": "error",
     "traceback": [
      "\u001b[0;31m---------------------------------------------------------------------------\u001b[0m",
      "\u001b[0;31mValueError\u001b[0m                                Traceback (most recent call last)",
      "\u001b[1;32m/Users/andymiaogu/Desktop/preply_umair/Teaching into being FAMOUS!!!/Topic 8 comparitive Operative.ipynb Cell 23\u001b[0m line \u001b[0;36m1\n\u001b[0;32m----> <a href='vscode-notebook-cell:/Users/andymiaogu/Desktop/preply_umair/Teaching%20into%20being%20FAMOUS%21%21%21/Topic%208%20comparitive%20Operative.ipynb#X50sZmlsZQ%3D%3D?line=0'>1</a>\u001b[0m to_day_of_year([\u001b[39m21\u001b[39;49m,\u001b[39m12\u001b[39;49m])\n",
      "\u001b[1;32m/Users/andymiaogu/Desktop/preply_umair/Teaching into being FAMOUS!!!/Topic 8 comparitive Operative.ipynb Cell 23\u001b[0m line \u001b[0;36m3\n\u001b[1;32m     <a href='vscode-notebook-cell:/Users/andymiaogu/Desktop/preply_umair/Teaching%20into%20being%20FAMOUS%21%21%21/Topic%208%20comparitive%20Operative.ipynb#X50sZmlsZQ%3D%3D?line=29'>30</a>\u001b[0m \u001b[39mif\u001b[39;00m date[\u001b[39m0\u001b[39m] \u001b[39m==\u001b[39m \u001b[39m3\u001b[39m:\n\u001b[1;32m     <a href='vscode-notebook-cell:/Users/andymiaogu/Desktop/preply_umair/Teaching%20into%20being%20FAMOUS%21%21%21/Topic%208%20comparitive%20Operative.ipynb#X50sZmlsZQ%3D%3D?line=30'>31</a>\u001b[0m     date\u001b[39m=\u001b[39m\u001b[39m+\u001b[39m\u001b[39m\"\u001b[39m\u001b[39m3rd\u001b[39m\u001b[39m\"\u001b[39m\n\u001b[0;32m---> <a href='vscode-notebook-cell:/Users/andymiaogu/Desktop/preply_umair/Teaching%20into%20being%20FAMOUS%21%21%21/Topic%208%20comparitive%20Operative.ipynb#X50sZmlsZQ%3D%3D?line=31'>32</a>\u001b[0m \u001b[39mif\u001b[39;00m \u001b[39mint\u001b[39;49m(date[\u001b[39m0\u001b[39;49m]) \u001b[39m>\u001b[39m \u001b[39m2\u001b[39m:\n\u001b[1;32m     <a href='vscode-notebook-cell:/Users/andymiaogu/Desktop/preply_umair/Teaching%20into%20being%20FAMOUS%21%21%21/Topic%208%20comparitive%20Operative.ipynb#X50sZmlsZQ%3D%3D?line=32'>33</a>\u001b[0m     date\u001b[39m=\u001b[39m\u001b[39m+\u001b[39m\u001b[39mstr\u001b[39m(date[\u001b[39m0\u001b[39m])\u001b[39m+\u001b[39m\u001b[39m\"\u001b[39m\u001b[39mth\u001b[39m\u001b[39m\"\u001b[39m\n\u001b[1;32m     <a href='vscode-notebook-cell:/Users/andymiaogu/Desktop/preply_umair/Teaching%20into%20being%20FAMOUS%21%21%21/Topic%208%20comparitive%20Operative.ipynb#X50sZmlsZQ%3D%3D?line=34'>35</a>\u001b[0m \u001b[39mreturn\u001b[39;00m date\n",
      "\u001b[0;31mValueError\u001b[0m: invalid literal for int() with base 10: 'D'"
     ]
    }
   ],
   "source": [
    "to_day_of_year([21,12])"
   ]
  },
  {
   "cell_type": "code",
   "execution_count": null,
   "metadata": {},
   "outputs": [],
   "source": []
  }
 ],
 "metadata": {
  "kernelspec": {
   "display_name": "base",
   "language": "python",
   "name": "python3"
  },
  "language_info": {
   "codemirror_mode": {
    "name": "ipython",
    "version": 3
   },
   "file_extension": ".py",
   "mimetype": "text/x-python",
   "name": "python",
   "nbconvert_exporter": "python",
   "pygments_lexer": "ipython3",
   "version": "3.10.9"
  },
  "orig_nbformat": 4
 },
 "nbformat": 4,
 "nbformat_minor": 2
}

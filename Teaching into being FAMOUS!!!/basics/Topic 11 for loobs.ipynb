{
 "cells": [
  {
   "cell_type": "markdown",
   "metadata": {},
   "source": [
    "# 🗿"
   ]
  },
  {
   "cell_type": "markdown",
   "metadata": {},
   "source": [
    "# how to print counting from 1 to 20"
   ]
  },
  {
   "cell_type": "code",
   "execution_count": 3,
   "metadata": {},
   "outputs": [
    {
     "name": "stdout",
     "output_type": "stream",
     "text": [
      "1\n",
      "2\n",
      "3\n",
      "4\n",
      "5\n",
      "6\n",
      "7\n",
      "8\n",
      "9\n",
      "10\n",
      "11\n",
      "12\n",
      "13\n",
      "14\n",
      "15\n",
      "16\n",
      "17\n",
      "18\n",
      "19\n",
      "20\n"
     ]
    }
   ],
   "source": [
    "gotouchsomegrass=0\n",
    "for iiii in range(0,20):\n",
    "    gotouchsomegrass+=1\n",
    "    print(gotouchsomegrass)"
   ]
  },
  {
   "cell_type": "markdown",
   "metadata": {},
   "source": [
    "# how to print even and odd numbers"
   ]
  },
  {
   "cell_type": "code",
   "execution_count": 5,
   "metadata": {},
   "outputs": [
    {
     "name": "stdout",
     "output_type": "stream",
     "text": [
      "lst number is even 74\n",
      "lst number is even 12\n",
      "lst number is odd 1\n",
      "lst number is odd 1\n",
      "lst number is even 2\n",
      "lst number is even 12\n",
      "lst number is even 12\n",
      "lst number is even 12\n",
      "lst number is even 12\n",
      "lst number is even 12\n",
      "lst number is odd 21\n",
      "lst number is odd 1\n",
      "lst number is odd 21\n",
      "lst number is even 2\n",
      "lst number is even 12\n",
      "lst number is odd 1\n",
      "lst number is even 12\n",
      "lst number is even 12\n",
      "lst number is even 12\n",
      "lst number is odd 1\n",
      "lst number is odd 33\n",
      "lst number is even 12\n",
      "lst number is even 2\n",
      "lst number is even 12\n",
      "lst number is even 12\n",
      "lst number is even 2\n",
      "lst number is odd 3\n",
      "lst number is odd 21\n",
      "lst number is even 12\n",
      "lst number is even 32\n",
      "lst number is odd 123\n",
      "lst number is even 12\n",
      "lst number is even 32\n",
      "lst number is odd 21\n",
      "lst number is even 2\n",
      "lst number is odd 1323\n",
      "lst number is even 312\n"
     ]
    }
   ],
   "source": [
    "lst=[74,12,1,1,2,12,12,12,12,12,21,1,21,2,12,1,12,12,12,1,33,12,2,12,12,2,3,21,12,32,123,12,32,21,2,1323,312]\n",
    "for each in lst:\n",
    "    if each%2==0:\n",
    "        print(f\"lst number is even {each}\")\n",
    "    else:\n",
    "        print(f\"lst number is odd {each}\")"
   ]
  },
  {
   "cell_type": "markdown",
   "metadata": {},
   "source": [
    "# how to print all fruits from list"
   ]
  },
  {
   "cell_type": "code",
   "execution_count": 13,
   "metadata": {},
   "outputs": [],
   "source": [
    "l=0\n",
    "lsto=[\"apple\",\"banana\",\"idon'tknowfruit\",\"aopple\",\"orange\",\"Iamabanana\",\"applepine\"]\n",
    "for each in lst:\n",
    "    print(each)"
   ]
  },
  {
   "cell_type": "markdown",
   "metadata": {},
   "source": [
    "# how to print fruits starting with a"
   ]
  },
  {
   "cell_type": "code",
   "execution_count": 14,
   "metadata": {},
   "outputs": [
    {
     "name": "stdout",
     "output_type": "stream",
     "text": [
      "['apple', 'aopple', 'applepine']\n"
     ]
    }
   ],
   "source": [
    "lst=[]\n",
    "for each in lsto:\n",
    "    if each[0]==\"a\":\n",
    "        lst.append(each)\n",
    "    else:\n",
    "        pass\n",
    "print(lst)"
   ]
  },
  {
   "cell_type": "markdown",
   "metadata": {},
   "source": [
    "# how to print fruit name and price from dictionary"
   ]
  },
  {
   "cell_type": "code",
   "execution_count": 16,
   "metadata": {},
   "outputs": [
    {
     "name": "stdout",
     "output_type": "stream",
     "text": [
      "fruit name is apple, price is 3.75\n",
      "fruit name is banana, price is 6.57\n"
     ]
    }
   ],
   "source": [
    "dictionary={\"apple\":3.75,\"banana\":6.57}\n",
    "for each in dictionary:\n",
    "    print(f\"fruit name is {each}, price is {dictionary[each]}\")"
   ]
  },
  {
   "cell_type": "code",
   "execution_count": null,
   "metadata": {},
   "outputs": [],
   "source": []
  }
 ],
 "metadata": {
  "kernelspec": {
   "display_name": "base",
   "language": "python",
   "name": "python3"
  },
  "language_info": {
   "codemirror_mode": {
    "name": "ipython",
    "version": 3
   },
   "file_extension": ".py",
   "mimetype": "text/x-python",
   "name": "python",
   "nbconvert_exporter": "python",
   "pygments_lexer": "ipython3",
   "version": "3.10.9"
  },
  "orig_nbformat": 4
 },
 "nbformat": 4,
 "nbformat_minor": 2
}

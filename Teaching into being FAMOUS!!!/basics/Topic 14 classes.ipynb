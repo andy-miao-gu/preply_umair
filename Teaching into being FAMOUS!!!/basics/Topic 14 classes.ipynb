{
 "cells": [
  {
   "cell_type": "markdown",
   "metadata": {},
   "source": [
    "<img src = \"https://media.tenor.com/lCKwsD2OW1kAAAAC/happy-cat-happy-happy-cat.gif\" >"
   ]
  },
  {
   "cell_type": "markdown",
   "metadata": {},
   "source": [
    "# What is a class"
   ]
  },
  {
   "cell_type": "code",
   "execution_count": 13,
   "metadata": {},
   "outputs": [
    {
     "data": {
      "text/plain": [
       "100"
      ]
     },
     "execution_count": 13,
     "metadata": {},
     "output_type": "execute_result"
    }
   ],
   "source": [
    "class Animal:\n",
    "    name=\"hehehehehe\"\n",
    "    age=100\n",
    "Animal.age"
   ]
  },
  {
   "cell_type": "markdown",
   "metadata": {},
   "source": [
    "# How to use class"
   ]
  },
  {
   "cell_type": "code",
   "execution_count": null,
   "metadata": {},
   "outputs": [],
   "source": [
    "class Animal:\n",
    "    name=\"hehehehehe\"\n",
    "    age=100\n",
    "Animal.age"
   ]
  },
  {
   "cell_type": "markdown",
   "metadata": {},
   "source": [
    "# how to give arguments to class using __init__"
   ]
  },
  {
   "cell_type": "code",
   "execution_count": 17,
   "metadata": {},
   "outputs": [
    {
     "data": {
      "text/plain": [
       "10"
      ]
     },
     "execution_count": 17,
     "metadata": {},
     "output_type": "execute_result"
    }
   ],
   "source": [
    "\n",
    "class Animal:\n",
    "    def __init__(self,name,age):\n",
    "        self.name=name\n",
    "        self.age=age\n",
    "An=Animal(\"Bruh\",10)\n",
    "An.name\n",
    "An.age"
   ]
  },
  {
   "cell_type": "markdown",
   "metadata": {},
   "source": [
    "# how to make get and set function in class"
   ]
  },
  {
   "cell_type": "code",
   "execution_count": 23,
   "metadata": {},
   "outputs": [
    {
     "data": {
      "text/plain": [
       "'babum'"
      ]
     },
     "execution_count": 23,
     "metadata": {},
     "output_type": "execute_result"
    }
   ],
   "source": [
    "class Animal:\n",
    "    def __init__(self,name,age):\n",
    "        self.__name=name\n",
    "        self.__age=age\n",
    "    def get_name(self):\n",
    "        return self.__name\n",
    "    def set_name(self,name):\n",
    "        self.__name=name\n",
    "a=Animal(\"random\",1234)\n",
    "a.set_name(\"babum\")\n",
    "a.get_name()"
   ]
  },
  {
   "cell_type": "markdown",
   "metadata": {},
   "source": [
    "# how to make multiple turtles using class approach"
   ]
  },
  {
   "cell_type": "code",
   "execution_count": 24,
   "metadata": {},
   "outputs": [],
   "source": [
    "import turtle\n",
    "\n",
    "class MyTurtle:\n",
    "    def __init__(self, color, x, y):\n",
    "        self.turtle = turtle.Turtle()\n",
    "        self.turtle.shape(\"turtle\")\n",
    "        self.turtle.color(color)\n",
    "        self.turtle.penup()\n",
    "        self.turtle.goto(x, y)\n",
    "\n",
    "    def move_up(self):\n",
    "        self.turtle.setheading(90)\n",
    "        self.turtle.forward(10)\n",
    "\n",
    "    def move_down(self):\n",
    "        self.turtle.setheading(270)\n",
    "        self.turtle.forward(10)\n",
    "\n",
    "    def move_left(self):\n",
    "        self.turtle.setheading(180)\n",
    "        self.turtle.forward(10)\n",
    "\n",
    "    def move_right(self):\n",
    "        self.turtle.setheading(0)\n",
    "        self.turtle.forward(10)\n",
    "\n",
    "# Create multiple turtle instances\n",
    "turtle1 = MyTurtle(\"red\", -50, 0)\n",
    "turtle2 = MyTurtle(\"blue\", 0, 0)\n",
    "turtle3 = MyTurtle(\"green\", 50, 0)\n",
    "\n",
    "# Move the turtles\n",
    "for i in range(50):\n",
    "    turtle1.move_up()\n",
    "    turtle2.move_down()\n",
    "    turtle3.move_left()\n",
    "    turtle1.move_right()\n",
    "\n",
    "turtle.mainloop()\n"
   ]
  },
  {
   "cell_type": "code",
   "execution_count": null,
   "metadata": {},
   "outputs": [],
   "source": []
  }
 ],
 "metadata": {
  "kernelspec": {
   "display_name": "base",
   "language": "python",
   "name": "python3"
  },
  "language_info": {
   "codemirror_mode": {
    "name": "ipython",
    "version": 3
   },
   "file_extension": ".py",
   "mimetype": "text/x-python",
   "name": "python",
   "nbconvert_exporter": "python",
   "pygments_lexer": "ipython3",
   "version": "3.10.9"
  }
 },
 "nbformat": 4,
 "nbformat_minor": 2
}

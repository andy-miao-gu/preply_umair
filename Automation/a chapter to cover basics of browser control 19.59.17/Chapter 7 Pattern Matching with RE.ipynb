{
 "cells": [
  {
   "cell_type": "code",
   "execution_count": 13,
   "metadata": {},
   "outputs": [],
   "source": [
    "##3 rules fore number is xxx-yyy-zzzz\n",
    "## you have to make a fucntion which \n",
    "## which will confimr this is phone number and this is not\n",
    "\n",
    "#define function with argument yee\n",
    "def isPhoneNumber(yee):\n",
    "#split yee based on hython\n",
    "    lst = yee.split(\"-\")\n",
    "#if not len(list[0])=3 and not list[0].isdecimal()\n",
    "#        return False\n",
    "    if not len(lst[0])==3 or not lst[0].isdecimal():\n",
    "        return False\n",
    "#if not len(list[1])=3 and not list[1].isdecimal()\n",
    "#        return False\n",
    "    if not len(lst[1])==3 or not lst[1].isdecimal():\n",
    "        return False\n",
    "#if not len(list[2])=4 and not list[2].isdecimal()\n",
    "#        return False\n",
    "    if not len(lst[2])==4 or not lst[2].isdecimal():\n",
    "        return False\n",
    "#return True\n",
    "    return True"
   ]
  },
  {
   "cell_type": "code",
   "execution_count": 14,
   "metadata": {},
   "outputs": [
    {
     "data": {
      "text/plain": [
       "False"
      ]
     },
     "execution_count": 14,
     "metadata": {},
     "output_type": "execute_result"
    }
   ],
   "source": [
    "isPhoneNumber(\"0b0-789-1112\")"
   ]
  },
  {
   "cell_type": "code",
   "execution_count": 15,
   "metadata": {},
   "outputs": [],
   "source": [
    "import re"
   ]
  },
  {
   "cell_type": "code",
   "execution_count": 16,
   "metadata": {},
   "outputs": [
    {
     "name": "stdout",
     "output_type": "stream",
     "text": [
      "re.compile('\\\\d\\\\d\\\\d-\\\\d\\\\d\\\\d-\\\\d\\\\d\\\\d\\\\d')\n"
     ]
    }
   ],
   "source": [
    "phoneNumRegex = re.compile(r'\\d\\d\\d-\\d\\d\\d-\\d\\d\\d\\d')\n",
    "print(phoneNumRegex)"
   ]
  },
  {
   "cell_type": "code",
   "execution_count": 17,
   "metadata": {},
   "outputs": [
    {
     "data": {
      "text/plain": [
       "['444-555-3333', '444-555-2222', '666-555-0000']"
      ]
     },
     "execution_count": 17,
     "metadata": {},
     "output_type": "execute_result"
    }
   ],
   "source": [
    "abc = \"my phone number sdasdsadsakdksakdksoakdokasokas is 444-555-3333 and also 444-555-2222 and also 666-555-0000\"\n",
    "phoneNumRegex.findall(abc)"
   ]
  },
  {
   "cell_type": "code",
   "execution_count": 18,
   "metadata": {},
   "outputs": [
    {
     "data": {
      "text/plain": [
       "['sadasdsadasdsa@gmail.com', 'andy@angela.com']"
      ]
     },
     "execution_count": 18,
     "metadata": {},
     "output_type": "execute_result"
    }
   ],
   "source": [
    "email = re.compile(r'[a-z]*@[a-z]*.com')\n",
    "email.findall(\"sadasdsadasdsa@gmail.com   andy@angela.com sadasdasadsad\")"
   ]
  },
  {
   "cell_type": "code",
   "execution_count": 19,
   "metadata": {},
   "outputs": [
    {
     "name": "stdout",
     "output_type": "stream",
     "text": [
      "re.compile('\\\\d\\\\d\\\\d-\\\\d\\\\d\\\\d-\\\\d\\\\d\\\\d\\\\d')\n"
     ]
    },
    {
     "data": {
      "text/plain": [
       "['92-333-7666017', '92-333-7651231']"
      ]
     },
     "execution_count": 19,
     "metadata": {},
     "output_type": "execute_result"
    }
   ],
   "source": [
    "## Phone number in pakistan has pettern\n",
    "\n",
    "## 92-320-7651231\n",
    "## can you collect this pattern \n",
    "\n",
    "\n",
    "hah = \"\"\"92-333-7666017 and dont call me at 9pm and huhhhahahah 92-333-7651231\"\"\"\n",
    "\n",
    "\n",
    "phoneNum = re.compile(r'\\d\\d-\\d\\d\\d-\\d\\d\\d\\d\\d\\d\\d')\n",
    "print(phoneNumRegex)\n",
    "phoneNum.findall(hah)\n",
    "\n"
   ]
  },
  {
   "cell_type": "code",
   "execution_count": 20,
   "metadata": {},
   "outputs": [
    {
     "data": {
      "text/plain": [
       "['Andy Gu', 'Angela']"
      ]
     },
     "execution_count": 20,
     "metadata": {},
     "output_type": "execute_result"
    }
   ],
   "source": [
    "heroRegex = re.compile (r'Angela|Miao|Andy Gu') \n",
    "mo1 = heroRegex.findall('angela fey and Andy Gu are sibling Angela Gu.')\n",
    "mo1\n",
    "\n"
   ]
  },
  {
   "cell_type": "code",
   "execution_count": 21,
   "metadata": {},
   "outputs": [],
   "source": [
    "x = \"\"\"\n",
    "Chinese statistics show that 13 nuclear power plants in China each released more radioactive tritium into the ocean in 2021 than the planned amount to be released from Japan's Fukushima Daiichi nuclear power plant in one year.\n",
    "\n",
    "The annual amount of tritium contained in the treated and diluted water to be released from the plant in Fukushima is capped at 22 trillion becquerels.\n",
    "\n",
    "Chinese nuclear energy sector data show the Qinshan power plant in Zhejiang Province released 218 trillion becquerels of tritium in 2021. That is about ten times the maximum amount of tritium to be discharged from the Fukushima Daiichi plant in a year.\n",
    "\n",
    "The Chinese government says the treated water at the Fukushima plant was used to cool molten nuclear fuel resulting from an accident.\n",
    "\n",
    "It has said that the authenticity and accuracy of the data concerning the water are not proven and the long-term impact on food safety and people's health is not clarified.\n",
    "\n",
    "China's foreign ministry released a statement shortly after the start of the water release from the Fukushima plant on Thursday.\n",
    "\n",
    "The statement said the Chinese government firmly opposes and strongly condemns the discharge and that it \"will take all measures necessary to safeguard food safety and the health of our people.\"\n",
    "\n",
    "#Asia#China#Fukushima\n",
    "\"\"\"\n"
   ]
  },
  {
   "cell_type": "code",
   "execution_count": 22,
   "metadata": {},
   "outputs": [
    {
     "data": {
      "text/plain": [
       "['Chinese',\n",
       " 'Fukushima',\n",
       " 'Fukushima',\n",
       " 'Chinese',\n",
       " 'Fukushima',\n",
       " 'Chinese',\n",
       " 'Fukushima',\n",
       " 'Fukushima',\n",
       " 'Chinese',\n",
       " 'Fukushima']"
      ]
     },
     "execution_count": 22,
     "metadata": {},
     "output_type": "execute_result"
    }
   ],
   "source": [
    "## tell me Chow many time Chinese Government or Japanese Government is used\n",
    "\n",
    "heroRegex = re.compile (r'Chinese|Fukushima') \n",
    "mo1 = heroRegex.findall(x)\n",
    "mo1\n",
    "\n"
   ]
  },
  {
   "cell_type": "code",
   "execution_count": 23,
   "metadata": {},
   "outputs": [
    {
     "ename": "SyntaxError",
     "evalue": "unterminated string literal (detected at line 2) (3734618723.py, line 2)",
     "output_type": "error",
     "traceback": [
      "\u001b[0;36m  Cell \u001b[0;32mIn[23], line 2\u001b[0;36m\u001b[0m\n\u001b[0;31m    Certainly, here's a longer string in English:\u001b[0m\n\u001b[0m                   ^\u001b[0m\n\u001b[0;31mSyntaxError\u001b[0m\u001b[0;31m:\u001b[0m unterminated string literal (detected at line 2)\n"
     ]
    }
   ],
   "source": [
    "\n",
    "## if i give you a string can you find any word(s) from it???\n",
    "Certainly, here's a longer string in English:\n",
    "\n",
    "\"\"\"In today's interconnected world, governments are central to the functioning of societies. Whether we look at the government of the People's Republic of China or the government of Japan, their roles are pivotal in steering their nations towards progress. Government decisions span across economics, society, and culture, influencing the very fabric of our existence. Governments are entrusted with the duty of safeguarding the rights and well-being of their citizens, ensuring social prosperity.\n",
    "\n",
    "The Japanese government is at the forefront of promoting technological innovation, while the Chinese government is actively working on reducing carbon emissions. These are just a couple of examples of the diverse strategies employed by governments globally. These policies will significantly impact the future of our world, making government an indispensable force in shaping our collective destiny.\"\"\""
   ]
  },
  {
   "cell_type": "code",
   "execution_count": 25,
   "metadata": {},
   "outputs": [],
   "source": [
    "import re"
   ]
  },
  {
   "cell_type": "code",
   "execution_count": 31,
   "metadata": {},
   "outputs": [
    {
     "data": {
      "text/plain": [
       "['dy', 'gela']"
      ]
     },
     "execution_count": 31,
     "metadata": {},
     "output_type": "execute_result"
    }
   ],
   "source": [
    "anReg = re.compile(r'An(dy|gela|drew)')\n",
    "anReg.findall(\"andy and Andy and Angela and aaaaaaaiuhs8yhdsuygsedtgsdgyshdyugfuysgAbndrew\")\n"
   ]
  },
  {
   "cell_type": "code",
   "execution_count": 33,
   "metadata": {},
   "outputs": [
    {
     "name": "stdout",
     "output_type": "stream",
     "text": [
      "Umair\n",
      "Umer\n"
     ]
    }
   ],
   "source": [
    "### \n",
    "x = \"This is Umair and Umar and you have to Find all charactetr which are starting with Um Ummar Umer Umooor\"\n",
    "xreg = re.compile(r\"Um(air|er)\")\n",
    "for each in xreg.findall(x):\n",
    "    print(\"Um\"+each)"
   ]
  },
  {
   "cell_type": "code",
   "execution_count": 57,
   "metadata": {},
   "outputs": [
    {
     "data": {
      "text/plain": [
       "['Adventures', 'Advertisement', 'Batwoman', 'Batangela', 'Batball', 'Batman']"
      ]
     },
     "execution_count": 57,
     "metadata": {},
     "output_type": "execute_result"
    }
   ],
   "source": [
    "\n",
    "batRegex = re.compile(r'Bat[a-z]+|Ad[a-z]+')\n",
    "mo1 = batRegex.findall ('The Adventures  Advertisement of Batwoman Batangela Batball Batman')\n",
    "mo1"
   ]
  },
  {
   "cell_type": "code",
   "execution_count": 58,
   "metadata": {},
   "outputs": [],
   "source": [
    "x = \"Andy Anaconda Angela Analogue And Another Hollow ill illistration jdasdjsa asdasdas sadas\"\n",
    "# collect words\n",
    "batRegex = re.compile(r'An[a-z]+|ill[a-z]+')\n",
    "batRegex.findall(x)#"
   ]
  },
  {
   "cell_type": "code",
   "execution_count": 60,
   "metadata": {},
   "outputs": [
    {
     "data": {
      "text/plain": [
       "['Andy',\n",
       " 'Anaconda',\n",
       " 'Angela',\n",
       " 'Analogue',\n",
       " 'And',\n",
       " 'Another',\n",
       " 'ill',\n",
       " 'illistration']"
      ]
     },
     "execution_count": 60,
     "metadata": {},
     "output_type": "execute_result"
    }
   ],
   "source": [
    "# collect words\n",
    "batRegex = re.compile(r'An[a-z]*|ill[a-z]*')\n",
    "batRegex.findall(x)"
   ]
  },
  {
   "cell_type": "code",
   "execution_count": null,
   "metadata": {},
   "outputs": [],
   "source": [
    "greedyHaRegex = re.compile(r'(Ha){3,5}')"
   ]
  }
 ],
 "metadata": {
  "kernelspec": {
   "display_name": "base",
   "language": "python",
   "name": "python3"
  },
  "language_info": {
   "codemirror_mode": {
    "name": "ipython",
    "version": 3
   },
   "file_extension": ".py",
   "mimetype": "text/x-python",
   "name": "python",
   "nbconvert_exporter": "python",
   "pygments_lexer": "ipython3",
   "version": "3.10.9"
  },
  "orig_nbformat": 4
 },
 "nbformat": 4,
 "nbformat_minor": 2
}

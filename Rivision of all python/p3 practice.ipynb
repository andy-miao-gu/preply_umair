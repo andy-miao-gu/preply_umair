{
 "cells": [
  {
   "cell_type": "code",
   "execution_count": 1,
   "metadata": {},
   "outputs": [],
   "source": [
    "### problem solving"
   ]
  },
  {
   "cell_type": "code",
   "execution_count": 18,
   "metadata": {},
   "outputs": [
    {
     "name": "stdout",
     "output_type": "stream",
     "text": [
      "RP   VARIANT BFNC2 ARG-309.\n",
      "\n",
      "FT   VARIANT     309    309       W -> R (IN BFNC2).\n",
      "\n",
      "FT                                /FTId=VAR_010935.\n",
      "\n",
      "FT   VARIANT     310    310       G -> V (IN BFNC2).\n",
      "\n",
      "FT                                /FTId=VAR_001546.\n",
      "\n",
      "FT   MUTAGEN     310    310       G->V: ABOUT 50% REDUCTION OF WT\n",
      "\n",
      "FT   MUTAGEN     318    318       G->S: >50% REDUCTION OF WT HETEROMERIC\n",
      "\n"
     ]
    }
   ],
   "source": [
    "with open(\"appendix 3.txt\") as file:\n",
    "    lines = file.readlines()\n",
    "for i,line in enumerate(lines):\n",
    "    if \"VARIANT\" in line  :\n",
    "        print(lines[i])\n",
    "        if not \"RX\" in lines[i+1]:\n",
    "            print(lines[i+1])\n",
    "    if \"MUTAGEN\" in line and not \"MUTAGENESIS\" in line:\n",
    "        print(lines[i])"
   ]
  },
  {
   "cell_type": "code",
   "execution_count": 19,
   "metadata": {},
   "outputs": [
    {
     "name": "stdout",
     "output_type": "stream",
     "text": [
      "RP   SEQUENCE FROM N.A., AND MUTAGENESIS OF GLY-310 AND GLY-318.\n",
      "\n",
      "RP   VARIANT BFNC2 ARG-309.\n",
      "\n",
      "CC   -!- MISCELLANEOUS: MUTAGENESIS EXPERIMENTS WERE CARRIED OUT IN XENOPUS\n",
      "\n",
      "FT   VARIANT     309    309       W -> R (IN BFNC2).\n",
      "\n",
      "FT   VARIANT     310    310       G -> V (IN BFNC2).\n",
      "\n",
      "FT   MUTAGEN     310    310       G->V: ABOUT 50% REDUCTION OF WT\n",
      "\n",
      "FT   MUTAGEN     318    318       G->S: >50% REDUCTION OF WT HETEROMERIC\n",
      "\n"
     ]
    }
   ],
   "source": [
    "with open(\"appendix 3.txt\") as file:\n",
    "    lines = file.readlines()\n",
    "for line in lines:\n",
    "    if \"VARIANT\" in line:\n",
    "        print(line)\n",
    "    if \"MUTAGEN\" in line:\n",
    "        print(line)"
   ]
  },
  {
   "cell_type": "code",
   "execution_count": 20,
   "metadata": {},
   "outputs": [
    {
     "ename": "ValueError",
     "evalue": "invalid literal for int() with base 10: 'n'",
     "output_type": "error",
     "traceback": [
      "\u001b[0;31m---------------------------------------------------------------------------\u001b[0m",
      "\u001b[0;31mValueError\u001b[0m                                Traceback (most recent call last)",
      "\u001b[0;32m/var/folders/0k/rfc7l8w10vg2gy6fqthn9r9r0000gn/T/ipykernel_17960/2379745837.py\u001b[0m in \u001b[0;36m<module>\u001b[0;34m\u001b[0m\n\u001b[1;32m      5\u001b[0m \u001b[0;31m# the standard input according to the problem statement.\u001b[0m\u001b[0;34m\u001b[0m\u001b[0;34m\u001b[0m\u001b[0m\n\u001b[1;32m      6\u001b[0m \u001b[0;34m\u001b[0m\u001b[0m\n\u001b[0;32m----> 7\u001b[0;31m \u001b[0mn\u001b[0m \u001b[0;34m=\u001b[0m \u001b[0mint\u001b[0m\u001b[0;34m(\u001b[0m\u001b[0minput\u001b[0m\u001b[0;34m(\u001b[0m\u001b[0;34m)\u001b[0m\u001b[0;34m)\u001b[0m\u001b[0;34m\u001b[0m\u001b[0;34m\u001b[0m\u001b[0m\n\u001b[0m\u001b[1;32m      8\u001b[0m \u001b[0;32mfor\u001b[0m \u001b[0mi\u001b[0m \u001b[0;32min\u001b[0m \u001b[0mrange\u001b[0m\u001b[0;34m(\u001b[0m\u001b[0;36m1\u001b[0m\u001b[0;34m,\u001b[0m\u001b[0mn\u001b[0m\u001b[0;34m+\u001b[0m\u001b[0;36m1\u001b[0m\u001b[0;34m)\u001b[0m\u001b[0;34m:\u001b[0m\u001b[0;34m\u001b[0m\u001b[0;34m\u001b[0m\u001b[0m\n\u001b[1;32m      9\u001b[0m     \u001b[0;32mif\u001b[0m \u001b[0mn\u001b[0m \u001b[0;34m==\u001b[0m \u001b[0mi\u001b[0m \u001b[0;32mand\u001b[0m \u001b[0mn\u001b[0m\u001b[0;34m<=\u001b[0m\u001b[0;36m3\u001b[0m\u001b[0;34m:\u001b[0m\u001b[0;34m\u001b[0m\u001b[0;34m\u001b[0m\u001b[0m\n",
      "\u001b[0;31mValueError\u001b[0m: invalid literal for int() with base 10: 'n'"
     ]
    }
   ],
   "source": [
    "import sys\n",
    "import math\n",
    "\n",
    "# Auto-generated code below aims at helping you parse\n",
    "# the standard input according to the problem statement.\n",
    "\n",
    "n = int(input())\n",
    "for i in range(1,n+1):\n",
    "    if n == i and n<=3:\n",
    "        print(f\"n is {i}\")\n",
    "    \n",
    "    else:\n",
    "        print(\"number not found :(\")\n",
    "\n",
    "    # Write an answer using print\n",
    "    # To debug: print(\"Debug messages...\", file=sys.stderr, flush=True)\n",
    "\n",
    "   \n"
   ]
  },
  {
   "cell_type": "code",
   "execution_count": 22,
   "metadata": {},
   "outputs": [
    {
     "name": "stdout",
     "output_type": "stream",
     "text": [
      "if n == 1:\n",
      "    print(f\"n is {i}\")\n",
      "if n == 2:\n",
      "    print(f\"n is {i}\")\n",
      "if n == 3:\n",
      "    print(f\"n is {i}\")\n",
      "if n == 4:\n",
      "    print(f\"n is {i}\")\n",
      "if n == 5:\n",
      "    print(f\"n is {i}\")\n",
      "if n == 6:\n",
      "    print(f\"n is {i}\")\n",
      "if n == 7:\n",
      "    print(f\"n is {i}\")\n",
      "else:\n",
      "    print(\"number not found :(\")\n"
     ]
    }
   ],
   "source": [
    "n=7\n",
    "for i in range(1, n+1):\n",
    "    print(f\"if n == {i}:\")\n",
    "    print(\"    print(f\\\"n is {i}\\\")\")\n",
    "print(\"else:\")\n",
    "print(\"    print(\\\"number not found :(\\\")\")\n"
   ]
  },
  {
   "cell_type": "code",
   "execution_count": 24,
   "metadata": {},
   "outputs": [
    {
     "data": {
      "text/plain": [
       "'Tell how much time in seconds a person spends on the elevator, going from their floor to floor 0.\\n\\nGoing down each floor takes 3 seconds per. Each stop adds another 2 seconds, plus 2 more seconds for each person getting on the elevator\\nInput\\nLine 1: The initial floor as integer F the person is on\\nLine 2: An integer N for the number of stops the elevator makes\\nLine 3: A space-seperated list with N number of A integers, determining how many people get on the elevator\\nOutput\\nLine 1: The time in seconds the person spends on the elevator\\nConstraints\\n1 ≤ A, F ≤ 50\\n0 ≤ N ≤ 50'"
      ]
     },
     "execution_count": 24,
     "metadata": {},
     "output_type": "execute_result"
    }
   ],
   "source": [
    "\"\"\"Tell how much time in seconds a person spends on the elevator, going from their floor to floor 0.\n",
    "\n",
    "Going down each floor takes 3 seconds per. Each stop adds another 2 seconds, plus 2 more seconds for each person getting on the elevator\n",
    "Input\n",
    "Line 1: The initial floor as integer F the person is on\n",
    "Line 2: An integer N for the number of stops the elevator makes\n",
    "Line 3: A space-seperated list with N number of A integers, determining how many people get on the elevator\n",
    "Output\n",
    "Line 1: The time in seconds the person spends on the elevator\n",
    "Constraints\n",
    "1 ≤ A, F ≤ 50\n",
    "0 ≤ N ≤ 50\"\"\""
   ]
  },
  {
   "attachments": {},
   "cell_type": "markdown",
   "metadata": {},
   "source": [
    " Tell how much time in seconds a person spends on the elevator, going from their floor to floor 0.\n",
    "\n",
    "Going down each floor takes 3 seconds per. Each stop adds another 2 seconds, plus 2 more seconds for each person getting on the elevator\n",
    "Input\n",
    "Line 1: The initial floor as integer F the person is on\n",
    "Line 2: An integer N for the number of stops the elevator makes\n",
    "Line 3: A space-seperated list with N number of A integers, determining how many people get on the elevator\n",
    "Output\n",
    "Line 1: The time in seconds the person spends on the elevator\n",
    "Constraints\n",
    "1 ≤ A, F ≤ 50\n",
    "0 ≤ N ≤ 50"
   ]
  },
  {
   "cell_type": "code",
   "execution_count": 25,
   "metadata": {},
   "outputs": [
    {
     "name": "stdout",
     "output_type": "stream",
     "text": [
      "time-in-seconds 49\n"
     ]
    }
   ],
   "source": [
    "import sys\n",
    "import math\n",
    "\n",
    "# Auto-generated code below aims at helping you parse\n",
    "# the standard input according to the problem statement.\n",
    "\n",
    "f = int(input())\n",
    "n = int(input())\n",
    "floors = f*3\n",
    "stops = n*2\n",
    "time = 0\n",
    "for i in input().split():\n",
    "    a = int(i)  \n",
    "    persons = a *2\n",
    "    time += floors + stops + persons\n",
    "\n",
    "\n",
    "# Write an answer using print\n",
    "# To debug: print(\"Debug messages...\", file=sys.stderr, flush=True)\n",
    "\n",
    "print(\"time-in-seconds\",time)\n"
   ]
  },
  {
   "cell_type": "code",
   "execution_count": null,
   "metadata": {},
   "outputs": [],
   "source": []
  }
 ],
 "metadata": {
  "kernelspec": {
   "display_name": "dsml",
   "language": "python",
   "name": "python3"
  },
  "language_info": {
   "codemirror_mode": {
    "name": "ipython",
    "version": 3
   },
   "file_extension": ".py",
   "mimetype": "text/x-python",
   "name": "python",
   "nbconvert_exporter": "python",
   "pygments_lexer": "ipython3",
   "version": "3.10.4"
  },
  "orig_nbformat": 4
 },
 "nbformat": 4,
 "nbformat_minor": 2
}

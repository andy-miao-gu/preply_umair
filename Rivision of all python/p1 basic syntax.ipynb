{
 "cells": [
  {
   "cell_type": "code",
   "execution_count": 26,
   "metadata": {},
   "outputs": [
    {
     "name": "stdout",
     "output_type": "stream",
     "text": [
      "おはいよworld\n"
     ]
    }
   ],
   "source": [
    "hello_world = input(\"hello world\")\n",
    "print(hello_world)"
   ]
  },
  {
   "cell_type": "code",
   "execution_count": 5,
   "metadata": {},
   "outputs": [
    {
     "data": {
      "text/plain": [
       "'thi sis mutlple lines\\n\\n\\n\\ncomment'"
      ]
     },
     "execution_count": 5,
     "metadata": {},
     "output_type": "execute_result"
    }
   ],
   "source": [
    "# this is a comment\n",
    "\n",
    "\"\"\"thi sis mutlple lines\n",
    "\n",
    "\n",
    "\n",
    "comment\"\"\"\n",
    "# comment"
   ]
  },
  {
   "cell_type": "code",
   "execution_count": 6,
   "metadata": {},
   "outputs": [],
   "source": [
    "## all types of variable or data types"
   ]
  },
  {
   "cell_type": "code",
   "execution_count": 7,
   "metadata": {},
   "outputs": [
    {
     "name": "stdout",
     "output_type": "stream",
     "text": [
      "int float string  bol \n"
     ]
    }
   ],
   "source": [
    "print(\"int float string bol\")"
   ]
  },
  {
   "cell_type": "code",
   "execution_count": 12,
   "metadata": {},
   "outputs": [
    {
     "name": "stdout",
     "output_type": "stream",
     "text": [
      "<class 'int'>\n",
      "<class 'float'>\n",
      "<class 'str'>\n",
      "<class 'bool'>\n"
     ]
    }
   ],
   "source": [
    "this_is_a_integer = 3333333333333333\n",
    "print(type(this_is_a_integer))\n",
    "this_is_a_float = 3.1415982\n",
    "print(type(this_is_a_float))\n",
    "this_is_a_string = \"this_is_a_string\"\n",
    "print(type(this_is_a_string))\n",
    "this_is_a_bolean=True\n",
    "print(type(this_is_a_bolean))"
   ]
  },
  {
   "cell_type": "code",
   "execution_count": 27,
   "metadata": {},
   "outputs": [
    {
     "name": "stdout",
     "output_type": "stream",
     "text": [
      "orange\n"
     ]
    }
   ],
   "source": [
    "### define a variable with a string <Python Programming Apple annd orange>\n",
    "apple=\"Python Programming Apple annd orange\"\n",
    "apple=apple.split()\n",
    "print(apple[4])"
   ]
  },
  {
   "cell_type": "code",
   "execution_count": 28,
   "metadata": {},
   "outputs": [
    {
     "name": "stdout",
     "output_type": "stream",
     "text": [
      "Program\n"
     ]
    }
   ],
   "source": [
    "apple=\"Python Programming Apple annd orange\"\n",
    "print(apple[7:14])"
   ]
  },
  {
   "cell_type": "code",
   "execution_count": 29,
   "metadata": {},
   "outputs": [
    {
     "name": "stdout",
     "output_type": "stream",
     "text": [
      "hehehhuuhuh\n",
      "['heheh', 'huuhuh']\n"
     ]
    },
    {
     "data": {
      "text/plain": [
       "\"['heheh', 'huuhuh']\""
      ]
     },
     "execution_count": 29,
     "metadata": {},
     "output_type": "execute_result"
    }
   ],
   "source": [
    "s1 = \"heheh\"\n",
    "s2 = \"huuhuh\"\n",
    "print(s1+s2)\n",
    "# concatenate\n",
    "s=s1.split()\n",
    "ss=s2.split()\n",
    "z=[]\n",
    "z.extend(s)\n",
    "z.extend(ss)\n",
    "z=str(z)\n",
    "print(z)\n",
    "\"\".join(z)"
   ]
  },
  {
   "cell_type": "code",
   "execution_count": 33,
   "metadata": {},
   "outputs": [
    {
     "name": "stdout",
     "output_type": "stream",
     "text": [
      "umair umair umair umair umair umair umair umair umair umair \n",
      "umair umair umair umair umair umair umair umair umair umair \n",
      "umair umair umair umair umair umair umair umair umair umair \n",
      "umair umair umair umair umair umair umair umair umair umair \n",
      "umair umair umair umair umair umair umair umair umair umair \n",
      "umair umair umair umair umair umair umair umair umair umair \n",
      "umair umair umair umair umair umair umair umair umair umair \n",
      "umair umair umair umair umair umair umair umair umair umair \n",
      "umair umair umair umair umair umair umair umair umair umair \n",
      "umair umair umair umair umair umair umair umair umair umair \n",
      "umair umair umair umair umair umair umair umair umair umair \n",
      "umair umair umair umair umair umair umair umair umair umair \n",
      "umair umair umair umair umair umair umair umair umair umair \n",
      "umair umair umair umair umair umair umair umair umair umair \n",
      "umair umair umair umair umair umair umair umair umair umair \n",
      "umair umair umair umair umair umair umair umair umair umair \n",
      "umair umair umair umair umair umair umair umair umair umair \n",
      "umair umair umair umair umair umair umair umair umair umair \n",
      "umair umair umair umair umair umair umair umair umair umair \n",
      "umair umair umair umair umair umair umair umair umair umair \n"
     ]
    }
   ],
   "source": [
    "## \n",
    "t = \"umair \"\n",
    "for each in range(20):\n",
    "    print(t*10)"
   ]
  },
  {
   "cell_type": "code",
   "execution_count": 31,
   "metadata": {},
   "outputs": [
    {
     "name": "stdout",
     "output_type": "stream",
     "text": [
      "umair umair umair umair umair umair umair umair umair umair \n"
     ]
    }
   ],
   "source": [
    "print(t*10)"
   ]
  },
  {
   "cell_type": "code",
   "execution_count": 29,
   "metadata": {},
   "outputs": [
    {
     "name": "stdout",
     "output_type": "stream",
     "text": [
      "apple is there so that is why i like apples\n"
     ]
    }
   ],
   "source": [
    "x = \"i love apple and i love orange\"\n",
    "if 'apple' in x:\n",
    "    print(\"apple is there so that is why i like apples\")"
   ]
  },
  {
   "cell_type": "code",
   "execution_count": 31,
   "metadata": {},
   "outputs": [
    {
     "name": "stdout",
     "output_type": "stream",
     "text": [
      "my name is andy and my age is 8\n"
     ]
    }
   ],
   "source": [
    "x = 8\n",
    "name = \"andy\"\n",
    "print(\"my name is %s and my age is %d\" % (name, x))   "
   ]
  },
  {
   "cell_type": "code",
   "execution_count": 33,
   "metadata": {},
   "outputs": [
    {
     "name": "stdout",
     "output_type": "stream",
     "text": [
      "the sum of them is 20.5\n",
      "the difference of them is -0.5\n",
      "the product of them is 105.0\n",
      "the quotient of them is 0.9523809523809523\n"
     ]
    }
   ],
   "source": [
    "x = 10\n",
    "y = 10.5\n",
    "X = \"x*y\"\n",
    "print(\"the sum of them is\",x+y)\n",
    "print(\"the difference of them is\",x-y)\n",
    "print(\"the product of them is\",eval(X))\n",
    "print(\"the quotient of them is\",x/y)"
   ]
  },
  {
   "cell_type": "code",
   "execution_count": 35,
   "metadata": {},
   "outputs": [
    {
     "name": "stdout",
     "output_type": "stream",
     "text": [
      "all sum is 500\n"
     ]
    }
   ],
   "source": [
    "x = \"10*20\"\n",
    "y = 100\n",
    "z = 200\n",
    "print(\"all sum is\",eval(x)+y+z)"
   ]
  },
  {
   "cell_type": "code",
   "execution_count": 36,
   "metadata": {},
   "outputs": [],
   "source": [
    "## True and False and True and (True or False or False and True)"
   ]
  },
  {
   "cell_type": "code",
   "execution_count": 41,
   "metadata": {},
   "outputs": [
    {
     "data": {
      "text/plain": [
       "True"
      ]
     },
     "execution_count": 41,
     "metadata": {},
     "output_type": "execute_result"
    }
   ],
   "source": [
    "True and True and (True or True or True and True or False)"
   ]
  },
  {
   "cell_type": "code",
   "execution_count": 45,
   "metadata": {},
   "outputs": [
    {
     "name": "stdout",
     "output_type": "stream",
     "text": [
      "<class 'list'>\n"
     ]
    }
   ],
   "source": [
    "## data structures  \n",
    "x=list((10,90))\n",
    "y=[0.9,3.1415982]\n",
    "print(type(y))"
   ]
  },
  {
   "cell_type": "code",
   "execution_count": 47,
   "metadata": {},
   "outputs": [
    {
     "name": "stdout",
     "output_type": "stream",
     "text": [
      "<class 'tuple'>\n"
     ]
    }
   ],
   "source": [
    "x=tuple([10,90])\n",
    "y=(0.9,3.1415982)\n",
    "print(type(x))"
   ]
  },
  {
   "cell_type": "code",
   "execution_count": 51,
   "metadata": {},
   "outputs": [
    {
     "name": "stdout",
     "output_type": "stream",
     "text": [
      "<class 'set'> <class 'set'>\n"
     ]
    }
   ],
   "source": [
    "x=set([21,12,12,1,1,1,2,2,1,1,21,2,12,1,2,12,1])\n",
    "y={21,12,12,1,1,1,2,2,1,1,21,2,12,1,2,12,1}\n",
    "print(type(x),type(y))"
   ]
  },
  {
   "cell_type": "code",
   "execution_count": 52,
   "metadata": {},
   "outputs": [
    {
     "name": "stdout",
     "output_type": "stream",
     "text": [
      "<class 'dict'> <class 'dict'>\n"
     ]
    }
   ],
   "source": [
    "x=dict(yu=\"you\",hu=\"who\")\n",
    "y={\"yu\":\"you\",\"hu\":\"who\"}\n",
    "print(type(x),type(y))"
   ]
  },
  {
   "cell_type": "code",
   "execution_count": 60,
   "metadata": {},
   "outputs": [
    {
     "name": "stdout",
     "output_type": "stream",
     "text": [
      "apple, I_don't_know_fruits\n"
     ]
    }
   ],
   "source": [
    "### lets explore list\n",
    "# make frutis list and then select first and last element from list\n",
    "lst=list((\"apple\",\"Mr.\",\"Umair\",\"I_don't_know_fruits\"))\n",
    "print(lst[0]+\",\",lst[-1])"
   ]
  },
  {
   "cell_type": "code",
   "execution_count": 67,
   "metadata": {},
   "outputs": [
    {
     "name": "stdout",
     "output_type": "stream",
     "text": [
      "apple, I_don't_know_fruits\n"
     ]
    }
   ],
   "source": [
    "tple=([\"apple\",\"Mr.\",\"Umair\",\"I_don't_know_fruits\"])\n",
    "print(tple[0]+\",\",tple[-1])"
   ]
  },
  {
   "cell_type": "code",
   "execution_count": 59,
   "metadata": {},
   "outputs": [
    {
     "name": "stdout",
     "output_type": "stream",
     "text": [
      "invisible\n"
     ]
    }
   ],
   "source": [
    "dct=dict(i_dont_know_fruit=\"invisible\")\n",
    "print(dct['i_dont_know_fruit'])"
   ]
  },
  {
   "cell_type": "code",
   "execution_count": 68,
   "metadata": {},
   "outputs": [
    {
     "name": "stdout",
     "output_type": "stream",
     "text": [
      "apple is in list of fruits   Mr. is in list of fruits   Umair is in list of fruits   I_don't_know_fruits is in list of fruits   "
     ]
    }
   ],
   "source": [
    "lst=list((\"apple\",\"Mr.\",\"Umair\",\"I_don't_know_fruits\"))\n",
    "for each in lst:\n",
    "    print(each,\"is in list of fruits \",end = \"  \")"
   ]
  },
  {
   "cell_type": "code",
   "execution_count": 66,
   "metadata": {},
   "outputs": [],
   "source": [
    "lstapp=lst.append\n",
    "lstapp(\"orange\")\n",
    "lstapp(\"mango Mr umair has a mango tree\")"
   ]
  },
  {
   "cell_type": "code",
   "execution_count": 69,
   "metadata": {},
   "outputs": [
    {
     "name": "stdout",
     "output_type": "stream",
     "text": [
      "apple is in list of fruits   Mr. is in list of fruits   Umair is in list of fruits   I_don't_know_fruits is in list of fruits   "
     ]
    }
   ],
   "source": [
    "lst=list((\"apple\",\"Mr.\",\"Umair\",\"I_don't_know_fruits\"))\n",
    "for each in lst:\n",
    "    print(each,\"is in list of fruits \",end = \"  \")"
   ]
  },
  {
   "cell_type": "code",
   "execution_count": 71,
   "metadata": {},
   "outputs": [
    {
     "data": {
      "text/plain": [
       "<function list.append(object, /)>"
      ]
     },
     "execution_count": 71,
     "metadata": {},
     "output_type": "execute_result"
    }
   ],
   "source": [
    "lstapp"
   ]
  },
  {
   "cell_type": "code",
   "execution_count": 106,
   "metadata": {},
   "outputs": [],
   "source": [
    "lst.append(\"orange\")\n",
    "lst.append(\"mango Mr umair has a mango tree\")\n",
    "write_words=print\n"
   ]
  },
  {
   "cell_type": "code",
   "execution_count": 74,
   "metadata": {},
   "outputs": [
    {
     "data": {
      "text/plain": [
       "[0, 1, 2, 3, 4]"
      ]
     },
     "execution_count": 74,
     "metadata": {},
     "output_type": "execute_result"
    }
   ],
   "source": [
    "## compressions \n",
    "[i for i in range(10) if i <5]"
   ]
  },
  {
   "cell_type": "code",
   "execution_count": 77,
   "metadata": {},
   "outputs": [
    {
     "data": {
      "text/plain": [
       "['Mr.',\n",
       " 'Umair',\n",
       " \"I_don't_know_fruits\",\n",
       " 'orange',\n",
       " 'mango Mr umair has a mango tree']"
      ]
     },
     "execution_count": 77,
     "metadata": {},
     "output_type": "execute_result"
    }
   ],
   "source": [
    "x = [i for i in lst if i!=\"apple\"]\n",
    "x"
   ]
  },
  {
   "cell_type": "code",
   "execution_count": 82,
   "metadata": {},
   "outputs": [
    {
     "data": {
      "text/plain": [
       "[0, 2, 4, 6, 8, 10]"
      ]
     },
     "execution_count": 82,
     "metadata": {},
     "output_type": "execute_result"
    }
   ],
   "source": [
    "## usign list compression can you print only even number from 0 to 10\n",
    "oowww00OOwoowo0o=[i for i in range(11) if (i%2)==0]\n",
    "oowww00OOwoowo0o"
   ]
  },
  {
   "cell_type": "code",
   "execution_count": 84,
   "metadata": {},
   "outputs": [],
   "source": [
    "## inside a nesterd list [ [sadasd,asda,d],[dasd,asd,],print,len ]\n",
    "# first element is list of 3 colors\n",
    "# second element is a print function\n",
    "# third element is a length function\n",
    "v = [ [\"red\",\"purple\",\"pink\"], write_words, len ]"
   ]
  },
  {
   "cell_type": "code",
   "execution_count": 91,
   "metadata": {},
   "outputs": [
    {
     "name": "stdout",
     "output_type": "stream",
     "text": [
      "3\n"
     ]
    }
   ],
   "source": [
    "## your task is use write word from v list and print pink from same list...\n",
    "v[1](v[2](v[0]))"
   ]
  },
  {
   "cell_type": "code",
   "execution_count": 92,
   "metadata": {},
   "outputs": [
    {
     "name": "stdout",
     "output_type": "stream",
     "text": [
      "ho\n",
      "None\n",
      "None\n",
      "None\n",
      "None\n",
      "None\n"
     ]
    }
   ],
   "source": [
    "write_words(write_words(write_words(write_words(write_words(write_words(\"ho\"))))))"
   ]
  },
  {
   "cell_type": "code",
   "execution_count": 94,
   "metadata": {},
   "outputs": [],
   "source": [
    "w = [lst,v,\"nothing huuhsdhhehhahahha\"]"
   ]
  },
  {
   "cell_type": "code",
   "execution_count": 104,
   "metadata": {},
   "outputs": [
    {
     "data": {
      "text/plain": [
       "\"I_don't_know_fruits\""
      ]
     },
     "execution_count": 104,
     "metadata": {},
     "output_type": "execute_result"
    }
   ],
   "source": [
    "w[1][1]\n",
    "(w[0][3])"
   ]
  },
  {
   "cell_type": "code",
   "execution_count": 107,
   "metadata": {},
   "outputs": [],
   "source": [
    "fRuItS_iN_lSt={\"orange the fruit\",\"orange the color\"}"
   ]
  },
  {
   "cell_type": "code",
   "execution_count": 115,
   "metadata": {},
   "outputs": [],
   "source": [
    "aahh=dict(what_fruit=\"invis\",i_dont_know_fruit=\"invisible\",umair_fruit=\"desk-top\")"
   ]
  },
  {
   "cell_type": "code",
   "execution_count": 109,
   "metadata": {},
   "outputs": [
    {
     "name": "stdout",
     "output_type": "stream",
     "text": [
      "what_fruit is invis color\n",
      "i_dont_know_fruit is invisible color\n",
      "umair_fruit is desk-top color\n"
     ]
    }
   ],
   "source": [
    "for each in aaaaaaaaaaaahhhhhhhhhhhhh:\n",
    "    print(each,\"is\",aaaaaaaaaaaahhhhhhhhhhhhh[each],\"color\")"
   ]
  },
  {
   "cell_type": "code",
   "execution_count": 113,
   "metadata": {},
   "outputs": [],
   "source": [
    "d = {\"hey\":10000,\"hi\" :20000,\"hheheheheh\":\"o na na na na na na na na na na na na na na na na na\"}"
   ]
  },
  {
   "cell_type": "code",
   "execution_count": 112,
   "metadata": {},
   "outputs": [],
   "source": [
    "# update aaaaaaaaaahhhhh dictionary with all items if after this aaaah should allitems of d and it shoudl be done using for loop"
   ]
  },
  {
   "cell_type": "code",
   "execution_count": 114,
   "metadata": {},
   "outputs": [
    {
     "data": {
      "text/plain": [
       "{'hey': 10000,\n",
       " 'hi': 20000,\n",
       " 'hheheheheh': 'o na na na na na na na na na na na na na na na na na'}"
      ]
     },
     "execution_count": 114,
     "metadata": {},
     "output_type": "execute_result"
    }
   ],
   "source": [
    "d"
   ]
  },
  {
   "cell_type": "code",
   "execution_count": 119,
   "metadata": {},
   "outputs": [
    {
     "name": "stdout",
     "output_type": "stream",
     "text": [
      "{'what_fruit': 'invis', 'i_dont_know_fruit': 'invisible', 'umair_fruit': 'desk-top', 'hey': 10000, 'hi': 20000, 'hheheheheh': 'o na na na na na na na na na na na na na na na na na'} \n",
      "\n"
     ]
    }
   ],
   "source": [
    "for each in d:\n",
    "    aahh[each] = d[each]\n",
    "print(aahh,\"\\n\")"
   ]
  },
  {
   "cell_type": "code",
   "execution_count": 1,
   "metadata": {},
   "outputs": [
    {
     "name": "stdout",
     "output_type": "stream",
     "text": [
      "\n",
      "I turned off the fan of laptop\n",
      "\n",
      "I turned off the fan of laptop\n",
      "Fan is on full speed\n"
     ]
    },
    {
     "ename": "ValueError",
     "evalue": "invalid literal for int() with base 10: '7o'",
     "output_type": "error",
     "traceback": [
      "\u001b[0;31m---------------------------------------------------------------------------\u001b[0m",
      "\u001b[0;31mValueError\u001b[0m                                Traceback (most recent call last)",
      "\u001b[0;32m/var/folders/0k/rfc7l8w10vg2gy6fqthn9r9r0000gn/T/ipykernel_17520/2378068816.py\u001b[0m in \u001b[0;36m<module>\u001b[0;34m\u001b[0m\n\u001b[1;32m      8\u001b[0m     \u001b[0;32mif\u001b[0m \u001b[0;34m\"quit\"\u001b[0m\u001b[0;34m==\u001b[0m\u001b[0mtemp\u001b[0m\u001b[0;34m:\u001b[0m\u001b[0;34m\u001b[0m\u001b[0;34m\u001b[0m\u001b[0m\n\u001b[1;32m      9\u001b[0m         \u001b[0;32mbreak\u001b[0m\u001b[0;34m\u001b[0m\u001b[0;34m\u001b[0m\u001b[0m\n\u001b[0;32m---> 10\u001b[0;31m     \u001b[0;32melif\u001b[0m \u001b[0mint\u001b[0m\u001b[0;34m(\u001b[0m\u001b[0mtemp\u001b[0m\u001b[0;34m)\u001b[0m\u001b[0;34m<\u001b[0m\u001b[0;36m0\u001b[0m \u001b[0;32mor\u001b[0m \u001b[0mint\u001b[0m\u001b[0;34m(\u001b[0m\u001b[0mtemp\u001b[0m\u001b[0;34m)\u001b[0m\u001b[0;34m==\u001b[0m\u001b[0;36m0\u001b[0m\u001b[0;34m:\u001b[0m\u001b[0;34m\u001b[0m\u001b[0;34m\u001b[0m\u001b[0m\n\u001b[0m\u001b[1;32m     11\u001b[0m         \u001b[0mprint\u001b[0m\u001b[0;34m(\u001b[0m\u001b[0;34m\"i turned the heater\"\u001b[0m\u001b[0;34m)\u001b[0m\u001b[0;34m\u001b[0m\u001b[0;34m\u001b[0m\u001b[0m\n\u001b[1;32m     12\u001b[0m     \u001b[0;32melif\u001b[0m \u001b[0mint\u001b[0m\u001b[0;34m(\u001b[0m\u001b[0mtemp\u001b[0m\u001b[0;34m)\u001b[0m \u001b[0;34m<\u001b[0m \u001b[0;36m20\u001b[0m\u001b[0;34m:\u001b[0m\u001b[0;34m\u001b[0m\u001b[0;34m\u001b[0m\u001b[0m\n",
      "\u001b[0;31mValueError\u001b[0m: invalid literal for int() with base 10: '7o'"
     ]
    }
   ],
   "source": [
    "### condtion\n",
    "\n",
    "# if temp <20 turn off fan of laptop\n",
    "# if tem > 20 and less than temp < 50 .. fan should rotate with 50 rpm\n",
    "# else turn fan on on ful speed\n",
    "while(True):\n",
    "    temp = input((((((((((((((((((((((((((((((((((((((((((((((((((((((((((((((((((((((((((((((((((((((((((((((((((((((((((((((((\"what is your temprature\"))))))))))))))))))))))))))))))))))))))))))))))))))))))))))))))))))))))))))))))))))))))))))))))))))))))))))))))))\n",
    "    if \"quit\"==temp:\n",
    "        break\n",
    "    elif int(temp)<0 or int(temp)==0:\n",
    "        print(\"i turned the heater\")\n",
    "    elif int(temp) < 20:\n",
    "        print()\n",
    "        print(\"I turned off the fan of laptop\")\n",
    "    elif int(temp) > 20 and int(temp) < 50:\n",
    "        print(\"I turned on the fan of laptop and it is 50 rpm\")\n",
    "    else:\n",
    "        print(\"Fan is on full speed\")"
   ]
  },
  {
   "cell_type": "code",
   "execution_count": 137,
   "metadata": {},
   "outputs": [
    {
     "name": "stdout",
     "output_type": "stream",
     "text": [
      "1\n",
      "3\n",
      "5\n",
      "7\n",
      "9\n",
      "11\n",
      "13\n",
      "15\n",
      "17\n",
      "19\n"
     ]
    }
   ],
   "source": [
    "x=0\n",
    "for each in range(20):\n",
    "    x+=1\n",
    "    if (x%2==1):\n",
    "        print(x)"
   ]
  },
  {
   "cell_type": "code",
   "execution_count": 138,
   "metadata": {},
   "outputs": [
    {
     "name": "stdout",
     "output_type": "stream",
     "text": [
      "1\n",
      "3\n",
      "5\n",
      "7\n",
      "9\n",
      "11\n",
      "13\n",
      "15\n",
      "17\n",
      "19\n"
     ]
    }
   ],
   "source": [
    "for each in range(1,21,2):\n",
    "    print(each)"
   ]
  },
  {
   "cell_type": "code",
   "execution_count": 152,
   "metadata": {},
   "outputs": [],
   "source": [
    "def caculator(x, y):\n",
    "    s = x+y\n",
    "    d = x-y\n",
    "    p = x*y\n",
    "    q = x/y\n",
    "    hehe = x//y\n",
    "    power = x**y\n",
    "    return {\"sum\":s,\"diff\":d,\"prd\":p,\"quot\":q,\"power\":power,\"hehe\":hehe}\n"
   ]
  },
  {
   "cell_type": "code",
   "execution_count": 161,
   "metadata": {},
   "outputs": [
    {
     "data": {
      "text/plain": [
       "{'sum': 122121221221212221212122,\n",
       " 'diff': 122121221221212221212118,\n",
       " 'prd': 244242442442424442424240,\n",
       " 'quot': 6.106061061060611e+22,\n",
       " 'power': 14913592672560254158027235610639913682034894400,\n",
       " 'hehe': 61060610610606110606060}"
      ]
     },
     "execution_count": 161,
     "metadata": {},
     "output_type": "execute_result"
    }
   ],
   "source": [
    "caculator(122121221221212221212120,2)\n"
   ]
  },
  {
   "cell_type": "code",
   "execution_count": 162,
   "metadata": {},
   "outputs": [
    {
     "data": {
      "text/plain": [
       "122121221221212221212120"
      ]
     },
     "execution_count": 162,
     "metadata": {},
     "output_type": "execute_result"
    }
   ],
   "source": [
    "61060610610606110606060*2"
   ]
  },
  {
   "cell_type": "code",
   "execution_count": 163,
   "metadata": {},
   "outputs": [],
   "source": [
    "calcu = lambda a,b:([a+b,a-b,a*b,a/b])\n"
   ]
  },
  {
   "cell_type": "code",
   "execution_count": 164,
   "metadata": {},
   "outputs": [
    {
     "data": {
      "text/plain": [
       "[6, 2, 8, 2.0]"
      ]
     },
     "execution_count": 164,
     "metadata": {},
     "output_type": "execute_result"
    }
   ],
   "source": [
    "calcu(4,2)"
   ]
  },
  {
   "cell_type": "code",
   "execution_count": 169,
   "metadata": {},
   "outputs": [
    {
     "data": {
      "text/plain": [
       "([65, -25, 900, 0.4444444444444444], [111, 47, 2528, 2.46875])"
      ]
     },
     "execution_count": 169,
     "metadata": {},
     "output_type": "execute_result"
    }
   ],
   "source": [
    "(calcu(20,45),calcu(79,32))"
   ]
  },
  {
   "cell_type": "code",
   "execution_count": 2,
   "metadata": {},
   "outputs": [],
   "source": [
    "pepeinguin = lambda a,b:([a+b])"
   ]
  },
  {
   "cell_type": "code",
   "execution_count": 4,
   "metadata": {},
   "outputs": [
    {
     "data": {
      "text/plain": [
       "[inf]"
      ]
     },
     "execution_count": 4,
     "metadata": {},
     "output_type": "execute_result"
    }
   ],
   "source": [
    "pepeinguin(11291093635676567e1238,2113e3)"
   ]
  },
  {
   "cell_type": "code",
   "execution_count": 40,
   "metadata": {},
   "outputs": [
    {
     "ename": "SyntaxError",
     "evalue": "cannot assign to function call here. Maybe you meant '==' instead of '='? (4021288576.py, line 5)",
     "output_type": "error",
     "traceback": [
      "\u001b[0;36m  File \u001b[0;32m\"/var/folders/0k/rfc7l8w10vg2gy6fqthn9r9r0000gn/T/ipykernel_41559/4021288576.py\"\u001b[0;36m, line \u001b[0;32m5\u001b[0m\n\u001b[0;31m    apple_list(i) = \" apple is detected and deteld heheheehhehahahahahhaha\"\u001b[0m\n\u001b[0m    ^\u001b[0m\n\u001b[0;31mSyntaxError\u001b[0m\u001b[0;31m:\u001b[0m cannot assign to function call here. Maybe you meant '==' instead of '='?\n"
     ]
    }
   ],
   "source": [
    "# make a function that taks a list as argument and if apple is present in list it should remove apple from list\n",
    "def remove_apples(apple_list):\n",
    "    for i,each in enumerate(apple_list):\n",
    "        if \"apple\" in each.lower():\n",
    "            apple_list[i] = \" apple is detected and deteld\"\n",
    "    return apple_list"
   ]
  },
  {
   "cell_type": "code",
   "execution_count": 12,
   "metadata": {},
   "outputs": [
    {
     "data": {
      "text/plain": [
       "[' apple is detected and deteld heheheehhehahahahahhaha',\n",
       " ' apple is detected and deteld heheheehhehahahahahhaha',\n",
       " ' apple is detected and deteld heheheehhehahahahahhaha']"
      ]
     },
     "execution_count": 12,
     "metadata": {},
     "output_type": "execute_result"
    }
   ],
   "source": [
    "x = [input(\"random thing\"),input(\"random thing\"),input(\"random thing\")]\n",
    "remove_apples(x)"
   ]
  },
  {
   "cell_type": "code",
   "execution_count": 41,
   "metadata": {},
   "outputs": [],
   "source": [
    "### make a new function that will take a tuple as argument and it should return tuple but remove apple from it\n",
    "def remove_apples(apple_tuple):\n",
    "    apple_tuple = list(apple_tuple)\n",
    "    for i,each in enumerate(apple_tuple):\n",
    "        if \"apple\" in each.lower():\n",
    "            apple_tuple[i] = \" apple is detected and deteld heheheehhehahahahahhaha\"\n",
    "    return tuple(apple_tuple)"
   ]
  },
  {
   "cell_type": "code",
   "execution_count": 42,
   "metadata": {},
   "outputs": [
    {
     "data": {
      "text/plain": [
       "(' apple is detected and deteld heheheehhehahahahahhaha',\n",
       " ' apple is detected and deteld heheheehhehahahahahhaha',\n",
       " ' apple is detected and deteld heheheehhehahahahahhaha')"
      ]
     },
     "execution_count": 42,
     "metadata": {},
     "output_type": "execute_result"
    }
   ],
   "source": [
    "x = input(\"random thing\"),input(\"random thing\"),input(\"random thing\")\n",
    "remove_apples(x)\n"
   ]
  },
  {
   "cell_type": "code",
   "execution_count": 18,
   "metadata": {},
   "outputs": [
    {
     "name": "stdout",
     "output_type": "stream",
     "text": [
      "69.3 ns ± 7.9 ns per loop (mean ± std. dev. of 7 runs, 10000000 loops each)\n"
     ]
    }
   ],
   "source": [
    "%%timeit\n",
    "### make a new function that will take a tuple as argument and it should return tuple but remove apple from it\n",
    "def remove_apples(apple_tuple):\n",
    "    for i,each in enumerate(apple_tuple):\n",
    "        if \"apple\" in each.lower():\n",
    "            apple_tuple[i] = \" apple is detected and deteld heheheehhehahahahahhaha\"\n",
    "    return apple_tuple"
   ]
  },
  {
   "cell_type": "code",
   "execution_count": 17,
   "metadata": {},
   "outputs": [
    {
     "name": "stdout",
     "output_type": "stream",
     "text": [
      "The slowest run took 7.86 times longer than the fastest. This could mean that an intermediate result is being cached.\n",
      "1.37 s ± 1.44 s per loop (mean ± std. dev. of 7 runs, 1 loop each)\n"
     ]
    }
   ],
   "source": [
    "%%timeit\n",
    "x = [input(\"random thing\"),input(\"random thing\"),input(\"random thing\")]\n",
    "remove_apples(x)"
   ]
  },
  {
   "cell_type": "code",
   "execution_count": 23,
   "metadata": {},
   "outputs": [
    {
     "data": {
      "text/html": [
       "<head>\n",
       "</head>\n",
       "<body>\n",
       "<big>\n",
       "hi\n",
       "</body>\n"
      ],
      "text/plain": [
       "<IPython.core.display.HTML object>"
      ]
     },
     "metadata": {},
     "output_type": "display_data"
    }
   ],
   "source": [
    "%%html\n",
    "<head>\n",
    "</head>\n",
    "<body>\n",
    "<big>\n",
    "hi\n",
    "</body>"
   ]
  },
  {
   "cell_type": "code",
   "execution_count": 24,
   "metadata": {},
   "outputs": [
    {
     "data": {
      "text/html": [
       "<head>\n",
       "</head>\n",
       "<body>\n",
       "<normal\n",
       ">\n",
       "hi\n",
       "</body>\n"
      ],
      "text/plain": [
       "<IPython.core.display.HTML object>"
      ]
     },
     "metadata": {},
     "output_type": "display_data"
    }
   ],
   "source": [
    "%%html\n",
    "<head>\n",
    "</head>\n",
    "<body>\n",
    "<normal\n",
    ">\n",
    "hi\n",
    "</body>"
   ]
  },
  {
   "cell_type": "code",
   "execution_count": 36,
   "metadata": {},
   "outputs": [
    {
     "data": {
      "text/html": [
       "<head>\n",
       "</head>\n",
       "<body>\n",
       "<small>\n",
       "hi\n",
       "</body>\n"
      ],
      "text/plain": [
       "<IPython.core.display.HTML object>"
      ]
     },
     "metadata": {},
     "output_type": "display_data"
    }
   ],
   "source": [
    "%%html\n",
    "<head>\n",
    "</head>\n",
    "<body>\n",
    "<small>\n",
    "hi\n",
    "</body>"
   ]
  },
  {
   "cell_type": "code",
   "execution_count": 37,
   "metadata": {},
   "outputs": [
    {
     "data": {
      "text/html": [
       "<head>\n",
       "</head>\n",
       "<body>\n",
       "<title>\n",
       "hi\n",
       "</body>\n"
      ],
      "text/plain": [
       "<IPython.core.display.HTML object>"
      ]
     },
     "metadata": {},
     "output_type": "display_data"
    }
   ],
   "source": [
    "%%html\n",
    "<head>\n",
    "</head>\n",
    "<body>\n",
    "<title>\n",
    "hi\n",
    "</body>"
   ]
  },
  {
   "cell_type": "code",
   "execution_count": null,
   "metadata": {},
   "outputs": [],
   "source": []
  }
 ],
 "metadata": {
  "kernelspec": {
   "display_name": "dsml",
   "language": "python",
   "name": "python3"
  },
  "language_info": {
   "codemirror_mode": {
    "name": "ipython",
    "version": 3
   },
   "file_extension": ".py",
   "mimetype": "text/x-python",
   "name": "python",
   "nbconvert_exporter": "python",
   "pygments_lexer": "ipython3",
   "version": "3.10.4"
  },
  "orig_nbformat": 4
 },
 "nbformat": 4,
 "nbformat_minor": 2
}

{
 "cells": [
  {
   "cell_type": "code",
   "execution_count": null,
   "metadata": {},
   "outputs": [],
   "source": [
    "### we will Automate web browser\n",
    "\n",
    "### that web browser will open google \n",
    "\n",
    "\n",
    "## whatever we will type in our code it will search it on google\n",
    "\n",
    "\n",
    "## and vise versa"
   ]
  },
  {
   "cell_type": "code",
   "execution_count": 20,
   "metadata": {},
   "outputs": [],
   "source": [
    "### working code\n",
    "\n",
    "import os\n",
    "from selenium import webdriver\n",
    "from selenium.webdriver.common.keys import Keys\n",
    "\n",
    "# Replace this path with the directory containing the ChromeDriver executable\n",
    "chrome_driver_directory = \"/Users/andymiaogu/Desktop/chromedriver-mac-x64\"\n",
    "\n",
    "# Add the ChromeDriver directory to the PATH environment variable\n",
    "os.environ[\"PATH\"] += os.pathsep + chrome_driver_directory\n",
    "\n",
    "# Create a new Chrome browser instance\n",
    "driver = webdriver.Chrome()\n",
    "\n",
    "# Navigate to Google[]\n",
    "websites = ['google','youtube','facebook']\n",
    "\n",
    "for web in  websites:\n",
    "    driver.get(f\"https://www.{web}.com\")\n",
    "\n",
    "\n",
    "\n",
    "\n",
    "# Wait for a while to see the search results\n",
    "driver.implicitly_wait(10)  # You can adjust the wait time as needed\n",
    "\n",
    "# Close the browser window\n",
    "driver.quit()\n"
   ]
  },
  {
   "cell_type": "code",
   "execution_count": 21,
   "metadata": {},
   "outputs": [
    {
     "ename": "NoSuchWindowException",
     "evalue": "Message: no such window: target window already closed\nfrom unknown error: web view not found\n  (Session info: chrome=116.0.5845.110)\nStacktrace:\n0   chromedriver                        0x0000000100c7665c chromedriver + 4318812\n1   chromedriver                        0x0000000100c6ed00 chromedriver + 4287744\n2   chromedriver                        0x00000001008a07ec chromedriver + 296940\n3   chromedriver                        0x00000001008786e4 chromedriver + 132836\n4   chromedriver                        0x0000000100903de4 chromedriver + 703972\n5   chromedriver                        0x00000001009165b8 chromedriver + 779704\n6   chromedriver                        0x00000001008d2178 chromedriver + 500088\n7   chromedriver                        0x00000001008d2fc0 chromedriver + 503744\n8   chromedriver                        0x0000000100c36c40 chromedriver + 4058176\n9   chromedriver                        0x0000000100c3b160 chromedriver + 4075872\n10  chromedriver                        0x0000000100bfee68 chromedriver + 3829352\n11  chromedriver                        0x0000000100c3bc4c chromedriver + 4078668\n12  chromedriver                        0x0000000100c13f08 chromedriver + 3915528\n13  chromedriver                        0x0000000100c58140 chromedriver + 4194624\n14  chromedriver                        0x0000000100c582c4 chromedriver + 4195012\n15  chromedriver                        0x0000000100c684d0 chromedriver + 4261072\n16  libsystem_pthread.dylib             0x0000000183eea06c _pthread_start + 148\n17  libsystem_pthread.dylib             0x0000000183ee4e2c thread_start + 8\n",
     "output_type": "error",
     "traceback": [
      "\u001b[0;31m---------------------------------------------------------------------------\u001b[0m",
      "\u001b[0;31mNoSuchWindowException\u001b[0m                     Traceback (most recent call last)",
      "Cell \u001b[0;32mIn[21], line 20\u001b[0m\n\u001b[1;32m     17\u001b[0m websites \u001b[39m=\u001b[39m [\u001b[39m'\u001b[39m\u001b[39mgoogle\u001b[39m\u001b[39m'\u001b[39m,\u001b[39m'\u001b[39m\u001b[39myoutube\u001b[39m\u001b[39m'\u001b[39m,\u001b[39m'\u001b[39m\u001b[39mfacebook\u001b[39m\u001b[39m'\u001b[39m]\n\u001b[1;32m     19\u001b[0m \u001b[39mfor\u001b[39;00m web \u001b[39min\u001b[39;00m  websites:\n\u001b[0;32m---> 20\u001b[0m     driver\u001b[39m.\u001b[39;49mget(\u001b[39mf\u001b[39;49m\u001b[39m\"\u001b[39;49m\u001b[39mhttps://www.\u001b[39;49m\u001b[39m{\u001b[39;49;00mweb\u001b[39m}\u001b[39;49;00m\u001b[39m.com\u001b[39;49m\u001b[39m\"\u001b[39;49m)\n\u001b[1;32m     25\u001b[0m \u001b[39m# Wait for a while to see the search results\u001b[39;00m\n\u001b[1;32m     26\u001b[0m driver\u001b[39m.\u001b[39mimplicitly_wait(\u001b[39m10\u001b[39m)  \u001b[39m# You can adjust the wait time as needed\u001b[39;00m\n",
      "File \u001b[0;32m~/anaconda3/lib/python3.10/site-packages/selenium/webdriver/remote/webdriver.py:354\u001b[0m, in \u001b[0;36mWebDriver.get\u001b[0;34m(self, url)\u001b[0m\n\u001b[1;32m    352\u001b[0m \u001b[39mdef\u001b[39;00m \u001b[39mget\u001b[39m(\u001b[39mself\u001b[39m, url: \u001b[39mstr\u001b[39m) \u001b[39m-\u001b[39m\u001b[39m>\u001b[39m \u001b[39mNone\u001b[39;00m:\n\u001b[1;32m    353\u001b[0m     \u001b[39m\"\"\"Loads a web page in the current browser session.\"\"\"\u001b[39;00m\n\u001b[0;32m--> 354\u001b[0m     \u001b[39mself\u001b[39;49m\u001b[39m.\u001b[39;49mexecute(Command\u001b[39m.\u001b[39;49mGET, {\u001b[39m\"\u001b[39;49m\u001b[39murl\u001b[39;49m\u001b[39m\"\u001b[39;49m: url})\n",
      "File \u001b[0;32m~/anaconda3/lib/python3.10/site-packages/selenium/webdriver/remote/webdriver.py:345\u001b[0m, in \u001b[0;36mWebDriver.execute\u001b[0;34m(self, driver_command, params)\u001b[0m\n\u001b[1;32m    343\u001b[0m response \u001b[39m=\u001b[39m \u001b[39mself\u001b[39m\u001b[39m.\u001b[39mcommand_executor\u001b[39m.\u001b[39mexecute(driver_command, params)\n\u001b[1;32m    344\u001b[0m \u001b[39mif\u001b[39;00m response:\n\u001b[0;32m--> 345\u001b[0m     \u001b[39mself\u001b[39;49m\u001b[39m.\u001b[39;49merror_handler\u001b[39m.\u001b[39;49mcheck_response(response)\n\u001b[1;32m    346\u001b[0m     response[\u001b[39m\"\u001b[39m\u001b[39mvalue\u001b[39m\u001b[39m\"\u001b[39m] \u001b[39m=\u001b[39m \u001b[39mself\u001b[39m\u001b[39m.\u001b[39m_unwrap_value(response\u001b[39m.\u001b[39mget(\u001b[39m\"\u001b[39m\u001b[39mvalue\u001b[39m\u001b[39m\"\u001b[39m, \u001b[39mNone\u001b[39;00m))\n\u001b[1;32m    347\u001b[0m     \u001b[39mreturn\u001b[39;00m response\n",
      "File \u001b[0;32m~/anaconda3/lib/python3.10/site-packages/selenium/webdriver/remote/errorhandler.py:229\u001b[0m, in \u001b[0;36mErrorHandler.check_response\u001b[0;34m(self, response)\u001b[0m\n\u001b[1;32m    227\u001b[0m         alert_text \u001b[39m=\u001b[39m value[\u001b[39m\"\u001b[39m\u001b[39malert\u001b[39m\u001b[39m\"\u001b[39m]\u001b[39m.\u001b[39mget(\u001b[39m\"\u001b[39m\u001b[39mtext\u001b[39m\u001b[39m\"\u001b[39m)\n\u001b[1;32m    228\u001b[0m     \u001b[39mraise\u001b[39;00m exception_class(message, screen, stacktrace, alert_text)  \u001b[39m# type: ignore[call-arg]  # mypy is not smart enough here\u001b[39;00m\n\u001b[0;32m--> 229\u001b[0m \u001b[39mraise\u001b[39;00m exception_class(message, screen, stacktrace)\n",
      "\u001b[0;31mNoSuchWindowException\u001b[0m: Message: no such window: target window already closed\nfrom unknown error: web view not found\n  (Session info: chrome=116.0.5845.110)\nStacktrace:\n0   chromedriver                        0x0000000100c7665c chromedriver + 4318812\n1   chromedriver                        0x0000000100c6ed00 chromedriver + 4287744\n2   chromedriver                        0x00000001008a07ec chromedriver + 296940\n3   chromedriver                        0x00000001008786e4 chromedriver + 132836\n4   chromedriver                        0x0000000100903de4 chromedriver + 703972\n5   chromedriver                        0x00000001009165b8 chromedriver + 779704\n6   chromedriver                        0x00000001008d2178 chromedriver + 500088\n7   chromedriver                        0x00000001008d2fc0 chromedriver + 503744\n8   chromedriver                        0x0000000100c36c40 chromedriver + 4058176\n9   chromedriver                        0x0000000100c3b160 chromedriver + 4075872\n10  chromedriver                        0x0000000100bfee68 chromedriver + 3829352\n11  chromedriver                        0x0000000100c3bc4c chromedriver + 4078668\n12  chromedriver                        0x0000000100c13f08 chromedriver + 3915528\n13  chromedriver                        0x0000000100c58140 chromedriver + 4194624\n14  chromedriver                        0x0000000100c582c4 chromedriver + 4195012\n15  chromedriver                        0x0000000100c684d0 chromedriver + 4261072\n16  libsystem_pthread.dylib             0x0000000183eea06c _pthread_start + 148\n17  libsystem_pthread.dylib             0x0000000183ee4e2c thread_start + 8\n"
     ]
    }
   ],
   "source": [
    "### working code\n",
    "\n",
    "import os\n",
    "from selenium import webdriver\n",
    "from selenium.webdriver.common.keys import Keys\n",
    "\n",
    "# Replace this path with the directory containing the ChromeDriver executable\n",
    "chrome_driver_directory = \"/Users/andymiaogu/Desktop/chromedriver-mac-x64\"\n",
    "\n",
    "# Add the ChromeDriver directory to the PATH environment variable\n",
    "os.environ[\"PATH\"] += os.pathsep + chrome_driver_directory\n",
    "\n",
    "# Create a new Chrome browser instance\n",
    "driver = webdriver.Chrome()\n",
    "\n",
    "# Navigate to Google[]\n",
    "\n",
    "web = \"google\"\n",
    "driver.get(f\"https://www.{web}.com\")\n",
    "\n",
    "\n",
    "\n",
    "\n",
    "# Wait for a while to see the search results\n",
    "driver.implicitly_wait(10)  # You can adjust the wait time as needed\n",
    "\n",
    "# Close the browser window\n",
    "driver.quit()\n"
   ]
  },
  {
   "cell_type": "code",
   "execution_count": 22,
   "metadata": {},
   "outputs": [
    {
     "ename": "AttributeError",
     "evalue": "'WebDriver' object has no attribute 'find_element_by_name'",
     "output_type": "error",
     "traceback": [
      "\u001b[0;31m---------------------------------------------------------------------------\u001b[0m",
      "\u001b[0;31mAttributeError\u001b[0m                            Traceback (most recent call last)",
      "Cell \u001b[0;32mIn[22], line 18\u001b[0m\n\u001b[1;32m     15\u001b[0m driver\u001b[39m.\u001b[39mget(\u001b[39mf\u001b[39m\u001b[39m\"\u001b[39m\u001b[39mhttps://www.google.com\u001b[39m\u001b[39m\"\u001b[39m)\n\u001b[1;32m     17\u001b[0m \u001b[39m# Find the search box\u001b[39;00m\n\u001b[0;32m---> 18\u001b[0m search_box \u001b[39m=\u001b[39m driver\u001b[39m.\u001b[39;49mfind_element_by_name(\u001b[39m\"\u001b[39m\u001b[39mq\u001b[39m\u001b[39m\"\u001b[39m)\n\u001b[1;32m     20\u001b[0m \u001b[39m# Type the search query\u001b[39;00m\n\u001b[1;32m     21\u001b[0m search_query \u001b[39m=\u001b[39m \u001b[39m\"\u001b[39m\u001b[39mapple\u001b[39m\u001b[39m\"\u001b[39m\n",
      "\u001b[0;31mAttributeError\u001b[0m: 'WebDriver' object has no attribute 'find_element_by_name'"
     ]
    }
   ],
   "source": [
    "import os\n",
    "from selenium import webdriver\n",
    "from selenium.webdriver.common.keys import Keys\n",
    "\n",
    "# Replace this path with the directory containing the ChromeDriver executable\n",
    "chrome_driver_directory = \"/Users/andymiaogu/Desktop/chromedriver-mac-x64\"\n",
    "\n",
    "# Add the ChromeDriver directory to the PATH environment variable\n",
    "os.environ[\"PATH\"] += os.pathsep + chrome_driver_directory\n",
    "\n",
    "# Create a new Chrome browser instance\n",
    "driver = webdriver.Chrome()\n",
    "\n",
    "# Navigate to Google\n",
    "driver.get(f\"https://www.google.com\")\n",
    "\n",
    "# Find the search box\n",
    "search_box = driver.find_element_by_name(\"q\")\n",
    "\n",
    "# Type the search query\n",
    "search_query = \"apple\"\n",
    "search_box.send_keys(search_query)\n",
    "\n",
    "# Press Enter to perform the search\n",
    "search_box.send_keys(Keys.RETURN)\n",
    "\n",
    "# Wait for a while to see the search results\n",
    "driver.implicitly_wait(10)  # You can adjust the wait time as needed\n",
    "\n",
    "# Close the browser window\n",
    "driver.quit()\n"
   ]
  },
  {
   "cell_type": "code",
   "execution_count": 25,
   "metadata": {},
   "outputs": [],
   "source": [
    "import os\n",
    "from selenium import webdriver\n",
    "from selenium.webdriver.common.keys import Keys\n",
    "\n",
    "# Replace this path with the directory containing the ChromeDriver executable\n",
    "chrome_driver_directory = \"/Users/andymiaogu/Desktop/chromedriver-mac-x64\"\n",
    "\n",
    "# Add the ChromeDriver directory to the PATH environment variable\n",
    "os.environ[\"PATH\"] += os.pathsep + chrome_driver_directory\n",
    "\n",
    "# Create a new Chrome browser instance\n",
    "driver = webdriver.Chrome()\n",
    "\n",
    "# Navigate to Google\n",
    "driver.get(f\"https://www.google.com\")\n",
    "\n",
    "# Find the search box using its 'name' attribute\n",
    "search_box = driver.find_element(\"name\", \"q\")\n",
    "\n",
    "# Type the search query\n",
    "search_query = \"appleandymiaoguhahahahahahayes no\"\n",
    "search_box.send_keys(search_query)\n",
    "\n",
    "# Press Enter to perform the search\n",
    "search_box.send_keys(Keys.RETURN)\n",
    "\n",
    "# Wait for a while to see the search results\n",
    "driver.implicitly_wait(10)  # You can adjust the wait time as needed\n",
    "\n",
    "# Close the browser window\n",
    "driver.quit()\n"
   ]
  },
  {
   "cell_type": "code",
   "execution_count": 30,
   "metadata": {},
   "outputs": [
    {
     "ename": "AttributeError",
     "evalue": "'NoneType' object has no attribute 'send_keys'",
     "output_type": "error",
     "traceback": [
      "\u001b[0;31m---------------------------------------------------------------------------\u001b[0m",
      "\u001b[0;31mAttributeError\u001b[0m                            Traceback (most recent call last)",
      "Cell \u001b[0;32mIn[30], line 22\u001b[0m\n\u001b[1;32m     20\u001b[0m \u001b[39m# Type the search query\u001b[39;00m\n\u001b[1;32m     21\u001b[0m search_query \u001b[39m=\u001b[39m \u001b[39m\"\u001b[39m\u001b[39mapple\u001b[39m\u001b[39m\"\u001b[39m\n\u001b[0;32m---> 22\u001b[0m search_box\u001b[39m.\u001b[39;49msend_keys(search_query)\n\u001b[1;32m     24\u001b[0m \u001b[39m# Press Enter to perform the search\u001b[39;00m\n\u001b[1;32m     25\u001b[0m search_box\u001b[39m.\u001b[39msend_keys(Keys\u001b[39m.\u001b[39mENTER)\n",
      "\u001b[0;31mAttributeError\u001b[0m: 'NoneType' object has no attribute 'send_keys'"
     ]
    }
   ],
   "source": [
    "import os\n",
    "from selenium import webdriver\n",
    "from selenium.webdriver.common.keys import Keys\n",
    "\n",
    "# Replace this path with the directory containing the ChromeDriver executable\n",
    "chrome_driver_directory = \"/Users/andymiaogu/Desktop/chromedriver-mac-x64\"\n",
    "\n",
    "# Add the ChromeDriver directory to the PATH environment variable\n",
    "os.environ[\"PATH\"] += os.pathsep + chrome_driver_directory\n",
    "\n",
    "# Create a new Chrome browser instance\n",
    "driver = webdriver.Chrome()\n",
    "\n",
    "# Navigate to Google\n",
    "driver.get(f\"https://www.google.com\")\n",
    "\n",
    "# Find the search box using its 'name' attribute\n",
    "search_box = driver.find_element(\"name\", \"q\")\n",
    "\n",
    "# Type the search query\n",
    "search_query = \"apple\"\n",
    "search_box.send_keys(search_query)\n",
    "\n",
    "# Press Enter to perform the search\n",
    "search_box.send_keys(Keys.ENTER)\n",
    "driver.implicitly_wait(10)\n",
    "driver.get(f\"https://www.youtube.com\")\n",
    "# Wait for a while to see the search results\n",
    "driver.implicitly_wait(10)  # You can adjust the wait time as needed\n",
    "\n",
    "# Close the browser window\n",
    "driver.quit()\n"
   ]
  },
  {
   "cell_type": "code",
   "execution_count": null,
   "metadata": {},
   "outputs": [],
   "source": []
  }
 ],
 "metadata": {
  "kernelspec": {
   "display_name": "base",
   "language": "python",
   "name": "python3"
  },
  "language_info": {
   "codemirror_mode": {
    "name": "ipython",
    "version": 3
   },
   "file_extension": ".py",
   "mimetype": "text/x-python",
   "name": "python",
   "nbconvert_exporter": "python",
   "pygments_lexer": "ipython3",
   "version": "3.10.9"
  },
  "orig_nbformat": 4
 },
 "nbformat": 4,
 "nbformat_minor": 2
}

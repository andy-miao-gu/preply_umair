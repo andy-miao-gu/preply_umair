{
 "cells": [
  {
   "cell_type": "code",
   "execution_count": 1,
   "metadata": {},
   "outputs": [],
   "source": [
    "# Dijkstra's algorithm\n"
   ]
  },
  {
   "cell_type": "markdown",
   "metadata": {},
   "source": [
    "**Question:** Imagine you have a game world with five places: A, B, C, D, and E. You know the distances between these places are as follows:\n",
    "\n",
    "- From A to B: 2 units\n",
    "- From A to C: 4 units\n",
    "- From B to D: 5 units\n",
    "- From C to D: 1 unit\n",
    "- From D to E: 3 units\n",
    "\n",
    "Your quest is to find the shortest path from place A to place E. Can you write a short Python program to solve this quest and tell us the shortest distance? You can use Dijkstra's algorithm to help you.\n",
    "\n",
    "**Hint:** You can represent the distances as a Python dictionary, and the algorithm should help you find the shortest path from A to E. How far will your character travel to get to the final destination?\n",
    "\n",
    "This question encourages a 12-year-old to apply Dijkstra's algorithm to a simplified scenario and calculate the shortest distance. It's a fun way to introduce the concept of algorithms and problem-solving in a game-like context."
   ]
  },
  {
   "cell_type": "code",
   "execution_count": 2,
   "metadata": {},
   "outputs": [],
   "source": [
    "AtoB=2\n",
    "AtoC=4\n",
    "minpast=0\n",
    "if AtoB<AtoC:\n",
    "    minpast+=AtoB\n",
    "else:\n",
    "    minpast+=AtoC\n",
    "minpast+=5\n",
    "minpast+=3"
   ]
  },
  {
   "cell_type": "code",
   "execution_count": 6,
   "metadata": {},
   "outputs": [],
   "source": [
    "def divisible_by_three(st):\n",
    "    st=st.split(\"\")\n",
    "    return sum(st)%3==0"
   ]
  },
  {
   "cell_type": "code",
   "execution_count": 7,
   "metadata": {},
   "outputs": [
    {
     "ename": "ValueError",
     "evalue": "empty separator",
     "output_type": "error",
     "traceback": [
      "\u001b[0;31m---------------------------------------------------------------------------\u001b[0m",
      "\u001b[0;31mValueError\u001b[0m                                Traceback (most recent call last)",
      "\u001b[1;32m/Users/andymiaogu/Desktop/preply_umair/Problem Solving/Actually problems/ipynb/problems/Parto 3/Problem 12.ipynb Cell 5\u001b[0m line \u001b[0;36m1\n\u001b[0;32m----> <a href='vscode-notebook-cell:/Users/andymiaogu/Desktop/preply_umair/Problem%20Solving/Actually%20problems/ipynb/problems/Parto%203/Problem%2012.ipynb#W6sZmlsZQ%3D%3D?line=0'>1</a>\u001b[0m divisible_by_three(\u001b[39m\"\u001b[39;49m\u001b[39m123\u001b[39;49m\u001b[39m\"\u001b[39;49m)\n",
      "\u001b[1;32m/Users/andymiaogu/Desktop/preply_umair/Problem Solving/Actually problems/ipynb/problems/Parto 3/Problem 12.ipynb Cell 5\u001b[0m line \u001b[0;36m2\n\u001b[1;32m      <a href='vscode-notebook-cell:/Users/andymiaogu/Desktop/preply_umair/Problem%20Solving/Actually%20problems/ipynb/problems/Parto%203/Problem%2012.ipynb#W6sZmlsZQ%3D%3D?line=0'>1</a>\u001b[0m \u001b[39mdef\u001b[39;00m \u001b[39mdivisible_by_three\u001b[39m(st):\n\u001b[0;32m----> <a href='vscode-notebook-cell:/Users/andymiaogu/Desktop/preply_umair/Problem%20Solving/Actually%20problems/ipynb/problems/Parto%203/Problem%2012.ipynb#W6sZmlsZQ%3D%3D?line=1'>2</a>\u001b[0m     st\u001b[39m=\u001b[39mst\u001b[39m.\u001b[39;49msplit(\u001b[39m\"\u001b[39;49m\u001b[39m\"\u001b[39;49m)\n\u001b[1;32m      <a href='vscode-notebook-cell:/Users/andymiaogu/Desktop/preply_umair/Problem%20Solving/Actually%20problems/ipynb/problems/Parto%203/Problem%2012.ipynb#W6sZmlsZQ%3D%3D?line=2'>3</a>\u001b[0m     \u001b[39mreturn\u001b[39;00m \u001b[39msum\u001b[39m(st)\u001b[39m%\u001b[39m\u001b[39m3\u001b[39m\u001b[39m==\u001b[39m\u001b[39m0\u001b[39m\n",
      "\u001b[0;31mValueError\u001b[0m: empty separator"
     ]
    }
   ],
   "source": [
    "divisible_by_three(\"123\")"
   ]
  },
  {
   "cell_type": "code",
   "execution_count": 10,
   "metadata": {},
   "outputs": [
    {
     "data": {
      "text/plain": [
       "6"
      ]
     },
     "execution_count": 10,
     "metadata": {},
     "output_type": "execute_result"
    }
   ],
   "source": [
    "sum([int(i) for i in \"123\"])"
   ]
  },
  {
   "cell_type": "code",
   "execution_count": 13,
   "metadata": {},
   "outputs": [
    {
     "data": {
      "text/plain": [
       "41.333333333333336"
      ]
     },
     "execution_count": 13,
     "metadata": {},
     "output_type": "execute_result"
    }
   ],
   "source": [
    "124/3 "
   ]
  },
  {
   "cell_type": "code",
   "execution_count": 14,
   "metadata": {},
   "outputs": [
    {
     "data": {
      "text/plain": [
       "41"
      ]
     },
     "execution_count": 14,
     "metadata": {},
     "output_type": "execute_result"
    }
   ],
   "source": [
    "124//3"
   ]
  },
  {
   "cell_type": "code",
   "execution_count": 18,
   "metadata": {},
   "outputs": [
    {
     "data": {
      "text/plain": [
       "False"
      ]
     },
     "execution_count": 18,
     "metadata": {},
     "output_type": "execute_result"
    }
   ],
   "source": [
    "s = 124\n",
    "s/3 == s//3"
   ]
  },
  {
   "cell_type": "code",
   "execution_count": 24,
   "metadata": {},
   "outputs": [],
   "source": [
    "def divisible_by_three(st):\n",
    "    s = sum([int(i) for i in st])\n",
    "    while s > 0:\n",
    "        s -= 3\n",
    "    print(s)\n",
    "    return s == 0 \n",
    "    "
   ]
  },
  {
   "cell_type": "code",
   "execution_count": 25,
   "metadata": {},
   "outputs": [
    {
     "name": "stdout",
     "output_type": "stream",
     "text": [
      "0\n"
     ]
    },
    {
     "data": {
      "text/plain": [
       "True"
      ]
     },
     "execution_count": 25,
     "metadata": {},
     "output_type": "execute_result"
    }
   ],
   "source": [
    "divisible_by_three(\"123\")\n",
    "    "
   ]
  },
  {
   "cell_type": "code",
   "execution_count": null,
   "metadata": {},
   "outputs": [],
   "source": [
    "import math\n",
    "def factorial(n):\n",
    "    math.factorial(n)"
   ]
  }
 ],
 "metadata": {
  "kernelspec": {
   "display_name": "base",
   "language": "python",
   "name": "python3"
  },
  "language_info": {
   "codemirror_mode": {
    "name": "ipython",
    "version": 3
   },
   "file_extension": ".py",
   "mimetype": "text/x-python",
   "name": "python",
   "nbconvert_exporter": "python",
   "pygments_lexer": "ipython3",
   "version": "3.10.9"
  },
  "orig_nbformat": 4
 },
 "nbformat": 4,
 "nbformat_minor": 2
}

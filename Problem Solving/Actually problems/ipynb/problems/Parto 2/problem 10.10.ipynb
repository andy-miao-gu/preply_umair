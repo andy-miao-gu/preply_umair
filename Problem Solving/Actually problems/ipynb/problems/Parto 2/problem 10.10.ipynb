{
 "cells": [
  {
   "cell_type": "markdown",
   "metadata": {},
   "source": [
    "Great to hear that you've worked on a similar project before. In that case, let's try a more complex case study:\n",
    "\n",
    "**Case Study: Inventory Management System**\n",
    "\n",
    "**Scenario:**\n",
    "You have been tasked with creating an inventory management system for a small store. The system should allow the store to keep track of their products, update product quantities, add new products, and display the current inventory status. You will implement this system using Python lists, dictionaries, if-else statements, for loops, and functions.\n",
    "\n",
    "**Requirements:**\n",
    "1. The system should start with an empty inventory (an empty dictionary) and provide a menu for the user with the following options:\n",
    "   - Add a new product to the inventory.\n",
    "   - Update the quantity of an existing product in the inventory.\n",
    "   - Display the current inventory.\n",
    "   - Quit the program.\n",
    "   \n",
    "2. When adding a new product, the user should provide the product name, price, and quantity. Store this information in the inventory dictionary.\n",
    "\n",
    "3. When updating a product quantity, the user should provide the product name and the new quantity. Update the quantity in the inventory if the product exists; otherwise, inform the user that the product does not exist.\n",
    "\n",
    "4. The program should allow the user to view the current inventory, which should display the product name, price, and quantity.\n",
    "\n",
    "5. The program should continue running until the user decides to quit.\n",
    "\n",
    "**Example:**\n",
    "```\n",
    "Inventory Management System\n",
    "---------------------------\n",
    "1. Add a new product\n",
    "2. Update product quantity\n",
    "3. Display inventory\n",
    "4. Quit\n",
    "\n",
    "Enter your choice (1/2/3/4): 1\n",
    "Enter product name: Laptop\n",
    "Enter product price: 800\n",
    "Enter product quantity: 10\n",
    "\n",
    "Product \"Laptop\" added to inventory.\n",
    "\n",
    "Enter your choice (1/2/3/4): 3\n",
    "\n",
    "Inventory:\n",
    "Product    Price    Quantity\n",
    "-----------------------------\n",
    "Laptop     800      10\n",
    "\n",
    "Enter your choice (1/2/3/4): 2\n",
    "Enter product name to update: Laptop\n",
    "Enter new quantity: 15\n",
    "\n",
    "Product \"Laptop\" quantity updated to 15.\n",
    "\n",
    "Enter your choice (1/2/3/4): 4\n",
    "Goodbye!\n",
    "```\n",
    "\n",
    "You can implement this case study by defining functions for adding products, updating quantities, and displaying the inventory. Use a dictionary to store the inventory, and use if-else statements and for loops as needed. This case study simulates a basic inventory management system and provides a more significant challenge for your Python skills."
   ]
  },
  {
   "cell_type": "code",
   "execution_count": 9,
   "metadata": {},
   "outputs": [],
   "source": [
    "dct={}\n",
    "while(True):\n",
    "    blu=input(\"choice(1/2/3/4) hehehehehehe:\")\n",
    "    if blu==\"1\":\n",
    "        inp=input(\"Enter product name:\")\n",
    "        inpu=input(\"Enter product price:\")\n",
    "        inputo=input(\"Enter product quantity\")\n",
    "        dct[inp] = {'price':inpu,\"quantity\":inputo}\n",
    "        print(\"product\",inp,\"added successfully!\")\n",
    "        \n",
    "    if blu==\"3\":\n",
    "        print(\"\"\"product|price|quantity\"\"\")\n",
    "        for a,b in dct.items():\n",
    "            print(\"____________________________\")\n",
    "            print(a,\"|\",b['price'],\"|\",b['quantity'])\n",
    "    if blu==\"2\":\n",
    "        inp=input(\"Enter updated product name:\")\n",
    "        inpu=input(\"Enter updated product price:\")\n",
    "        inputo=input(\"Enter updated product quantity\")\n",
    "        dct[inp] = {'price':inpu,\"quantity\":inputo}\n",
    "        print(\"product\",inp,\"updated successfully!\")\n",
    "    if blu==\"4\":\n",
    "        print(\"Goodbye\")\n",
    "        break\n"
   ]
  },
  {
   "cell_type": "code",
   "execution_count": null,
   "metadata": {},
   "outputs": [],
   "source": [
    "12"
   ]
  },
  {
   "cell_type": "code",
   "execution_count": null,
   "metadata": {},
   "outputs": [],
   "source": []
  }
 ],
 "metadata": {
  "kernelspec": {
   "display_name": "base",
   "language": "python",
   "name": "python3"
  },
  "language_info": {
   "codemirror_mode": {
    "name": "ipython",
    "version": 3
   },
   "file_extension": ".py",
   "mimetype": "text/x-python",
   "name": "python",
   "nbconvert_exporter": "python",
   "pygments_lexer": "ipython3",
   "version": "3.10.9"
  },
  "orig_nbformat": 4
 },
 "nbformat": 4,
 "nbformat_minor": 2
}

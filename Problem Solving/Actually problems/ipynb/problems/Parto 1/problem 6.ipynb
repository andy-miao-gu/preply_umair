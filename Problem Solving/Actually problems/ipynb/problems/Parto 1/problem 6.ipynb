{
 "cells": [
  {
   "cell_type": "markdown",
   "metadata": {},
   "source": [
    "Suppose you are planning to buy a car, and you want to compare the total cost of ownership for two different models: Model A and Model B. To do this, you need to take into account several factors, including the purchase price, fuel efficiency, insurance costs, and maintenance expenses over a 5-year period.\n"
   ]
  },
  {
   "cell_type": "markdown",
   "metadata": {},
   "source": [
    "Model A:\n",
    "\n",
    "Purchase Price: $25,000\n",
    "Fuel Efficiency: 30 miles per gallon (mpg)\n",
    "Annual Insurance Cost: $1,200\n",
    "Annual Maintenance Cost: $500"
   ]
  },
  {
   "cell_type": "markdown",
   "metadata": {},
   "source": [
    "Model B:\n",
    "\n",
    "Purchase Price: $30,000\n",
    "Fuel Efficiency: 35 miles per gallon (mpg)\n",
    "Annual Insurance Cost: $1,000\n",
    "Annual Maintenance Cost: $600\n"
   ]
  },
  {
   "cell_type": "markdown",
   "metadata": {},
   "source": [
    "You drive an average of 12,000 miles per year, and the cost of fuel is $3.00 per gallon."
   ]
  },
  {
   "cell_type": "markdown",
   "metadata": {},
   "source": [
    "\n",
    "Task: Calculate and compare the total cost of ownership for both Model A and Model B over a 5-year period."
   ]
  },
  {
   "cell_type": "code",
   "execution_count": 11,
   "metadata": {},
   "outputs": [
    {
     "name": "stdout",
     "output_type": "stream",
     "text": [
      "Model A Model B\n",
      "1200 1000\n",
      "maintainA maintainB\n",
      "240000000 200000000\n",
      "fuelpriceA fuelpriceB\n",
      "1200.0 1028.5714285714284\n",
      "TotalA TotalB\n",
      "240026200.0 200031028.57142857\n"
     ]
    }
   ],
   "source": [
    "purchaseÆ=25000\n",
    "purchaseß=30000\n",
    "AnnualÆ=1200\n",
    "Annualß=1000\n",
    "years=200000\n",
    "gallonÆ=30\n",
    "gallonß=35\n",
    "gallon=3\n",
    "mpy=12000\n",
    "\n",
    "maintainA = (AnnualÆ*years)\n",
    "fuelpriceA =(mpy/gallonÆ*gallon) \n",
    "maintainB = (Annualß*years)\n",
    "fuelpriceB =(mpy/gallonß*gallon)\n",
    "\n",
    "totalÆ=purchaseÆ+maintainA+fuelpriceA\n",
    "totalß=purchaseß+maintainB+fuelpriceB\n",
    "print(\"Model A\", \"Model B\")\n",
    "print(AnnualÆ,Annualß)\n",
    "print(\"maintainA\", \"maintainB\")\n",
    "print(maintainA,maintainB)\n",
    "print(\"fuelpriceA\",\"fuelpriceB\")\n",
    "print(fuelpriceA,fuelpriceB)\n",
    "\n",
    "print(\"TotalA\",\"TotalB\")\n",
    "print(totalÆ,totalß)"
   ]
  },
  {
   "cell_type": "code",
   "execution_count": null,
   "metadata": {},
   "outputs": [],
   "source": []
  }
 ],
 "metadata": {
  "kernelspec": {
   "display_name": "base",
   "language": "python",
   "name": "python3"
  },
  "language_info": {
   "codemirror_mode": {
    "name": "ipython",
    "version": 3
   },
   "file_extension": ".py",
   "mimetype": "text/x-python",
   "name": "python",
   "nbconvert_exporter": "python",
   "pygments_lexer": "ipython3",
   "version": "3.10.9"
  },
  "orig_nbformat": 4
 },
 "nbformat": 4,
 "nbformat_minor": 2
}

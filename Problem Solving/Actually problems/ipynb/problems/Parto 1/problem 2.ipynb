{
 "cells": [
  {
   "cell_type": "code",
   "execution_count": 3,
   "metadata": {},
   "outputs": [
    {
     "ename": "ModuleNotFoundError",
     "evalue": "No module named 'surprise'",
     "output_type": "error",
     "traceback": [
      "\u001b[0;31m---------------------------------------------------------------------------\u001b[0m",
      "\u001b[0;31mModuleNotFoundError\u001b[0m                       Traceback (most recent call last)",
      "Cell \u001b[0;32mIn[3], line 7\u001b[0m\n\u001b[1;32m      1\u001b[0m \u001b[39m# Q: \"recommendation system for books\"\u001b[39;00m\n\u001b[1;32m      2\u001b[0m \u001b[39m# Install required libraries:\u001b[39;00m\n\u001b[1;32m      3\u001b[0m \u001b[39m# pip install pandas\u001b[39;00m\n\u001b[1;32m      4\u001b[0m \u001b[39m# pip install scikit-surprise\u001b[39;00m\n\u001b[1;32m      6\u001b[0m \u001b[39mimport\u001b[39;00m \u001b[39mpandas\u001b[39;00m \u001b[39mas\u001b[39;00m \u001b[39mpd\u001b[39;00m\n\u001b[0;32m----> 7\u001b[0m \u001b[39mfrom\u001b[39;00m \u001b[39msurprise\u001b[39;00m \u001b[39mimport\u001b[39;00m Dataset, Reader, KNNBasic\n\u001b[1;32m      9\u001b[0m \u001b[39m# Load the MovieLens dataset\u001b[39;00m\n\u001b[1;32m     10\u001b[0m \u001b[39m# Replace 'path/to/ratings.csv' with the actual path to the ratings file\u001b[39;00m\n\u001b[1;32m     11\u001b[0m ratings_data \u001b[39m=\u001b[39m pd\u001b[39m.\u001b[39mread_csv(\u001b[39m'\u001b[39m\u001b[39mpath/to/ratings.csv\u001b[39m\u001b[39m'\u001b[39m)\n",
      "\u001b[0;31mModuleNotFoundError\u001b[0m: No module named 'surprise'"
     ]
    }
   ],
   "source": [
    "# Q: \"recommendation system for books\"\n",
    "# Install required libraries:\n",
    "# pip install pandas\n",
    "# pip install scikit-surprise\n",
    "\n",
    "import pandas as pd\n",
    "from surprise import Dataset, Reader, KNNBasic\n",
    "\n",
    "# Load the MovieLens dataset\n",
    "# Replace 'path/to/ratings.csv' with the actual path to the ratings file\n",
    "ratings_data = pd.read_csv('path/to/ratings.csv')\n",
    "\n",
    "# Create a Reader object\n",
    "reader = Reader(rating_scale=(0.5, 5))\n",
    "\n",
    "# Load the data into the Dataset object\n",
    "data = Dataset.load_from_df(ratings_data[['userId', 'movieId', 'rating']], reader)\n",
    "\n",
    "# Use the KNNBasic algorithm for collaborative filtering\n",
    "algo = KNNBasic()\n",
    "\n",
    "# Train the model\n",
    "trainset = data.build_full_trainset()\n",
    "algo.fit(trainset)\n",
    "\n",
    "# Sample user ID for which we want to make recommendations\n",
    "user_id = 3\n",
    "\n",
    "# Get the list of all movie IDs in the dataset\n",
    "all_movie_ids = ratings_data['movieId'].unique()\n",
    "\n",
    "# Remove the movies that the user has already rated\n",
    "movies_rated_by_user = ratings_data[ratings_data['userId'] == user_id]['movieId'].tolist()\n",
    "movies_to_predict = [movie for movie in all_movie_ids if movie not in movies_rated_by_user]\n",
    "\n",
    "# Make predictions for the movies the user hasn't rated\n",
    "predictions = [algo.predict(user_id, movie) for movie in movies_to_predict]\n",
    "\n",
    "# Sort the predictions in descending order of predicted ratings\n",
    "sorted_predictions = sorted(predictions, key=lambda x: x.est, reverse=True)\n",
    "\n",
    "# Get the top 5 recommended movies\n",
    "top_5_recommendations = [prediction.iid for prediction in sorted_predictions[:5]]\n",
    "\n",
    "print(f\"Top 5 recommended movies for user {user_id}:\")\n",
    "print(top_5_recommendations)\n"
   ]
  },
  {
   "cell_type": "code",
   "execution_count": 5,
   "metadata": {},
   "outputs": [
    {
     "name": "stdout",
     "output_type": "stream",
     "text": [
      "Recommended books for the target user based on the books read:\n",
      "['Book 2', 'Book 3', 'Book 4', 'Book 5']\n"
     ]
    }
   ],
   "source": [
    "# Sample book data in a dictionary (Replace this with your actual dataset)\n",
    "book_data = {\n",
    "    'Book 1': ['Python', 'Data Science', 'Programming'],\n",
    "    'Book 2': ['Python', 'Machine Learning'],\n",
    "    'Book 3': ['Data Science', 'Statistics', 'Python'],\n",
    "    'Book 4': ['Web Development', 'JavaScript'],\n",
    "    'Book 5': ['Python', 'Artificial Intelligence']\n",
    "}\n",
    "\n",
    "# Function to calculate similarity between two lists of tags\n",
    "def calculate_similarity(list1, list2):\n",
    "    common_tags = set(list1) & set(list2)\n",
    "    similarity_score = len(common_tags) / len(set(list1 + list2))\n",
    "    return similarity_score\n",
    "\n",
    "# Function to get book recommendations for a user\n",
    "def get_recommendations(target_user_books, all_books_data):\n",
    "    recommendations = {}\n",
    "    \n",
    "    for book, tags in all_books_data.items():\n",
    "        if book not in target_user_books:\n",
    "            similarity_score = calculate_similarity(target_user_books, tags)\n",
    "            recommendations[book] = similarity_score\n",
    "    \n",
    "    sorted_recommendations = dict(sorted(recommendations.items(), key=lambda x: x[1], reverse=True))\n",
    "    return list(sorted_recommendations.keys())\n",
    "\n",
    "# Sample data for the target user (books read by the person)\n",
    "target_user_books = ['Book 1']\n",
    "\n",
    "# Get recommendations for the target user\n",
    "recommended_books = get_recommendations(target_user_books, book_data)\n",
    "\n",
    "print(f\"Recommended books for the target user based on the books read:\")\n",
    "print(recommended_books)\n"
   ]
  },
  {
   "cell_type": "code",
   "execution_count": null,
   "metadata": {},
   "outputs": [],
   "source": []
  }
 ],
 "metadata": {
  "kernelspec": {
   "display_name": "base",
   "language": "python",
   "name": "python3"
  },
  "language_info": {
   "codemirror_mode": {
    "name": "ipython",
    "version": 3
   },
   "file_extension": ".py",
   "mimetype": "text/x-python",
   "name": "python",
   "nbconvert_exporter": "python",
   "pygments_lexer": "ipython3",
   "version": "3.10.9"
  },
  "orig_nbformat": 4
 },
 "nbformat": 4,
 "nbformat_minor": 2
}

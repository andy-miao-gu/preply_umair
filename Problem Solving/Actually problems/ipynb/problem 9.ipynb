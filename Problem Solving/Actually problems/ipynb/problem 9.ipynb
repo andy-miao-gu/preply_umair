{
 "cells": [
  {
   "cell_type": "code",
   "execution_count": 6,
   "metadata": {},
   "outputs": [
    {
     "name": "stdout",
     "output_type": "stream",
     "text": [
      "30.3$\n"
     ]
    }
   ],
   "source": [
    "product_prices = {\n",
    "    \"Milk\": \"$2.50\",\n",
    "    \"Bread\": \"$3.00\",\n",
    "    \"Eggs (dozen)\": \"$1.80\",\n",
    "    \"Apples (per pound)\": \"$1.25\",\n",
    "    \"Chicken (whole)\": \"$6.50\",\n",
    "    \"Cereal\": \"$4.75\",\n",
    "    \"Orange Juice\": \"$3.25\",\n",
    "    \"Pasta (per pound)\": \"$1.50\",\n",
    "    \"Ground Beef (per pound)\": \"$5.00\",\n",
    "    \"Potatoes (per pound)\": \"$0.75\"\n",
    "}\n",
    "hu=[]\n",
    "for each in product_prices:\n",
    "    product_prices[each]=(eval(product_prices[each][1:]))\n",
    "    hu.append(product_prices[each])\n",
    "sumo=str(sum(hu))\n",
    "print(sumo+\"$\")"
   ]
  },
  {
   "cell_type": "code",
   "execution_count": null,
   "metadata": {},
   "outputs": [],
   "source": []
  }
 ],
 "metadata": {
  "kernelspec": {
   "display_name": "base",
   "language": "python",
   "name": "python3"
  },
  "language_info": {
   "codemirror_mode": {
    "name": "ipython",
    "version": 3
   },
   "file_extension": ".py",
   "mimetype": "text/x-python",
   "name": "python",
   "nbconvert_exporter": "python",
   "pygments_lexer": "ipython3",
   "version": "3.10.9"
  },
  "orig_nbformat": 4
 },
 "nbformat": 4,
 "nbformat_minor": 2
}

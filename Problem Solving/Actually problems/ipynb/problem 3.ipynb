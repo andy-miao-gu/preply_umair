{
 "cells": [
  {
   "cell_type": "code",
   "execution_count": 3,
   "metadata": {},
   "outputs": [
    {
     "data": {
      "text/plain": [
       "'Apple   1.99    Round\\nBanana  0.99    Curved\\nOrange  2.49    Spherical\\nGrapes  3.99    Oval\\nStrawberry  0.25    Conical\\nMango   2.79    Oval\\nWatermelon  5.49    Oval\\nPineapple   2.99    Cylindrical\\nPeach   1.49    Round\\nKiwi    1.89    Oval\\n'"
      ]
     },
     "execution_count": 3,
     "metadata": {},
     "output_type": "execute_result"
    }
   ],
   "source": [
    "### convert all to list\n",
    "w = open(\"cat.txt\")\n",
    "data = w.read()\n",
    "data\n"
   ]
  },
  {
   "cell_type": "code",
   "execution_count": 4,
   "metadata": {},
   "outputs": [
    {
     "data": {
      "text/plain": [
       "['Apple   1.99    Round',\n",
       " 'Banana  0.99    Curved',\n",
       " 'Orange  2.49    Spherical',\n",
       " 'Grapes  3.99    Oval',\n",
       " 'Strawberry  0.25    Conical',\n",
       " 'Mango   2.79    Oval',\n",
       " 'Watermelon  5.49    Oval',\n",
       " 'Pineapple   2.99    Cylindrical',\n",
       " 'Peach   1.49    Round',\n",
       " 'Kiwi    1.89    Oval',\n",
       " '']"
      ]
     },
     "execution_count": 4,
     "metadata": {},
     "output_type": "execute_result"
    }
   ],
   "source": [
    "data.split(\"\\n\")"
   ]
  },
  {
   "cell_type": "code",
   "execution_count": 27,
   "metadata": {},
   "outputs": [
    {
     "ename": "SyntaxError",
     "evalue": "invalid syntax (2072083160.py, line 3)",
     "output_type": "error",
     "traceback": [
      "\u001b[0;36m  Cell \u001b[0;32mIn[27], line 3\u001b[0;36m\u001b[0m\n\u001b[0;31m    orange = each.split(\"  \")[:-]\u001b[0m\n\u001b[0m                                ^\u001b[0m\n\u001b[0;31mSyntaxError\u001b[0m\u001b[0;31m:\u001b[0m invalid syntax\n"
     ]
    }
   ],
   "source": [
    "fruits, price, shape = [],[],[]\n",
    "for each in data.split(\"\\n\"):\n",
    "    orange = each.split(\"  \")[:-]\n",
    "    print(orange)"
   ]
  },
  {
   "cell_type": "code",
   "execution_count": 28,
   "metadata": {},
   "outputs": [],
   "source": [
    "#\n",
    "import json\n",
    "\n",
    "# Sample fruit data in a dictionary\n",
    "fruit_data = [\n",
    "    {\n",
    "        \"name\": \"Apple\",\n",
    "        \"price\": 1.99,\n",
    "        \"shape\": \"Round\"\n",
    "    },\n",
    "    {\n",
    "        \"name\": \"Banana\",\n",
    "        \"price\": 0.99,\n",
    "        \"shape\": \"Curved\"\n",
    "    },\n",
    "    {\n",
    "        \"name\": \"Orange\",\n",
    "        \"price\": 2.49,\n",
    "        \"shape\": \"Spherical\"\n",
    "    },\n",
    "    {\n",
    "        \"name\": \"Grapes\",\n",
    "        \"price\": 3.99,\n",
    "        \"shape\": \"Oval\"\n",
    "    },\n",
    "    {\n",
    "        \"name\": \"Strawberry\",\n",
    "        \"price\": 0.25,\n",
    "        \"shape\": \"Conical\"\n",
    "    },\n",
    "    {\n",
    "        \"name\": \"Mango\",\n",
    "        \"price\": 2.79,\n",
    "        \"shape\": \"Oval\"\n",
    "    },\n",
    "    {\n",
    "        \"name\": \"Watermelon\",\n",
    "        \"price\": 5.49,\n",
    "        \"shape\": \"Oval\"\n",
    "    },\n",
    "    {\n",
    "        \"name\": \"Pineapple\",\n",
    "        \"price\": 2.99,\n",
    "        \"shape\": \"Cylindrical\"\n",
    "    },\n",
    "    {\n",
    "        \"name\": \"Peach\",\n",
    "        \"price\": 1.49,\n",
    "        \"shape\": \"Round\"\n",
    "    },\n",
    "    {\n",
    "        \"name\": \"Kiwi\",\n",
    "        \"price\": 1.89,\n",
    "        \"shape\": \"Oval\"\n",
    "    }\n",
    "]\n",
    "\n",
    "# Save the fruit data as a JSON file\n",
    "with open('fruits.json', 'w') as json_file:\n",
    "    json.dump(fruit_data, json_file, indent=4)\n"
   ]
  },
  {
   "cell_type": "code",
   "execution_count": 33,
   "metadata": {},
   "outputs": [],
   "source": [
    "with open('fruits.json', 'r') as json_file:\n",
    "    # Load the JSON data from the file\n",
    "    blarh = json.load(json_file)"
   ]
  },
  {
   "cell_type": "markdown",
   "metadata": {},
   "source": []
  },
  {
   "cell_type": "code",
   "execution_count": 45,
   "metadata": {},
   "outputs": [
    {
     "name": "stdout",
     "output_type": "stream",
     "text": [
      "the name of the fruit is Apple and price is 1.99 and shape is Round\n",
      "the name of the fruit is Banana and price is 0.99 and shape is Curved\n",
      "the name of the fruit is Orange and price is 2.49 and shape is Spherical\n",
      "the name of the fruit is Grapes and price is 3.99 and shape is Oval\n",
      "the name of the fruit is Strawberry and price is 0.25 and shape is Conical\n",
      "the name of the fruit is Mango and price is 2.79 and shape is Oval\n",
      "the name of the fruit is Watermelon and price is 5.49 and shape is Oval\n",
      "the name of the fruit is Pineapple and price is 2.99 and shape is Cylindrical\n",
      "the name of the fruit is Peach and price is 1.49 and shape is Round\n",
      "the name of the fruit is Kiwi and price is 1.89 and shape is Oval\n"
     ]
    }
   ],
   "source": [
    "for pyth in blarh:\n",
    "    name=pyth[\"name\"]\n",
    "    price=pyth[\"price\"]\n",
    "    shape=pyth[\"shape\"]\n",
    "    print(\"the name of the fruit is\",name,\"and price is\",price,\"and shape is\",shape)\n"
   ]
  },
  {
   "cell_type": "markdown",
   "metadata": {},
   "source": [
    " the name of the fruit is Apple and price is 1.99 and shape is Round\n",
    "the name of the fruit is Banana and price is 0.99 and shape is Curved\n",
    "the name of the fruit is Orange and price is 2.49 and shape is Spherical\n",
    "the name of the fruit is Grapes and price is 3.99 and shape is Oval\n",
    "the name of the fruit is Strawberry and price is 0.25 and shape is Conical\n",
    "the name of the fruit is Mango and price is 2.79 and shape is Oval\n",
    "the name of the fruit is Watermelon and price is 5.49 and shape is Oval\n",
    "the name of the fruit is Pineapple and price is 2.99 and shape is Cylindrical\n",
    "the name of the fruit is Peach and price is 1.49 and shape is Round\n",
    "the name of the fruit is Kiwi and price is 1.89 and shape is Oval"
   ]
  },
  {
   "cell_type": "code",
   "execution_count": 49,
   "metadata": {},
   "outputs": [],
   "source": [
    "data = \"\"\n",
    "s = \" \"\n",
    "new_lin = \"\\n\"\n",
    "for each in blarh:\n",
    "    data+= each['name']+s+str(each['price'])+s+each['shape']+new_lin\n",
    "    \n"
   ]
  },
  {
   "cell_type": "code",
   "execution_count": 51,
   "metadata": {},
   "outputs": [
    {
     "name": "stdout",
     "output_type": "stream",
     "text": [
      "Apple 1.99 Round\n",
      "Banana 0.99 Curved\n",
      "Orange 2.49 Spherical\n",
      "Grapes 3.99 Oval\n",
      "Strawberry 0.25 Conical\n",
      "Mango 2.79 Oval\n",
      "Watermelon 5.49 Oval\n",
      "Pineapple 2.99 Cylindrical\n",
      "Peach 1.49 Round\n",
      "Kiwi 1.89 Oval\n",
      "\n"
     ]
    }
   ],
   "source": [
    "print(data)"
   ]
  },
  {
   "cell_type": "code",
   "execution_count": 52,
   "metadata": {},
   "outputs": [
    {
     "data": {
      "text/plain": [
       "'hello world'"
      ]
     },
     "execution_count": 52,
     "metadata": {},
     "output_type": "execute_result"
    }
   ],
   "source": [
    "\"hello world\""
   ]
  },
  {
   "cell_type": "code",
   "execution_count": 53,
   "metadata": {},
   "outputs": [
    {
     "name": "stdout",
     "output_type": "stream",
     "text": [
      "hello world\n"
     ]
    }
   ],
   "source": [
    "print(\"hello world\")"
   ]
  },
  {
   "cell_type": "markdown",
   "metadata": {},
   "source": []
  },
  {
   "cell_type": "code",
   "execution_count": 54,
   "metadata": {},
   "outputs": [
    {
     "data": {
      "text/plain": [
       "[{'name': 'Apple', 'price': 1.99, 'shape': 'Round'},\n",
       " {'name': 'Banana', 'price': 0.99, 'shape': 'Curved'},\n",
       " {'name': 'Orange', 'price': 2.49, 'shape': 'Spherical'},\n",
       " {'name': 'Grapes', 'price': 3.99, 'shape': 'Oval'},\n",
       " {'name': 'Strawberry', 'price': 0.25, 'shape': 'Conical'},\n",
       " {'name': 'Mango', 'price': 2.79, 'shape': 'Oval'},\n",
       " {'name': 'Watermelon', 'price': 5.49, 'shape': 'Oval'},\n",
       " {'name': 'Pineapple', 'price': 2.99, 'shape': 'Cylindrical'},\n",
       " {'name': 'Peach', 'price': 1.49, 'shape': 'Round'},\n",
       " {'name': 'Kiwi', 'price': 1.89, 'shape': 'Oval'}]"
      ]
     },
     "execution_count": 54,
     "metadata": {},
     "output_type": "execute_result"
    }
   ],
   "source": [
    "blarh"
   ]
  },
  {
   "cell_type": "markdown",
   "metadata": {},
   "source": []
  },
  {
   "cell_type": "markdown",
   "metadata": {},
   "source": []
  },
  {
   "cell_type": "markdown",
   "metadata": {},
   "source": []
  },
  {
   "cell_type": "markdown",
   "metadata": {},
   "source": []
  },
  {
   "cell_type": "markdown",
   "metadata": {},
   "source": []
  },
  {
   "cell_type": "markdown",
   "metadata": {},
   "source": []
  },
  {
   "cell_type": "markdown",
   "metadata": {},
   "source": []
  },
  {
   "cell_type": "markdown",
   "metadata": {},
   "source": []
  },
  {
   "cell_type": "code",
   "execution_count": 60,
   "metadata": {},
   "outputs": [
    {
     "data": {
      "text/plain": [
       "['Apple 1.99 Round',\n",
       " 'Banana 0.99 Curved',\n",
       " 'Orange 2.49 Spherical',\n",
       " 'Grapes 3.99 Oval',\n",
       " 'Strawberry 0.25 Conical',\n",
       " 'Mango 2.79 Oval',\n",
       " 'Watermelon 5.49 Oval',\n",
       " 'Pineapple 2.99 Cylindrical',\n",
       " 'Peach 1.49 Round',\n",
       " 'Kiwi 1.89 Oval',\n",
       " '']"
      ]
     },
     "execution_count": 60,
     "metadata": {},
     "output_type": "execute_result"
    }
   ],
   "source": []
  },
  {
   "cell_type": "code",
   "execution_count": 66,
   "metadata": {},
   "outputs": [
    {
     "name": "stdout",
     "output_type": "stream",
     "text": [
      "Apple 1.99 Round\n",
      "Banana 0.99 Curved\n",
      "Orange 2.49 Spherical\n",
      "Grapes 3.99 Oval\n",
      "Strawberry 0.25 Conical\n",
      "Mango 2.79 Oval\n",
      "Watermelon 5.49 Oval\n",
      "Pineapple 2.99 Cylindrical\n",
      "Peach 1.49 Round\n",
      "Kiwi 1.89 Oval\n",
      "\n"
     ]
    }
   ],
   "source": [
    "## make list\n",
    "listi=[]\n",
    "## run for loop\n",
    "for g in data.split(\"\\n\"):\n",
    "    # temp ={}\n",
    "    tem['name'] = g.split\n",
    "\n",
    "### make temp dict\n",
    "## update dictionary with dt"
   ]
  },
  {
   "cell_type": "code",
   "execution_count": 67,
   "metadata": {},
   "outputs": [
    {
     "name": "stdout",
     "output_type": "stream",
     "text": [
      "Greetings!\n"
     ]
    }
   ],
   "source": [
    "spam = input(\"say a number\")\n",
    "if spam == 1:\n",
    "    print(\"hello\")\n",
    "if spam == 2:\n",
    "    print(\"Howdy\")\n",
    "else:\n",
    "    print(\"Greetings!\")"
   ]
  },
  {
   "cell_type": "code",
   "execution_count": 72,
   "metadata": {},
   "outputs": [
    {
     "name": "stdout",
     "output_type": "stream",
     "text": [
      "0\n",
      "1\n",
      "2\n",
      "3\n",
      "4\n",
      "5\n",
      "6\n",
      "7\n",
      "8\n",
      "9\n",
      "10\n"
     ]
    }
   ],
   "source": [
    "for each in range(11):\n",
    "    print(each)"
   ]
  },
  {
   "cell_type": "code",
   "execution_count": 2,
   "metadata": {},
   "outputs": [
    {
     "name": "stdout",
     "output_type": "stream",
     "text": [
      "1\n",
      "2\n",
      "3\n",
      "4\n",
      "5\n",
      "6\n",
      "7\n",
      "8\n",
      "9\n",
      "10\n"
     ]
    }
   ],
   "source": [
    "x=0\n",
    "while x < 10:\n",
    "    x=x+1\n",
    "    print(x)"
   ]
  },
  {
   "cell_type": "code",
   "execution_count": 4,
   "metadata": {},
   "outputs": [
    {
     "name": "stdout",
     "output_type": "stream",
     "text": [
      "10\n"
     ]
    }
   ],
   "source": [
    "def bacon(spam):\n",
    "    print(spam)\n",
    "    pass\n",
    "bacon(10)"
   ]
  },
  {
   "cell_type": "markdown",
   "metadata": {},
   "source": [
    "Write a function that takes a list value as an argument and returns\n",
    "a string with all the items separated by a comma and a space, with and\n",
    "inserted before the last item. For example, passing the previous spam list to\n",
    "the function would return 'apples, bananas, tofu, and cats'. But your function should be able to work with any list value passed to it."
   ]
  },
  {
   "cell_type": "markdown",
   "metadata": {},
   "source": [
    "spam = ['apples', 'bananas', 'tofu', 'cats']"
   ]
  },
  {
   "cell_type": "code",
   "execution_count": 5,
   "metadata": {},
   "outputs": [],
   "source": [
    "spam = ['apples', 'bananas', 'tofu', 'cats']"
   ]
  },
  {
   "cell_type": "code",
   "execution_count": 8,
   "metadata": {},
   "outputs": [],
   "source": [
    "def function(argument):\n",
    "    s = \"\"\n",
    "    for eager in argument:\n",
    "        s = s + \"  \"+eager\n",
    "    return s"
   ]
  },
  {
   "cell_type": "code",
   "execution_count": 12,
   "metadata": {},
   "outputs": [
    {
     "data": {
      "text/plain": [
       "'  apples  bananas  tofu  cats'"
      ]
     },
     "execution_count": 12,
     "metadata": {},
     "output_type": "execute_result"
    }
   ],
   "source": [
    "function(spam)"
   ]
  },
  {
   "cell_type": "code",
   "execution_count": 10,
   "metadata": {},
   "outputs": [],
   "source": [
    "grid = [['.', '.', '.', '.', '.', '.'],\n",
    " ['.', 'O', 'O', '.', '.', '.'],\n",
    " ['O', 'O', 'O', 'O', '.', '.'],\n",
    " ['O', 'O', 'O', 'O', 'O', '.'],\n",
    " ['.', 'O', 'O', 'O', 'O', 'O'],\n",
    " ['O', 'O', 'O', 'O', 'O', '.'],\n",
    " ['O', 'O', 'O', 'O', '.', '.'],\n",
    " ['.', 'O', 'O', '.', '.', '.'],\n",
    " ['.', '.', '.', '.', '.', '.']]"
   ]
  },
  {
   "cell_type": "code",
   "execution_count": 15,
   "metadata": {},
   "outputs": [],
   "source": [
    "def function100(argument100):\n",
    "    s = \"\"\n",
    "    for each in argument100:\n",
    "        for i in each:\n",
    "             s = s + \"  \"+i\n",
    "        s = s + \"\\n\"\n",
    "    return s"
   ]
  },
  {
   "cell_type": "code",
   "execution_count": 17,
   "metadata": {},
   "outputs": [
    {
     "name": "stdout",
     "output_type": "stream",
     "text": [
      "  .  .  .  .  .  .\n",
      "  .  O  O  .  .  .\n",
      "  O  O  O  O  .  .\n",
      "  O  O  O  O  O  .\n",
      "  .  O  O  O  O  O\n",
      "  O  O  O  O  O  .\n",
      "  O  O  O  O  .  .\n",
      "  .  O  O  .  .  .\n",
      "  .  .  .  .  .  .\n",
      "\n"
     ]
    }
   ],
   "source": [
    "s = function100(grid)\n",
    "print(s)"
   ]
  },
  {
   "cell_type": "code",
   "execution_count": null,
   "metadata": {},
   "outputs": [],
   "source": []
  }
 ],
 "metadata": {
  "kernelspec": {
   "display_name": "base",
   "language": "python",
   "name": "python3"
  },
  "language_info": {
   "codemirror_mode": {
    "name": "ipython",
    "version": 3
   },
   "file_extension": ".py",
   "mimetype": "text/x-python",
   "name": "python",
   "nbconvert_exporter": "python",
   "pygments_lexer": "ipython3",
   "version": "3.10.9"
  },
  "orig_nbformat": 4
 },
 "nbformat": 4,
 "nbformat_minor": 2
}

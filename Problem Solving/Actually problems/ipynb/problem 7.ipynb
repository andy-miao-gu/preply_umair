{
 "cells": [
  {
   "cell_type": "code",
   "execution_count": 1,
   "metadata": {},
   "outputs": [
    {
     "name": "stdout",
     "output_type": "stream",
     "text": [
      "6400.0\n"
     ]
    }
   ],
   "source": [
    "Problem=\"\"\"A bacterial culture starts with 100 bacteria in a laboratory environment. \n",
    "The bacteria double in number every 30 minutes. How many bacteria will be present after \n",
    "3 hours (180 minutes)?\"\"\"\n",
    "bacteria=100\n",
    "double=30\n",
    "minu=180\n",
    "total_bacteria=bacteria*(2**(minu/double))\n",
    "\n",
    "print(total_bacteria)"
   ]
  },
  {
   "cell_type": "code",
   "execution_count": null,
   "metadata": {},
   "outputs": [],
   "source": []
  }
 ],
 "metadata": {
  "kernelspec": {
   "display_name": "base",
   "language": "python",
   "name": "python3"
  },
  "language_info": {
   "codemirror_mode": {
    "name": "ipython",
    "version": 3
   },
   "file_extension": ".py",
   "mimetype": "text/x-python",
   "name": "python",
   "nbconvert_exporter": "python",
   "pygments_lexer": "ipython3",
   "version": "3.10.9"
  },
  "orig_nbformat": 4
 },
 "nbformat": 4,
 "nbformat_minor": 2
}

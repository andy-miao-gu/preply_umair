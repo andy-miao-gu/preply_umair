{
 "cells": [
  {
   "cell_type": "markdown",
   "metadata": {},
   "source": [
    "Problem:\n",
    "\n",
    "You are conducting a science experiment involving a gas sample and need to determine its volume. You have the following information:\n",
    "\n",
    "The mass of the gas is 75 grams.\n",
    "The density of the gas is 0.6 grams per cubic centimeter (g/cm³)."
   ]
  },
  {
   "cell_type": "code",
   "execution_count": 2,
   "metadata": {},
   "outputs": [
    {
     "name": "stdout",
     "output_type": "stream",
     "text": [
      "125.0\n"
     ]
    }
   ],
   "source": [
    "gram=75\n",
    "cm=0.6\n",
    "volume=gram/cm\n",
    "print(volume)"
   ]
  },
  {
   "cell_type": "markdown",
   "metadata": {},
   "source": [
    "You are preparing to fill a rectangular fish tank with water for your new pet fish. The tank has the following dimensions:\n",
    "\n",
    "Length: 24 inches\n",
    "Width: 12 inches\n",
    "Height: 16 inches"
   ]
  },
  {
   "cell_type": "code",
   "execution_count": 4,
   "metadata": {},
   "outputs": [
    {
     "name": "stdout",
     "output_type": "stream",
     "text": [
      "4608\n"
     ]
    }
   ],
   "source": [
    "L=24\n",
    "W=12\n",
    "H=16\n",
    "volumey=L*W*H\n",
    "print(volumey)"
   ]
  },
  {
   "cell_type": "markdown",
   "metadata": {},
   "source": [
    "problem 3\n",
    "\n",
    "\n",
    "You are planning a road trip and want to calculate the time it will take to reach your destination. You have the following information:\n",
    "\n",
    "The distance to your destination is 300 miles.\n",
    "You will be driving at a constant speed of 60 miles per hour (mph)."
   ]
  },
  {
   "cell_type": "code",
   "execution_count": 7,
   "metadata": {},
   "outputs": [
    {
     "name": "stdout",
     "output_type": "stream",
     "text": [
      "30.0\n"
     ]
    }
   ],
   "source": [
    "mile=300\n",
    "MPH=10\n",
    "HTDT=mile/MPH\n",
    "print(HTDT)"
   ]
  },
  {
   "cell_type": "markdown",
   "metadata": {},
   "source": [
    "Problem 4:\n",
    "\n",
    "You have a sample of water with a mass of 500 grams. You also have measured the volume of the water to be 500 milliliters (mL)."
   ]
  },
  {
   "cell_type": "code",
   "execution_count": 8,
   "metadata": {},
   "outputs": [
    {
     "name": "stdout",
     "output_type": "stream",
     "text": [
      "1.0\n"
     ]
    }
   ],
   "source": [
    "mass=500\n",
    "vol=500\n",
    "d=mass/vol\n",
    "print(d)"
   ]
  },
  {
   "cell_type": "code",
   "execution_count": null,
   "metadata": {},
   "outputs": [],
   "source": []
  }
 ],
 "metadata": {
  "kernelspec": {
   "display_name": "base",
   "language": "python",
   "name": "python3"
  },
  "language_info": {
   "codemirror_mode": {
    "name": "ipython",
    "version": 3
   },
   "file_extension": ".py",
   "mimetype": "text/x-python",
   "name": "python",
   "nbconvert_exporter": "python",
   "pygments_lexer": "ipython3",
   "version": "3.10.9"
  },
  "orig_nbformat": 4
 },
 "nbformat": 4,
 "nbformat_minor": 2
}

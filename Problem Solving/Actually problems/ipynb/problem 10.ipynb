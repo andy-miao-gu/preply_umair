{
 "cells": [
  {
   "cell_type": "markdown",
   "metadata": {},
   "source": [
    "1. **Average Speed**: A car travels 120 miles in 2 hours. Calculate its average speed."
   ]
  },
  {
   "cell_type": "code",
   "execution_count": 2,
   "metadata": {},
   "outputs": [],
   "source": [
    "mpth=120\n",
    "hour=2\n",
    "average_speed=mpth/hour"
   ]
  },
  {
   "cell_type": "markdown",
   "metadata": {},
   "source": [
    "2. **Time and Distance**: If a car is traveling at a speed of 60 miles per hour, how long will it take to cover a distance of 180 miles"
   ]
  },
  {
   "cell_type": "code",
   "execution_count": 1,
   "metadata": {},
   "outputs": [],
   "source": [
    "mph=60\n",
    "distance=180\n",
    "time=distance/mph"
   ]
  },
  {
   "cell_type": "markdown",
   "metadata": {},
   "source": [
    "\n",
    "3. **Speed and Time**: A car travels 240 miles in 4 hours. What is its speed in miles per hour?"
   ]
  },
  {
   "cell_type": "code",
   "execution_count": 3,
   "metadata": {},
   "outputs": [],
   "source": [
    "mpfh=240\n",
    "hour=4\n",
    "average_speed=mpfh/hour"
   ]
  },
  {
   "cell_type": "markdown",
   "metadata": {},
   "source": [
    "4. **Distance Traveled**: If a car travels at a constant speed of 70 km/h for 3 hours, how far does it travel?"
   ]
  },
  {
   "cell_type": "code",
   "execution_count": null,
   "metadata": {},
   "outputs": [],
   "source": [
    "kph=70\n",
    "hours=3\n",
    "CONSTANT_DIS=kph*hours"
   ]
  },
  {
   "cell_type": "markdown",
   "metadata": {},
   "source": [
    "### we have a tiny car of m2=10kg and v2 = ?\n",
    "\n",
    "### a big truck of m1 = 200kg  , v1 = 10 m /s\n",
    "\n",
    "\n",
    "# ruck is comign right side and car is coming from left side\n",
    "\n",
    "# and someone say oh noooo\n",
    "\n",
    "### colidide,, after it what will be the with what velcity car will go away\n",
    "\n",
    "# m1* v1 = m2 * v2"
   ]
  },
  {
   "cell_type": "code",
   "execution_count": 7,
   "metadata": {},
   "outputs": [
    {
     "data": {
      "text/plain": [
       "10.0"
      ]
     },
     "execution_count": 7,
     "metadata": {},
     "output_type": "execute_result"
    }
   ],
   "source": [
    "m1=10\n",
    "v1=10\n",
    "m2=10\n",
    "v2=v1*m1/m2\n",
    "v2"
   ]
  },
  {
   "cell_type": "code",
   "execution_count": null,
   "metadata": {},
   "outputs": [],
   "source": []
  }
 ],
 "metadata": {
  "kernelspec": {
   "display_name": "base",
   "language": "python",
   "name": "python3"
  },
  "language_info": {
   "codemirror_mode": {
    "name": "ipython",
    "version": 3
   },
   "file_extension": ".py",
   "mimetype": "text/x-python",
   "name": "python",
   "nbconvert_exporter": "python",
   "pygments_lexer": "ipython3",
   "version": "3.10.9"
  },
  "orig_nbformat": 4
 },
 "nbformat": 4,
 "nbformat_minor": 2
}

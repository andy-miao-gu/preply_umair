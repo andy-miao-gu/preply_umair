{
 "cells": [
  {
   "cell_type": "code",
   "execution_count": 1,
   "id": "78bcbb39",
   "metadata": {},
   "outputs": [
    {
     "name": "stdout",
     "output_type": "stream",
     "text": [
      "10\n"
     ]
    }
   ],
   "source": [
    "print(abs(-10))"
   ]
  },
  {
   "cell_type": "code",
   "execution_count": 2,
   "id": "a0251b36",
   "metadata": {},
   "outputs": [
    {
     "name": "stdout",
     "output_type": "stream",
     "text": [
      "False\n"
     ]
    }
   ],
   "source": [
    "print(bool(0))"
   ]
  },
  {
   "cell_type": "code",
   "execution_count": 3,
   "id": "72bb34aa",
   "metadata": {},
   "outputs": [
    {
     "name": "stdout",
     "output_type": "stream",
     "text": [
      "True\n",
      "True\n"
     ]
    }
   ],
   "source": [
    "### make a list of number of 0 and 1 and then onvert all of the to bool using for looop\n",
    "lst = list((0,1))\n",
    "for each in lst:\n",
    "    print(bool(lst))"
   ]
  },
  {
   "cell_type": "code",
   "execution_count": 4,
   "id": "38df0b0c",
   "metadata": {},
   "outputs": [
    {
     "name": "stdout",
     "output_type": "stream",
     "text": [
      "10\n",
      "20\n",
      "30\n",
      "8\n"
     ]
    }
   ],
   "source": [
    "x = [10,20,30,2,3,5,6,7,8]\n",
    "# using for loop print all those numbers which are greater than 7\n",
    "for each in x:\n",
    "    if each > 7:\n",
    "        print(each)\n",
    "    else:\n",
    "        pass"
   ]
  },
  {
   "cell_type": "code",
   "execution_count": 4,
   "id": "d2f9672a",
   "metadata": {},
   "outputs": [
    {
     "name": "stdout",
     "output_type": "stream",
     "text": [
      "[1, 2, 3, 4, 324, 324, 3, 4, 32, 5, 55, 55, 33, 556, 73, 3, 4, 65, 74, 33, 54, 2, 3, 2, 6, 2, 5]\n"
     ]
    }
   ],
   "source": [
    "x = [1,2,3,4,324,324,3,4,32,5,55]\n",
    "y = [55,33,556,73,3,4,65,74,33,54,2,3,2,6,2,5]\n",
    "z = []\n",
    "###### put all x and y numbers in z\n",
    "for each in x:\n",
    "    z.append(each)\n",
    "for each in y:\n",
    "    z.append(each)\n",
    "print(z)"
   ]
  },
  {
   "cell_type": "code",
   "execution_count": 5,
   "id": "b9ed799a",
   "metadata": {},
   "outputs": [],
   "source": [
    "x.extend(y)"
   ]
  },
  {
   "cell_type": "code",
   "execution_count": 6,
   "id": "735e9df6",
   "metadata": {},
   "outputs": [
    {
     "data": {
      "text/plain": [
       "[1,\n",
       " 2,\n",
       " 3,\n",
       " 4,\n",
       " 324,\n",
       " 324,\n",
       " 3,\n",
       " 4,\n",
       " 32,\n",
       " 5,\n",
       " 55,\n",
       " 55,\n",
       " 33,\n",
       " 556,\n",
       " 73,\n",
       " 3,\n",
       " 4,\n",
       " 65,\n",
       " 74,\n",
       " 33,\n",
       " 54,\n",
       " 2,\n",
       " 3,\n",
       " 2,\n",
       " 6,\n",
       " 2,\n",
       " 5]"
      ]
     },
     "execution_count": 6,
     "metadata": {},
     "output_type": "execute_result"
    }
   ],
   "source": [
    "x"
   ]
  },
  {
   "cell_type": "code",
   "execution_count": 8,
   "id": "c83a0e85",
   "metadata": {},
   "outputs": [
    {
     "name": "stdout",
     "output_type": "stream",
     "text": [
      "[1, 2, 3, 4, 324, 324, 3, 4, 32, 5, 55, 55, 33, 556, 73, 3, 4, 65, 74, 33, 54, 2, 3, 2, 6, 2, 5, 1, 2, 3, 4, 324, 324, 3, 4, 32, 5, 55, 55, 33, 556, 73, 3, 4, 65, 74, 33, 54, 2, 3, 2, 6, 2, 5, 55, 33, 556, 73, 3, 4, 65, 74, 33, 54, 2, 3, 2, 6, 2, 5]\n"
     ]
    }
   ],
   "source": [
    "z.extend(x)\n",
    "z.extend(y)\n",
    "print(z)"
   ]
  },
  {
   "cell_type": "code",
   "execution_count": 11,
   "id": "7eb17572",
   "metadata": {},
   "outputs": [
    {
     "name": "stdout",
     "output_type": "stream",
     "text": [
      "('red', 'pink', 'orange', 'purple')\n"
     ]
    }
   ],
   "source": [
    "a = (\"pink\",\"orange\",\"purple\")\n",
    "# can you add \"red in a\"\n",
    "a = list(a)\n",
    "a.insert(0,\"red\")\n",
    "a = tuple(a)\n",
    "print(a)"
   ]
  },
  {
   "cell_type": "code",
   "execution_count": 18,
   "id": "11462088",
   "metadata": {},
   "outputs": [
    {
     "name": "stdout",
     "output_type": "stream",
     "text": [
      "['mango', 'orange', 'banana']\n",
      "mango \n",
      "mango orange \n",
      "mango orange banana \n"
     ]
    }
   ],
   "source": [
    "x = \"mango apple orange banana\"\n",
    "# please remove apple from x\n",
    "x = x.split(\" \")\n",
    "del(x[1])\n",
    "print(x)\n",
    "s = \"\"\n",
    "for each in x:\n",
    "    s += each+\" \"\n",
    "    print(s)"
   ]
  },
  {
   "cell_type": "code",
   "execution_count": 25,
   "id": "21e85802",
   "metadata": {
    "scrolled": true
   },
   "outputs": [
    {
     "data": {
      "text/plain": [
       "['apple', 'mango', 'orange', 'banana']"
      ]
     },
     "execution_count": 25,
     "metadata": {},
     "output_type": "execute_result"
    }
   ],
   "source": [
    "### in a list of fruits remove if anu fruits is appeared more than 1\n",
    "x = [\"apple\",\"orange\",\"orange\",\"orange\",\"apple\",\"mango\",\"banana\"]\n",
    "x = set(x)\n",
    "list(x)"
   ]
  },
  {
   "cell_type": "code",
   "execution_count": 6,
   "id": "a48f4852",
   "metadata": {},
   "outputs": [
    {
     "name": "stdout",
     "output_type": "stream",
     "text": [
      "please enter your between 0 to 3 2\n",
      "wrong False\n"
     ]
    }
   ],
   "source": [
    "# make a small game to guess ranom number\n",
    "from random import randint\n",
    "x = randint(0,3)\n",
    "y = int(input(\"please enter your between 0 to 3 \"))\n",
    "if x == y:\n",
    "    print(\"right\",True)\n",
    "else:\n",
    "    print(\"wrong\",False)"
   ]
  },
  {
   "cell_type": "code",
   "execution_count": 3,
   "id": "032573d5",
   "metadata": {},
   "outputs": [
    {
     "name": "stdout",
     "output_type": "stream",
     "text": [
      "Guess a number between 1 and 100: 50\n",
      "Too low! Try again.\n",
      "Guess a number between 1 and 100: 75\n",
      "Too low! Try again.\n",
      "Guess a number between 1 and 100: 89\n",
      "Congratulations, you guessed the number in 3 guesses!\n"
     ]
    }
   ],
   "source": [
    " import random\n",
    "\n",
    "# Generate a random number between 1 and 100\n",
    "number = random.randint(1, 100)\n",
    "\n",
    "# Keep track of the number of guesses\n",
    "num_guesses = 0\n",
    "\n",
    "# Loop until the user guesses the correct number\n",
    "while True:\n",
    "    # Get the user's guess\n",
    "    guess = int(input(\"Guess a number between 1 and 100: \"))\n",
    "    \n",
    "    # Increment the number of guesses\n",
    "    num_guesses += 1\n",
    "    \n",
    "    # Check if the guess is correct\n",
    "    if guess == number:\n",
    "        print(\"Congratulations, you guessed the number in\", num_guesses, \"guesses!\")\n",
    "        break\n",
    "    elif guess < number:\n",
    "        print(\"Too low! Try again.\")\n",
    "    else:\n",
    "        print(\"Too high! Try again.\")"
   ]
  },
  {
   "cell_type": "code",
   "execution_count": 5,
   "id": "5451bcf3",
   "metadata": {},
   "outputs": [
    {
     "ename": "Terminator",
     "evalue": "",
     "output_type": "error",
     "traceback": [
      "\u001b[0;31m---------------------------------------------------------------------------\u001b[0m",
      "\u001b[0;31mTerminator\u001b[0m                                Traceback (most recent call last)",
      "\u001b[0;32m/var/folders/0k/rfc7l8w10vg2gy6fqthn9r9r0000gn/T/ipykernel_49901/2093173521.py\u001b[0m in \u001b[0;36m<module>\u001b[0;34m\u001b[0m\n\u001b[1;32m      2\u001b[0m \u001b[0;34m\u001b[0m\u001b[0m\n\u001b[1;32m      3\u001b[0m \u001b[0;31m# Create a new Turtle object\u001b[0m\u001b[0;34m\u001b[0m\u001b[0;34m\u001b[0m\u001b[0m\n\u001b[0;32m----> 4\u001b[0;31m \u001b[0mt\u001b[0m \u001b[0;34m=\u001b[0m \u001b[0mturtle\u001b[0m\u001b[0;34m.\u001b[0m\u001b[0mTurtle\u001b[0m\u001b[0;34m(\u001b[0m\u001b[0;34m)\u001b[0m\u001b[0;34m\u001b[0m\u001b[0;34m\u001b[0m\u001b[0m\n\u001b[0m\u001b[1;32m      5\u001b[0m \u001b[0;34m\u001b[0m\u001b[0m\n\u001b[1;32m      6\u001b[0m \u001b[0;31m# Set the turtle's speed and pen color\u001b[0m\u001b[0;34m\u001b[0m\u001b[0;34m\u001b[0m\u001b[0m\n",
      "\u001b[0;32m~/opt/anaconda3/lib/python3.9/turtle.py\u001b[0m in \u001b[0;36m__init__\u001b[0;34m(self, shape, undobuffersize, visible)\u001b[0m\n\u001b[1;32m   3813\u001b[0m         \u001b[0;32mif\u001b[0m \u001b[0mTurtle\u001b[0m\u001b[0;34m.\u001b[0m\u001b[0m_screen\u001b[0m \u001b[0;32mis\u001b[0m \u001b[0;32mNone\u001b[0m\u001b[0;34m:\u001b[0m\u001b[0;34m\u001b[0m\u001b[0;34m\u001b[0m\u001b[0m\n\u001b[1;32m   3814\u001b[0m             \u001b[0mTurtle\u001b[0m\u001b[0;34m.\u001b[0m\u001b[0m_screen\u001b[0m \u001b[0;34m=\u001b[0m \u001b[0mScreen\u001b[0m\u001b[0;34m(\u001b[0m\u001b[0;34m)\u001b[0m\u001b[0;34m\u001b[0m\u001b[0;34m\u001b[0m\u001b[0m\n\u001b[0;32m-> 3815\u001b[0;31m         RawTurtle.__init__(self, Turtle._screen,\n\u001b[0m\u001b[1;32m   3816\u001b[0m                            \u001b[0mshape\u001b[0m\u001b[0;34m=\u001b[0m\u001b[0mshape\u001b[0m\u001b[0;34m,\u001b[0m\u001b[0;34m\u001b[0m\u001b[0;34m\u001b[0m\u001b[0m\n\u001b[1;32m   3817\u001b[0m                            \u001b[0mundobuffersize\u001b[0m\u001b[0;34m=\u001b[0m\u001b[0mundobuffersize\u001b[0m\u001b[0;34m,\u001b[0m\u001b[0;34m\u001b[0m\u001b[0;34m\u001b[0m\u001b[0m\n",
      "\u001b[0;32m~/opt/anaconda3/lib/python3.9/turtle.py\u001b[0m in \u001b[0;36m__init__\u001b[0;34m(self, canvas, shape, undobuffersize, visible)\u001b[0m\n\u001b[1;32m   2556\u001b[0m         \u001b[0mself\u001b[0m\u001b[0;34m.\u001b[0m\u001b[0m_undobuffersize\u001b[0m \u001b[0;34m=\u001b[0m \u001b[0mundobuffersize\u001b[0m\u001b[0;34m\u001b[0m\u001b[0;34m\u001b[0m\u001b[0m\n\u001b[1;32m   2557\u001b[0m         \u001b[0mself\u001b[0m\u001b[0;34m.\u001b[0m\u001b[0mundobuffer\u001b[0m \u001b[0;34m=\u001b[0m \u001b[0mTbuffer\u001b[0m\u001b[0;34m(\u001b[0m\u001b[0mundobuffersize\u001b[0m\u001b[0;34m)\u001b[0m\u001b[0;34m\u001b[0m\u001b[0;34m\u001b[0m\u001b[0m\n\u001b[0;32m-> 2558\u001b[0;31m         \u001b[0mself\u001b[0m\u001b[0;34m.\u001b[0m\u001b[0m_update\u001b[0m\u001b[0;34m(\u001b[0m\u001b[0;34m)\u001b[0m\u001b[0;34m\u001b[0m\u001b[0;34m\u001b[0m\u001b[0m\n\u001b[0m\u001b[1;32m   2559\u001b[0m \u001b[0;34m\u001b[0m\u001b[0m\n\u001b[1;32m   2560\u001b[0m     \u001b[0;32mdef\u001b[0m \u001b[0mreset\u001b[0m\u001b[0;34m(\u001b[0m\u001b[0mself\u001b[0m\u001b[0;34m)\u001b[0m\u001b[0;34m:\u001b[0m\u001b[0;34m\u001b[0m\u001b[0;34m\u001b[0m\u001b[0m\n",
      "\u001b[0;32m~/opt/anaconda3/lib/python3.9/turtle.py\u001b[0m in \u001b[0;36m_update\u001b[0;34m(self)\u001b[0m\n\u001b[1;32m   2659\u001b[0m             \u001b[0;32mreturn\u001b[0m\u001b[0;34m\u001b[0m\u001b[0;34m\u001b[0m\u001b[0m\n\u001b[1;32m   2660\u001b[0m         \u001b[0;32melif\u001b[0m \u001b[0mscreen\u001b[0m\u001b[0;34m.\u001b[0m\u001b[0m_tracing\u001b[0m \u001b[0;34m==\u001b[0m \u001b[0;36m1\u001b[0m\u001b[0;34m:\u001b[0m\u001b[0;34m\u001b[0m\u001b[0;34m\u001b[0m\u001b[0m\n\u001b[0;32m-> 2661\u001b[0;31m             \u001b[0mself\u001b[0m\u001b[0;34m.\u001b[0m\u001b[0m_update_data\u001b[0m\u001b[0;34m(\u001b[0m\u001b[0;34m)\u001b[0m\u001b[0;34m\u001b[0m\u001b[0;34m\u001b[0m\u001b[0m\n\u001b[0m\u001b[1;32m   2662\u001b[0m             \u001b[0mself\u001b[0m\u001b[0;34m.\u001b[0m\u001b[0m_drawturtle\u001b[0m\u001b[0;34m(\u001b[0m\u001b[0;34m)\u001b[0m\u001b[0;34m\u001b[0m\u001b[0;34m\u001b[0m\u001b[0m\n\u001b[1;32m   2663\u001b[0m             \u001b[0mscreen\u001b[0m\u001b[0;34m.\u001b[0m\u001b[0m_update\u001b[0m\u001b[0;34m(\u001b[0m\u001b[0;34m)\u001b[0m                  \u001b[0;31m# TurtleScreenBase\u001b[0m\u001b[0;34m\u001b[0m\u001b[0;34m\u001b[0m\u001b[0m\n",
      "\u001b[0;32m~/opt/anaconda3/lib/python3.9/turtle.py\u001b[0m in \u001b[0;36m_update_data\u001b[0;34m(self)\u001b[0m\n\u001b[1;32m   2645\u001b[0m \u001b[0;34m\u001b[0m\u001b[0m\n\u001b[1;32m   2646\u001b[0m     \u001b[0;32mdef\u001b[0m \u001b[0m_update_data\u001b[0m\u001b[0;34m(\u001b[0m\u001b[0mself\u001b[0m\u001b[0;34m)\u001b[0m\u001b[0;34m:\u001b[0m\u001b[0;34m\u001b[0m\u001b[0;34m\u001b[0m\u001b[0m\n\u001b[0;32m-> 2647\u001b[0;31m         \u001b[0mself\u001b[0m\u001b[0;34m.\u001b[0m\u001b[0mscreen\u001b[0m\u001b[0;34m.\u001b[0m\u001b[0m_incrementudc\u001b[0m\u001b[0;34m(\u001b[0m\u001b[0;34m)\u001b[0m\u001b[0;34m\u001b[0m\u001b[0;34m\u001b[0m\u001b[0m\n\u001b[0m\u001b[1;32m   2648\u001b[0m         \u001b[0;32mif\u001b[0m \u001b[0mself\u001b[0m\u001b[0;34m.\u001b[0m\u001b[0mscreen\u001b[0m\u001b[0;34m.\u001b[0m\u001b[0m_updatecounter\u001b[0m \u001b[0;34m!=\u001b[0m \u001b[0;36m0\u001b[0m\u001b[0;34m:\u001b[0m\u001b[0;34m\u001b[0m\u001b[0;34m\u001b[0m\u001b[0m\n\u001b[1;32m   2649\u001b[0m             \u001b[0;32mreturn\u001b[0m\u001b[0;34m\u001b[0m\u001b[0;34m\u001b[0m\u001b[0m\n",
      "\u001b[0;32m~/opt/anaconda3/lib/python3.9/turtle.py\u001b[0m in \u001b[0;36m_incrementudc\u001b[0;34m(self)\u001b[0m\n\u001b[1;32m   1291\u001b[0m         \u001b[0;32mif\u001b[0m \u001b[0;32mnot\u001b[0m \u001b[0mTurtleScreen\u001b[0m\u001b[0;34m.\u001b[0m\u001b[0m_RUNNING\u001b[0m\u001b[0;34m:\u001b[0m\u001b[0;34m\u001b[0m\u001b[0;34m\u001b[0m\u001b[0m\n\u001b[1;32m   1292\u001b[0m             \u001b[0mTurtleScreen\u001b[0m\u001b[0;34m.\u001b[0m\u001b[0m_RUNNING\u001b[0m \u001b[0;34m=\u001b[0m \u001b[0;32mTrue\u001b[0m\u001b[0;34m\u001b[0m\u001b[0;34m\u001b[0m\u001b[0m\n\u001b[0;32m-> 1293\u001b[0;31m             \u001b[0;32mraise\u001b[0m \u001b[0mTerminator\u001b[0m\u001b[0;34m\u001b[0m\u001b[0;34m\u001b[0m\u001b[0m\n\u001b[0m\u001b[1;32m   1294\u001b[0m         \u001b[0;32mif\u001b[0m \u001b[0mself\u001b[0m\u001b[0;34m.\u001b[0m\u001b[0m_tracing\u001b[0m \u001b[0;34m>\u001b[0m \u001b[0;36m0\u001b[0m\u001b[0;34m:\u001b[0m\u001b[0;34m\u001b[0m\u001b[0;34m\u001b[0m\u001b[0m\n\u001b[1;32m   1295\u001b[0m             \u001b[0mself\u001b[0m\u001b[0;34m.\u001b[0m\u001b[0m_updatecounter\u001b[0m \u001b[0;34m+=\u001b[0m \u001b[0;36m1\u001b[0m\u001b[0;34m\u001b[0m\u001b[0;34m\u001b[0m\u001b[0m\n",
      "\u001b[0;31mTerminator\u001b[0m: "
     ]
    }
   ],
   "source": [
    "import turtle\n",
    "\n",
    "# Create a new Turtle object\n",
    "t = turtle.Turtle()\n",
    "\n",
    "# Set the turtle's speed and pen color\n",
    "t.speed(0)\n",
    "t.pencolor('red')\n",
    "\n",
    "# Draw a square\n",
    "for i in range(4):\n",
    "    t.forward(100)\n",
    "    t.right(90)\n",
    "\n",
    "# Draw a circle\n",
    "t.penup()\n",
    "t.goto(0, -50)\n",
    "t.pendown()\n",
    "t.circle(50)\n",
    "\n",
    "# Draw a star\n",
    "t.penup()\n",
    "t.goto(-100, 100)\n",
    "t.pendown()\n",
    "for i in range(5):\n",
    "    t.forward(100)\n",
    "    t.right(144)\n",
    "\n",
    "# Hide the turtle and exit\n",
    "t.hideturtle()\n",
    "turtle.done()\n"
   ]
  },
  {
   "cell_type": "markdown",
   "id": "b5d63d7f",
   "metadata": {},
   "source": [
    "###### Write a program that asks the user for their name and age, and then prints out a message that says \"Hello, [name]! You are [age] years old.\"\n",
    "\n",
    "###### Write a program that takes a list of numbers as input and prints out the sum of all the numbers in the list.\n",
    "\n",
    "###### Write a program that takes a string as input and prints out the string reversed.\n",
    "\n",
    "###### Write a program that takes a list of integers as input and prints out only the even numbers in the list.\n",
    "\n",
    "###### Write a program that takes a list of words as input and prints out only the words that start with the letter 'a'."
   ]
  },
  {
   "cell_type": "code",
   "execution_count": 2,
   "id": "7edbccc1",
   "metadata": {},
   "outputs": [
    {
     "name": "stdout",
     "output_type": "stream",
     "text": [
      "hi name pleasehi name please\n",
      "hi age please10000000000000000000000000000000000000000000000000000000000000000000000000000000000000000000000000000000000000000000\n",
      "hi name please is 10000000000000000000000000000000000000000000000000000000000000000000000000000000000000000000000000000000000000000000 years old\n"
     ]
    }
   ],
   "source": [
    "z=input(\"hi name please\")\n",
    "h=input(\"hi age please\")\n",
    "h=int(h)\n",
    "print(z,\"is\",h,\"years\",\"old\")"
   ]
  },
  {
   "cell_type": "code",
   "execution_count": 3,
   "id": "b19c2687",
   "metadata": {},
   "outputs": [
    {
     "name": "stdout",
     "output_type": "stream",
     "text": [
      "enter first number;\n",
      "enter second number10;\n",
      "entetr third;\n"
     ]
    },
    {
     "ename": "ValueError",
     "evalue": "invalid literal for int() with base 10: ';'",
     "output_type": "error",
     "traceback": [
      "\u001b[0;31m---------------------------------------------------------------------------\u001b[0m",
      "\u001b[0;31mValueError\u001b[0m                                Traceback (most recent call last)",
      "\u001b[0;32m/var/folders/0k/rfc7l8w10vg2gy6fqthn9r9r0000gn/T/ipykernel_50626/3469028950.py\u001b[0m in \u001b[0;36m<module>\u001b[0;34m\u001b[0m\n\u001b[1;32m      2\u001b[0m \u001b[0my\u001b[0m \u001b[0;34m=\u001b[0m \u001b[0minput\u001b[0m\u001b[0;34m(\u001b[0m\u001b[0;34m\"enter second number\"\u001b[0m\u001b[0;34m)\u001b[0m\u001b[0;34m\u001b[0m\u001b[0;34m\u001b[0m\u001b[0m\n\u001b[1;32m      3\u001b[0m \u001b[0mz\u001b[0m \u001b[0;34m=\u001b[0m \u001b[0minput\u001b[0m\u001b[0;34m(\u001b[0m\u001b[0;34m\"entetr third\"\u001b[0m\u001b[0;34m)\u001b[0m\u001b[0;34m\u001b[0m\u001b[0;34m\u001b[0m\u001b[0m\n\u001b[0;32m----> 4\u001b[0;31m \u001b[0mprint\u001b[0m\u001b[0;34m(\u001b[0m\u001b[0mint\u001b[0m\u001b[0;34m(\u001b[0m\u001b[0mx\u001b[0m\u001b[0;34m)\u001b[0m\u001b[0;34m+\u001b[0m\u001b[0mint\u001b[0m\u001b[0;34m(\u001b[0m\u001b[0my\u001b[0m\u001b[0;34m)\u001b[0m\u001b[0;34m+\u001b[0m\u001b[0mint\u001b[0m\u001b[0;34m(\u001b[0m\u001b[0mz\u001b[0m\u001b[0;34m)\u001b[0m\u001b[0;34m)\u001b[0m\u001b[0;34m\u001b[0m\u001b[0;34m\u001b[0m\u001b[0m\n\u001b[0m",
      "\u001b[0;31mValueError\u001b[0m: invalid literal for int() with base 10: ';'"
     ]
    }
   ],
   "source": [
    "x = input(\"enter first number\")\n",
    "y = input(\"enter second number\")\n",
    "z = input(\"entetr third\")\n",
    "print(int(x)+int(y)+int(z))"
   ]
  },
  {
   "cell_type": "code",
   "execution_count": 5,
   "id": "f5068cf6",
   "metadata": {},
   "outputs": [
    {
     "data": {
      "text/plain": [
       "'hgfedcba'"
      ]
     },
     "execution_count": 5,
     "metadata": {},
     "output_type": "execute_result"
    }
   ],
   "source": [
    "\"abcdefgh\"[::-1]"
   ]
  },
  {
   "cell_type": "code",
   "execution_count": 7,
   "id": "5e18bd79",
   "metadata": {},
   "outputs": [
    {
     "name": "stdout",
     "output_type": "stream",
     "text": [
      "firstNumberPlease1\n",
      "secondNumberPlease2\n",
      "thirdNumberPlease3\n",
      "forthNumberPlease5\n",
      "fifthNumberPlease6\n"
     ]
    },
    {
     "ename": "TypeError",
     "evalue": "'int' object is not iterable",
     "output_type": "error",
     "traceback": [
      "\u001b[0;31m---------------------------------------------------------------------------\u001b[0m",
      "\u001b[0;31mTypeError\u001b[0m                                 Traceback (most recent call last)",
      "\u001b[0;32m/var/folders/0k/rfc7l8w10vg2gy6fqthn9r9r0000gn/T/ipykernel_50408/851404710.py\u001b[0m in \u001b[0;36m<module>\u001b[0;34m\u001b[0m\n\u001b[1;32m      9\u001b[0m \u001b[0my\u001b[0m \u001b[0;34m=\u001b[0m \u001b[0mint\u001b[0m\u001b[0;34m(\u001b[0m\u001b[0my\u001b[0m\u001b[0;34m)\u001b[0m\u001b[0;34m\u001b[0m\u001b[0;34m\u001b[0m\u001b[0m\n\u001b[1;32m     10\u001b[0m \u001b[0mz\u001b[0m \u001b[0;34m=\u001b[0m \u001b[0mint\u001b[0m\u001b[0;34m(\u001b[0m\u001b[0mz\u001b[0m\u001b[0;34m)\u001b[0m\u001b[0;34m\u001b[0m\u001b[0;34m\u001b[0m\u001b[0m\n\u001b[0;32m---> 11\u001b[0;31m \u001b[0;32mfor\u001b[0m \u001b[0meach\u001b[0m \u001b[0;32min\u001b[0m \u001b[0mv\u001b[0m\u001b[0;34m:\u001b[0m\u001b[0;34m\u001b[0m\u001b[0;34m\u001b[0m\u001b[0m\n\u001b[0m\u001b[1;32m     12\u001b[0m     \u001b[0;32mif\u001b[0m \u001b[0meach\u001b[0m \u001b[0;34m%\u001b[0m \u001b[0;36m2\u001b[0m \u001b[0;34m==\u001b[0m \u001b[0;36m0\u001b[0m\u001b[0;34m:\u001b[0m\u001b[0;34m\u001b[0m\u001b[0;34m\u001b[0m\u001b[0m\n\u001b[1;32m     13\u001b[0m         \u001b[0mprint\u001b[0m\u001b[0;34m(\u001b[0m\u001b[0meach\u001b[0m\u001b[0;34m,\u001b[0m \u001b[0mend\u001b[0m\u001b[0;34m=\u001b[0m\u001b[0;34m\" \"\u001b[0m\u001b[0;34m)\u001b[0m\u001b[0;34m\u001b[0m\u001b[0;34m\u001b[0m\u001b[0m\n",
      "\u001b[0;31mTypeError\u001b[0m: 'int' object is not iterable"
     ]
    }
   ],
   "source": [
    "v = input(\"firstNumberPlease\")\n",
    "w = input(\"secondNumberPlease\")\n",
    "x = input(\"thirdNumberPlease\")\n",
    "y = input(\"forthNumberPlease\")\n",
    "z = input(\"fifthNumberPlease\")\n",
    "v = int(v)\n",
    "w = int(w)\n",
    "x = int(x)\n",
    "y = int(y)\n",
    "z = int(z)\n",
    "for each in v:\n",
    "    if each % 2 == 0:\n",
    "        print(each, end=\" \")\n",
    "for each in w:\n",
    "    if each % 2 == 0:\n",
    "        print(each, end=\" \")\n",
    "for each in x:\n",
    "    if each % 2 == 0:\n",
    "        print(each, end=\" \")\n",
    "for each in y:\n",
    "    if each % 2 == 0:\n",
    "        print(each, end=\" \")\n",
    "for each in z:\n",
    "    if each % 2 == 0:\n",
    "        print(each, end=\" \")"
   ]
  },
  {
   "cell_type": "code",
   "execution_count": 1,
   "id": "319517f5",
   "metadata": {
    "scrolled": true
   },
   "outputs": [
    {
     "name": "stdout",
     "output_type": "stream",
     "text": [
      "firstNumberWorda\n",
      "secondNumberWords\n",
      "thirdNumberWorda\n",
      "forthNumberWords\n",
      "fifthNumberWorda\n"
     ]
    }
   ],
   "source": [
    "v = input(\"firstNumberWord\")\n",
    "w = input(\"secondNumberWord\")\n",
    "x = input(\"thirdNumberWord\")\n",
    "y = input(\"forthNumberWord\")\n",
    "z = input(\"fifthNumberWord\")\n",
    "if \"a\" in v[0] and \"a\" in w[0] and \"a\" in x[0] and \"a\" in y[0] and \"a\" in z[0]:\n",
    "    print(v,w,x,y,z)"
   ]
  },
  {
   "cell_type": "code",
   "execution_count": null,
   "id": "391b01e4",
   "metadata": {},
   "outputs": [],
   "source": []
  }
 ],
 "metadata": {
  "kernelspec": {
   "display_name": "Python 3 (ipykernel)",
   "language": "python",
   "name": "python3"
  },
  "language_info": {
   "codemirror_mode": {
    "name": "ipython",
    "version": 3
   },
   "file_extension": ".py",
   "mimetype": "text/x-python",
   "name": "python",
   "nbconvert_exporter": "python",
   "pygments_lexer": "ipython3",
   "version": "3.9.13"
  }
 },
 "nbformat": 4,
 "nbformat_minor": 5
}

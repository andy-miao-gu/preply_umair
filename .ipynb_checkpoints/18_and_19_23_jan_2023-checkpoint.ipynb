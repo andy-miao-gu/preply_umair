{
 "cells": [
  {
   "cell_type": "code",
   "execution_count": 2,
   "id": "5a82ce35",
   "metadata": {},
   "outputs": [],
   "source": [
    "A =\"A\"\n",
    "B =\"B\"\n",
    "C =\"C\"\n",
    "D =\"D\"\n",
    "E =\"E\"\n",
    "F =\"F\"\n",
    "G =\"G\"\n",
    "H =\"H\"\n",
    "I =\"I\"\n",
    "J =\"J\"\n",
    "K =\"K\"\n",
    "L =\"L\"\n",
    "M =\"M\"\n",
    "N =\"N\"\n",
    "O =\"O\"\n",
    "P =\"P\"\n",
    "Q =\"Q\"\n",
    "R =\"R\"\n",
    "S =\"S\"\n",
    "T =\"T\"\n",
    "U =\"U\"\n",
    "V =\"V\"\n",
    "W =\"W\"\n",
    "X =\"X\"\n",
    "Y =\"Y\"\n",
    "Z =\"Z\""
   ]
  },
  {
   "cell_type": "code",
   "execution_count": 3,
   "id": "b27b8d0d",
   "metadata": {},
   "outputs": [],
   "source": [
    "a =\"a\"\n",
    "b =\"b\"\n",
    "c =\"c\"\n",
    "d =\"d\"\n",
    "e =\"e\"\n",
    "f =\"f\"\n",
    "g =\"g\"\n",
    "h =\"h\"\n",
    "i =\"i\"\n",
    "j =\"j\"\n",
    "k =\"k\"\n",
    "l =\"l\"\n",
    "m =\"m\"\n",
    "n =\"n\"\n",
    "o =\"o\"\n",
    "p =\"p\"\n",
    "q =\"q\"\n",
    "r =\"r\"\n",
    "s =\"s\"\n",
    "t =\"t\"\n",
    "u =\"u\"\n",
    "v =\"v\"\n",
    "w =\"w\"\n",
    "x =\"x\"\n",
    "y =\"y\"\n",
    "z =\"z\""
   ]
  },
  {
   "cell_type": "code",
   "execution_count": 4,
   "id": "618ab2c4",
   "metadata": {},
   "outputs": [],
   "source": [
    "per = \".\"\n",
    "com = \",\"\n",
    "exc = \"!\"\n",
    "que = \"?\""
   ]
  },
  {
   "cell_type": "code",
   "execution_count": 13,
   "id": "f239ed39",
   "metadata": {},
   "outputs": [
    {
     "name": "stdout",
     "output_type": "stream",
     "text": [
      "r e ! f , d\n"
     ]
    }
   ],
   "source": [
    "print(r,e,exc,f,com,d)"
   ]
  },
  {
   "cell_type": "code",
   "execution_count": null,
   "id": "050eb222",
   "metadata": {},
   "outputs": [],
   "source": [
    "y = print(input(\"who are you\"))\n",
    "y"
   ]
  },
  {
   "cell_type": "code",
   "execution_count": null,
   "id": "ea864539",
   "metadata": {},
   "outputs": [],
   "source": [
    "sandwich_orders = list((\"tuna\",\"chicken\",\"burger\"))\n",
    "if not \"pastrami\" in eval(\"sandwich_orders\"):\n",
    "    sandwich_orders.append(\"pastrami\")\n",
    "finish_sandwichs = list(())\n",
    "for each in sandwich_orders:\n",
    "    print(I,m+a+d+e,eval(e+a+c+h),s+a+n+d+w+i+c+h)\n",
    "    "
   ]
  },
  {
   "cell_type": "code",
   "execution_count": null,
   "id": "2e14cbb0",
   "metadata": {},
   "outputs": [],
   "source": [
    "#### use while loop and keep on appending sanwitch but not add patromis"
   ]
  },
  {
   "cell_type": "code",
   "execution_count": null,
   "id": "443cf322",
   "metadata": {},
   "outputs": [],
   "source": [
    "sandwich_orders = list((\"tuna\",\"chicken\",\"burger\"))\n",
    "if not \"pastrami\" in eval(\"sandwich_orders\"):\n",
    "    sandwich_orders.append(\"pastrami\")\n",
    "finish_sandwichs = list(())\n",
    "for each in sandwich_orders:\n",
    "    print(I,m+a+d+e,eval(e+a+c+h),s+a+n+d+w+i+c+h)\n",
    "print(S+o+r+r+y,t+h+e+r+e,i+s,n+o,m+o+r+e,eval(p+a+s+t+r+a+m+i))\n",
    "sandwich_orders.remove(\"pastrami\")\n",
    "print(I,d+i+d,n+o+t,m+a+k+e,eval(e+a+c+h),s+a+n+d+w+i+c+h)"
   ]
  },
  {
   "cell_type": "code",
   "execution_count": null,
   "id": "b1fd19bb",
   "metadata": {},
   "outputs": [],
   "source": [
    "sandwich_orders = list((\"tuna\",\"pastrami\",\"chicken\",\"pastrami\",\"burger\",\"pastrami\"))\n",
    "finished = sandwich_orders.copy()\n",
    "print(\"deli has ran out of pastrami\")\n",
    "while(\"pastrami\" in finished):\n",
    "    finished.remove(\"pastrami\")\n",
    "print(sandwich_orders)\n",
    "\n",
    "print(finished)\n"
   ]
  },
  {
   "cell_type": "code",
   "execution_count": null,
   "id": "245db989",
   "metadata": {},
   "outputs": [],
   "source": [
    "t = print\n",
    "t(w+e+e+e+e+e+e+e+e+e+e+e+e+e+e+e+e+e+e+e+e+e+e+e+e+e+e+e+e+e+e+e+e+e+e+e+e)"
   ]
  },
  {
   "cell_type": "code",
   "execution_count": null,
   "id": "82955303",
   "metadata": {},
   "outputs": [],
   "source": [
    "w### +makee ;empty list\n",
    "## us"
   ]
  },
  {
   "cell_type": "code",
   "execution_count": null,
   "id": "cf1f047d",
   "metadata": {},
   "outputs": [],
   "source": [
    "_ = []\n",
    "while True:\n",
    "    place  =    input(   \" fav place? \"    )  \n",
    "    if place ==  \"quit\" :\n",
    "        break\n",
    "    _.append(place)\n",
    "print(set(_))\n",
    "\n"
   ]
  },
  {
   "cell_type": "code",
   "execution_count": null,
   "id": "5a0309cc",
   "metadata": {},
   "outputs": [],
   "source": [
    "help(str)qq\n",
    "q\n"
   ]
  },
  {
   "cell_type": "code",
   "execution_count": null,
   "id": "6a5e6014",
   "metadata": {},
   "outputs": [],
   "source": []
  },
  {
   "cell_type": "code",
   "execution_count": null,
   "id": "aa3ff2d4",
   "metadata": {},
   "outputs": [],
   "source": [
    "def display_message():\n",
    "    \"\"\"Display a message about what I'm learning.\"\"\"\n",
    "    msg = \"I'm learning to store code in functions.\"\n",
    "    print(msg)\n",
    "\n",
    "display_message()"
   ]
  },
  {
   "cell_type": "code",
   "execution_count": null,
   "id": "1fcf6b23",
   "metadata": {},
   "outputs": [],
   "source": [
    "def fav_book():\n",
    "    \"\"\"Display a message about what I'm learning.\"\"\"\n",
    "    dgr = \"My fav book series is the happy life series\"\n",
    "    \n",
    "    print(eval(d+g+r))\n",
    "    \n",
    "fav_book()"
   ]
  },
  {
   "cell_type": "code",
   "execution_count": null,
   "id": "a37024d3",
   "metadata": {},
   "outputs": [],
   "source": []
  },
  {
   "cell_type": "code",
   "execution_count": 6,
   "id": "9175ea94",
   "metadata": {},
   "outputs": [
    {
     "name": "stdout",
     "output_type": "stream",
     "text": [
      "say the T-shirt's size t\n",
      "the size of the T-shirt is t\n",
      "the size of the T-shirt is t\n"
     ]
    },
    {
     "ename": "KeyboardInterrupt",
     "evalue": "Interrupted by user",
     "output_type": "error",
     "traceback": [
      "\u001b[0;31m---------------------------------------------------------------------------\u001b[0m",
      "\u001b[0;31mKeyboardInterrupt\u001b[0m                         Traceback (most recent call last)",
      "\u001b[0;32m/var/folders/0k/rfc7l8w10vg2gy6fqthn9r9r0000gn/T/ipykernel_4282/2301519665.py\u001b[0m in \u001b[0;36m<module>\u001b[0;34m\u001b[0m\n\u001b[1;32m     14\u001b[0m         \u001b[0mprint\u001b[0m\u001b[0;34m(\u001b[0m\u001b[0;34m\"the size of the T-shirt is\"\u001b[0m\u001b[0;34m,\u001b[0m\u001b[0mhyuy\u001b[0m\u001b[0;34m)\u001b[0m\u001b[0;34m\u001b[0m\u001b[0;34m\u001b[0m\u001b[0m\n\u001b[1;32m     15\u001b[0m         \u001b[0mhyuy\u001b[0m \u001b[0;34m=\u001b[0m \u001b[0minput\u001b[0m\u001b[0;34m(\u001b[0m\u001b[0;34m\"say the T-shirt's size \"\u001b[0m\u001b[0;34m)\u001b[0m\u001b[0;34m\u001b[0m\u001b[0;34m\u001b[0m\u001b[0m\n\u001b[0;32m---> 16\u001b[0;31m \u001b[0mmake_shirt\u001b[0m\u001b[0;34m(\u001b[0m\u001b[0;34m)\u001b[0m\u001b[0;34m\u001b[0m\u001b[0;34m\u001b[0m\u001b[0m\n\u001b[0m",
      "\u001b[0;32m/var/folders/0k/rfc7l8w10vg2gy6fqthn9r9r0000gn/T/ipykernel_4282/2301519665.py\u001b[0m in \u001b[0;36mmake_shirt\u001b[0;34m()\u001b[0m\n\u001b[1;32m     13\u001b[0m             \u001b[0;32mbreak\u001b[0m\u001b[0;34m\u001b[0m\u001b[0;34m\u001b[0m\u001b[0m\n\u001b[1;32m     14\u001b[0m         \u001b[0mprint\u001b[0m\u001b[0;34m(\u001b[0m\u001b[0;34m\"the size of the T-shirt is\"\u001b[0m\u001b[0;34m,\u001b[0m\u001b[0mhyuy\u001b[0m\u001b[0;34m)\u001b[0m\u001b[0;34m\u001b[0m\u001b[0;34m\u001b[0m\u001b[0m\n\u001b[0;32m---> 15\u001b[0;31m         \u001b[0mhyuy\u001b[0m \u001b[0;34m=\u001b[0m \u001b[0minput\u001b[0m\u001b[0;34m(\u001b[0m\u001b[0;34m\"say the T-shirt's size \"\u001b[0m\u001b[0;34m)\u001b[0m\u001b[0;34m\u001b[0m\u001b[0;34m\u001b[0m\u001b[0m\n\u001b[0m\u001b[1;32m     16\u001b[0m \u001b[0mmake_shirt\u001b[0m\u001b[0;34m(\u001b[0m\u001b[0;34m)\u001b[0m\u001b[0;34m\u001b[0m\u001b[0;34m\u001b[0m\u001b[0m\n",
      "\u001b[0;32m~/opt/anaconda3/lib/python3.9/site-packages/ipykernel/kernelbase.py\u001b[0m in \u001b[0;36mraw_input\u001b[0;34m(self, prompt)\u001b[0m\n\u001b[1;32m   1175\u001b[0m                 \u001b[0;34m\"raw_input was called, but this frontend does not support input requests.\"\u001b[0m\u001b[0;34m\u001b[0m\u001b[0;34m\u001b[0m\u001b[0m\n\u001b[1;32m   1176\u001b[0m             )\n\u001b[0;32m-> 1177\u001b[0;31m         return self._input_request(\n\u001b[0m\u001b[1;32m   1178\u001b[0m             \u001b[0mstr\u001b[0m\u001b[0;34m(\u001b[0m\u001b[0mprompt\u001b[0m\u001b[0;34m)\u001b[0m\u001b[0;34m,\u001b[0m\u001b[0;34m\u001b[0m\u001b[0;34m\u001b[0m\u001b[0m\n\u001b[1;32m   1179\u001b[0m             \u001b[0mself\u001b[0m\u001b[0;34m.\u001b[0m\u001b[0m_parent_ident\u001b[0m\u001b[0;34m[\u001b[0m\u001b[0;34m\"shell\"\u001b[0m\u001b[0;34m]\u001b[0m\u001b[0;34m,\u001b[0m\u001b[0;34m\u001b[0m\u001b[0;34m\u001b[0m\u001b[0m\n",
      "\u001b[0;32m~/opt/anaconda3/lib/python3.9/site-packages/ipykernel/kernelbase.py\u001b[0m in \u001b[0;36m_input_request\u001b[0;34m(self, prompt, ident, parent, password)\u001b[0m\n\u001b[1;32m   1217\u001b[0m             \u001b[0;32mexcept\u001b[0m \u001b[0mKeyboardInterrupt\u001b[0m\u001b[0;34m:\u001b[0m\u001b[0;34m\u001b[0m\u001b[0;34m\u001b[0m\u001b[0m\n\u001b[1;32m   1218\u001b[0m                 \u001b[0;31m# re-raise KeyboardInterrupt, to truncate traceback\u001b[0m\u001b[0;34m\u001b[0m\u001b[0;34m\u001b[0m\u001b[0m\n\u001b[0;32m-> 1219\u001b[0;31m                 \u001b[0;32mraise\u001b[0m \u001b[0mKeyboardInterrupt\u001b[0m\u001b[0;34m(\u001b[0m\u001b[0;34m\"Interrupted by user\"\u001b[0m\u001b[0;34m)\u001b[0m \u001b[0;32mfrom\u001b[0m \u001b[0;32mNone\u001b[0m\u001b[0;34m\u001b[0m\u001b[0;34m\u001b[0m\u001b[0m\n\u001b[0m\u001b[1;32m   1220\u001b[0m             \u001b[0;32mexcept\u001b[0m \u001b[0mException\u001b[0m\u001b[0;34m:\u001b[0m\u001b[0;34m\u001b[0m\u001b[0;34m\u001b[0m\u001b[0m\n\u001b[1;32m   1221\u001b[0m                 \u001b[0mself\u001b[0m\u001b[0;34m.\u001b[0m\u001b[0mlog\u001b[0m\u001b[0;34m.\u001b[0m\u001b[0mwarning\u001b[0m\u001b[0;34m(\u001b[0m\u001b[0;34m\"Invalid Message:\"\u001b[0m\u001b[0;34m,\u001b[0m \u001b[0mexc_info\u001b[0m\u001b[0;34m=\u001b[0m\u001b[0;32mTrue\u001b[0m\u001b[0;34m)\u001b[0m\u001b[0;34m\u001b[0m\u001b[0;34m\u001b[0m\u001b[0m\n",
      "\u001b[0;31mKeyboardInterrupt\u001b[0m: Interrupted by user"
     ]
    }
   ],
   "source": [
    "def make_shirt():\n",
    "    \"\"\"make a T-shirt size\"\"\"\n",
    "    hyuy = input(\"say the T-shirt's size \")\n",
    "    while(hyuy not in [s,m,l,100,110,120,130,140,150,160,170,180,190,200,210,276]):\n",
    "        \n",
    "        print(\"the size of the T-shirt is\",hyuy)\n",
    "        if hyuy == \"s\" or hyuy ==\"small\":\n",
    "            print(\"the T-shirt is small size\")\n",
    "        elif hyuy == \"m\" or hyuy == \"medium\":\n",
    "            print(\"the T-shirt is medium size\")\n",
    "        elif hyuy == \"l\" or hyuy == \"large\":\n",
    "            print(\"the T-shirt is large size\")\n",
    "            break\n",
    "        print(\"the size of the T-shirt is\",hyuy)\n",
    "        hyuy = input(\"say the T-shirt's size \")\n",
    "make_shirt()"
   ]
  },
  {
   "cell_type": "code",
   "execution_count": null,
   "id": "04c96ed3",
   "metadata": {},
   "outputs": [],
   "source": []
  },
  {
   "cell_type": "code",
   "execution_count": 2,
   "id": "3bda9265",
   "metadata": {},
   "outputs": [
    {
     "name": "stdout",
     "output_type": "stream",
     "text": [
      "t\n"
     ]
    }
   ],
   "source": [
    "pri = print\n",
    "pri(\"t\")"
   ]
  },
  {
   "cell_type": "code",
   "execution_count": 5,
   "id": "c84cc848",
   "metadata": {},
   "outputs": [],
   "source": [
    "word = \"smallx\"\n",
    "if \"x\" not in word:\n",
    "    print(\"yeyyy\")"
   ]
  },
  {
   "cell_type": "code",
   "execution_count": null,
   "id": "c2a01ec7",
   "metadata": {},
   "outputs": [],
   "source": [
    "one = \"1\"\n",
    "two = \"2\"\n",
    "tre = \"3\"\n",
    "fou = \"4\"\n",
    "fiv = \"5\"\n",
    "six = \"6\"\n",
    "sev = \"7\"\n",
    "eig = \"8\"\n",
    "nin = \"9\"\n",
    "ten = \"10\""
   ]
  },
  {
   "cell_type": "code",
   "execution_count": null,
   "id": "195b87fb",
   "metadata": {},
   "outputs": [],
   "source": []
  }
 ],
 "metadata": {
  "kernelspec": {
   "display_name": "Python 3 (ipykernel)",
   "language": "python",
   "name": "python3"
  },
  "language_info": {
   "codemirror_mode": {
    "name": "ipython",
    "version": 3
   },
   "file_extension": ".py",
   "mimetype": "text/x-python",
   "name": "python",
   "nbconvert_exporter": "python",
   "pygments_lexer": "ipython3",
   "version": "3.9.13"
  }
 },
 "nbformat": 4,
 "nbformat_minor": 5
}

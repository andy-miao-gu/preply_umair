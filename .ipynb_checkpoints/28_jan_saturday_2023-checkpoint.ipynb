{
 "cells": [
  {
   "cell_type": "code",
   "execution_count": 14,
   "id": "9c863306",
   "metadata": {},
   "outputs": [
    {
     "ename": "SyntaxError",
     "evalue": "invalid syntax (3133579176.py, line 1)",
     "output_type": "error",
     "traceback": [
      "\u001b[0;36m  File \u001b[0;32m\"/var/folders/0k/rfc7l8w10vg2gy6fqthn9r9r0000gn/T/ipykernel_33183/3133579176.py\"\u001b[0;36m, line \u001b[0;32m1\u001b[0m\n\u001b[0;31m    class\u001b[0m\n\u001b[0m         ^\u001b[0m\n\u001b[0;31mSyntaxError\u001b[0m\u001b[0;31m:\u001b[0m invalid syntax\n"
     ]
    }
   ],
   "source": []
  },
  {
   "cell_type": "code",
   "execution_count": 66,
   "id": "2b7774ee",
   "metadata": {},
   "outputs": [],
   "source": [
    " class Dog():\n",
    "    \"\"\"A simple attempt to model a dog.\"\"\"\n",
    "\n",
    "    def __init__(self, name, age):\n",
    "        \"\"\"Initialize name and age attributes.\"\"\"\n",
    "        self.name = name \n",
    "        self.age = age\n",
    "        self.pose = \"sleeping\"\n",
    "    \n",
    "    def sit(self):\n",
    "        \"\"\"Simulate a dog sitting in response to a command.\"\"\" \n",
    "        print(self.name.title() + \" is now sitting.\")\n",
    "        self.pose=\"sit\"\n",
    "    \n",
    "    def roll_over(self):\n",
    "        \"\"\"Simulate rolling over in response to a command.\"\"\"\n",
    "        print(self.name.title() + \" rolled over!\")\n",
    "        self.pose=\"roll over\"\n",
    "        \n",
    "    def stand_up(self):\n",
    "        \n",
    "        \"\"\"Simulate stand up in response to a command.\"\"\"\n",
    "        print(self.name.title() + \" Standed up.\")\n",
    "        self.pose=\"stand up\"\n",
    "        \n",
    "    def tell_pose(self):\n",
    "        print(self.name.title() + \" is \"+self.pose)\n",
    "        "
   ]
  },
  {
   "cell_type": "code",
   "execution_count": 44,
   "id": "bcebc881",
   "metadata": {},
   "outputs": [],
   "source": [
    "d=Dog(\"puppy\",\"X\")"
   ]
  },
  {
   "cell_type": "code",
   "execution_count": 59,
   "id": "6248a604",
   "metadata": {},
   "outputs": [
    {
     "name": "stdout",
     "output_type": "stream",
     "text": [
      "Puppy rolled over!\n"
     ]
    }
   ],
   "source": [
    "d.roll_over()"
   ]
  },
  {
   "cell_type": "code",
   "execution_count": 62,
   "id": "cb5d6338",
   "metadata": {},
   "outputs": [
    {
     "name": "stdout",
     "output_type": "stream",
     "text": [
      "Puppy Standed up.\n"
     ]
    }
   ],
   "source": [
    "d.stand_up()"
   ]
  },
  {
   "cell_type": "code",
   "execution_count": 57,
   "id": "957ccf77",
   "metadata": {},
   "outputs": [
    {
     "name": "stdout",
     "output_type": "stream",
     "text": [
      "Puppy is now sitting.\n"
     ]
    }
   ],
   "source": [
    "d.sit()"
   ]
  },
  {
   "cell_type": "code",
   "execution_count": 63,
   "id": "8e654268",
   "metadata": {},
   "outputs": [
    {
     "name": "stdout",
     "output_type": "stream",
     "text": [
      "Puppy is stand up\n"
     ]
    }
   ],
   "source": [
    "d.tell_pose()"
   ]
  },
  {
   "cell_type": "code",
   "execution_count": null,
   "id": "a6e629c0",
   "metadata": {},
   "outputs": [],
   "source": []
  },
  {
   "cell_type": "code",
   "execution_count": null,
   "id": "01939acc",
   "metadata": {},
   "outputs": [],
   "source": []
  },
  {
   "cell_type": "code",
   "execution_count": null,
   "id": "043a9a17",
   "metadata": {},
   "outputs": [],
   "source": []
  },
  {
   "cell_type": "code",
   "execution_count": null,
   "id": "0e8a2b7b",
   "metadata": {},
   "outputs": [],
   "source": []
  },
  {
   "cell_type": "code",
   "execution_count": null,
   "id": "03e33424",
   "metadata": {},
   "outputs": [],
   "source": []
  }
 ],
 "metadata": {
  "kernelspec": {
   "display_name": "Python 3 (ipykernel)",
   "language": "python",
   "name": "python3"
  },
  "language_info": {
   "codemirror_mode": {
    "name": "ipython",
    "version": 3
   },
   "file_extension": ".py",
   "mimetype": "text/x-python",
   "name": "python",
   "nbconvert_exporter": "python",
   "pygments_lexer": "ipython3",
   "version": "3.9.13"
  }
 },
 "nbformat": 4,
 "nbformat_minor": 5
}

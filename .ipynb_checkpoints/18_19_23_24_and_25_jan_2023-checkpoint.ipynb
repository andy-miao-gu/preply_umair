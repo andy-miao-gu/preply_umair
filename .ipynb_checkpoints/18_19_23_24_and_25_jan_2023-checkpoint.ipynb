{
 "cells": [
  {
   "cell_type": "code",
   "execution_count": 4,
   "id": "5a82ce35",
   "metadata": {},
   "outputs": [],
   "source": [
    "A =\"A\"\n",
    "B =\"B\"\n",
    "C =\"C\"\n",
    "D =\"D\"\n",
    "E =\"E\"\n",
    "F =\"F\"\n",
    "G =\"G\"\n",
    "H =\"H\"\n",
    "I =\"I\"\n",
    "J =\"J\"\n",
    "K =\"K\"\n",
    "L =\"L\"\n",
    "M =\"M\"\n",
    "N =\"N\"\n",
    "O =\"O\"\n",
    "P =\"P\"\n",
    "Q =\"Q\"\n",
    "R =\"R\"\n",
    "S =\"S\"\n",
    "T =\"T\"\n",
    "U =\"U\"\n",
    "V =\"V\"\n",
    "W =\"W\"\n",
    "X =\"X\"\n",
    "Y =\"Y\"\n",
    "Z =\"Z\""
   ]
  },
  {
   "cell_type": "code",
   "execution_count": 5,
   "id": "b27b8d0d",
   "metadata": {},
   "outputs": [],
   "source": [
    "a =\"a\"\n",
    "b =\"b\"\n",
    "c =\"c\"\n",
    "d =\"d\"\n",
    "e =\"e\"\n",
    "f =\"f\"\n",
    "g =\"g\"\n",
    "h =\"h\"\n",
    "i =\"i\"\n",
    "j =\"j\"\n",
    "k =\"k\"\n",
    "l =\"l\"\n",
    "m =\"m\"\n",
    "n =\"n\"\n",
    "o =\"o\"\n",
    "p =\"p\"\n",
    "q =\"q\"\n",
    "r =\"r\"\n",
    "s =\"s\"\n",
    "t =\"t\"\n",
    "u =\"u\"\n",
    "v =\"v\"\n",
    "w =\"w\"\n",
    "x =\"x\"\n",
    "y =\"y\"\n",
    "z =\"z\""
   ]
  },
  {
   "cell_type": "code",
   "execution_count": 7,
   "id": "618ab2c4",
   "metadata": {},
   "outputs": [],
   "source": [
    "per = \".\"\n",
    "com = \",\"\n",
    "exc = \"!\"\n",
    "que = \"?\""
   ]
  },
  {
   "cell_type": "code",
   "execution_count": 12,
   "id": "f239ed39",
   "metadata": {},
   "outputs": [
    {
     "name": "stdout",
     "output_type": "stream",
     "text": [
      "r e ! f , d\n"
     ]
    }
   ],
   "source": [
    "print(r,e,exc,f,com,d)"
   ]
  },
  {
   "cell_type": "code",
   "execution_count": 13,
   "id": "050eb222",
   "metadata": {},
   "outputs": [
    {
     "name": "stdout",
     "output_type": "stream",
     "text": [
      "who are youk\n",
      "k\n"
     ]
    }
   ],
   "source": [
    "y = print(input(\"who are you\"))\n",
    "y"
   ]
  },
  {
   "cell_type": "code",
   "execution_count": 24,
   "id": "ea864539",
   "metadata": {},
   "outputs": [
    {
     "name": "stdout",
     "output_type": "stream",
     "text": [
      "I made tuna sandwich\n",
      "I made chicken sandwich\n",
      "I made burger sandwich\n",
      "I made pastrami sandwich\n"
     ]
    }
   ],
   "source": [
    "sandwich_orders = list((\"tuna\",\"chicken\",\"burger\"))\n",
    "if not \"pastrami\" in eval(\"sandwich_orders\"):\n",
    "    sandwich_orders.append(\"pastrami\")\n",
    "finish_sandwichs = list(())\n",
    "for each in sandwich_orders:\n",
    "    print(I,m+a+d+e,eval(e+a+c+h),s+a+n+d+w+i+c+h)\n",
    "    "
   ]
  },
  {
   "cell_type": "code",
   "execution_count": 25,
   "id": "2e14cbb0",
   "metadata": {},
   "outputs": [],
   "source": [
    "#### use while loop and keep on appending sanwitch but not add patromis"
   ]
  },
  {
   "cell_type": "code",
   "execution_count": 10,
   "id": "443cf322",
   "metadata": {},
   "outputs": [
    {
     "name": "stdout",
     "output_type": "stream",
     "text": [
      "I made tuna sandwich\n",
      "I made chicken sandwich\n",
      "I made burger sandwich\n",
      "I made pastrami sandwich\n"
     ]
    },
    {
     "ename": "NameError",
     "evalue": "name 'pastrami' is not defined",
     "output_type": "error",
     "traceback": [
      "\u001b[0;31m---------------------------------------------------------------------------\u001b[0m",
      "\u001b[0;31mNameError\u001b[0m                                 Traceback (most recent call last)",
      "\u001b[0;32m/var/folders/0k/rfc7l8w10vg2gy6fqthn9r9r0000gn/T/ipykernel_24742/266329503.py\u001b[0m in \u001b[0;36m<module>\u001b[0;34m\u001b[0m\n\u001b[1;32m      5\u001b[0m \u001b[0;32mfor\u001b[0m \u001b[0meach\u001b[0m \u001b[0;32min\u001b[0m \u001b[0msandwich_orders\u001b[0m\u001b[0;34m:\u001b[0m\u001b[0;34m\u001b[0m\u001b[0;34m\u001b[0m\u001b[0m\n\u001b[1;32m      6\u001b[0m     \u001b[0mprint\u001b[0m\u001b[0;34m(\u001b[0m\u001b[0mI\u001b[0m\u001b[0;34m,\u001b[0m\u001b[0mm\u001b[0m\u001b[0;34m+\u001b[0m\u001b[0ma\u001b[0m\u001b[0;34m+\u001b[0m\u001b[0md\u001b[0m\u001b[0;34m+\u001b[0m\u001b[0me\u001b[0m\u001b[0;34m,\u001b[0m\u001b[0meval\u001b[0m\u001b[0;34m(\u001b[0m\u001b[0me\u001b[0m\u001b[0;34m+\u001b[0m\u001b[0ma\u001b[0m\u001b[0;34m+\u001b[0m\u001b[0mc\u001b[0m\u001b[0;34m+\u001b[0m\u001b[0mh\u001b[0m\u001b[0;34m)\u001b[0m\u001b[0;34m,\u001b[0m\u001b[0ms\u001b[0m\u001b[0;34m+\u001b[0m\u001b[0ma\u001b[0m\u001b[0;34m+\u001b[0m\u001b[0mn\u001b[0m\u001b[0;34m+\u001b[0m\u001b[0md\u001b[0m\u001b[0;34m+\u001b[0m\u001b[0mw\u001b[0m\u001b[0;34m+\u001b[0m\u001b[0mi\u001b[0m\u001b[0;34m+\u001b[0m\u001b[0mc\u001b[0m\u001b[0;34m+\u001b[0m\u001b[0mh\u001b[0m\u001b[0;34m)\u001b[0m\u001b[0;34m\u001b[0m\u001b[0;34m\u001b[0m\u001b[0m\n\u001b[0;32m----> 7\u001b[0;31m \u001b[0mprint\u001b[0m\u001b[0;34m(\u001b[0m\u001b[0mS\u001b[0m\u001b[0;34m+\u001b[0m\u001b[0mo\u001b[0m\u001b[0;34m+\u001b[0m\u001b[0mr\u001b[0m\u001b[0;34m+\u001b[0m\u001b[0mr\u001b[0m\u001b[0;34m+\u001b[0m\u001b[0my\u001b[0m\u001b[0;34m,\u001b[0m\u001b[0mt\u001b[0m\u001b[0;34m+\u001b[0m\u001b[0mh\u001b[0m\u001b[0;34m+\u001b[0m\u001b[0me\u001b[0m\u001b[0;34m+\u001b[0m\u001b[0mr\u001b[0m\u001b[0;34m+\u001b[0m\u001b[0me\u001b[0m\u001b[0;34m,\u001b[0m\u001b[0mi\u001b[0m\u001b[0;34m+\u001b[0m\u001b[0ms\u001b[0m\u001b[0;34m,\u001b[0m\u001b[0mn\u001b[0m\u001b[0;34m+\u001b[0m\u001b[0mo\u001b[0m\u001b[0;34m,\u001b[0m\u001b[0mm\u001b[0m\u001b[0;34m+\u001b[0m\u001b[0mo\u001b[0m\u001b[0;34m+\u001b[0m\u001b[0mr\u001b[0m\u001b[0;34m+\u001b[0m\u001b[0me\u001b[0m\u001b[0;34m,\u001b[0m\u001b[0meval\u001b[0m\u001b[0;34m(\u001b[0m\u001b[0mp\u001b[0m\u001b[0;34m+\u001b[0m\u001b[0ma\u001b[0m\u001b[0;34m+\u001b[0m\u001b[0ms\u001b[0m\u001b[0;34m+\u001b[0m\u001b[0mt\u001b[0m\u001b[0;34m+\u001b[0m\u001b[0mr\u001b[0m\u001b[0;34m+\u001b[0m\u001b[0ma\u001b[0m\u001b[0;34m+\u001b[0m\u001b[0mm\u001b[0m\u001b[0;34m+\u001b[0m\u001b[0mi\u001b[0m\u001b[0;34m)\u001b[0m\u001b[0;34m)\u001b[0m\u001b[0;34m\u001b[0m\u001b[0;34m\u001b[0m\u001b[0m\n\u001b[0m\u001b[1;32m      8\u001b[0m \u001b[0msandwich_orders\u001b[0m\u001b[0;34m.\u001b[0m\u001b[0mremove\u001b[0m\u001b[0;34m(\u001b[0m\u001b[0;34m\"pastrami\"\u001b[0m\u001b[0;34m)\u001b[0m\u001b[0;34m\u001b[0m\u001b[0;34m\u001b[0m\u001b[0m\n\u001b[1;32m      9\u001b[0m \u001b[0mprint\u001b[0m\u001b[0;34m(\u001b[0m\u001b[0mI\u001b[0m\u001b[0;34m,\u001b[0m\u001b[0md\u001b[0m\u001b[0;34m+\u001b[0m\u001b[0mi\u001b[0m\u001b[0;34m+\u001b[0m\u001b[0md\u001b[0m\u001b[0;34m,\u001b[0m\u001b[0mn\u001b[0m\u001b[0;34m+\u001b[0m\u001b[0mo\u001b[0m\u001b[0;34m+\u001b[0m\u001b[0mt\u001b[0m\u001b[0;34m,\u001b[0m\u001b[0mm\u001b[0m\u001b[0;34m+\u001b[0m\u001b[0ma\u001b[0m\u001b[0;34m+\u001b[0m\u001b[0mk\u001b[0m\u001b[0;34m+\u001b[0m\u001b[0me\u001b[0m\u001b[0;34m,\u001b[0m\u001b[0meval\u001b[0m\u001b[0;34m(\u001b[0m\u001b[0me\u001b[0m\u001b[0;34m+\u001b[0m\u001b[0ma\u001b[0m\u001b[0;34m+\u001b[0m\u001b[0mc\u001b[0m\u001b[0;34m+\u001b[0m\u001b[0mh\u001b[0m\u001b[0;34m)\u001b[0m\u001b[0;34m,\u001b[0m\u001b[0ms\u001b[0m\u001b[0;34m+\u001b[0m\u001b[0ma\u001b[0m\u001b[0;34m+\u001b[0m\u001b[0mn\u001b[0m\u001b[0;34m+\u001b[0m\u001b[0md\u001b[0m\u001b[0;34m+\u001b[0m\u001b[0mw\u001b[0m\u001b[0;34m+\u001b[0m\u001b[0mi\u001b[0m\u001b[0;34m+\u001b[0m\u001b[0mc\u001b[0m\u001b[0;34m+\u001b[0m\u001b[0mh\u001b[0m\u001b[0;34m)\u001b[0m\u001b[0;34m\u001b[0m\u001b[0;34m\u001b[0m\u001b[0m\n",
      "\u001b[0;32m<string>\u001b[0m in \u001b[0;36m<module>\u001b[0;34m\u001b[0m\n",
      "\u001b[0;31mNameError\u001b[0m: name 'pastrami' is not defined"
     ]
    }
   ],
   "source": [
    "sandwich_orders = list((\"tuna\",\"chicken\",\"burger\"))\n",
    "if not \"pastrami\" in eval(\"sandwich_orders\"):\n",
    "    sandwich_orders.append(\"pastrami\")\n",
    "finish_sandwichs = list(())\n",
    "for each in sandwich_orders:\n",
    "    print(I,m+a+d+e,eval(e+a+c+h),s+a+n+d+w+i+c+h)\n",
    "print(S+o+r+r+y,t+h+e+r+e,i+s,n+o,m+o+r+e,eval(p+a+s+t+r+a+m+i))\n",
    "sandwich_orders.remove(\"pastrami\")\n",
    "print(I,d+i+d,n+o+t,m+a+k+e,eval(e+a+c+h),s+a+n+d+w+i+c+h)"
   ]
  },
  {
   "cell_type": "code",
   "execution_count": 13,
   "id": "c4c2b03a",
   "metadata": {},
   "outputs": [
    {
     "name": "stdout",
     "output_type": "stream",
     "text": [
      "deli has ran out of pastrami\n",
      "['tuna', 'pastrami', 'chicken', 'pastrami', 'burger', 'pastrami']\n",
      "['tuna', 'chicken', 'burger']\n"
     ]
    }
   ],
   "source": [
    "sandwich_orders = list((\"tuna\",\"pastrami\",\"chicken\",\"pastrami\",\"burger\",\"pastrami\"))\n",
    "finished = sandwich_orders.copy()\n",
    "print(\"deli has ran out of pastrami\")\n",
    "while(\"pastrami\" in finished):\n",
    "    finished.remove(\"pastrami\")\n",
    "print(sandwich_orders)\n",
    "\n",
    "print(finished)\n"
   ]
  },
  {
   "cell_type": "code",
   "execution_count": 22,
   "id": "553a01ad",
   "metadata": {},
   "outputs": [
    {
     "name": "stdout",
     "output_type": "stream",
     "text": [
      "weeeeeeeeeeeeeeeeeeeeeeeeeeeeeeeeeeee\n"
     ]
    }
   ],
   "source": [
    "t = print\n",
    "t(w+e+e+e+e+e+e+e+e+e+e+e+e+e+e+e+e+e+e+e+e+e+e+e+e+e+e+e+e+e+e+e+e+e+e+e+e)"
   ]
  },
  {
   "cell_type": "code",
   "execution_count": 17,
   "id": "12f6d618",
   "metadata": {},
   "outputs": [
    {
     "ename": "SyntaxError",
     "evalue": "invalid syntax (2762102602.py, line 1)",
     "output_type": "error",
     "traceback": [
      "\u001b[0;36m  File \u001b[0;32m\"/var/folders/0k/rfc7l8w10vg2gy6fqthn9r9r0000gn/T/ipykernel_24742/2762102602.py\"\u001b[0;36m, line \u001b[0;32m1\u001b[0m\n\u001b[0;31m    t True:\u001b[0m\n\u001b[0m      ^\u001b[0m\n\u001b[0;31mSyntaxError\u001b[0m\u001b[0;31m:\u001b[0m invalid syntax\n"
     ]
    }
   ],
   "source": [
    "w### +makee ;empty list\n",
    "## us"
   ]
  },
  {
   "cell_type": "code",
   "execution_count": null,
   "id": "a8cae22e",
   "metadata": {},
   "outputs": [
    {
     "name": "stdout",
     "output_type": "stream",
     "text": [
      " fav place? quit\n",
      " fav place? quit\n",
      " fav place? quit\n",
      " fav place? quit\n"
     ]
    }
   ],
   "source": [
    "_ = []\n",
    "while True:\n",
    "    place  =    input(   \" fav place? \"    )  \n",
    "    if place == str(quit):\n",
    "        break\n",
    "    _.append(place)\n",
    "print(_)\n",
    "\n"
   ]
  },
  {
   "cell_type": "code",
   "execution_count": null,
   "id": "383d1631",
   "metadata": {},
   "outputs": [],
   "source": [
    "uit"
   ]
  }
 ],
 "metadata": {
  "kernelspec": {
   "display_name": "Python 3 (ipykernel)",
   "language": "python",
   "name": "python3"
  },
  "language_info": {
   "codemirror_mode": {
    "name": "ipython",
    "version": 3
   },
   "file_extension": ".py",
   "mimetype": "text/x-python",
   "name": "python",
   "nbconvert_exporter": "python",
   "pygments_lexer": "ipython3",
   "version": "3.9.13"
  }
 },
 "nbformat": 4,
 "nbformat_minor": 5
}

{
 "cells": [
  {
   "cell_type": "code",
   "execution_count": 2,
   "id": "823bc634",
   "metadata": {},
   "outputs": [
    {
     "name": "stdout",
     "output_type": "stream",
     "text": [
      " :/\\.\n"
     ]
    }
   ],
   "source": [
    "print(\" :/\\.\" )"
   ]
  },
  {
   "cell_type": "code",
   "execution_count": 60,
   "id": "43655ba3",
   "metadata": {
    "scrolled": true
   },
   "outputs": [
    {
     "name": "stdout",
     "output_type": "stream",
     "text": [
      "       umair.      \n",
      "       umair.\n",
      "umair.      \n",
      "umair.\n",
      "umair.\n"
     ]
    }
   ],
   "source": [
    "name =\"       umair.      \"\n",
    "print(name)\n",
    "print(name.rstrip())\n",
    "print(name.lstrip())\n",
    "print(name.strip())"
   ]
  },
  {
   "cell_type": "code",
   "execution_count": 65,
   "id": "f438b5f5",
   "metadata": {},
   "outputs": [
    {
     "name": "stdout",
     "output_type": "stream",
     "text": [
      "     Andy     Gu     \n",
      "     Andy     Gu\n",
      "Andy     Gu     \n",
      "Andy     Gu\n"
     ]
    }
   ],
   "source": [
    "名字 = \"     Andy     Gu     \"\n",
    "print(名字)\n",
    "print(名字.rstrip())\n",
    "print(名字.lstrip())\n",
    "print(名字.strip())"
   ]
  },
  {
   "cell_type": "code",
   "execution_count": 68,
   "id": "cefbc73d",
   "metadata": {
    "scrolled": true
   },
   "outputs": [
    {
     "name": "stdout",
     "output_type": "stream",
     "text": [
      "['Mom Dad Sister Brother']\n",
      "\n",
      "Mom\n",
      "M\to\tm\t\n",
      "Dad\n",
      "D\ta\td\t\n",
      "Sister\n",
      "S\ti\ts\tt\te\tr\t\n",
      "Brother\n",
      "B\tr\to\tt\th\te\tr\t"
     ]
    }
   ],
   "source": [
    "family = \"Mom Dad Sister Brother\"\n",
    "print(family.split(\",\"))\n",
    "for each in family.split(\" \"):\n",
    "    print()\n",
    "    print(each)\n",
    "    for e2 in each:\n",
    "        print(e2, end = \"\\t\")"
   ]
  },
  {
   "cell_type": "code",
   "execution_count": 42,
   "id": "4a819455",
   "metadata": {},
   "outputs": [
    {
     "name": "stdout",
     "output_type": "stream",
     "text": [
      "['apples bananas cramberries dragonfruits Edward-Mangos']\n",
      "\n",
      "apples\n",
      "a\tp\tp\tl\te\ts\t\n",
      "bananas\n",
      "b\ta\tn\ta\tn\ta\ts\t\n",
      "cramberries\n",
      "c\tr\ta\tm\tb\te\tr\tr\ti\te\ts\t\n",
      "dragonfruits\n",
      "d\tr\ta\tg\to\tn\tf\tr\tu\ti\tt\ts\t\n",
      "Edward-Mangos\n",
      "E\td\tw\ta\tr\td\t-\tM\ta\tn\tg\to\ts\t"
     ]
    }
   ],
   "source": [
    "abc = \"apples bananas cramberries dragonfruits Edward-Mangos\"\n",
    "print(abc.split(\",\"))\n",
    "for each in abc.split(\" \"):\n",
    "    print()    \n",
    "    print(each)\n",
    "    for e2 in each:\n",
    "        print(e2,end=\"\\t\")"
   ]
  },
  {
   "cell_type": "code",
   "execution_count": 37,
   "id": "9a900d03",
   "metadata": {},
   "outputs": [
    {
     "name": "stdout",
     "output_type": "stream",
     "text": [
      "a\n",
      "p\n",
      "p\n",
      "l\n",
      "e\n",
      "s\n",
      " \n",
      "b\n",
      "a\n",
      "n\n",
      "a\n",
      "n\n",
      "a\n",
      "s\n",
      " \n",
      "c\n",
      "r\n",
      "a\n",
      "m\n",
      "b\n",
      "e\n",
      "r\n",
      "r\n",
      "i\n",
      "e\n",
      "s\n",
      " \n",
      "d\n",
      "r\n",
      "a\n",
      "g\n",
      "o\n",
      "n\n",
      "f\n",
      "r\n",
      "u\n",
      "i\n",
      "t\n",
      "s\n",
      " \n",
      "E\n",
      "d\n",
      "w\n",
      "a\n",
      "r\n",
      "d\n",
      "-\n",
      "M\n",
      "a\n",
      "n\n",
      "g\n",
      "o\n"
     ]
    }
   ],
   "source": [
    "print(\"\"\"a\n",
    "p\n",
    "p\n",
    "l\n",
    "e\n",
    "s\n",
    " \n",
    "b\n",
    "a\n",
    "n\n",
    "a\n",
    "n\n",
    "ab\n",
    "s\n",
    " \n",
    "c\n",
    "r\n",
    "a\n",
    "m\n",
    "b\n",
    "e\n",
    "r\n",
    "r\n",
    "i\n",
    "e\n",
    "s\n",
    " \n",
    "d\n",
    "r\n",
    "a\n",
    "g\n",
    "o\n",
    "n\n",
    "f\n",
    "r\n",
    "u\n",
    "i\n",
    "t\n",
    "s\n",
    " \n",
    "E\n",
    "d\n",
    "w\n",
    "a\n",
    "r\n",
    "d\n",
    "-\n",
    "M\n",
    "a\n",
    "n\n",
    "g\n",
    "o\"\"\")"
   ]
  },
  {
   "cell_type": "code",
   "execution_count": 47,
   "id": "99d0a3d0",
   "metadata": {},
   "outputs": [
    {
     "name": "stdout",
     "output_type": "stream",
     "text": [
      "my fav number is 7, i am Andy, and i am 8 years old\n"
     ]
    }
   ],
   "source": [
    "yeet = 7\n",
    "yt = \"Andy\"\n",
    "th = 8\n",
    "print(f\"my fav number is {yeet}, i am {yt}, and i am {th} years old\")"
   ]
  },
  {
   "cell_type": "code",
   "execution_count": 51,
   "id": "5f8ed3f9",
   "metadata": {},
   "outputs": [
    {
     "name": "stdout",
     "output_type": "stream",
     "text": [
      "APPLES\n",
      "BANANAS\n",
      "CRAMBERRIES\n",
      "DRAGONFRUITS\n",
      "EDWARD-MANGOS\n"
     ]
    }
   ],
   "source": [
    "abc = \"apples bananas cramberries dragonfruits Edward-Mangos\"\n",
    "lf = abc.split(\" \")\n",
    "for each in lf:\n",
    "    print(each.upper())"
   ]
  },
  {
   "cell_type": "code",
   "execution_count": 52,
   "id": "55aa7e40",
   "metadata": {},
   "outputs": [
    {
     "name": "stdout",
     "output_type": "stream",
     "text": [
      "cheetah\n",
      "seals\n",
      "axolotl\n"
     ]
    }
   ],
   "source": [
    "\n",
    "for each in [\"cheetah\",\"seals\",\"axolotl\"]:\n",
    "    print(each)\n",
    "    "
   ]
  },
  {
   "cell_type": "code",
   "execution_count": 53,
   "id": "14a19773",
   "metadata": {},
   "outputs": [
    {
     "name": "stdout",
     "output_type": "stream",
     "text": [
      "cheetah\n",
      "seals\n",
      "axolotl\n"
     ]
    }
   ],
   "source": [
    "t = [\"cheetah\",\"seals\",\"axolotl\"]\n",
    "print(t[0])\n",
    "print(t[1])\n",
    "print(t[2])"
   ]
  },
  {
   "cell_type": "code",
   "execution_count": 84,
   "id": "5afa566e",
   "metadata": {},
   "outputs": [
    {
     "name": "stdout",
     "output_type": "stream",
     "text": [
      "cheetah said'Axolotls make bad pets.'\n",
      " seals said'Of course they are harmful'\n",
      "axolotls*thinking noises'Am i really that harmful to humans'\n",
      "67568 years of thinking later\n",
      " axolotl said axolotls said actually i am harmful to humas cause im poisonous to humans\n"
     ]
    }
   ],
   "source": [
    "ch = \"Axolotls make bad pets.\"\n",
    "se = \"Of course they are harmful\"\n",
    "ax = \"Am i really that harmful to humans\"\n",
    "t = [\"cheetah\",\"seals\",\"axolotl\"]\n",
    "print(f\"cheetah said'{ch}'\")\n",
    "print(f\" seals said'{se}'\")\n",
    "print(f\"axolotls*thinking noises'{ax}'\")\n",
    "print(\"67568 years of thinking later\")\n",
    "print(\" axolotl said axolotls said actually i am harmful to humas cause im poisonous to humans\")"
   ]
  },
  {
   "cell_type": "code",
   "execution_count": 85,
   "id": "9202d4e2",
   "metadata": {},
   "outputs": [
    {
     "name": "stdout",
     "output_type": "stream",
     "text": [
      "Apples\n",
      "Bananas\n",
      "Cramberries\n",
      "Dragonfruits\n",
      "Edward-Mangos\n"
     ]
    }
   ],
   "source": [
    "abc = \"apples bananas cramberries dragonfruits Edward-Mangos\"\n",
    "lf = abc.split(\" \")\n",
    "for each in lf:\n",
    "    print(each.title())"
   ]
  },
  {
   "cell_type": "code",
   "execution_count": 56,
   "id": "1d4606cf",
   "metadata": {
    "scrolled": false
   },
   "outputs": [
    {
     "name": "stdout",
     "output_type": "stream",
     "text": [
      "['apples bananas cramberries dragonfruits Edward-Mangos']\n",
      "\n",
      "apples\n",
      "a\tp\tp\tl\te\ts\t\n",
      "bananas\n",
      "b\ta\tn\ta\tn\ta\ts\t\n",
      "cramberries\n",
      "c\tr\ta\tm\tb\te\tr\tr\ti\te\ts\t\n",
      "dragonfruits\n",
      "d\tr\ta\tg\to\tn\tf\tr\tu\ti\tt\ts\t\n",
      "Edward-Mangos\n",
      "E\td\tw\ta\tr\td\t-\tM\ta\tn\tg\to\ts\t"
     ]
    }
   ],
   "source": [
    "abc = \"apples bananas cramberries dragonfruits Edward-Mangos\"\n",
    "print(abc.split(\",\"))\n",
    "for each in abc.split(\" \"):\n",
    "    print()    \n",
    "    print(each)\n",
    "    for e2 in each:\n",
    "        print(e2,end=\"\\t\")"
   ]
  },
  {
   "cell_type": "code",
   "execution_count": 58,
   "id": "d20b8032",
   "metadata": {
    "scrolled": false
   },
   "outputs": [
    {
     "name": "stdout",
     "output_type": "stream",
     "text": [
      "       umair      \n",
      "       umair\n",
      "umair      \n",
      "umair\n"
     ]
    }
   ],
   "source": [
    "name =\"       umair      \"\n",
    "print(name)\n",
    "print(name.rstrip())\n",
    "print(name.lstrip())\n",
    "print(name.strip())"
   ]
  },
  {
   "cell_type": "code",
   "execution_count": 86,
   "id": "df488fa7",
   "metadata": {},
   "outputs": [
    {
     "name": "stdout",
     "output_type": "stream",
     "text": [
      "cheetah\n",
      "seals\n",
      "axolotl\n"
     ]
    }
   ],
   "source": [
    "t = [\"cheetah\",\"seals\",\"axolotl\"]\n",
    "print(t[0])\n",
    "print(t[1])\n",
    "print(t[2])"
   ]
  },
  {
   "cell_type": "code",
   "execution_count": null,
   "id": "c3eea993",
   "metadata": {},
   "outputs": [],
   "source": [
    "print(\"my fav way of tranportation is riding a bicycle\")"
   ]
  }
 ],
 "metadata": {
  "kernelspec": {
   "display_name": "Python 3 (ipykernel)",
   "language": "python",
   "name": "python3"
  },
  "language_info": {
   "codemirror_mode": {
    "name": "ipython",
    "version": 3
   },
   "file_extension": ".py",
   "mimetype": "text/x-python",
   "name": "python",
   "nbconvert_exporter": "python",
   "pygments_lexer": "ipython3",
   "version": "3.9.13"
  }
 },
 "nbformat": 4,
 "nbformat_minor": 5
}

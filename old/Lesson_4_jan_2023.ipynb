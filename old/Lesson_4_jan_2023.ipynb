{
 "cells": [
  {
   "cell_type": "code",
   "execution_count": 120,
   "id": "c8610fcf",
   "metadata": {},
   "outputs": [
    {
     "name": "stdout",
     "output_type": "stream",
     "text": [
      "cheetah your are not invited \n",
      "seal you are invited  hey???!!! how you cut your hair???!!! \n",
      "axolotl your are not invited \n"
     ]
    }
   ],
   "source": [
    "t = [\"cheetah\",\"seal\",\"axolotl\"]\n",
    "msg = \"you are invited \"\n",
    "msg2 = \"hey???!!! how you cut your hair???!!! \" \n",
    "print(t[0],msg.replace(\"you are\",\"your are not\"))\n",
    "print(t[1],msg,msg2)\n",
    "print(t[2],msg.replace(\"you are\",\"your are not\"))"
   ]
  },
  {
   "cell_type": "code",
   "execution_count": 121,
   "id": "f9d7e022",
   "metadata": {},
   "outputs": [
    {
     "name": "stdout",
     "output_type": "stream",
     "text": [
      "sorry but cheetah can not come\n",
      "['cheetah', 'seal', 'axolotl']\n",
      "['peinguin', 'seal', 'axolotl']\n",
      "peinguin you are invited \n",
      "seal you are invited \n",
      "axolotl you are invited \n",
      "axolotl now you are lucky because i invite you now.\n"
     ]
    }
   ],
   "source": [
    "t = [\"cheetah\",\"seal\",\"axolotl\"]\n",
    "print(\"sorry but\",t[0],\"can not come\")\n",
    "print(t)\n",
    "t[0] = \"peinguin\"\n",
    "print(t)\n",
    "print(t[0],msg)\n",
    "print(t[1],msg)\n",
    "print(t[2],msg)\n",
    "print(t[2], \"now you are lucky because i invite you now.\")"
   ]
  },
  {
   "cell_type": "code",
   "execution_count": null,
   "id": "82a2e968",
   "metadata": {},
   "outputs": [],
   "source": [
    "#3.6\n",
    "\n",
    "t.insert(2,\"turtle\")\n",
    "t.insert(3,\"python\")"
   ]
  },
  {
   "cell_type": "code",
   "execution_count": 123,
   "id": "58fe8ba1",
   "metadata": {},
   "outputs": [
    {
     "ename": "ValueError",
     "evalue": "list.remove(x): x not in list",
     "output_type": "error",
     "traceback": [
      "\u001b[0;31m---------------------------------------------------------------------------\u001b[0m",
      "\u001b[0;31mValueError\u001b[0m                                Traceback (most recent call last)",
      "\u001b[0;32m/var/folders/0k/rfc7l8w10vg2gy6fqthn9r9r0000gn/T/ipykernel_1376/1704837385.py\u001b[0m in \u001b[0;36m<module>\u001b[0;34m\u001b[0m\n\u001b[0;32m----> 1\u001b[0;31m \u001b[0mt\u001b[0m\u001b[0;34m.\u001b[0m\u001b[0mremove\u001b[0m\u001b[0;34m(\u001b[0m\u001b[0;34m\"hen\"\u001b[0m\u001b[0;34m)\u001b[0m\u001b[0;34m\u001b[0m\u001b[0;34m\u001b[0m\u001b[0m\n\u001b[0m\u001b[1;32m      2\u001b[0m \u001b[0mt\u001b[0m\u001b[0;34m\u001b[0m\u001b[0;34m\u001b[0m\u001b[0m\n",
      "\u001b[0;31mValueError\u001b[0m: list.remove(x): x not in list"
     ]
    }
   ],
   "source": [
    "t.remove(\"hen\")\n",
    "t"
   ]
  },
  {
   "cell_type": "code",
   "execution_count": 66,
   "id": "149bd9b1",
   "metadata": {},
   "outputs": [],
   "source": [
    "del t[0:3]"
   ]
  },
  {
   "cell_type": "code",
   "execution_count": null,
   "id": "a97ca5dc",
   "metadata": {},
   "outputs": [],
   "source": [
    "print(t)"
   ]
  },
  {
   "cell_type": "code",
   "execution_count": 125,
   "id": "19035a91",
   "metadata": {},
   "outputs": [
    {
     "name": "stdout",
     "output_type": "stream",
     "text": [
      "only two of you can sit so sorry\n"
     ]
    },
    {
     "data": {
      "text/plain": [
       "'python'"
      ]
     },
     "execution_count": 125,
     "metadata": {},
     "output_type": "execute_result"
    }
   ],
   "source": [
    "print(\"only two of you can sit so sorry\")\n",
    "t.pop(0)\n",
    "t.pop(1)\n",
    "t.pop(1)"
   ]
  },
  {
   "cell_type": "code",
   "execution_count": null,
   "id": "92f065d2",
   "metadata": {},
   "outputs": [],
   "source": [
    "py = \" you are not invited anymore cause it could only fit 2 animals\"\n",
    "pe = \"you are not invited anymore cause it could only fit 2 animals\"\n",
    "tu = \"you are not invited anymore cause it could only fit 2 animals\"\n",
    "print(f\"python'{py}'\"\n",
    "      \n",
    "      \n",
    "      \n",
    "      f\"peinguin'{pe}'\"\n",
    "      \n",
    "      \n",
    "      \n",
    "      f\"turtle'{tu}'\")"
   ]
  },
  {
   "cell_type": "code",
   "execution_count": 118,
   "id": "fd969a18",
   "metadata": {},
   "outputs": [
    {
     "ename": "IndexError",
     "evalue": "list assignment index out of range",
     "output_type": "error",
     "traceback": [
      "\u001b[0;31m---------------------------------------------------------------------------\u001b[0m",
      "\u001b[0;31mIndexError\u001b[0m                                Traceback (most recent call last)",
      "\u001b[0;32m/var/folders/0k/rfc7l8w10vg2gy6fqthn9r9r0000gn/T/ipykernel_1376/2293837217.py\u001b[0m in \u001b[0;36m<module>\u001b[0;34m\u001b[0m\n\u001b[0;32m----> 1\u001b[0;31m \u001b[0;32mdel\u001b[0m\u001b[0;34m(\u001b[0m\u001b[0mt\u001b[0m\u001b[0;34m[\u001b[0m\u001b[0;36m0\u001b[0m\u001b[0;34m]\u001b[0m\u001b[0;34m)\u001b[0m\u001b[0;34m\u001b[0m\u001b[0;34m\u001b[0m\u001b[0m\n\u001b[0m\u001b[1;32m      2\u001b[0m \u001b[0;32mdel\u001b[0m\u001b[0;34m(\u001b[0m\u001b[0mt\u001b[0m\u001b[0;34m[\u001b[0m\u001b[0;36m1\u001b[0m\u001b[0;34m]\u001b[0m\u001b[0;34m)\u001b[0m\u001b[0;34m\u001b[0m\u001b[0;34m\u001b[0m\u001b[0m\n",
      "\u001b[0;31mIndexError\u001b[0m: list assignment index out of range"
     ]
    }
   ],
   "source": [
    "del(t[0]) \n",
    "del(t[1]) "
   ]
  },
  {
   "cell_type": "code",
   "execution_count": 116,
   "id": "dcef3097",
   "metadata": {},
   "outputs": [
    {
     "name": "stdout",
     "output_type": "stream",
     "text": [
      "first , last\n"
     ]
    }
   ],
   "source": [
    "comma = \",\"\n",
    "first = \"first\"\n",
    "last = \"last\"\n",
    "print(first,comma,last)"
   ]
  },
  {
   "cell_type": "code",
   "execution_count": 117,
   "id": "42a4742c",
   "metadata": {},
   "outputs": [
    {
     "ename": "NameError",
     "evalue": "name 'frut_lst' is not defined",
     "output_type": "error",
     "traceback": [
      "\u001b[0;31m---------------------------------------------------------------------------\u001b[0m",
      "\u001b[0;31mNameError\u001b[0m                                 Traceback (most recent call last)",
      "\u001b[0;32m/var/folders/0k/rfc7l8w10vg2gy6fqthn9r9r0000gn/T/ipykernel_1376/1633553462.py\u001b[0m in \u001b[0;36m<module>\u001b[0;34m\u001b[0m\n\u001b[0;32m----> 1\u001b[0;31m \u001b[0mfrut_lst\u001b[0m\u001b[0;34m\u001b[0m\u001b[0;34m\u001b[0m\u001b[0m\n\u001b[0m",
      "\u001b[0;31mNameError\u001b[0m: name 'frut_lst' is not defined"
     ]
    }
   ],
   "source": [
    "frut_lst"
   ]
  },
  {
   "cell_type": "code",
   "execution_count": 2,
   "id": "a1bdfb71",
   "metadata": {},
   "outputs": [
    {
     "name": "stdout",
     "output_type": "stream",
     "text": [
      "0\n"
     ]
    },
    {
     "ename": "NameError",
     "evalue": "name 'turtle' is not defined",
     "output_type": "error",
     "traceback": [
      "\u001b[0;31m---------------------------------------------------------------------------\u001b[0m",
      "\u001b[0;31mNameError\u001b[0m                                 Traceback (most recent call last)",
      "\u001b[0;32m/var/folders/0k/rfc7l8w10vg2gy6fqthn9r9r0000gn/T/ipykernel_4089/2669741142.py\u001b[0m in \u001b[0;36m<module>\u001b[0;34m\u001b[0m\n\u001b[1;32m      4\u001b[0m \u001b[0;32mfor\u001b[0m \u001b[0meach\u001b[0m \u001b[0;32min\u001b[0m \u001b[0mrange\u001b[0m\u001b[0;34m(\u001b[0m\u001b[0;36m180\u001b[0m\u001b[0;34m)\u001b[0m\u001b[0;34m:\u001b[0m\u001b[0;34m\u001b[0m\u001b[0;34m\u001b[0m\u001b[0m\n\u001b[1;32m      5\u001b[0m     \u001b[0mprint\u001b[0m\u001b[0;34m(\u001b[0m\u001b[0meach\u001b[0m\u001b[0;34m)\u001b[0m\u001b[0;34m\u001b[0m\u001b[0;34m\u001b[0m\u001b[0m\n\u001b[0;32m----> 6\u001b[0;31m     \u001b[0mturtle\u001b[0m\u001b[0;34m.\u001b[0m\u001b[0mforward\u001b[0m\u001b[0;34m(\u001b[0m\u001b[0;36m1\u001b[0m\u001b[0;34m)\u001b[0m\u001b[0;34m\u001b[0m\u001b[0;34m\u001b[0m\u001b[0m\n\u001b[0m\u001b[1;32m      7\u001b[0m     \u001b[0mturtle\u001b[0m\u001b[0;34m.\u001b[0m\u001b[0mright\u001b[0m\u001b[0;34m(\u001b[0m\u001b[0;36m1\u001b[0m\u001b[0;34m)\u001b[0m\u001b[0;34m\u001b[0m\u001b[0;34m\u001b[0m\u001b[0m\n\u001b[1;32m      8\u001b[0m \u001b[0;32mfor\u001b[0m \u001b[0me2\u001b[0m \u001b[0;32min\u001b[0m \u001b[0mrange\u001b[0m\u001b[0;34m(\u001b[0m\u001b[0;36m360\u001b[0m\u001b[0;34m)\u001b[0m\u001b[0;34m:\u001b[0m\u001b[0;34m\u001b[0m\u001b[0;34m\u001b[0m\u001b[0m\n",
      "\u001b[0;31mNameError\u001b[0m: name 'turtle' is not defined"
     ]
    }
   ],
   "source": [
    "from turtle import*\n",
    "color('red','yellow')\n",
    "begin_fill()\n",
    "for each in range(180):\n",
    "    print(each)\n",
    "    turtle.forward(1)\n",
    "    turtle.right(1)\n",
    "for e2 in range(360):\n",
    "    print(e2)\n",
    "    turtle.forward(1)\n",
    "    turtle.left(1)\n",
    "for e3 in range(180):\n",
    "    print(e3)\n",
    "    turtle.forward(1)\n",
    "    turtle.right(1)\n",
    "end_fill()\n",
    "done()"
   ]
  },
  {
   "cell_type": "code",
   "execution_count": null,
   "id": "0019aa34",
   "metadata": {},
   "outputs": [],
   "source": [
    "from turtle import *\n",
    "color('red', 'yellow')\n",
    "begin_fill()\n",
    "while True:\n",
    "    import turtle\n",
    "turtle.speed(99)\n",
    "color('red', 'yellow')\n",
    "for each in range(180):\n",
    "    print(each)\n",
    "    turtle.forward(1)\n",
    "    turtle.right(1)\n",
    "for e2 in range(360):\n",
    "    print(e2)\n",
    "    turtle.forward(1)\n",
    "    turtle.left(1)\n",
    "for e3 in range(180):\n",
    "    print(e3)\n",
    "    turtle.forward(1)\n",
    "    turtle.right(1)\n",
    "end_fill()\n",
    "done()"
   ]
  },
  {
   "cell_type": "code",
   "execution_count": null,
   "id": "2760c995",
   "metadata": {},
   "outputs": [],
   "source": [
    "for e2 in range(360):\n",
    "    print(e2)\n",
    "    turtle.forward(1)\n",
    "    turtle.left(1)\n",
    "for e3 in range(180):\n",
    "    print(e3)\n",
    "    turtle.forward(1)\n",
    "    turtle.right(1)"
   ]
  },
  {
   "cell_type": "code",
   "execution_count": null,
   "id": "2df7fada",
   "metadata": {},
   "outputs": [],
   "source": [
    "z = [\"zoo\",\"disneyland\",\"disneysea\",\"beach\",\"restaurant\"]\n",
    "print(z)"
   ]
  },
  {
   "cell_type": "code",
   "execution_count": null,
   "id": "5420fec4",
   "metadata": {},
   "outputs": [],
   "source": [
    "print(z)"
   ]
  },
  {
   "cell_type": "code",
   "execution_count": null,
   "id": "8368a805",
   "metadata": {},
   "outputs": [],
   "source": [
    "one = 2\n",
    "2 = one\n",
    "print(one,2)"
   ]
  },
  {
   "cell_type": "code",
   "execution_count": null,
   "id": "074bdc36",
   "metadata": {},
   "outputs": [],
   "source": []
  }
 ],
 "metadata": {
  "kernelspec": {
   "display_name": "Python 3 (ipykernel)",
   "language": "python",
   "name": "python3"
  },
  "language_info": {
   "codemirror_mode": {
    "name": "ipython",
    "version": 3
   },
   "file_extension": ".py",
   "mimetype": "text/x-python",
   "name": "python",
   "nbconvert_exporter": "python",
   "pygments_lexer": "ipython3",
   "version": "3.9.13"
  }
 },
 "nbformat": 4,
 "nbformat_minor": 5
}

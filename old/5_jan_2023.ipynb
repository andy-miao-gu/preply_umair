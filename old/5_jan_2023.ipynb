{
 "cells": [
  {
   "cell_type": "code",
   "execution_count": 1,
   "id": "aa87a29c",
   "metadata": {},
   "outputs": [
    {
     "name": "stdout",
     "output_type": "stream",
     "text": [
      "what is the animal you are gonna pick\n",
      "r\n",
      "r\n"
     ]
    }
   ],
   "source": [
    "t = input(\"what is the animal you are gonna pick\"+\"\\n\")\n",
    "print(t)"
   ]
  },
  {
   "cell_type": "code",
   "execution_count": 12,
   "id": "29b62e6b",
   "metadata": {},
   "outputs": [
    {
     "ename": "NameError",
     "evalue": "name 'huhuhaha' is not defined",
     "output_type": "error",
     "traceback": [
      "\u001b[0;31m---------------------------------------------------------------------------\u001b[0m",
      "\u001b[0;31mNameError\u001b[0m                                 Traceback (most recent call last)",
      "\u001b[0;32m/var/folders/0k/rfc7l8w10vg2gy6fqthn9r9r0000gn/T/ipykernel_6194/3212651919.py\u001b[0m in \u001b[0;36m<module>\u001b[0;34m\u001b[0m\n\u001b[0;32m----> 1\u001b[0;31m \u001b[0mhuhuhaha\u001b[0m\u001b[0;34m\u001b[0m\u001b[0;34m\u001b[0m\u001b[0m\n\u001b[0m",
      "\u001b[0;31mNameError\u001b[0m: name 'huhuhaha' is not defined"
     ]
    }
   ],
   "source": []
  },
  {
   "cell_type": "code",
   "execution_count": 8,
   "id": "cd09c35b",
   "metadata": {
    "scrolled": true
   },
   "outputs": [
    {
     "name": "stdout",
     "output_type": "stream",
     "text": [
      "i like peppironi pizza\n",
      "i like cheese pizza\n",
      "i like chicken pizza\n",
      "\n",
      "Add a line at the end of your program, \n",
      "outside the for loop, that states how much you like pizza .\n",
      "The output should consist of three or more lines about the kinds \n",
      "of pizza you like and then \n",
      "an additional sentence, such as I really love pizza!\n",
      "\n"
     ]
    }
   ],
   "source": [
    "pizzas = ['peppironi','cheese','chicken']\n",
    "\n",
    "for each in pizzas:\n",
    "    print(\"i like\",each,\"pizza\")\n",
    "print(\"\"\"\n",
    "Add a line at the end of your program, \n",
    "outside the for loop, that states how much you like pizza .\n",
    "The output should consist of three or more lines about the kinds \n",
    "of pizza you like and then \n",
    "an additional sentence, such as I really love pizza!\n",
    "\"\"\")"
   ]
  },
  {
   "cell_type": "code",
   "execution_count": 9,
   "id": "c528410c",
   "metadata": {},
   "outputs": [
    {
     "ename": "SyntaxError",
     "evalue": "invalid syntax (69952332.py, line 1)",
     "output_type": "error",
     "traceback": [
      "\u001b[0;36m  File \u001b[0;32m\"/var/folders/0k/rfc7l8w10vg2gy6fqthn9r9r0000gn/T/ipykernel_6458/69952332.py\"\u001b[0;36m, line \u001b[0;32m1\u001b[0m\n\u001b[0;31m    Add a line at the end of your program, outside the for loop, that states how much you like pizza . The output should consist of three or more lines about the kinds of pizza you like and then an additional sentence, such as I really love pizza!\u001b[0m\n\u001b[0m        ^\u001b[0m\n\u001b[0;31mSyntaxError\u001b[0m\u001b[0;31m:\u001b[0m invalid syntax\n"
     ]
    }
   ],
   "source": [
    "Add a line at the end of your program, outside the for loop, that states how much you like pizza . The output should consist of three or more lines about the kinds of pizza you like and then an additional sentence, such as I really love pizza!"
   ]
  },
  {
   "cell_type": "code",
   "execution_count": 13,
   "id": "037f68d5",
   "metadata": {},
   "outputs": [
    {
     "name": "stdout",
     "output_type": "stream",
     "text": [
      "otters has 4 legs.\n",
      "axolotls has 4 legs.\n",
      "Hapiy has 4 legs.\n",
      "owang has 4 legs.\n"
     ]
    }
   ],
   "source": [
    "t = [\"otters\",\"axolotls\",\"Hapiy\",\"awang\"]\n",
    "for each in t:\n",
    "    print(each,\"has 4 legs.\")"
   ]
  },
  {
   "cell_type": "code",
   "execution_count": 26,
   "id": "ada6b49d",
   "metadata": {},
   "outputs": [
    {
     "data": {
      "text/plain": [
       "[0, 109]"
      ]
     },
     "execution_count": 26,
     "metadata": {},
     "output_type": "execute_result"
    }
   ],
   "source": [
    "y =range(0,111,110)\n",
    "list(y)"
   ]
  },
  {
   "cell_type": "code",
   "execution_count": 51,
   "id": "f66e6487",
   "metadata": {},
   "outputs": [
    {
     "name": "stdout",
     "output_type": "stream",
     "text": [
      "[1, 4, 9, 16, 25, 36, 49, 64, 81, 100]\n"
     ]
    }
   ],
   "source": [
    "squares = []\n",
    "\n",
    "for value in range(1,11):\n",
    "    square = value **2\n",
    "    squares.append(square)\n",
    "\n",
    "\n",
    "print(squares)"
   ]
  },
  {
   "cell_type": "code",
   "execution_count": null,
   "id": "44ced244",
   "metadata": {},
   "outputs": [],
   "source": []
  },
  {
   "cell_type": "code",
   "execution_count": 9,
   "id": "5ebd601d",
   "metadata": {
    "scrolled": false
   },
   "outputs": [
    {
     "name": "stdout",
     "output_type": "stream",
     "text": [
      "0\n",
      "10\n",
      "sum is  55\n",
      "0\n",
      "1\n",
      "2\n",
      "3\n",
      "4\n",
      "5\n",
      "6\n",
      "7\n",
      "8\n",
      "9\n",
      "10\n"
     ]
    }
   ],
   "source": [
    "y =range(0,11)\n",
    "z = list(y)\n",
    "print(min(z))\n",
    "print(max(z))\n",
    "print(\"sum is \",sum(z))\n",
    "for each in list(y):\n",
    "    print(each)\n",
    "    "
   ]
  },
  {
   "cell_type": "code",
   "execution_count": 15,
   "id": "5bf1d80a",
   "metadata": {},
   "outputs": [
    {
     "name": "stdout",
     "output_type": "stream",
     "text": [
      "the odd number from 1-20 is ['1,3,5,7,9,11,13,15,17,19']\n"
     ]
    }
   ],
   "source": [
    "odd_numbers_to_twenty = [\"1,3,5,7,9,11,13,15,17,19\"]\n",
    "print(f\"the odd number from 1-20 is {odd_numbers_to_twenty}\")"
   ]
  },
  {
   "cell_type": "code",
   "execution_count": null,
   "id": "7d4c74fe",
   "metadata": {},
   "outputs": [],
   "source": []
  },
  {
   "cell_type": "code",
   "execution_count": null,
   "id": "47f0f782",
   "metadata": {},
   "outputs": [],
   "source": []
  },
  {
   "cell_type": "code",
   "execution_count": 18,
   "id": "0aeb6c1c",
   "metadata": {},
   "outputs": [
    {
     "name": "stdout",
     "output_type": "stream",
     "text": [
      "0\n",
      "3\n",
      "6\n",
      "9\n",
      "12\n",
      "15\n",
      "18\n",
      "21\n",
      "24\n",
      "27\n",
      "30\n"
     ]
    }
   ],
   "source": [
    "y = range(0,31,3)\n",
    "for each in y:\n",
    "    print(each)"
   ]
  },
  {
   "cell_type": "code",
   "execution_count": 21,
   "id": "dc0cbbb7",
   "metadata": {},
   "outputs": [
    {
     "name": "stdout",
     "output_type": "stream",
     "text": [
      "[1, 8, 27, 64, 125, 216, 343, 512, 729, 1000]\n"
     ]
    }
   ],
   "source": [
    "cubes = []\n",
    "\n",
    "for value in range(1,11):\n",
    "    cube = value **3\n",
    "    cubes.append(cube)\n",
    "\n",
    "\n",
    "print(cubes)"
   ]
  },
  {
   "cell_type": "code",
   "execution_count": null,
   "id": "d8df860c",
   "metadata": {},
   "outputs": [],
   "source": [
    "frut_lst_and_vegitable_lst = [\"apple\", \"carrots\", \"banana\"]\n",
    "for each in frut_lst_and_vegitable_lst:\n",
    "    print(f'{each}')"
   ]
  },
  {
   "cell_type": "code",
   "execution_count": 20,
   "id": "8d515b02",
   "metadata": {},
   "outputs": [
    {
     "name": "stdout",
     "output_type": "stream",
     "text": [
      "what is |1+(-100)|? = 101\n",
      "101\n",
      "you are right\n"
     ]
    }
   ],
   "source": [
    "w = \"you are wrong\"\n",
    "y = \"you are right\"\n",
    "t = input(\"what is |1+(-100)|? = \")\n",
    "print(t)\n",
    "if int(t) == 101:\n",
    "    print(y)\n",
    "else:\n",
    "     print(w)"
   ]
  },
  {
   "cell_type": "code",
   "execution_count": 4,
   "id": "3b1c3547",
   "metadata": {},
   "outputs": [
    {
     "name": "stdout",
     "output_type": "stream",
     "text": [
      "3\n"
     ]
    }
   ],
   "source": []
  },
  {
   "cell_type": "code",
   "execution_count": null,
   "id": "98e1a899",
   "metadata": {},
   "outputs": [],
   "source": []
  }
 ],
 "metadata": {
  "kernelspec": {
   "display_name": "Python 3 (ipykernel)",
   "language": "python",
   "name": "python3"
  },
  "language_info": {
   "codemirror_mode": {
    "name": "ipython",
    "version": 3
   },
   "file_extension": ".py",
   "mimetype": "text/x-python",
   "name": "python",
   "nbconvert_exporter": "python",
   "pygments_lexer": "ipython3",
   "version": "3.9.13"
  }
 },
 "nbformat": 4,
 "nbformat_minor": 5
}

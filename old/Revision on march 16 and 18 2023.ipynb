{
 "cells": [
  {
   "cell_type": "code",
   "execution_count": 1,
   "id": "eddc6639",
   "metadata": {},
   "outputs": [],
   "source": [
    "### print your name with your cat name"
   ]
  },
  {
   "cell_type": "code",
   "execution_count": 2,
   "id": "023e507c",
   "metadata": {},
   "outputs": [
    {
     "name": "stdout",
     "output_type": "stream",
     "text": [
      "my name is Andy my cat name is hapiy\n"
     ]
    }
   ],
   "source": [
    "print(\"my name is Andy my cat name is hapiy\")"
   ]
  },
  {
   "cell_type": "code",
   "execution_count": 3,
   "id": "0689193c",
   "metadata": {},
   "outputs": [],
   "source": [
    "## define two variables and get their sum division difference and prdouct"
   ]
  },
  {
   "cell_type": "code",
   "execution_count": 9,
   "id": "47b88a2f",
   "metadata": {},
   "outputs": [
    {
     "name": "stdout",
     "output_type": "stream",
     "text": [
      "Num6\n",
      "another Num2\n",
      "the quote/division is 3.0 the product is 12 the difference is 4 the sum is 8\n"
     ]
    }
   ],
   "source": [
    "s = input(\"Num\") \n",
    "j = input(\"another Num\")\n",
    "s = int(s)\n",
    "j = int(j)\n",
    "\n",
    "print(\"the quote/division is\",s/j,\"the product is\",s*j,\"the difference is\",s-j,\"the sum is\",s+j)"
   ]
  },
  {
   "cell_type": "code",
   "execution_count": 10,
   "id": "55ca00a8",
   "metadata": {},
   "outputs": [],
   "source": [
    "### make a list of 3 fruits and convert it to tuple and then set ... one by one print all of their types"
   ]
  },
  {
   "cell_type": "code",
   "execution_count": 12,
   "id": "d21cd2af",
   "metadata": {},
   "outputs": [
    {
     "name": "stdout",
     "output_type": "stream",
     "text": [
      "<class 'list'>\n",
      "<class 'tuple'>\n",
      "<class 'set'>\n"
     ]
    }
   ],
   "source": [
    "s = [\"apple\",\"banana\",\"cucumber\"]\n",
    "print(type(s))\n",
    "s = tuple(s)\n",
    "print(type(s))\n",
    "s = set(s)\n",
    "print(type(s))"
   ]
  },
  {
   "cell_type": "code",
   "execution_count": 13,
   "id": "e6b1fb46",
   "metadata": {},
   "outputs": [],
   "source": [
    "# make a dictionary of frutis and their colors "
   ]
  },
  {
   "cell_type": "code",
   "execution_count": 15,
   "id": "d1f865ee",
   "metadata": {},
   "outputs": [
    {
     "name": "stdout",
     "output_type": "stream",
     "text": [
      "the color of apple is red\n",
      "the color of orange is orange\n",
      "the color of banana is yellow\n"
     ]
    }
   ],
   "source": [
    "w = {\"apple\":\"red\",\"orange\":\"orange\",\"banana\":\"yellow\"}\n",
    "for each in w:\n",
    "    print(\"the color of\",each,\"is\",w[each])"
   ]
  },
  {
   "cell_type": "code",
   "execution_count": 16,
   "id": "78d8f5a1",
   "metadata": {},
   "outputs": [],
   "source": [
    "# defiene a variable temp = 99 # if temp is more than 100 then turn off stove \n",
    "## if temp is less then 90 then turn on stove\n",
    "## if temp is between 90 and 100 then do nothing "
   ]
  },
  {
   "cell_type": "code",
   "execution_count": 24,
   "id": "9220c96a",
   "metadata": {},
   "outputs": [
    {
     "name": "stdout",
     "output_type": "stream",
     "text": [
      "Temp = 7\n",
      "turn the stove\n"
     ]
    }
   ],
   "source": [
    "tempuature = input(\"Temp = \")\n",
    "tempuature=int(temp)\n",
    "if tempuature > 100:\n",
    "    print(\"close the stove\")\n",
    "elif tempuature < 90:\n",
    "    print(\"turn the stove\")\n",
    "else:\n",
    "    print(\"do nothing and eat right now or you will be starving\")"
   ]
  },
  {
   "cell_type": "code",
   "execution_count": 25,
   "id": "786aaffd",
   "metadata": {},
   "outputs": [],
   "source": [
    "### run a for loop to print counting from 1 - 50 and do not print between 10 to 40....."
   ]
  },
  {
   "cell_type": "code",
   "execution_count": 32,
   "id": "77ad28cf",
   "metadata": {},
   "outputs": [
    {
     "name": "stdout",
     "output_type": "stream",
     "text": [
      "0\n",
      "GOOD\n",
      "1\n",
      "GOOD\n",
      "2\n",
      "GOOD\n",
      "3\n",
      "GOOD\n",
      "4\n",
      "GOOD\n",
      "5\n",
      "GOOD\n",
      "6\n",
      "GOOD\n",
      "7\n",
      "GOOD\n",
      "8\n",
      "GOOD\n",
      "9\n",
      "GOOD\n",
      "41\n",
      "GOOD\n",
      "42\n",
      "GOOD\n",
      "43\n",
      "GOOD\n",
      "44\n",
      "GOOD\n",
      "45\n",
      "GOOD\n",
      "46\n",
      "GOOD\n",
      "47\n",
      "GOOD\n",
      "48\n",
      "GOOD\n",
      "49\n",
      "GOOD\n",
      "50\n",
      "GOOD\n"
     ]
    }
   ],
   "source": [
    "for each in range(51):\n",
    "    if each > 9 and each < 41:\n",
    "        pass\n",
    "    else:\n",
    "        print(each)\n",
    "        print(\"GOOD\")"
   ]
  },
  {
   "cell_type": "code",
   "execution_count": 38,
   "id": "443c0e06",
   "metadata": {},
   "outputs": [],
   "source": [
    "# use a while loop andd print counting from 1 to 50, do not print between 10 to 40"
   ]
  },
  {
   "cell_type": "code",
   "execution_count": 8,
   "id": "09fab955",
   "metadata": {},
   "outputs": [
    {
     "name": "stdout",
     "output_type": "stream",
     "text": [
      "1\n",
      "2\n",
      "3\n",
      "4\n",
      "5\n",
      "6\n",
      "7\n",
      "8\n",
      "9\n",
      "41\n",
      "42\n",
      "43\n",
      "44\n",
      "45\n",
      "46\n",
      "47\n",
      "48\n",
      "49\n",
      "50\n"
     ]
    }
   ],
   "source": [
    "p=1\n",
    "while p < 51:\n",
    "    if p < 41 and p > 9:\n",
    "        pass\n",
    "    else:\n",
    "        print(p)\n",
    "    p=p+1"
   ]
  },
  {
   "cell_type": "code",
   "execution_count": 9,
   "id": "17b8420b",
   "metadata": {},
   "outputs": [],
   "source": [
    "### using while loop can you print 1 to 100 but not 10 to 90"
   ]
  },
  {
   "cell_type": "code",
   "execution_count": 10,
   "id": "dc1495af",
   "metadata": {},
   "outputs": [
    {
     "name": "stdout",
     "output_type": "stream",
     "text": [
      "1\n",
      "2\n",
      "3\n",
      "4\n",
      "5\n",
      "6\n",
      "7\n",
      "8\n",
      "9\n",
      "91\n",
      "92\n",
      "93\n",
      "94\n",
      "95\n",
      "96\n",
      "97\n",
      "98\n",
      "99\n",
      "100\n"
     ]
    }
   ],
   "source": [
    "p=1\n",
    "while p < 101:\n",
    "    if p < 91 and p > 9:\n",
    "        pass\n",
    "    else:\n",
    "        print(p)\n",
    "    p=p+1"
   ]
  },
  {
   "cell_type": "code",
   "execution_count": 11,
   "id": "576dd6e0",
   "metadata": {},
   "outputs": [],
   "source": [
    "## do same using for loop"
   ]
  },
  {
   "cell_type": "code",
   "execution_count": 13,
   "id": "37aa4949",
   "metadata": {},
   "outputs": [
    {
     "name": "stdout",
     "output_type": "stream",
     "text": [
      "0\n",
      "GOOD\n",
      "1\n",
      "GOOD\n",
      "2\n",
      "GOOD\n",
      "3\n",
      "GOOD\n",
      "4\n",
      "GOOD\n",
      "5\n",
      "GOOD\n",
      "6\n",
      "GOOD\n",
      "7\n",
      "GOOD\n",
      "8\n",
      "GOOD\n",
      "9\n",
      "GOOD\n",
      "91\n",
      "GOOD\n",
      "92\n",
      "GOOD\n",
      "93\n",
      "GOOD\n",
      "94\n",
      "GOOD\n",
      "95\n",
      "GOOD\n",
      "96\n",
      "GOOD\n",
      "97\n",
      "GOOD\n",
      "98\n",
      "GOOD\n",
      "99\n",
      "GOOD\n",
      "100\n",
      "GOOD\n"
     ]
    }
   ],
   "source": [
    "for each in range(101):\n",
    "    if each > 9 and each < 91:\n",
    "        pass\n",
    "    else:\n",
    "        print(each)\n",
    "        print(\"GOOD\")"
   ]
  },
  {
   "cell_type": "code",
   "execution_count": 14,
   "id": "08c72c71",
   "metadata": {},
   "outputs": [
    {
     "name": "stdout",
     "output_type": "stream",
     "text": [
      "1\n",
      "2\n",
      "3\n",
      "4\n",
      "5\n",
      "6\n",
      "7\n",
      "8\n",
      "9\n",
      "41\n",
      "42\n",
      "43\n",
      "44\n",
      "45\n",
      "46\n",
      "47\n",
      "48\n",
      "49\n"
     ]
    }
   ],
   "source": [
    "for each in range(51):\n",
    "    if (each >=1  and each < 10) or (each<50 and each >40):\n",
    "        print(each)\n"
   ]
  },
  {
   "cell_type": "code",
   "execution_count": 15,
   "id": "575ecb21",
   "metadata": {},
   "outputs": [
    {
     "name": "stdout",
     "output_type": "stream",
     "text": [
      "0\n",
      "1\n",
      "2\n",
      "3\n",
      "4\n",
      "5\n",
      "6\n",
      "7\n",
      "8\n",
      "9\n",
      "41\n",
      "42\n",
      "43\n",
      "44\n",
      "45\n",
      "46\n",
      "47\n",
      "48\n",
      "49\n",
      "50\n"
     ]
    }
   ],
   "source": [
    "for each in range(51):\n",
    "    if not(each > 9 and each < 41):\n",
    "        print(each)\n",
    "    "
   ]
  },
  {
   "cell_type": "code",
   "execution_count": null,
   "id": "9a1cc5c2",
   "metadata": {},
   "outputs": [],
   "source": [
    "### functions today we "
   ]
  },
  {
   "cell_type": "code",
   "execution_count": 6,
   "id": "89a2a948",
   "metadata": {},
   "outputs": [
    {
     "name": "stdout",
     "output_type": "stream",
     "text": [
      "a\n"
     ]
    }
   ],
   "source": [
    "fruit = 'banana'\n",
    "len(fruit)\n",
    "length = len(fruit)\n",
    "last = fruit[length-1]\n",
    "print(last)"
   ]
  },
  {
   "cell_type": "code",
   "execution_count": 5,
   "id": "0a93b224",
   "metadata": {},
   "outputs": [
    {
     "name": "stdout",
     "output_type": "stream",
     "text": [
      "6\n"
     ]
    }
   ],
   "source": [
    "print(length)"
   ]
  },
  {
   "cell_type": "code",
   "execution_count": 7,
   "id": "c8c1a277",
   "metadata": {},
   "outputs": [
    {
     "name": "stdout",
     "output_type": "stream",
     "text": [
      "b\n",
      "a\n",
      "n\n",
      "a\n",
      "n\n",
      "a\n"
     ]
    }
   ],
   "source": [
    "index = 0\n",
    "while index < len(fruit):\n",
    "    letter = fruit[index]\n",
    "    print(letter)\n",
    "    index = index + 1"
   ]
  },
  {
   "cell_type": "code",
   "execution_count": 10,
   "id": "548e0785",
   "metadata": {},
   "outputs": [
    {
     "name": "stdout",
     "output_type": "stream",
     "text": [
      "21\n",
      "31\n",
      "uct.ac.za\n"
     ]
    }
   ],
   "source": [
    "data = 'From stephen.marquard@uct.ac.za Sat Jan 5 09:14:16 2008'\n"
   ]
  },
  {
   "cell_type": "code",
   "execution_count": 11,
   "id": "7f380a71",
   "metadata": {},
   "outputs": [
    {
     "name": "stdout",
     "output_type": "stream",
     "text": [
      "From stephen.marquard@uct.ac.za Sat Jan 5 09:14:16 2008\n"
     ]
    }
   ],
   "source": [
    "print(data)"
   ]
  },
  {
   "cell_type": "code",
   "execution_count": 14,
   "id": "1b902f32",
   "metadata": {},
   "outputs": [
    {
     "data": {
      "text/plain": [
       "21"
      ]
     },
     "execution_count": 14,
     "metadata": {},
     "output_type": "execute_result"
    }
   ],
   "source": [
    "s = data.find(\"@\")\n",
    "s"
   ]
  },
  {
   "cell_type": "code",
   "execution_count": 19,
   "id": "e4c614a4",
   "metadata": {},
   "outputs": [
    {
     "data": {
      "text/plain": [
       "'@uct.ac.za Sat Jan 5 09:14:16 2008'"
      ]
     },
     "execution_count": 19,
     "metadata": {},
     "output_type": "execute_result"
    }
   ],
   "source": [
    "data[21:]"
   ]
  },
  {
   "cell_type": "code",
   "execution_count": null,
   "id": "7d4e18b8",
   "metadata": {},
   "outputs": [],
   "source": []
  },
  {
   "cell_type": "code",
   "execution_count": null,
   "id": "5c213325",
   "metadata": {},
   "outputs": [],
   "source": []
  }
 ],
 "metadata": {
  "kernelspec": {
   "display_name": "Python 3 (ipykernel)",
   "language": "python",
   "name": "python3"
  },
  "language_info": {
   "codemirror_mode": {
    "name": "ipython",
    "version": 3
   },
   "file_extension": ".py",
   "mimetype": "text/x-python",
   "name": "python",
   "nbconvert_exporter": "python",
   "pygments_lexer": "ipython3",
   "version": "3.9.13"
  }
 },
 "nbformat": 4,
 "nbformat_minor": 5
}

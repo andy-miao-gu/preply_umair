{
 "cells": [
  {
   "cell_type": "code",
   "execution_count": 3,
   "id": "78764f23",
   "metadata": {},
   "outputs": [],
   "source": [
    "class animal:\n",
    "    def __init__(self, name, color, legs, arms):\n",
    "        self.name = name\n",
    "        self.color = color\n",
    "        self.legs = legs\n",
    "        self.arms = arms\n",
    "    def print_all(self):\n",
    "        print(f\"name is {self.name} color is {self.color} the {self.name} has {self.legs} legs  the {self.name} has {self.arms} arms\")\n",
    "        "
   ]
  },
  {
   "cell_type": "code",
   "execution_count": 4,
   "id": "e68fb339",
   "metadata": {},
   "outputs": [
    {
     "name": "stdout",
     "output_type": "stream",
     "text": [
      "name is monkey color is brown the monkey has 2 legs  the monkey has 0 arms\n"
     ]
    }
   ],
   "source": [
    "A1 = animal(\"monkey\", \"brown\", 2, 0)\n",
    "A1.print_all()"
   ]
  },
  {
   "cell_type": "code",
   "execution_count": 5,
   "id": "e55f33d4",
   "metadata": {},
   "outputs": [],
   "source": [
    "class mammals(animal):\n",
    "    def __init__(self, name, color, legs, arms):\n",
    "        super().__init__(name, color, legs, arms)"
   ]
  },
  {
   "cell_type": "code",
   "execution_count": 6,
   "id": "35ca83ad",
   "metadata": {},
   "outputs": [],
   "source": [
    "M1 = mammals(\"platypus\", \"light brown\", 4, 0)"
   ]
  },
  {
   "cell_type": "code",
   "execution_count": 7,
   "id": "928153d1",
   "metadata": {},
   "outputs": [
    {
     "name": "stdout",
     "output_type": "stream",
     "text": [
      "name is platypus color is light brown the platypus has 4 legs  the platypus has 0 arms\n"
     ]
    }
   ],
   "source": [
    "M1.print_all()"
   ]
  },
  {
   "cell_type": "code",
   "execution_count": 1,
   "id": "d88fb544",
   "metadata": {},
   "outputs": [],
   "source": [
    "import turtle\n",
    "\n",
    "class Wo(turtle.Turtle): # inherited turtle here\n",
    "    def __init__(self,color,position,shape):\n",
    "        super().__init__()\n",
    "        #self.penup()\n",
    "        self.color(color)\n",
    "        self.shape(shape)\n",
    "        self.goto(position)\n",
    "        #self.pendown()\n",
    "    def f200(self):\n",
    "        self.forward(200)\n",
    "    def rotate90(self):\n",
    "        self.right(90)\n",
    "        \n",
    "\n",
    "        "
   ]
  },
  {
   "cell_type": "code",
   "execution_count": 2,
   "id": "42d946d7",
   "metadata": {},
   "outputs": [],
   "source": [
    "class shapes(Wo):\n",
    "    def __init__(self,color,position,shape):\n",
    "        super().__init__(color,position,shape)\n",
    "    def make_square(self):\n",
    "        self.f200()\n",
    "        self.rotate90()\n",
    "        self.f200()\n",
    "        self.rotate90()\n",
    "        \n",
    "        self.f200()\n",
    "        self.rotate90()\n",
    "        self.f200()\n",
    "        self.rotate90()     \n",
    "    def make_circle(self):\n",
    "        for each in range(360):\n",
    "            self.forward(3)\n",
    "            self.right(1)\n",
    "    def make_triangle(self):\n",
    "        for each2 in range(3):\n",
    "            self.forward(225)\n",
    "            self.right(120)\n",
    "    def make_oval(self):\n",
    "        for each3 in range(68):\n",
    "            self.forward(3)\n",
    "            self.right(1)\n",
    "        self.right(45)\n",
    "        for each4 in range(68):\n",
    "            self.forward(3)\n",
    "            self.right(1)\n",
    "        for each5 in range(68):\n",
    "            self.forward(3)\n",
    "            self.right(1)\n",
    "        self.right(45)\n",
    "        for each6 in range(68):\n",
    "            self.forward(3)\n",
    "            self.right(1)\n",
    "    def make_rectangle(self):\n",
    "        self.forward(100)\n",
    "        self.rotate90()\n",
    "        self.f200()\n",
    "        self.rotate90()\n",
    "        self.forward(100)\n",
    "        self.rotate90()\n",
    "        self.f200()\n",
    "    def make_pentagon(self):\n",
    "        for each7 in range(5):\n",
    "            self.forward(100)\n",
    "            self.right(72)\n",
    "    def make_hexagon(self):\n",
    "        for eachy in range(6):\n",
    "            self.forward(200)\n",
    "            \n",
    "    def makeshape2(self):\n",
    "        self.make_square()\n",
    "        self.make_circle()\n",
    "        self.make_triangle()\n",
    "        self.make_oval()\n",
    "        self.make_rectangle()\n",
    "        self.make_pentagon\n",
    "        self.make_hexagon\n",
    "    def make_all_shapes(self):\n",
    "        self.makeshape2()"
   ]
  },
  {
   "cell_type": "code",
   "execution_count": 3,
   "id": "7fd485e0",
   "metadata": {
    "scrolled": true
   },
   "outputs": [],
   "source": [
    "z1 = shapes(\"Red\",(-100,200),\"circle\")\n",
    "\n",
    "### i will tell about zip later"
   ]
  },
  {
   "cell_type": "code",
   "execution_count": null,
   "id": "f22e1ae0",
   "metadata": {},
   "outputs": [],
   "source": [
    "z1.makeshape2()"
   ]
  },
  {
   "cell_type": "code",
   "execution_count": null,
   "id": "149e932b",
   "metadata": {},
   "outputs": [],
   "source": [
    "z1.make_hexagon()"
   ]
  },
  {
   "cell_type": "code",
   "execution_count": 35,
   "id": "5cf560bb",
   "metadata": {},
   "outputs": [],
   "source": [
    "z1.make_oval()"
   ]
  },
  {
   "cell_type": "code",
   "execution_count": 5,
   "id": "6bcb89aa",
   "metadata": {},
   "outputs": [],
   "source": [
    "z1.make_rectangle()\n",
    "z1.make_pentagon()"
   ]
  },
  {
   "cell_type": "code",
   "execution_count": 4,
   "id": "86b272ef",
   "metadata": {},
   "outputs": [],
   "source": [
    "z1.make_all_shapes()"
   ]
  },
  {
   "cell_type": "code",
   "execution_count": 3,
   "id": "75c10f7a",
   "metadata": {},
   "outputs": [
    {
     "name": "stdout",
     "output_type": "stream",
     "text": [
      "ur mom9\n"
     ]
    }
   ],
   "source": [
    "print (\"ur mom\")"
   ]
  },
  {
   "cell_type": "code",
   "execution_count": null,
   "id": "d5452d4d",
   "metadata": {},
   "outputs": [],
   "source": []
  },
  {
   "cell_type": "code",
   "execution_count": null,
   "id": "e745e333",
   "metadata": {},
   "outputs": [],
   "source": []
  },
  {
   "cell_type": "code",
   "execution_count": null,
   "id": "9cc96f9e",
   "metadata": {},
   "outputs": [],
   "source": []
  }
 ],
 "metadata": {
  "kernelspec": {
   "display_name": "Python 3 (ipykernel)",
   "language": "python",
   "name": "python3"
  },
  "language_info": {
   "codemirror_mode": {
    "name": "ipython",
    "version": 3
   },
   "file_extension": ".py",
   "mimetype": "text/x-python",
   "name": "python",
   "nbconvert_exporter": "python",
   "pygments_lexer": "ipython3",
   "version": "3.9.13"
  }
 },
 "nbformat": 4,
 "nbformat_minor": 5
}

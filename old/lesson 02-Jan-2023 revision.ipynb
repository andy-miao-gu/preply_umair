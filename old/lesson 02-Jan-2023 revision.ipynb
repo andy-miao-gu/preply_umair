{
 "cells": [
  {
   "cell_type": "markdown",
   "id": "c69025ce",
   "metadata": {},
   "source": [
    "'make two variables name and age print the name and age using print function'\n",
    "\n",
    "\n"
   ]
  },
  {
   "cell_type": "code",
   "execution_count": 5,
   "id": "9d1a6431",
   "metadata": {},
   "outputs": [
    {
     "name": "stdout",
     "output_type": "stream",
     "text": [
      "my name is andy and im am 8 years old\n"
     ]
    }
   ],
   "source": [
    "name = (\"andy\")\n",
    "age = 8\n",
    "print(\"my name is\",name,'and im am',age,'years old')"
   ]
  },
  {
   "cell_type": "code",
   "execution_count": 14,
   "id": "6837b38b",
   "metadata": {},
   "outputs": [
    {
     "name": "stdout",
     "output_type": "stream",
     "text": [
      "<class 'list'>\n",
      "i dont know fruits1\n",
      "i dont know fruits2\n",
      "i dont know fruits3\n",
      "i dont know fruits4\n",
      "i dont know fruits5\n"
     ]
    }
   ],
   "source": [
    "lst = [\"i dont know fruits1\",\"i dont know fruits2\",\"i dont know fruits3\",\"i dont know fruits4\",\"i dont know fruits5\"]\n",
    "print(type (lst))\n",
    "for i in lst:\n",
    "    print(i)\n",
    "       "
   ]
  },
  {
   "cell_type": "code",
   "execution_count": 13,
   "id": "1667b32f",
   "metadata": {},
   "outputs": [
    {
     "name": "stdout",
     "output_type": "stream",
     "text": [
      "<class 'tuple'>\n",
      "i dont know fruits1\n",
      "i dont know fruits2\n",
      "i dont know fruits3\n",
      "i dont know fruits4\n",
      "i dont know fruits5\n"
     ]
    }
   ],
   "source": [
    "lst = (\"i dont know fruits1\",\"i dont know fruits2\",\"i dont know fruits3\",\"i dont know fruits4\",\"i dont know fruits5\")\n",
    "print(type (lst))\n",
    "for i in lst:\n",
    "    print(i)\n",
    "       "
   ]
  },
  {
   "cell_type": "code",
   "execution_count": 15,
   "id": "cf4d0740",
   "metadata": {},
   "outputs": [
    {
     "name": "stdout",
     "output_type": "stream",
     "text": [
      "<class 'set'>\n",
      "i dont know fruits5\n",
      "i dont know fruits4\n",
      "i dont know fruits2\n",
      "i dont know fruits3\n",
      "i dont know fruits1\n"
     ]
    }
   ],
   "source": [
    "lst = {\"i dont know fruits1\",\"i dont know fruits2\",\"i dont know fruits3\",\"i dont know fruits4\",\"i dont know fruits5\"}\n",
    "print(type (lst))\n",
    "for i in lst:\n",
    "    print(i)"
   ]
  },
  {
   "cell_type": "code",
   "execution_count": 17,
   "id": "a136016d",
   "metadata": {},
   "outputs": [
    {
     "name": "stdout",
     "output_type": "stream",
     "text": [
      "<class 'dict'>\n",
      "vinilla ice cream\n",
      "vinilla\n",
      "chocolate ice cream\n",
      "chocolate\n",
      "strawberry ice cream\n",
      "strawberry\n"
     ]
    }
   ],
   "source": [
    "get_ice_cream = {\"vinilla ice cream\":\"vinilla\",\"chocolate ice cream\":\"chocolate\",\"strawberry ice cream\":\"strawberry\"}\n",
    "print(type(get_ice_cream))\n",
    "for wallhard in get_ice_cream:\n",
    "    print(wallhard)\n",
    "    print(get_ice_cream.get(wallhard))"
   ]
  },
  {
   "cell_type": "code",
   "execution_count": 21,
   "id": "202ba143",
   "metadata": {},
   "outputs": [
    {
     "name": "stdout",
     "output_type": "stream",
     "text": [
      "hello who_are_you\n"
     ]
    },
    {
     "data": {
      "text/plain": [
       "'hello i dont know_are_you'"
      ]
     },
     "execution_count": 21,
     "metadata": {},
     "output_type": "execute_result"
    }
   ],
   "source": [
    "v = \"hello who are you\"\n",
    "print(v)\n",
    "v.replace(\"who\",\"i dont know\")"
   ]
  },
  {
   "cell_type": "code",
   "execution_count": null,
   "id": "42ce30d3",
   "metadata": {},
   "outputs": [],
   "source": [
    "a = \"Umair\"\n",
    "print(\"Mr\",a,\"why are you a preply tutor\")"
   ]
  }
 ],
 "metadata": {
  "kernelspec": {
   "display_name": "Python 3 (ipykernel)",
   "language": "python",
   "name": "python3"
  },
  "language_info": {
   "codemirror_mode": {
    "name": "ipython",
    "version": 3
   },
   "file_extension": ".py",
   "mimetype": "text/x-python",
   "name": "python",
   "nbconvert_exporter": "python",
   "pygments_lexer": "ipython3",
   "version": "3.9.13"
  }
 },
 "nbformat": 4,
 "nbformat_minor": 5
}

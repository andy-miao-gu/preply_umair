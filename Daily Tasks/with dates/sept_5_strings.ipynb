{
 "cells": [
  {
   "cell_type": "markdown",
   "metadata": {},
   "source": [
    "#### Question 1: How do you concatenate two strings in Python?"
   ]
  },
  {
   "cell_type": "code",
   "execution_count": 7,
   "metadata": {},
   "outputs": [
    {
     "data": {
      "text/plain": [
       "'string and totally not string'"
      ]
     },
     "execution_count": 7,
     "metadata": {},
     "output_type": "execute_result"
    }
   ],
   "source": [
    "ccvv=\"string\" \n",
    "cv=\" and totally not string\"\n",
    "he=ccvv+cv\n",
    "he"
   ]
  },
  {
   "cell_type": "markdown",
   "metadata": {},
   "source": [
    "#### Question 2: What is the difference between single ('') and double (\"\") quotes when defining a string in Python?"
   ]
  },
  {
   "cell_type": "code",
   "execution_count": 8,
   "metadata": {},
   "outputs": [],
   "source": [
    "x = \"\"\n",
    "y = ''\n"
   ]
  },
  {
   "cell_type": "markdown",
   "metadata": {},
   "source": [
    "#### Question 3: How can you find the length of a string in Python?"
   ]
  },
  {
   "cell_type": "code",
   "execution_count": 11,
   "metadata": {},
   "outputs": [
    {
     "data": {
      "text/plain": [
       "31"
      ]
     },
     "execution_count": 11,
     "metadata": {},
     "output_type": "execute_result"
    }
   ],
   "source": [
    "x = \"andy and angela are my students\"\n",
    "v=x.split(\" \")\n",
    "len(v)\n",
    "len(x)"
   ]
  },
  {
   "cell_type": "markdown",
   "metadata": {},
   "source": [
    "#### Question 4: What is string slicing in Python, and how do you use it to extract a substring?"
   ]
  },
  {
   "cell_type": "code",
   "execution_count": 27,
   "metadata": {},
   "outputs": [
    {
     "name": "stdout",
     "output_type": "stream",
     "text": [
      " X big dat is Mr. Umair\n",
      "X\n",
      " \n",
      "b\n",
      "i\n",
      "g\n",
      " \n",
      "d\n",
      "a\n",
      "t\n",
      "a\n",
      " \n",
      " \n",
      "f\n",
      " \n",
      "p\n",
      "l\n",
      "d\n",
      "s\n",
      "a\n",
      "p\n",
      "p\n",
      "l\n",
      "e\n",
      " \n",
      "a\n",
      "r\n",
      "e\n",
      " \n",
      "Z\n"
     ]
    }
   ],
   "source": [
    "x = \"andy and X big data  f pldsapple are Z not friends\"\n",
    "We=\"is Mr. Umair\"\n",
    "print(x[8:18],We[0:],)\n",
    "c = 0\n",
    "for each in x:\n",
    "    if each == \"X\" or c == 1:\n",
    "        c = 1\n",
    "        print(each)\n",
    "    if each == \"Z\":\n",
    "        c = 0\n",
    "\n"
   ]
  },
  {
   "cell_type": "markdown",
   "metadata": {},
   "source": [
    "#### Question 5: How can you convert a string to all uppercase or all lowercase in Python?"
   ]
  },
  {
   "cell_type": "code",
   "execution_count": 31,
   "metadata": {},
   "outputs": [
    {
     "name": "stdout",
     "output_type": "stream",
     "text": [
      "guy gku gyh gujh yut yh gyug yt\n",
      "GUY GKU GYH GUJH YUT YH GYUG YT\n",
      "Guy Gku Gyh Gujh Yut Yh Gyug Yt\n"
     ]
    }
   ],
   "source": [
    "string=str\n",
    "str=\"GUY GKU GyH gujh yut yh gyug Yt\"\n",
    "print(str.lower())\n",
    "print(str.upper())\n",
    "print(str.title())"
   ]
  },
  {
   "cell_type": "markdown",
   "metadata": {},
   "source": [
    "#### Question 6: How do you check if a specific word or substring exists within a string in Python?"
   ]
  },
  {
   "cell_type": "code",
   "execution_count": 36,
   "metadata": {},
   "outputs": [
    {
     "name": "stdout",
     "output_type": "stream",
     "text": [
      "i am a true detector\n"
     ]
    }
   ],
   "source": [
    "we=\"                      hi my name is andy why is that i dont know        \"\n",
    "if \"that\" in we:\n",
    "    print(\"i am a true detector\")\n",
    "else:\n",
    "    print(\"i am groot i am groot i am groot i am groot i am groot i am groot i am groot i am groot\")"
   ]
  },
  {
   "cell_type": "markdown",
   "metadata": {},
   "source": [
    "#### Question 7: What is the purpose of the `strip()` method in Python strings, and how is it used?"
   ]
  },
  {
   "cell_type": "code",
   "execution_count": 43,
   "metadata": {},
   "outputs": [],
   "source": [
    "we=we.strip()"
   ]
  },
  {
   "cell_type": "markdown",
   "metadata": {},
   "source": [
    "#### Question 8: How do you replace a specific substring within a string with another substring in Python?"
   ]
  },
  {
   "cell_type": "code",
   "execution_count": 39,
   "metadata": {},
   "outputs": [
    {
     "data": {
      "text/plain": [
       "'                      hi my name is angela why why is that i dont know        '"
      ]
     },
     "execution_count": 39,
     "metadata": {},
     "output_type": "execute_result"
    }
   ],
   "source": [
    "we\n",
    "we.replace(\"andy\",\"angela why\")"
   ]
  },
  {
   "cell_type": "markdown",
   "metadata": {},
   "source": [
    "#### Question 9: What is the difference between `split()` and `join()` methods in Python strings?"
   ]
  },
  {
   "cell_type": "code",
   "execution_count": 48,
   "metadata": {},
   "outputs": [
    {
     "data": {
      "text/plain": [
       "'hi andy my andy name andy is andy andy andy why andy is andy that andy i andy dont andy know'"
      ]
     },
     "execution_count": 48,
     "metadata": {},
     "output_type": "execute_result"
    }
   ],
   "source": [
    "apple = we.split(\" \")\n",
    "empty = \" andy \"\n",
    "empty.join(apple)"
   ]
  },
  {
   "cell_type": "markdown",
   "metadata": {},
   "source": [
    "#### Question 10: How can you reverse a string in Python?"
   ]
  },
  {
   "cell_type": "code",
   "execution_count": 51,
   "metadata": {},
   "outputs": [
    {
     "data": {
      "text/plain": [
       "'wonk tnod i taht si yhw ydna si eman ym ih'"
      ]
     },
     "execution_count": 51,
     "metadata": {},
     "output_type": "execute_result"
    }
   ],
   "source": [
    "we[::-1]"
   ]
  },
  {
   "cell_type": "markdown",
   "metadata": {},
   "source": [
    "### make a string andy write it 10 times\n",
    "### make a string angela write it 10 time\n",
    "### and add them together\n",
    "### finally string should look like andy angela andy angela andy angela\n",
    "\n"
   ]
  },
  {
   "cell_type": "code",
   "execution_count": 54,
   "metadata": {},
   "outputs": [
    {
     "name": "stdout",
     "output_type": "stream",
     "text": [
      "Andy Angela Andy Angela Andy Angela Andy Angela Andy Angela Andy Angela Andy Angela Andy Angela Andy Angela Andy Angela \n"
     ]
    }
   ],
   "source": [
    "stringj=\"Andy Angela \"\n",
    "print(stringj*10)"
   ]
  },
  {
   "cell_type": "code",
   "execution_count": 58,
   "metadata": {},
   "outputs": [
    {
     "name": "stdout",
     "output_type": "stream",
     "text": [
      "andy angela\n",
      "andy angela\n",
      "andy angela\n",
      "andy angela\n",
      "andy angela\n",
      "andy angela\n",
      "andy angela\n",
      "andy angela\n",
      "andy angela\n",
      "andy angela\n"
     ]
    }
   ],
   "source": [
    "s1 = \"andy \"* 10\n",
    "s2 = \"angela \"* 10\n",
    "s3 = s1+s2\n",
    "# you can not change abve code\n",
    "s3\n",
    "# change it to split\n",
    "l1 = s3.split()\n",
    "l1\n",
    "for each in range(int(len(l1)/2)):\n",
    "    print(l1[each],l1[each+10])"
   ]
  },
  {
   "cell_type": "code",
   "execution_count": null,
   "metadata": {},
   "outputs": [],
   "source": []
  }
 ],
 "metadata": {
  "kernelspec": {
   "display_name": "base",
   "language": "python",
   "name": "python3"
  },
  "language_info": {
   "codemirror_mode": {
    "name": "ipython",
    "version": 3
   },
   "file_extension": ".py",
   "mimetype": "text/x-python",
   "name": "python",
   "nbconvert_exporter": "python",
   "pygments_lexer": "ipython3",
   "version": "3.10.9"
  },
  "orig_nbformat": 4
 },
 "nbformat": 4,
 "nbformat_minor": 2
}

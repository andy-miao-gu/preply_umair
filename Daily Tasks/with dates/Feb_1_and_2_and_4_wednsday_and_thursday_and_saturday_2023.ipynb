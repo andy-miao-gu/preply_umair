{
 "cells": [
  {
   "cell_type": "code",
   "execution_count": 15,
   "id": "4cfe9657",
   "metadata": {},
   "outputs": [],
   "source": [
    "class restaurant:\n",
    "    def __init__(self,name, cuisine_type):\n",
    "        self.nm = name\n",
    "        self.ct = cuisine_type\n",
    "    def describe_restaraunt(self):\n",
    "        print(\"name is \",self.nm,\"type is \",self.ct,\"its open\")  "
   ]
  },
  {
   "cell_type": "code",
   "execution_count": 6,
   "id": "b1f00abb",
   "metadata": {},
   "outputs": [],
   "source": [
    "a = restaurant(\"Mc Donalds\",\"fast-food\")"
   ]
  },
  {
   "cell_type": "code",
   "execution_count": 7,
   "id": "d814a018",
   "metadata": {},
   "outputs": [
    {
     "name": "stdout",
     "output_type": "stream",
     "text": [
      "name is  Mc Donalds type is  fast-food its open\n"
     ]
    }
   ],
   "source": [
    "a.describe_restaraunt()"
   ]
  },
  {
   "cell_type": "code",
   "execution_count": 8,
   "id": "4aa8ae5e",
   "metadata": {},
   "outputs": [],
   "source": [
    "b = restaurant(\"KFC\",\"fast food\")"
   ]
  },
  {
   "cell_type": "code",
   "execution_count": 12,
   "id": "96b365bd",
   "metadata": {},
   "outputs": [
    {
     "name": "stdout",
     "output_type": "stream",
     "text": [
      "name is  KFC type is  fast food its open\n"
     ]
    }
   ],
   "source": [
    "b.describe_restaraunt()"
   ]
  },
  {
   "cell_type": "code",
   "execution_count": 17,
   "id": "4798ca7b",
   "metadata": {},
   "outputs": [],
   "source": [
    "c = restaurant(\"wendy's\",\"fast food\")"
   ]
  },
  {
   "cell_type": "code",
   "execution_count": 18,
   "id": "236506dd",
   "metadata": {},
   "outputs": [
    {
     "name": "stdout",
     "output_type": "stream",
     "text": [
      "name is  wendy's type is  fast food its open\n"
     ]
    }
   ],
   "source": [
    "c.describe_restaraunt()"
   ]
  },
  {
   "cell_type": "code",
   "execution_count": 31,
   "id": "00582a47",
   "metadata": {},
   "outputs": [],
   "source": [
    "class User:\n",
    "    def __init__(self,first_name, last_name):\n",
    "        self.first = first_name\n",
    "        self.last = last_name\n",
    "    def describe_User(self):\n",
    "        print(\"your user is\",self.first,\"and you last name is\",self.last)\n",
    "    def greet_user(self):\n",
    "        print(\"hello\",self.first,self.last)\n",
    "    def set_name(self,new_first_name,new_last_name):\n",
    "        self.first = new_first_name\n",
    "        self.last = new_last_name"
   ]
  },
  {
   "cell_type": "code",
   "execution_count": 32,
   "id": "b2bda4d5",
   "metadata": {},
   "outputs": [],
   "source": [
    "yy = User(\"yy\",\"tt\")"
   ]
  },
  {
   "cell_type": "code",
   "execution_count": 33,
   "id": "dc44c5e1",
   "metadata": {},
   "outputs": [
    {
     "name": "stdout",
     "output_type": "stream",
     "text": [
      "your user is yy and you last name is tt\n",
      "hello yy tt\n"
     ]
    }
   ],
   "source": [
    "yy.describe_User()\n",
    "yy.greet_user()"
   ]
  },
  {
   "cell_type": "code",
   "execution_count": 34,
   "id": "1dcc323f",
   "metadata": {},
   "outputs": [],
   "source": [
    "yy.set_name(\"andy\",\"miao\")"
   ]
  },
  {
   "cell_type": "code",
   "execution_count": 35,
   "id": "7995cc31",
   "metadata": {},
   "outputs": [
    {
     "name": "stdout",
     "output_type": "stream",
     "text": [
      "your user is andy and you last name is gu\n",
      "hello andy gu\n"
     ]
    }
   ],
   "source": [
    "yy.describe_User()\n",
    "yy.greet_user()"
   ]
  },
  {
   "cell_type": "code",
   "execution_count": 41,
   "id": "62efc47a",
   "metadata": {},
   "outputs": [],
   "source": [
    "class restaurant:\n",
    "    def __init__(self,name, cuisine_type,number_serve=0):\n",
    "        self.nm = name\n",
    "        self.ct = cuisine_type\n",
    "        self.ns = number_serve\n",
    "    def describe_restaraunt(self):\n",
    "        print(\" the name is \",self.nm,\"type is \",self.ct,\"its open\",\n",
    "             \"number of people serverd by restaraunt\",self.ns)\n",
    "    def set_number_serve(self,new_number):\n",
    "        self.ns = new_number\n",
    "    \n",
    "    \n",
    "    ### continue 9.4\n",
    "    "
   ]
  },
  {
   "cell_type": "code",
   "execution_count": 50,
   "id": "83dddb1a",
   "metadata": {
    "scrolled": true
   },
   "outputs": [
    {
     "name": "stdout",
     "output_type": "stream",
     "text": [
      " the name is  1⭐️ type is  breakfast1 its open number of people serverd by restaraunt 0\n",
      " the name is  2⭐️ type is  lunch its open number of people serverd by restaraunt 0\n",
      " the name is  3⭐️ type is  dinner its open number of people serverd by restaraunt 0\n",
      " the name is  4⭐️ type is  breakfast2 its open number of people serverd by restaraunt 0\n"
     ]
    }
   ],
   "source": [
    "r1 = restaurant(\"1⭐️\",\"breakfast1\")\n",
    "r2 = restaurant(\"2⭐️\",\"lunch\")\n",
    "r3 = restaurant(\"3⭐️\",\"dinner\")\n",
    "r4 = restaurant(\"4⭐️\",\"breakfast2\")\n",
    "all_r = [r1,r2,r3,r4]\n",
    "for e in all_r:\n",
    "    e.describe_restaraunt()"
   ]
  },
  {
   "cell_type": "code",
   "execution_count": 44,
   "id": "77999271",
   "metadata": {},
   "outputs": [],
   "source": [
    "r1.set_number_serve(12)"
   ]
  },
  {
   "cell_type": "code",
   "execution_count": 45,
   "id": "bd8de733",
   "metadata": {},
   "outputs": [
    {
     "name": "stdout",
     "output_type": "stream",
     "text": [
      " the name is  5⭐️ type is  dinner its open number of people serverd by restaraunt 12\n"
     ]
    }
   ],
   "source": [
    "r1.describe_restaraunt()"
   ]
  },
  {
   "cell_type": "code",
   "execution_count": 71,
   "id": "ed24aa29",
   "metadata": {},
   "outputs": [],
   "source": [
    "class User:\n",
    "    def __init__(self,first_name, last_name,login_attempts):\n",
    "        self.first = first_name\n",
    "        self.last = last_name\n",
    "        self.login = login_attempts\n",
    "    def describe_User(self):\n",
    "        print(\"your user is\",self.first,\"and you last name is\",self.last,\n",
    "             \"login attempts\",self.login)\n",
    "    def greet_user(self):\n",
    "        print(\"hello\",self.first,self.last)\n",
    "    def set_name(self,new_first_name,new_last_name):\n",
    "        self.first = new_first_name\n",
    "        self.last = new_last_name\n",
    "    def increment_login_attempts(self):\n",
    "        self.login = self.login + 1\n",
    "    def reset_login_attempts(self):\n",
    "        self.login = 0"
   ]
  },
  {
   "cell_type": "code",
   "execution_count": 3,
   "id": "44837d63",
   "metadata": {},
   "outputs": [],
   "source": [
    "u = User(\"rr\",\"ff\",800)\n"
   ]
  },
  {
   "cell_type": "code",
   "execution_count": 4,
   "id": "ae6f4492",
   "metadata": {},
   "outputs": [
    {
     "name": "stdout",
     "output_type": "stream",
     "text": [
      "your user is rr and you last name is ff login attempts 800\n"
     ]
    }
   ],
   "source": [
    "u.describe_User()\n",
    "u.increment_login_attempts()\n",
    "u.reset_login_attempts()"
   ]
  },
  {
   "cell_type": "code",
   "execution_count": 5,
   "id": "d683d617",
   "metadata": {},
   "outputs": [
    {
     "name": "stdout",
     "output_type": "stream",
     "text": [
      "your user is rr and you last name is ff login attempts 0\n"
     ]
    }
   ],
   "source": [
    "u.describe_User()"
   ]
  },
  {
   "cell_type": "code",
   "execution_count": 7,
   "id": "49a5ba96",
   "metadata": {},
   "outputs": [],
   "source": [
    "class restaurant:\n",
    "    def __init__(self,name, cuisine_type,number_serve=0):\n",
    "        self.nm = name\n",
    "        self.ct = cuisine_type\n",
    "        self.ns = number_serve\n",
    "    def describe_restaraunt(self):\n",
    "        print(\" the name is \",self.nm,\"type is \",self.ct,\"its open\",\n",
    "             \"number of people serverd by restaraunt\",self.ns)\n",
    "    def set_number_serve(self,new_number):\n",
    "        self.ns = new_number"
   ]
  },
  {
   "cell_type": "code",
   "execution_count": 33,
   "id": "1e56979d",
   "metadata": {},
   "outputs": [
    {
     "name": "stdout",
     "output_type": "stream",
     "text": [
      "all the flavors are  ['apple', 'mango', 'chocolate', 'vinalla']\n"
     ]
    }
   ],
   "source": [
    "class IceCreamStand(restaurant):# inherit done\n",
    "    ### we will continue next time\n",
    "    def __init__(self,name, cuisine_type,number_serve,flavor):\n",
    "        super().__init__(name, cuisine_type,number_serve)\n",
    "        self.flv = flavor\n",
    "    def desc2(self):\n",
    "        print(\"all the flavors are \", self.flv)\n",
    "    \n",
    "i = IceCreamStand(\"stand\",\"ice-cream\",10,['apple','mango','chocolate','vinalla'])\n",
    "i.desc2()\n",
    "    \n",
    "    "
   ]
  },
  {
   "cell_type": "markdown",
   "id": "5955453c",
   "metadata": {},
   "source": []
  },
  {
   "cell_type": "code",
   "execution_count": 34,
   "id": "30ed56f6",
   "metadata": {},
   "outputs": [
    {
     "name": "stdout",
     "output_type": "stream",
     "text": [
      "all the  privileges are ['blue', 'green']\n"
     ]
    }
   ],
   "source": [
    "class Privileges(a):\n",
    "    def __init__(self, privileges):\n",
    "        self.pives =  privileges\n",
    "        print(\"all the  privileges are\",self.pives)\n",
    "        \n",
    "        \n",
    "ll =  Privileges([\"blue\",\"green\"])"
   ]
  },
  {
   "cell_type": "markdown",
   "id": "32303f1f",
   "metadata": {},
   "source": []
  },
  {
   "cell_type": "markdown",
   "id": "d6a272a0",
   "metadata": {},
   "source": [
    "######  An administrator is a special kind of user . Write a class called Admin that inherits from the User class you wrote in Exercise 9-3 (page 166)\n",
    "###### or Exercise 9-5 (page 171) . Add an attribute, privileges, that stores a list\n",
    "###### of strings like \"can add post\", \"can delete post\", \"can ban user\", and so on . Write a method called show_privileges() that lists the administrator’s set of privileges . Create an instance of Admin, and call your method ."
   ]
  },
  {
   "cell_type": "code",
   "execution_count": null,
   "id": "fe029468",
   "metadata": {},
   "outputs": [],
   "source": []
  },
  {
   "cell_type": "code",
   "execution_count": null,
   "id": "9b71fb54",
   "metadata": {},
   "outputs": [],
   "source": []
  },
  {
   "cell_type": "markdown",
   "id": "fc8e8bdb",
   "metadata": {},
   "source": [
    "###### 9-8. Privileges: Write a separate Privileges class . The class should have one attribute, privileges, that stores a list of strings as described in Exercise 9-7 . Move the show_privileges() method to this class . Make a Privileges instance as an attribute in the Admin class . Create a new instance of Admin and use your method to show its privileges .\n"
   ]
  },
  {
   "cell_type": "markdown",
   "id": "cb305cb4",
   "metadata": {},
   "source": [
    "###### 9-9. Battery Upgrade: Use the final version of electric_car.py from this section . Add a method to the Battery class called upgrade_battery() . This method should check the battery size and set the capacity to 85 if it isn’t already . Make an electric car with a default battery size, call get_range() once, and then call get_range() a second time after upgrading the battery . You should see an increase in the car’s range"
   ]
  },
  {
   "cell_type": "code",
   "execution_count": 75,
   "id": "32d41ead",
   "metadata": {},
   "outputs": [
    {
     "name": "stdout",
     "output_type": "stream",
     "text": [
      "your user is admin and you last name is admin login attempts 0\n"
     ]
    }
   ],
   "source": [
    "class admin(User):\n",
    "    def __init__(self,privileges):\n",
    "        User.__init__(self,\"admin\", \"admin\",0)\n",
    "        self.prv  = privileges\n",
    "\n",
    "a1 = admin(\"done\")\n",
    "a1.describe_User()"
   ]
  },
  {
   "cell_type": "code",
   "execution_count": 34,
   "id": "396fe193",
   "metadata": {},
   "outputs": [
    {
     "name": "stdout",
     "output_type": "stream",
     "text": [
      "all the  privileges are ['blue', 'green']\n"
     ]
    }
   ],
   "source": [
    "class Privileges(admin):\n",
    "    def __init__(self, privileges):\n",
    "        self.pives =  privileges\n",
    "        print(\"all the  privileges are\",self.pives)\n",
    "        \n",
    "        \n",
    "ll =  Privileges([\"blue\",\"green\"])"
   ]
  },
  {
   "cell_type": "code",
   "execution_count": 66,
   "id": "df1dfe4c",
   "metadata": {},
   "outputs": [],
   "source": [
    "class Battery():\n",
    "    def __init__(self,electric_car_py=40):\n",
    "        self.epc = electric_car_py \n",
    "    def upgrade_battery(self):\n",
    "        if self.epc != 85:\n",
    "            self.epc = 85\n",
    "    def get_range(self):\n",
    "        print(\"the battery of th car is\",self.epc)"
   ]
  },
  {
   "cell_type": "code",
   "execution_count": 67,
   "id": "d9576761",
   "metadata": {},
   "outputs": [
    {
     "name": "stdout",
     "output_type": "stream",
     "text": [
      "the battery of th car is 7\n",
      "the battery of th car is 85\n"
     ]
    }
   ],
   "source": [
    "xa = Battery(7)\n",
    "xa.get_range()\n",
    "xa.upgrade_battery()\n",
    "xa.get_range()"
   ]
  },
  {
   "cell_type": "code",
   "execution_count": 62,
   "id": "88f2c2c3",
   "metadata": {},
   "outputs": [
    {
     "name": "stdout",
     "output_type": "stream",
     "text": [
      "Make an electric car, and check the range:\n",
      "This car can go approximately 260 miles on a full charge.\n",
      "\n",
      "Upgrade the battery, and check the range again:\n",
      "Upgraded the battery to 100 kWh.\n",
      "This car can go approximately 315 miles on a full charge.\n"
     ]
    }
   ],
   "source": [
    "class Car():\n",
    "    \"\"\"A simple attempt to represent a car.\"\"\"\n",
    "\n",
    "    def __init__(self, manufacturer, model, year):\n",
    "        \"\"\"Initialize attributes to describe a car.\"\"\"\n",
    "        self.manufacturer = manufacturer\n",
    "        self.model = model\n",
    "        self.year = year\n",
    "        self.odometer_reading = 0\n",
    "        \n",
    "    def get_descriptive_name(self):\n",
    "        \"\"\"Return a neatly formatted descriptive name.\"\"\"\n",
    "        long_name = f\"{self.year} {self.manufacturer} {self.model}\"\n",
    "        return long_name.title()\n",
    "    \n",
    "    def read_odometer(self):\n",
    "        \"\"\"Print a statement showing the car's mileage.\"\"\"\n",
    "        print(f\"This car has {self.odometer_reading} miles on it.\")\n",
    "        \n",
    "    def update_odometer(self, mileage):\n",
    "        \"\"\"\n",
    "        Set the odometer reading to the given value.\n",
    "        Reject the change if it attempts to roll the odometer back.\n",
    "        \"\"\"\n",
    "        if mileage >= self.odometer_reading:\n",
    "            self.odometer_reading = mileage\n",
    "        else:\n",
    "            print(\"You can't roll back an odometer!\")\n",
    "    \n",
    "    def increment_odometer(self, miles):\n",
    "        \"\"\"Add the given amount to the odometer reading.\"\"\"\n",
    "        self.odometer_reading += miles\n",
    "\n",
    "class Battery():\n",
    "    \"\"\"A simple attempt to model a battery for an electric car.\"\"\"\n",
    "\n",
    "    def __init__(self, battery_size=75):\n",
    "        \"\"\"Initialize the batteery's attributes.\"\"\"\n",
    "        self.battery_size = battery_size\n",
    "\n",
    "    def describe_battery(self):\n",
    "        \"\"\"Print a statement describing the battery size.\"\"\"\n",
    "        print(f\"This car has a {self.battery_size}-kWh battery.\")\n",
    "\n",
    "    def get_range(self):\n",
    "        \"\"\"Print a statement about the range this battery provides.\"\"\"\n",
    "        if self.battery_size == 75:\n",
    "            range = 260\n",
    "        elif self.battery_size == 100:\n",
    "            range = 315\n",
    "            \n",
    "        message = f\"This car can go approximately {range}\"\n",
    "        message += \" miles on a full charge.\"\n",
    "        print(message)\n",
    "\n",
    "    def upgrade_battery(self):\n",
    "        \"\"\"Upgrade the battery if possible.\"\"\"\n",
    "        if self.battery_size == 75:\n",
    "            self.battery_size = 100\n",
    "            print(\"Upgraded the battery to 100 kWh.\")\n",
    "        else:\n",
    "            print(\"The battery is already upgraded.\")\n",
    "    \n",
    "        \n",
    "class ElectricCar(Car):\n",
    "    \"\"\"Models aspects of a car, specific to electric vehicles.\"\"\"\n",
    "\n",
    "    def __init__(self, manufacturer, model, year):\n",
    "        \"\"\"\n",
    "        Initialize attributes of the parent class.\n",
    "        Then initialize attributes specific to an electric car.\n",
    "        \"\"\"\n",
    "        super().__init__(manufacturer, model, year)\n",
    "        self.battery = Battery()\n",
    "\n",
    "\n",
    "print(\"Make an electric car, and check the range:\")\n",
    "my_tesla = ElectricCar('tesla', 'roadster', 2019)\n",
    "my_tesla.battery.get_range()\n",
    "\n",
    "print(\"\\nUpgrade the battery, and check the range again:\")\n",
    "my_tesla.battery.upgrade_battery()\n",
    "my_tesla.battery.get_range()"
   ]
  },
  {
   "cell_type": "markdown",
   "id": "f155206e",
   "metadata": {},
   "source": [
    " \"\"\"\n",
    "\n",
    "9-10. Imported Restaurant: Using your latest Restaurant class, store it in a module . Make a separate file that imports Restaurant . Make a Restaurant instance, and call one of Restaurant’s methods to show that the import statement is work- ing properly . \n",
    "<br/>\n",
    "\n",
    "9-11. Imported Admin: Start with your work from Exercise 9-8 (page 178) . Store the classes User, Privileges, and Admin in one module . Create a sepa- rate file, make an Admin instance, and call show_privileges() to show that everything is working correctly .\n",
    "<br/>\n",
    "\n",
    "9-12. Multiple Modules: Store the User class in one module, and store the Privileges and Admin classes in a separate module . In a separate file, create an Admin instance and call show_privileges() to show that everything is still working correctly .\n",
    "\n",
    "\n",
    "\"\"\""
   ]
  },
  {
   "cell_type": "markdown",
   "id": "3e537fcd",
   "metadata": {},
   "source": []
  }
 ],
 "metadata": {
  "kernelspec": {
   "display_name": "Python 3 (ipykernel)",
   "language": "python",
   "name": "python3"
  },
  "language_info": {
   "codemirror_mode": {
    "name": "ipython",
    "version": 3
   },
   "file_extension": ".py",
   "mimetype": "text/x-python",
   "name": "python",
   "nbconvert_exporter": "python",
   "pygments_lexer": "ipython3",
   "version": "3.9.13"
  }
 },
 "nbformat": 4,
 "nbformat_minor": 5
}

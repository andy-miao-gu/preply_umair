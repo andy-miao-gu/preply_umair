{
 "cells": [
  {
   "cell_type": "code",
   "execution_count": 14,
   "id": "edd957d0",
   "metadata": {},
   "outputs": [
    {
     "ename": "SyntaxError",
     "evalue": "invalid syntax (3133579176.py, line 1)",
     "output_type": "error",
     "traceback": [
      "\u001b[0;36m  File \u001b[0;32m\"/var/folders/0k/rfc7l8w10vg2gy6fqthn9r9r0000gn/T/ipykernel_33183/3133579176.py\"\u001b[0;36m, line \u001b[0;32m1\u001b[0m\n\u001b[0;31m    class\u001b[0m\n\u001b[0m         ^\u001b[0m\n\u001b[0;31mSyntaxError\u001b[0m\u001b[0;31m:\u001b[0m invalid syntax\n"
     ]
    }
   ],
   "source": []
  },
  {
   "cell_type": "code",
   "execution_count": 12,
   "id": "2dd6ed86",
   "metadata": {},
   "outputs": [],
   "source": [
    "class Dog():\n",
    "        \"\"\"A simple attempt to model a dog.\"\"\"\n",
    "\n",
    "    def __init__(self, name, age):\n",
    "        \"\"\"Initialize name and age attributes.\"\"\"\n",
    "        self.name = name \n",
    "        self.age = age\n",
    "        self.pose = \"sleeping\"\n",
    "\n",
    "    def sit(self):\n",
    "        \"\"\"Simulate a dog sitting in response to a command.\"\"\" \n",
    "        print(self.name.title() + \" is now sitting.\")\n",
    "        self.pose=\"sit\"\n",
    "\n",
    "    def roll_over(self):\n",
    "        \"\"\"Simulate rolling over in response to a command.\"\"\"\n",
    "        print(self.name.title() + \" rolled over!\")\n",
    "        self.pose=\"roll over\"\n",
    "\n",
    "    def stand_up(self):\n",
    "\n",
    "        \"\"\"Simulate stand up in response to a command.\"\"\"\n",
    "        print(self.name.title() + \" Standed up.\")\n",
    "        self.pose=\"stand up\"\n",
    "\n",
    "    def tell_pose(self):\n",
    "        print(self.name.title() + \" is \"+self.pose)\n"
   ]
  },
  {
   "cell_type": "code",
   "execution_count": 7,
   "id": "daa10cec",
   "metadata": {},
   "outputs": [],
   "source": [
    "d=Dog(\"puppy\",\"X\")"
   ]
  },
  {
   "cell_type": "code",
   "execution_count": 16,
   "id": "9c0814c7",
   "metadata": {},
   "outputs": [
    {
     "name": "stdout",
     "output_type": "stream",
     "text": [
      "Puppy rolled over!\n"
     ]
    }
   ],
   "source": [
    "d.roll_over()"
   ]
  },
  {
   "cell_type": "code",
   "execution_count": 14,
   "id": "ef297d92",
   "metadata": {},
   "outputs": [
    {
     "name": "stdout",
     "output_type": "stream",
     "text": [
      "Puppy Standed up.\n"
     ]
    }
   ],
   "source": [
    "d.stand_up()"
   ]
  },
  {
   "cell_type": "code",
   "execution_count": 57,
   "id": "83c89e97",
   "metadata": {},
   "outputs": [
    {
     "name": "stdout",
     "output_type": "stream",
     "text": [
      "Puppy is now sitting.\n"
     ]
    }
   ],
   "source": [
    "d.sit()"
   ]
  },
  {
   "cell_type": "code",
   "execution_count": 17,
   "id": "857031c0",
   "metadata": {},
   "outputs": [
    {
     "name": "stdout",
     "output_type": "stream",
     "text": [
      "Puppy is roll over\n"
     ]
    }
   ],
   "source": [
    "d.tell_pose()"
   ]
  },
  {
   "cell_type": "code",
   "execution_count": 29,
   "id": "c0c3fdce",
   "metadata": {},
   "outputs": [],
   "source": [
    "class dog():\n",
    "    \"\"\"a dog's action\"\"\"\n",
    "    \n",
    "    \n",
    "    def __init__(self,name,age):\n",
    "        self.name = name \n",
    "        self.age = age\n",
    "        self.pose = \"sleeping\"\n",
    "    \n",
    "    def sit(self):\n",
    "        \"\"\"a dog is sitting\"\"\"\n",
    "        print(self.name.title + \"is now sitting\")\n",
    "        \n",
    "    def roll_over(self):\n",
    "        \"\"\"a dog is rolled over\"\"\"\n",
    "        print(self.name.title + \"is now rolling over things\")\n",
    "    \n",
    "    def stand_up(self):\n",
    "        \"\"\"a dog standed up\"\"\"\n",
    "        print(self.name.title + \"is now standing up\")\n",
    "    \n",
    "    def dead_dog(self):\n",
    "        \"\"\"a dog is dead\"\"\"\n",
    "        print(self.name.title + \"is now dead\")\n",
    "    \n",
    "    def tell_pose(self):\n",
    "        print(self.name.title() + \" is \" + self.pose+\"ing\")"
   ]
  },
  {
   "cell_type": "code",
   "execution_count": 30,
   "id": "2e775f43",
   "metadata": {},
   "outputs": [],
   "source": [
    "d=Dog(\"puppy\",\"X\")"
   ]
  },
  {
   "cell_type": "code",
   "execution_count": 84,
   "id": "e2ad9e4e",
   "metadata": {},
   "outputs": [
    {
     "name": "stdout",
     "output_type": "stream",
     "text": [
      "Puppy rolled over!\n"
     ]
    }
   ],
   "source": [
    "d.roll_over()"
   ]
  },
  {
   "cell_type": "code",
   "execution_count": 79,
   "id": "23d9f161",
   "metadata": {},
   "outputs": [
    {
     "name": "stdout",
     "output_type": "stream",
     "text": [
      "Puppy Standed up.\n"
     ]
    }
   ],
   "source": [
    "d.stand_up()"
   ]
  },
  {
   "cell_type": "code",
   "execution_count": 86,
   "id": "daf5d5dc",
   "metadata": {
    "scrolled": true
   },
   "outputs": [
    {
     "name": "stdout",
     "output_type": "stream",
     "text": [
      "Puppy is sit\n"
     ]
    }
   ],
   "source": [
    "d.tell_pose()"
   ]
  },
  {
   "cell_type": "code",
   "execution_count": 27,
   "id": "94ab6c03",
   "metadata": {},
   "outputs": [
    {
     "name": "stdout",
     "output_type": "stream",
     "text": [
      "Puppy is now sitting.\n"
     ]
    }
   ],
   "source": [
    "d.sit()"
   ]
  },
  {
   "cell_type": "code",
   "execution_count": 31,
   "id": "260463ce",
   "metadata": {},
   "outputs": [
    {
     "ename": "AttributeError",
     "evalue": "'Dog' object has no attribute 'dead_dog'",
     "output_type": "error",
     "traceback": [
      "\u001b[0;31m---------------------------------------------------------------------------\u001b[0m",
      "\u001b[0;31mAttributeError\u001b[0m                            Traceback (most recent call last)",
      "\u001b[0;32m/var/folders/0k/rfc7l8w10vg2gy6fqthn9r9r0000gn/T/ipykernel_37329/378213676.py\u001b[0m in \u001b[0;36m<module>\u001b[0;34m\u001b[0m\n\u001b[0;32m----> 1\u001b[0;31m \u001b[0md\u001b[0m\u001b[0;34m.\u001b[0m\u001b[0mdead_dog\u001b[0m\u001b[0;34m(\u001b[0m\u001b[0;34m)\u001b[0m\u001b[0;34m\u001b[0m\u001b[0;34m\u001b[0m\u001b[0m\n\u001b[0m",
      "\u001b[0;31mAttributeError\u001b[0m: 'Dog' object has no attribute 'dead_dog'"
     ]
    }
   ],
   "source": [
    "d.dead_dog()"
   ]
  },
  {
   "cell_type": "code",
   "execution_count": 91,
   "id": "99b3aafa",
   "metadata": {},
   "outputs": [
    {
     "name": "stdout",
     "output_type": "stream",
     "text": [
      "1.\n",
      "2.\n",
      "3.\n",
      "4.\n",
      "5.\n",
      "6.\n",
      "7.\n",
      "8.\n",
      "9.\n",
      "10.\n"
     ]
    }
   ],
   "source": [
    "print(\"\"\"1.\n",
    "2.\n",
    "3.\n",
    "4.\n",
    "5.\n",
    "6.\n",
    "7.\n",
    "8.\n",
    "9.\n",
    "10.\"\"\")"
   ]
  },
  {
   "cell_type": "code",
   "execution_count": 93,
   "id": "154e8a8e",
   "metadata": {},
   "outputs": [
    {
     "name": "stdout",
     "output_type": "stream",
     "text": [
      "-999\n"
     ]
    }
   ],
   "source": [
    "print(1 1000)"
   ]
  },
  {
   "cell_type": "code",
   "execution_count": 94,
   "id": "75a4a195",
   "metadata": {},
   "outputs": [
    {
     "ename": "SyntaxError",
     "evalue": "invalid syntax (529933606.py, line 3)",
     "output_type": "error",
     "traceback": [
      "\u001b[0;36m  File \u001b[0;32m\"/var/folders/0k/rfc7l8w10vg2gy6fqthn9r9r0000gn/T/ipykernel_33183/529933606.py\"\u001b[0;36m, line \u001b[0;32m3\u001b[0m\n\u001b[0;31m    class 0():\u001b[0m\n\u001b[0m          ^\u001b[0m\n\u001b[0;31mSyntaxError\u001b[0m\u001b[0;31m:\u001b[0m invalid syntax\n"
     ]
    }
   ],
   "source": [
    "class g():\n",
    "    \"\"\"gi\"\"\"\n",
    "class y():\n",
    "    "
   ]
  },
  {
   "cell_type": "code",
   "execution_count": 95,
   "id": "6749dc94",
   "metadata": {},
   "outputs": [
    {
     "name": "stdout",
     "output_type": "stream",
     "text": [
      "1 100000\n"
     ]
    }
   ],
   "source": [
    "print(1,100000)"
   ]
  },
  {
   "cell_type": "code",
   "execution_count": 97,
   "id": "808f9759",
   "metadata": {},
   "outputs": [
    {
     "name": "stdout",
     "output_type": "stream",
     "text": [
      "5,000,001\n"
     ]
    }
   ],
   "source": [
    "numbers = \"{:,}\".format(5000000+1)\n",
    "print(numbers)"
   ]
  },
  {
   "cell_type": "code",
   "execution_count": 99,
   "id": "44e4e01e",
   "metadata": {},
   "outputs": [
    {
     "ename": "SyntaxError",
     "evalue": "cannot assign to operator (515631294.py, line 2)",
     "output_type": "error",
     "traceback": [
      "\u001b[0;36m  File \u001b[0;32m\"/var/folders/0k/rfc7l8w10vg2gy6fqthn9r9r0000gn/T/ipykernel_33183/515631294.py\"\u001b[0;36m, line \u001b[0;32m2\u001b[0m\n\u001b[0;31m    1+5=0\u001b[0m\n\u001b[0m    ^\u001b[0m\n\u001b[0;31mSyntaxError\u001b[0m\u001b[0;31m:\u001b[0m cannot assign to operator\n"
     ]
    }
   ],
   "source": [
    "d.tell_pose()"
   ]
  },
  {
   "cell_type": "code",
   "execution_count": 103,
   "id": "c616d4e0",
   "metadata": {},
   "outputs": [],
   "source": [
    "a=\"a\""
   ]
  },
  {
   "cell_type": "code",
   "execution_count": 1,
   "id": "7252bb59",
   "metadata": {},
   "outputs": [
    {
     "data": {
      "text/plain": [
       "(1, 100000)"
      ]
     },
     "execution_count": 1,
     "metadata": {},
     "output_type": "execute_result"
    }
   ],
   "source": [
    "1, 100000"
   ]
  },
  {
   "cell_type": "code",
   "execution_count": 13,
   "id": "db0cdc73",
   "metadata": {},
   "outputs": [
    {
     "ename": "AttributeError",
     "evalue": "'tuple' object has no attribute 'roll_over'",
     "output_type": "error",
     "traceback": [
      "\u001b[0;31m---------------------------------------------------------------------------\u001b[0m",
      "\u001b[0;31mAttributeError\u001b[0m                            Traceback (most recent call last)",
      "\u001b[0;32m/var/folders/0k/rfc7l8w10vg2gy6fqthn9r9r0000gn/T/ipykernel_37329/3808801696.py\u001b[0m in \u001b[0;36m<module>\u001b[0;34m\u001b[0m\n\u001b[1;32m      1\u001b[0m \u001b[0mg\u001b[0m \u001b[0;34m=\u001b[0m \u001b[0;34m(\u001b[0m\u001b[0;34m\"gaga\"\u001b[0m\u001b[0;34m,\u001b[0m\u001b[0;34m\"rtr\"\u001b[0m\u001b[0;34m)\u001b[0m\u001b[0;34m\u001b[0m\u001b[0;34m\u001b[0m\u001b[0m\n\u001b[0;32m----> 2\u001b[0;31m \u001b[0mg\u001b[0m\u001b[0;34m.\u001b[0m\u001b[0mroll_over\u001b[0m\u001b[0;34m(\u001b[0m\u001b[0;34m)\u001b[0m\u001b[0;34m\u001b[0m\u001b[0;34m\u001b[0m\u001b[0m\n\u001b[0m\u001b[1;32m      3\u001b[0m \u001b[0mg\u001b[0m\u001b[0;34m.\u001b[0m\u001b[0mstand_up\u001b[0m\u001b[0;34m(\u001b[0m\u001b[0;34m)\u001b[0m\u001b[0;34m\u001b[0m\u001b[0;34m\u001b[0m\u001b[0m\n\u001b[1;32m      4\u001b[0m \u001b[0mg\u001b[0m\u001b[0;34m.\u001b[0m\u001b[0msit\u001b[0m\u001b[0;34m(\u001b[0m\u001b[0;34m)\u001b[0m\u001b[0;34m\u001b[0m\u001b[0;34m\u001b[0m\u001b[0m\n\u001b[1;32m      5\u001b[0m \u001b[0mg\u001b[0m\u001b[0;34m.\u001b[0m\u001b[0mtell_pose\u001b[0m\u001b[0;34m(\u001b[0m\u001b[0;34m)\u001b[0m\u001b[0;34m\u001b[0m\u001b[0;34m\u001b[0m\u001b[0m\n",
      "\u001b[0;31mAttributeError\u001b[0m: 'tuple' object has no attribute 'roll_over'"
     ]
    }
   ],
   "source": [
    "g = (\"gaga\",\"rtr\")\n",
    "g.roll_over()\n",
    "g.stand_up()\n",
    "g.sit()\n",
    "g.tell_pose()"
   ]
  },
  {
   "cell_type": "code",
   "execution_count": 47,
   "id": "013ea327",
   "metadata": {},
   "outputs": [
    {
     "data": {
      "text/plain": [
       "10"
      ]
     },
     "execution_count": 47,
     "metadata": {},
     "output_type": "execute_result"
    }
   ],
   "source": [
    "class ClassName():\n",
    "    attribute1 = 10\n",
    "        \n",
    "        \n",
    "c1 = ClassName()\n",
    "c1.attribute1"
   ]
  },
  {
   "cell_type": "code",
   "execution_count": 77,
   "id": "fa0f14fc",
   "metadata": {},
   "outputs": [],
   "source": [
    "class Cat():\n",
    "    def __init__(self,cat_name,doing=\"sleeping\"):\n",
    "        self.name = cat_name\n",
    "        self.position = doing\n",
    "        \n",
    "    def standup(self):\n",
    "        self.position = \"standing\"\n",
    "        print(self.name,\"is\",self.position+\"ing\")\n",
    "        \n",
    "    def what_cat_doing(self):\n",
    "        print(f\"{self.name} is {self.position}\")\n",
    "        \n",
    "    def walking(self):\n",
    "        self.position = \"walking\"\n",
    "        print(self.name,\"is\",self.position)\n",
    "        \n"
   ]
  },
  {
   "cell_type": "code",
   "execution_count": 71,
   "id": "9f33756f",
   "metadata": {},
   "outputs": [
    {
     "name": "stdout",
     "output_type": "stream",
     "text": [
      "milly is sleeping\n",
      "hapiy is sleeping\n"
     ]
    }
   ],
   "source": [
    "c1 = Cat(\"milly\") #instance\n",
    "c1.what_cat_doing()\n",
    "c2 = Cat(\"hapiy\") #instance\n",
    "c2.what_cat_doing()"
   ]
  },
  {
   "cell_type": "code",
   "execution_count": 72,
   "id": "89202766",
   "metadata": {},
   "outputs": [
    {
     "name": "stdout",
     "output_type": "stream",
     "text": [
      "milly is standing\n"
     ]
    }
   ],
   "source": [
    "c1.standup()"
   ]
  },
  {
   "cell_type": "code",
   "execution_count": 73,
   "id": "e8ab0b8c",
   "metadata": {},
   "outputs": [
    {
     "name": "stdout",
     "output_type": "stream",
     "text": [
      "milly is walking\n"
     ]
    }
   ],
   "source": [
    "c1.walking()"
   ]
  },
  {
   "cell_type": "code",
   "execution_count": 74,
   "id": "c1ba3e3f",
   "metadata": {},
   "outputs": [],
   "source": [
    "### cchange 2hapi.y position gto walking nd milly to stand up\n"
   ]
  },
  {
   "cell_type": "code",
   "execution_count": 79,
   "id": "86e7fd00",
   "metadata": {},
   "outputs": [
    {
     "name": "stdout",
     "output_type": "stream",
     "text": [
      "milly is standing\n",
      "hapiy is walking\n"
     ]
    }
   ],
   "source": [
    "c1.standup()\n",
    "c2.walking()"
   ]
  },
  {
   "cell_type": "code",
   "execution_count": 80,
   "id": "095bd870",
   "metadata": {},
   "outputs": [
    {
     "name": "stdout",
     "output_type": "stream",
     "text": [
      "milly is stand\n",
      "hapiy is walking\n"
     ]
    }
   ],
   "source": [
    "c1.what_cat_doing()\n",
    "c2.what_cat_doing()"
   ]
  },
  {
   "cell_type": "code",
   "execution_count": 87,
   "id": "8a8ddb49",
   "metadata": {},
   "outputs": [
    {
     "ename": "SyntaxError",
     "evalue": "EOL while scanning string literal (1485812302.py, line 1)",
     "output_type": "error",
     "traceback": [
      "\u001b[0;36m  File \u001b[0;32m\"/var/folders/0k/rfc7l8w10vg2gy6fqthn9r9r0000gn/T/ipykernel_37329/1485812302.py\"\u001b[0;36m, line \u001b[0;32m1\u001b[0m\n\u001b[0;31m    1==1\"\u001b[0m\n\u001b[0m         ^\u001b[0m\n\u001b[0;31mSyntaxError\u001b[0m\u001b[0;31m:\u001b[0m EOL while scanning string literal\n"
     ]
    }
   ],
   "source": [
    "print"
   ]
  },
  {
   "cell_type": "code",
   "execution_count": 90,
   "id": "3a62c3f8",
   "metadata": {},
   "outputs": [],
   "source": [
    "class restaurant:\n",
    "    def __init__(self,name, cuisine_type):\n",
    "        self.nm = name\n",
    "        self.ct = cuisine_type\n",
    "    def describe_restaraunt(self):\n",
    "        print(\"name is \",self.nm,\"type is \",self.ct,\"its open\")\n",
    "    "
   ]
  },
  {
   "cell_type": "code",
   "execution_count": 91,
   "id": "a6ee8f75",
   "metadata": {},
   "outputs": [
    {
     "name": "stdout",
     "output_type": "stream",
     "text": [
      "name is  5star type is  fastfood its open\n"
     ]
    }
   ],
   "source": [
    "r1 = restaurant(\"5star\",\"fastfood\")\n",
    "r1.describe_restaraunt()"
   ]
  },
  {
   "cell_type": "code",
   "execution_count": 3,
   "id": "0374e521",
   "metadata": {},
   "outputs": [],
   "source": [
    "### we inherit turtle to a new object\n",
    "import turtle\n",
    "\n",
    "class Wo(turtle.Turtle):\n",
    "    def __init__(self,color,position,shape):\n",
    "        super().__init__()\n",
    "        #self.penup()\n",
    "        self.color(color)\n",
    "        self.shape(shape)\n",
    "        self.goto(position)\n",
    "        #self.pendown()\n",
    "    def f100(self):\n",
    "        self.forward(100)\n",
    "    def rotate90(self):\n",
    "        self.right(90)\n",
    "        \n",
    "    def make_square(self):\n",
    "        self.f100()\n",
    "        self.rotate90()\n",
    "        self.f100()\n",
    "        self.rotate90()\n",
    "        \n",
    "        self.f100()\n",
    "        self.rotate90()\n",
    "        self.f100()\n",
    "        self.rotate90()\n",
    "        \n",
    "    ## make a circle function for object"
   ]
  },
  {
   "cell_type": "code",
   "execution_count": 8,
   "id": "85892e9e",
   "metadata": {},
   "outputs": [],
   "source": [
    "t1 = Wo(\"Yellow\",(5,200),\"circle\")"
   ]
  },
  {
   "cell_type": "code",
   "execution_count": 9,
   "id": "edd9f5cb",
   "metadata": {},
   "outputs": [],
   "source": [
    "t2 = Wo(\"Red\",(100,-200),\"triangle\")"
   ]
  },
  {
   "cell_type": "code",
   "execution_count": 16,
   "id": "4d9e74d8",
   "metadata": {},
   "outputs": [],
   "source": [
    "t3 = Wo(\"Blue\",(20,100),\"turtle\")"
   ]
  },
  {
   "cell_type": "code",
   "execution_count": 12,
   "id": "40511848",
   "metadata": {},
   "outputs": [],
   "source": [
    "t1.make_square()"
   ]
  },
  {
   "cell_type": "code",
   "execution_count": 13,
   "id": "2870fb34",
   "metadata": {},
   "outputs": [],
   "source": [
    "t1.make_square()\n",
    "t2.make_square()\n",
    "t3.make_square()"
   ]
  },
  {
   "cell_type": "code",
   "execution_count": 23,
   "id": "6e1d78f0",
   "metadata": {},
   "outputs": [],
   "source": [
    "### we inherit turtle to a new object\n",
    "import turtle\n",
    "\n",
    "class Wow(turtle.Turtle):\n",
    "    def __init__(self,shape):\n",
    "        super().__init__()\n",
    "        self.penup()\n",
    "        self.shape(shape)\n",
    "        self.pendown()"
   ]
  },
  {
   "cell_type": "code",
   "execution_count": 25,
   "id": "dee4772e",
   "metadata": {},
   "outputs": [],
   "source": [
    "t1 = Wow(\"triangle\")"
   ]
  },
  {
   "cell_type": "code",
   "execution_count": null,
   "id": "78917f44",
   "metadata": {},
   "outputs": [],
   "source": [
    "class User:\n",
    "    def __init__(self,first_name, last_name):\n",
    "        self.first = first_name\n",
    "        self.last = first_last\n",
    "    def describe_User(self):\n",
    "        print(\"you user is\",self.first,\"and you last name is\",self.last)\n",
    "    def greet_user(self):\n",
    "        print(\"hello\",self.first,self.last)"
   ]
  },
  {
   "cell_type": "code",
   "execution_count": null,
   "id": "2da406e3",
   "metadata": {},
   "outputs": [],
   "source": [
    "yy = User(\"yy\",\"tt\")\n"
   ]
  },
  {
   "cell_type": "code",
   "execution_count": null,
   "id": "204c1d01",
   "metadata": {},
   "outputs": [],
   "source": [
    "yy.describe_user():\n",
    "yy.greet_user():"
   ]
  },
  {
   "cell_type": "code",
   "execution_count": null,
   "id": "2cb68d29",
   "metadata": {},
   "outputs": [],
   "source": []
  }
 ],
 "metadata": {
  "kernelspec": {
   "display_name": "Python 3 (ipykernel)",
   "language": "python",
   "name": "python3"
  },
  "language_info": {
   "codemirror_mode": {
    "name": "ipython",
    "version": 3
   },
   "file_extension": ".py",
   "mimetype": "text/x-python",
   "name": "python",
   "nbconvert_exporter": "python",
   "pygments_lexer": "ipython3",
   "version": "3.9.13"
  }
 },
 "nbformat": 4,
 "nbformat_minor": 5
}

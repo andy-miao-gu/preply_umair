{
 "cells": [
  {
   "cell_type": "code",
   "execution_count": null,
   "id": "08d0ffe8",
   "metadata": {},
   "outputs": [],
   "source": [
    "### another way of writing for loop"
   ]
  },
  {
   "cell_type": "code",
   "execution_count": 68,
   "id": "a84b5716",
   "metadata": {},
   "outputs": [
    {
     "name": "stdout",
     "output_type": "stream",
     "text": [
      "[680978, 1626868, 2572758, 3518648, 4464538, 5410428, 6356318]\n",
      "7\n"
     ]
    }
   ],
   "source": [
    "x = [i for i in range(680978,6958987,945890)]\n",
    "print(x)\n",
    "print(len(x))"
   ]
  },
  {
   "cell_type": "code",
   "execution_count": 22,
   "id": "f01d2615",
   "metadata": {},
   "outputs": [
    {
     "name": "stdout",
     "output_type": "stream",
     "text": [
      "[1, 2, 3]\n",
      "[10, 11]\n",
      "[18, 19, 20]\n"
     ]
    }
   ],
   "source": [
    "x = [1,2,3,4,5,6,7,8,9,10,11,12,13,14,15,16,17,18,19,20]\n",
    "f = slice(0,3)\n",
    "m = slice(9,11)\n",
    "l = slice(17,20)\n",
    "print(x[f])\n",
    "print(x[m])\n",
    "print(x[l])"
   ]
  },
  {
   "cell_type": "code",
   "execution_count": 5,
   "id": "25fc7e86",
   "metadata": {},
   "outputs": [
    {
     "name": "stdout",
     "output_type": "stream",
     "text": [
      "['pepperoni', 'cheese', 'chicken']\n"
     ]
    }
   ],
   "source": [
    "friend_pizzã = [\"pepperoni\",\"cheese\",\"chicken\"]\n",
    "print(eval(\"friend_pizzã\"))"
   ]
  },
  {
   "cell_type": "code",
   "execution_count": 6,
   "id": "9d2e2075",
   "metadata": {},
   "outputs": [],
   "source": [
    "for i in range(80):\n",
    "    friend_pizzã.insert(2,\"seafood\")"
   ]
  },
  {
   "cell_type": "code",
   "execution_count": 17,
   "id": "222ceda3",
   "metadata": {},
   "outputs": [
    {
     "name": "stdout",
     "output_type": "stream",
     "text": [
      "['pepperoni', 'cheese', 'seafood ', 'seafood ', 'seafood ', 'seafood ', 'seafood ', 'seafood ', 'seafood ', 'seafood ', 'seafood ', 'seafood ', 'seafood ', 'seafood ', 'seafood ', 'seafood ', 'seafood ', 'seafood ', 'seafood ', 'seafood ', 'seafood ', 'seafood ', 'seafood ', 'seafood ', 'seafood ', 'seafood ', 'seafood ', 'seafood ', 'seafood ', 'seafood ', 'seafood ', 'seafood ', 'seafood ', 'seafood ', 'seafood ', 'seafood ', 'seafood ', 'seafood ', 'seafood ', 'seafood ', 'seafood ', 'seafood ', 'seafood ', 'seafood ', 'seafood ', 'seafood ', 'seafood ', 'seafood ', 'seafood ', 'seafood ', 'seafood ', 'seafood ', 'seafood ', 'seafood ', 'seafood ', 'seafood ', 'seafood ', 'seafood ', 'seafood ', 'seafood ', 'seafood ', 'seafood ', 'seafood ', 'seafood ', 'seafood ', 'seafood ', 'seafood ', 'seafood ', 'seafood ', 'seafood ', 'seafood ', 'seafood ', 'seafood ', 'seafood ', 'seafood ', 'seafood ', 'seafood ', 'seafood ', 'seafood ', 'seafood ', 'seafood ', 'seafood ', 'seafoodn ', 'seafoodn ', 'seafoodn ', 'seafoodn ', 'seafoodn ', 'seafoodn ', 'seafoodn ', 'seafoodn ', 'seafoodn ', 'seafoodn ', 'seafoodn ', 'seafoodn ', 'seafoodn ', 'seafoodn ', 'seafoodn ', 'seafoodn ', 'seafoodn ', 'seafoodn ', 'seafoodn ', 'seafoodn ', 'seafoodn ', 'seafoodn ', 'seafoodn ', 'seafoodn ', 'seafoodn ', 'seafoodn ', 'seafoodn ', 'seafoodn ', 'seafoodn ', 'seafoodn ', 'seafoodn ', 'seafoodn ', 'seafoodn ', 'seafoodn ', 'seafoodn ', 'seafoodn ', 'seafoodn ', 'seafoodn ', 'seafoodn ', 'seafoodn ', 'seafoodn ', 'seafoodn ', 'seafoodn ', 'seafoodn ', 'seafoodn ', 'seafoodn ', 'seafoodn ', 'seafoodn ', 'seafoodn ', 'seafoodn ', 'seafoodn ', 'seafoodn ', 'seafoodn ', 'seafoodn ', 'seafoodn ', 'seafoodn ', 'seafoodn ', 'seafoodn ', 'seafoodn ', 'seafoodn ', 'seafoodn ', 'seafoodn ', 'seafoodn ', 'seafoodn ', 'seafoodn ', 'seafoodn ', 'seafoodn ', 'seafoodn ', 'seafoodn ', 'seafoodn ', 'seafoodn ', 'seafoodn ', 'seafoodn ', 'seafoodn ', 'seafoodn ', 'seafoodn ', 'seafoodn ', 'seafoodn ', 'seafoodn ', 'seafoodn ', 'seafoodn/', 'seafoodn/', 'seafoodn/', 'seafoodn/', 'seafoodn/', 'seafoodn/', 'seafoodn/', 'seafoodn/', 'seafoodn/', 'seafoodn/', 'seafoodn/', 'seafoodn/', 'seafoodn/', 'seafoodn/', 'seafoodn/', 'seafoodn/', 'seafoodn/', 'seafoodn/', 'seafoodn/', 'seafoodn/', 'seafoodn/', 'seafoodn/', 'seafoodn/', 'seafoodn/', 'seafoodn/', 'seafoodn/', 'seafoodn/', 'seafoodn/', 'seafoodn/', 'seafoodn/', 'seafoodn/', 'seafoodn/', 'seafoodn/', 'seafoodn/', 'seafoodn/', 'seafoodn/', 'seafoodn/', 'seafoodn/', 'seafoodn/', 'seafoodn/', 'seafoodn/', 'seafoodn/', 'seafoodn/', 'seafoodn/', 'seafoodn/', 'seafoodn/', 'seafoodn/', 'seafoodn/', 'seafoodn/', 'seafoodn/', 'seafoodn/', 'seafoodn/', 'seafoodn/', 'seafoodn/', 'seafoodn/', 'seafoodn/', 'seafoodn/', 'seafoodn/', 'seafoodn/', 'seafoodn/', 'seafoodn/', 'seafoodn/', 'seafoodn/', 'seafoodn/', 'seafoodn/', 'seafoodn/', 'seafoodn/', 'seafoodn/', 'seafoodn/', 'seafoodn/', 'seafoodn/', 'seafoodn/', 'seafoodn/', 'seafoodn/', 'seafoodn/', 'seafoodn/', 'seafoodn/', 'seafoodn/', 'seafoodn/', 'seafoodn/', 'seafoodn/', 'seafoodn/', 'seafoodn/', 'seafoodn/', 'seafoodn/', 'seafoodn/', 'seafoodn/', 'seafoodn/', 'seafoodn/', 'seafoodn/', 'seafoodn/', 'seafoodn/', 'seafoodn/', 'seafoodn/', 'seafoodn/', 'seafoodn/', 'seafoodn/', 'seafoodn/', 'seafoodn/', 'seafoodn/', 'seafoodn/', 'seafoodn/', 'seafoodn/', 'seafoodn/', 'seafoodn/', 'seafoodn/', 'seafoodn/', 'seafoodn/', 'seafoodn/', 'seafoodn/', 'seafoodn/', 'seafoodn/', 'seafoodn/', 'seafoodn/', 'seafoodn/', 'seafoodn/', 'seafoodn/', 'seafoodn/', 'seafoodn/', 'seafoodn/', 'seafoodn/', 'seafoodn/', 'seafoodn/', 'seafoodn/', 'seafoodn/', 'seafoodn/', 'seafoodn/', 'seafoodn/', 'seafoodn/', 'seafoodn/', 'seafoodn/', 'seafoodn/', 'seafoodn/', 'seafoodn/', 'seafoodn/', 'seafoodn/', 'seafoodn/', 'seafoodn/', 'seafoodn/', 'seafoodn/', 'seafoodn/', 'seafoodn/', 'seafoodn/', 'seafoodn/', 'seafoodn/', 'seafoodn/', 'seafoodn/', 'seafoodn/', 'seafoodn/', 'seafoodn/', 'seafoodn/', 'seafoodn/', 'seafoodn/', 'seafoodn/', 'seafoodn/', 'seafoodn/', 'seafoodn/', 'seafoodn/', 'seafoodn/', 'seafoodn/', 'chicken']\n"
     ]
    }
   ],
   "source": [
    "print(friend_pizzã)"
   ]
  },
  {
   "cell_type": "code",
   "execution_count": 53,
   "id": "709308f4",
   "metadata": {},
   "outputs": [
    {
     "name": "stdout",
     "output_type": "stream",
     "text": [
      "pepperoni pepperoni\n",
      "pepperoni cheese\n",
      "pepperoni chicken\n",
      "cheese pepperoni\n",
      "cheese cheese\n",
      "cheese chicken\n",
      "chicken pepperoni\n",
      "chicken cheese\n",
      "chicken chicken\n"
     ]
    }
   ],
   "source": [
    "for each in friend_pizzã:\n",
    "    for e2 in friend_pizzã:\n",
    "        print(each, e2)"
   ]
  },
  {
   "cell_type": "code",
   "execution_count": 18,
   "id": "c2f6e1fc",
   "metadata": {},
   "outputs": [
    {
     "name": "stdout",
     "output_type": "stream",
     "text": [
      "your choice 90\n",
      "fried rice\n",
      "noodles\n",
      "dumplings\n",
      "soup\n",
      "90\n"
     ]
    }
   ],
   "source": [
    "uy = (\"fried rice\",\"noodles\",\"dumplings\",\"soup\",\"i dont know food\")\n",
    "uy2 = list(uy)\n",
    "uy2[4]= input(\"your choice \")\n",
    "for each in uy2:\n",
    "    print(each)"
   ]
  },
  {
   "cell_type": "code",
   "execution_count": 2,
   "id": "5774b4ba",
   "metadata": {},
   "outputs": [
    {
     "name": "stdout",
     "output_type": "stream",
     "text": [
      "Is car == 'subaru'? I predict True.\n",
      "True\n",
      "\n",
      "Is car == 'audi'? I predict False.\n",
      "False\n"
     ]
    }
   ],
   "source": [
    "car = 'subaru'\n",
    "print(\"Is car == 'subaru'? I predict True.\")\n",
    "print(car == 'subaru')\n",
    "print(\"\\nIs car == 'audi'? I predict False.\")\n",
    "print(car == 'audi')"
   ]
  },
  {
   "cell_type": "code",
   "execution_count": 1,
   "id": "227e4caa",
   "metadata": {},
   "outputs": [
    {
     "name": "stdout",
     "output_type": "stream",
     "text": [
      "False\n",
      "False\n"
     ]
    }
   ],
   "source": [
    "name = \"Andy\"\n",
    "print(name==\"umair\")\n",
    "print(name==\"andy\")"
   ]
  },
  {
   "cell_type": "code",
   "execution_count": 5,
   "id": "6167291c",
   "metadata": {},
   "outputs": [
    {
     "data": {
      "text/plain": [
       "True"
      ]
     },
     "execution_count": 5,
     "metadata": {},
     "output_type": "execute_result"
    }
   ],
   "source": [
    ">>> car = 'bmw' \n",
    ">>> car == 'bmw'\n",
    "True"
   ]
  },
  {
   "cell_type": "code",
   "execution_count": 2,
   "id": "e39f49ee",
   "metadata": {},
   "outputs": [
    {
     "data": {
      "text/plain": [
       "False"
      ]
     },
     "execution_count": 2,
     "metadata": {},
     "output_type": "execute_result"
    }
   ],
   "source": [
    ">>> car = 'audi' \n",
    ">>> car == 'bmw'\n",
    "False"
   ]
  },
  {
   "cell_type": "code",
   "execution_count": 7,
   "id": "b6dbcbe2",
   "metadata": {},
   "outputs": [
    {
     "data": {
      "text/plain": [
       "False"
      ]
     },
     "execution_count": 7,
     "metadata": {},
     "output_type": "execute_result"
    }
   ],
   "source": [
    ">>> car = 'Audi' \n",
    ">>> car == 'audi' \n",
    "False"
   ]
  },
  {
   "cell_type": "code",
   "execution_count": 8,
   "id": "12fd1d11",
   "metadata": {},
   "outputs": [
    {
     "data": {
      "text/plain": [
       "True"
      ]
     },
     "execution_count": 8,
     "metadata": {},
     "output_type": "execute_result"
    }
   ],
   "source": [
    ">>> car = 'Audi'\n",
    ">>> car.lower() == 'audi' \n",
    "True"
   ]
  },
  {
   "cell_type": "code",
   "execution_count": 9,
   "id": "900a9012",
   "metadata": {},
   "outputs": [
    {
     "data": {
      "text/plain": [
       "'Audi'"
      ]
     },
     "execution_count": 9,
     "metadata": {},
     "output_type": "execute_result"
    }
   ],
   "source": [
    ">>> car = 'Audi'\n",
    ">>> car.lower() == 'audi'\n",
    "True \n",
    ">>> car\n",
    "'Audi'"
   ]
  },
  {
   "cell_type": "code",
   "execution_count": 10,
   "id": "b0b3f9e9",
   "metadata": {},
   "outputs": [
    {
     "name": "stdout",
     "output_type": "stream",
     "text": [
      "Hold the anchovies!\n"
     ]
    }
   ],
   "source": [
    "requested_topping = 'mushrooms'\n",
    "\n",
    "if requested_topping != 'anchovies':\n",
    "    print(\"Hold the anchovies!\")"
   ]
  },
  {
   "cell_type": "code",
   "execution_count": 11,
   "id": "b5236edf",
   "metadata": {},
   "outputs": [
    {
     "data": {
      "text/plain": [
       "True"
      ]
     },
     "execution_count": 11,
     "metadata": {},
     "output_type": "execute_result"
    }
   ],
   "source": [
    ">>> age = 18 \n",
    ">>> age == 18\n",
    "True"
   ]
  },
  {
   "cell_type": "code",
   "execution_count": 13,
   "id": "2146eeb6",
   "metadata": {},
   "outputs": [
    {
     "name": "stdout",
     "output_type": "stream",
     "text": [
      "That is not the correct answer. Please try again!\n"
     ]
    }
   ],
   "source": [
    "answer = 17\n",
    "\n",
    "if answer != 42:\n",
    "    print(\"That is not the correct answer. Please try again!\")"
   ]
  },
  {
   "cell_type": "code",
   "execution_count": 15,
   "id": "61b0f907",
   "metadata": {},
   "outputs": [
    {
     "data": {
      "text/plain": [
       "False"
      ]
     },
     "execution_count": 15,
     "metadata": {},
     "output_type": "execute_result"
    }
   ],
   "source": [
    ">>> age = 19 \n",
    ">>> age < 21 \n",
    "True\n",
    ">>> age <= 21 \n",
    "True\n",
    ">>> age > 21 \n",
    "False\n",
    ">>> age >= 21 \n",
    "False"
   ]
  },
  {
   "cell_type": "code",
   "execution_count": 16,
   "id": "9ef89442",
   "metadata": {},
   "outputs": [
    {
     "data": {
      "text/plain": [
       "False"
      ]
     },
     "execution_count": 16,
     "metadata": {},
     "output_type": "execute_result"
    }
   ],
   "source": [
    ">>> age_0 = 22 \n",
    ">>> age_1 = 18\n",
    ">>> age_0 >= 21 and age_1 >= 21 \n",
    "False"
   ]
  },
  {
   "cell_type": "code",
   "execution_count": 17,
   "id": "5f375d2f",
   "metadata": {},
   "outputs": [
    {
     "data": {
      "text/plain": [
       "True"
      ]
     },
     "execution_count": 17,
     "metadata": {},
     "output_type": "execute_result"
    }
   ],
   "source": [
    ">>> age_1 = 22\n",
    ">>> age_0 >= 21 and age_1 >= 21 \n",
    "True"
   ]
  },
  {
   "cell_type": "code",
   "execution_count": 18,
   "id": "deb186fa",
   "metadata": {},
   "outputs": [
    {
     "data": {
      "text/plain": [
       "True"
      ]
     },
     "execution_count": 18,
     "metadata": {},
     "output_type": "execute_result"
    }
   ],
   "source": [
    "(age_0 >= 21) and (age_1 >= 21)"
   ]
  },
  {
   "cell_type": "code",
   "execution_count": 19,
   "id": "d475507a",
   "metadata": {},
   "outputs": [
    {
     "data": {
      "text/plain": [
       "False"
      ]
     },
     "execution_count": 19,
     "metadata": {},
     "output_type": "execute_result"
    }
   ],
   "source": [
    ">>> age_0 = 22 \n",
    ">>> age_1 = 18\n",
    ">>> age_0 >= 21 or age_1 >= 21 \n",
    "True\n",
    ">>> age_0 = 18\n",
    ">>> age_0 >= 21 or age_1 >= 21 \n",
    "False"
   ]
  },
  {
   "cell_type": "code",
   "execution_count": 20,
   "id": "1256bf18",
   "metadata": {},
   "outputs": [
    {
     "data": {
      "text/plain": [
       "False"
      ]
     },
     "execution_count": 20,
     "metadata": {},
     "output_type": "execute_result"
    }
   ],
   "source": [
    ">>> requested_toppings = ['mushrooms', 'onions', 'pineapple'] \n",
    ">>> 'mushrooms' in requested_toppings\n",
    "True\n",
    ">>> 'pepperoni' in requested_toppings\n",
    "False"
   ]
  },
  {
   "cell_type": "code",
   "execution_count": 22,
   "id": "a60d5f08",
   "metadata": {},
   "outputs": [
    {
     "name": "stdout",
     "output_type": "stream",
     "text": [
      "Marie, you can post a response if you wish.\n"
     ]
    }
   ],
   "source": [
    "banned_users = ['andrew', 'carolina', 'david']\n",
    "user = 'marie'\n",
    "if user not in banned_users:\n",
    "    print(user.title() + \", you can post a response if you wish.\")"
   ]
  },
  {
   "cell_type": "code",
   "execution_count": 1,
   "id": "c0008914",
   "metadata": {},
   "outputs": [],
   "source": [
    "game_active = True\n",
    "can_edit = False"
   ]
  },
  {
   "cell_type": "code",
   "execution_count": 5,
   "id": "f7e53268",
   "metadata": {},
   "outputs": [
    {
     "name": "stdout",
     "output_type": "stream",
     "text": [
      "lowercase(uppercase(titlecase()))\n"
     ]
    }
   ],
   "source": [
    "t = \"Lowercase(Uppercase(Titlecase()))\"\n",
    "print(t.lower())"
   ]
  },
  {
   "cell_type": "code",
   "execution_count": 12,
   "id": "5366c764",
   "metadata": {},
   "outputs": [
    {
     "name": "stdout",
     "output_type": "stream",
     "text": [
      "True\n"
     ]
    }
   ],
   "source": [
    "Name = \"Andy\"\n",
    "if Name == \"Andy\":\n",
    "    print(True)\n",
    "else:\n",
    "    print(False)"
   ]
  },
  {
   "cell_type": "code",
   "execution_count": null,
   "id": "8c74035e",
   "metadata": {},
   "outputs": [],
   "source": []
  },
  {
   "cell_type": "code",
   "execution_count": 10,
   "id": "c9bc8992",
   "metadata": {},
   "outputs": [
    {
     "name": "stdout",
     "output_type": "stream",
     "text": [
      "True\n"
     ]
    }
   ],
   "source": [
    "Name = \"Andy\"\n",
    "if Name != \"umair\":\n",
    "    print(True)\n",
    "else:\n",
    "    print(False)"
   ]
  },
  {
   "cell_type": "code",
   "execution_count": 13,
   "id": "b15099b4",
   "metadata": {},
   "outputs": [
    {
     "name": "stdout",
     "output_type": "stream",
     "text": [
      "False\n"
     ]
    }
   ],
   "source": [
    "Name = \"umair\"\n",
    "if Name == \"yu\":\n",
    "    print(True)\n",
    "else:\n",
    "    print(False)"
   ]
  },
  {
   "cell_type": "code",
   "execution_count": 14,
   "id": "20936f8a",
   "metadata": {},
   "outputs": [
    {
     "name": "stdout",
     "output_type": "stream",
     "text": [
      "umair\n"
     ]
    }
   ],
   "source": [
    "print(Name.lower())"
   ]
  },
  {
   "cell_type": "code",
   "execution_count": 18,
   "id": "a458e984",
   "metadata": {
    "scrolled": true
   },
   "outputs": [
    {
     "name": "stdout",
     "output_type": "stream",
     "text": [
      "True\n"
     ]
    }
   ],
   "source": [
    "Name = \"Andy\"\n",
    "if Name.lower() == \"andy\":\n",
    "    print(True)\n",
    "else:\n",
    "    print(False)"
   ]
  },
  {
   "cell_type": "code",
   "execution_count": 34,
   "id": "7f6d289e",
   "metadata": {},
   "outputs": [
    {
     "name": "stdout",
     "output_type": "stream",
     "text": [
      "x and y are not equall\n",
      "x is less than y\n",
      "x is less or equall than y\n"
     ]
    }
   ],
   "source": [
    "x = 10\n",
    "y =  (round(abs(-12)))\n",
    "if x == y:\n",
    "    print(\"x and y are equall\")\n",
    "if x != y:\n",
    "    print(\"x and y are not equall\")\n",
    "if x > y:\n",
    "    print(\"x is greater than y\")\n",
    "if x < y:\n",
    "    print(\"x is less than y\")\n",
    "if x > y and x = y:\n",
    "    print(\"x is greater or equall than y\")\n",
    "if x < y and x= y:\n",
    "    print(\"x is less or equall than y\")"
   ]
  },
  {
   "cell_type": "code",
   "execution_count": 35,
   "id": "75ab715f",
   "metadata": {},
   "outputs": [
    {
     "name": "stdout",
     "output_type": "stream",
     "text": [
      "you won 5 points for shooting the alien\n",
      "you earned 10 points\n",
      "you just earned 15 point\n",
      "you won 5 points for shooting the alien\n",
      "you earned 10 points\n",
      "you earned 10 points\n",
      "you won 5 points for shooting the alien\n",
      "you just earned 15 point\n",
      "you won 5 points for shooting the alien\n",
      "you won 5 points for shooting the alien\n"
     ]
    }
   ],
   "source": [
    "for each in range(10):\n",
    "    from random import randint\n",
    "    alien_color = [\"green\", \"yellow\", \"red\"]\n",
    "    ind = randint(0,2)\n",
    "    if alien_color[ind] == \"green\":\n",
    "        print(\"you won 5 points for shooting the alien\")\n",
    "    elif alien_color[ind] == \"yellow\":\n",
    "        print(\"you earned 10 points\")\n",
    "    elif alien_color[ind] == (\"red\"):    \n",
    "        print(\"you just earned 15 point\")\n",
    "    else:\n",
    "        print(\"heheheh\")"
   ]
  },
  {
   "cell_type": "code",
   "execution_count": 1,
   "id": "b01e9238",
   "metadata": {
    "scrolled": true
   },
   "outputs": [
    {
     "ename": "SyntaxError",
     "evalue": "invalid syntax (3055876425.py, line 3)",
     "output_type": "error",
     "traceback": [
      "\u001b[0;36m  File \u001b[0;32m\"/var/folders/0k/rfc7l8w10vg2gy6fqthn9r9r0000gn/T/ipykernel_2792/3055876425.py\"\u001b[0;36m, line \u001b[0;32m3\u001b[0m\n\u001b[0;31m    if 2 => int(t):\u001b[0m\n\u001b[0m         ^\u001b[0m\n\u001b[0;31mSyntaxError\u001b[0m\u001b[0;31m:\u001b[0m invalid syntax\n"
     ]
    }
   ],
   "source": [
    "t = input(\"say a age from 1-1000006 \")\n",
    "print(t)\n",
    "if 1 >= int(t):\n",
    "    print(\"that is a baby age\")\n",
    "if int(t) >= 2  and 3 >= int(t):\n",
    "    print(\"that is a toddler age\")\n",
    "if int(t) >= 4 and 12 >= int(t):\n",
    "    print(\"that is a kid age\")\n",
    "if int(t) >= 13 and 19 >= int(t):\n",
    "    print(\"that is a teenager age\")\n",
    "if int(t) >= 20 and 65 >= int(t):\n",
    "    print(\"that is a adult age\")\n",
    "if int(t) >= 65 and 100 1>= int(t):\n",
    "    print(\"that is a elder person age\")\n",
    "if int(t) >= 106:\n",
    "    print(\"he/she is defenitly dead and buried alive\")\n",
    "    \n",
    "    \n",
    "    "
   ]
  },
  {
   "cell_type": "markdown",
   "id": "08e72dea",
   "metadata": {},
   "source": [
    "# very Good\n",
    "\n",
    "### by Mr. Umair"
   ]
  },
  {
   "cell_type": "code",
   "execution_count": 5,
   "id": "7771692d",
   "metadata": {},
   "outputs": [
    {
     "name": "stdout",
     "output_type": "stream",
     "text": [
      "i really like strawberry\n",
      "i really like kiwi\n",
      "i really like lime\n",
      "i really like lemon\n",
      "i really like orange\n"
     ]
    }
   ],
   "source": [
    "Top_5_fav_fruits = [\"strawberry\", \"kiwi\", \"lime\", \"lemon\", \"orange\"]\n",
    "for each in Top_5_fav_fruits:\n",
    "    print(\"i really like\", each)"
   ]
  },
  {
   "cell_type": "code",
   "execution_count": 11,
   "id": "4f2012aa",
   "metadata": {},
   "outputs": [
    {
     "name": "stdout",
     "output_type": "stream",
     "text": [
      "i really like strawberry\n",
      "i really like kiwi\n",
      "i really like lime\n",
      "i really like lemon\n",
      "i really like orange\n"
     ]
    }
   ],
   "source": [
    "Top_5_fav_fruits = [\"strawberry\", \"kiwi\", \"lime\", \"lemon\", \"orange\"]\n",
    "for each in Top_5_fav_fruits:\n",
    "    if each in Top_5_fav_fruits:\n",
    "        print(\"i really like {}\".format(each))\n",
    "    else:\n",
    "        print(\"{} is not present\".format(each))"
   ]
  },
  {
   "cell_type": "code",
   "execution_count": 9,
   "id": "c266d33c",
   "metadata": {},
   "outputs": [
    {
     "name": "stdout",
     "output_type": "stream",
     "text": [
      "strawbery is present\n"
     ]
    }
   ],
   "source": [
    "Top_5_fav_fruits = [\"strawberry\", \"kiwi\", \"lime\", \"lemon\", \"orange\"]\n",
    "if \"strawberry\" in Top_5_fav_fruits:\n",
    "    print(\"strawbery is present\")\n",
    "else:\n",
    "    print(\"strawberry is not present\")"
   ]
  },
  {
   "cell_type": "code",
   "execution_count": 37,
   "id": "ccfde44b",
   "metadata": {},
   "outputs": [
    {
     "name": "stdout",
     "output_type": "stream",
     "text": [
      "hello eepreply\n",
      "hello andy\n",
      "hello admin would you like to see a status report? admin\n",
      "hello rehedgcvdisc\n",
      "hello a;cnaesv\n"
     ]
    }
   ],
   "source": [
    "t = [\"eepreply\",\"andy\",\"admin\",\"rehedgcvdisc\",\"a;cnaesv\"]\n",
    "#t= []\n",
    "if len(t)==0:\n",
    "    print(\"you need to find users\")\n",
    "    \n",
    "for each in t:\n",
    "    if each == \"admin\":\n",
    "        print(\"hello admin would you like to see a status report?\",each)\n",
    "    else:\n",
    "        print(\"hello\",each)"
   ]
  },
  {
   "cell_type": "code",
   "execution_count": 16,
   "id": "32925243",
   "metadata": {},
   "outputs": [
    {
     "name": "stdout",
     "output_type": "stream",
     "text": [
      "you need to find users\n"
     ]
    }
   ],
   "source": [
    "t= []\n",
    "if len(t)==0:\n",
    "    print(\"you need to find users\")"
   ]
  },
  {
   "cell_type": "markdown",
   "id": "4d0db2f1",
   "metadata": {},
   "source": [
    "###### 5.10 and 5.11 homework"
   ]
  },
  {
   "cell_type": "code",
   "execution_count": 35,
   "id": "6c6c0612",
   "metadata": {},
   "outputs": [
    {
     "name": "stdout",
     "output_type": "stream",
     "text": [
      "change your username please *robot shutdown noises*\n",
      "Certain is used already *robot shutdown noises*\n"
     ]
    }
   ],
   "source": [
    "current_users = ['Tylier','Certain','Grckgfchmn','playclaytray','houdey']\n",
    "new_users = list(current_users)\n",
    "print(\"change your username please\" \" *robot shutdown noises*\")\n",
    "print(\"Certain the username is used is used already\" \" *robot shutdown noises*\")"
   ]
  },
  {
   "cell_type": "code",
   "execution_count": 5,
   "id": "a4d2a802",
   "metadata": {},
   "outputs": [
    {
     "name": "stdout",
     "output_type": "stream",
     "text": [
      "1st\n",
      "2nd\n",
      "3rd\n",
      "4th\n",
      "5th\n",
      "6th\n",
      "7th\n",
      "8th\n",
      "9th\n"
     ]
    }
   ],
   "source": [
    "st = 'st'\n",
    "nd = 'nd'\n",
    "rd = 'rd'\n",
    "th = 'th'\n",
    "t = [1,2,3,4,5,6,7,8,9]\n",
    "for each in t:\n",
    "    if each == 1:\n",
    "        print(str(1)+st)\n",
    "    elif each == 2:\n",
    "        print(str(2)+nd)\n",
    "    elif each == 3:\n",
    "        print(str(3)+rd)\n",
    "    else:\n",
    "        print(str(each)+th)"
   ]
  },
  {
   "cell_type": "code",
   "execution_count": 60,
   "id": "684a5572",
   "metadata": {},
   "outputs": [
    {
     "name": "stdout",
     "output_type": "stream",
     "text": [
      "1\n",
      "2\n",
      "3\n",
      "4\n",
      "5\n",
      "6\n",
      "7\n",
      "8\n",
      "9\n"
     ]
    }
   ],
   "source": [
    "t = [1,2,3,4,5,6,7,8,9]\n",
    "#t= []\n",
    "    \n",
    "for each in t:\n",
    "    if each == \"1\":\n",
    "        print(each,st)    \n",
    "    elif each == \"1\":\n",
    "        print(each,nd)\n",
    "    elif each == \"1\":\n",
    "        print(each,rd)\n",
    "    print(each)"
   ]
  },
  {
   "cell_type": "code",
   "execution_count": 1,
   "id": "c5713551",
   "metadata": {},
   "outputs": [
    {
     "name": "stdout",
     "output_type": "stream",
     "text": [
      "Is car == 'subaru'? I predict True6.\n",
      "True\n",
      "\n",
      "Is car == 'audi'? I predict False.\n",
      "False\n"
     ]
    }
   ],
   "source": [
    "car = 'subaru'\n",
    "print(\"Is car == 'subaru'? I predict True.\")\n",
    "print(car == 'subaru')\n",
    "print(\"\\nIs car == 'audi'? I predict False.\")\n",
    "print(car == 'audi')"
   ]
  },
  {
   "cell_type": "code",
   "execution_count": 70,
   "id": "21036010",
   "metadata": {},
   "outputs": [
    {
     "data": {
      "text/plain": [
       "False"
      ]
     },
     "execution_count": 70,
     "metadata": {},
     "output_type": "execute_result"
    }
   ],
   "source": [
    ">>> requested_toppings = ['mushrooms', 'onions', 'pineapple'] \n",
    ">>> 'mushrooms' in requested_toppings\n",
    "True\n",
    ">>> 'pepperoni' in requested_toppings\n",
    "False"
   ]
  },
  {
   "cell_type": "code",
   "execution_count": null,
   "id": "117d54ba",
   "metadata": {},
   "outputs": [],
   "source": [
    "t = [\"eepreply\",\"andy\",\"admin\",\"rehedgcvdisc\",\"a;cnaesv\"]\n",
    "#t= []\n",
    "if len(t)==0:\n",
    "    print(\"you need to find users\")\n",
    "    \n",
    "for each in t:\n",
    "    if each == \"admin\":\n",
    "        print(\"hello admin would you like to see a status report?\",each)\n",
    "    else:\n",
    "        print(\"hello\",each)"
   ]
  },
  {
   "cell_type": "code",
   "execution_count": 2,
   "id": "8389aede",
   "metadata": {},
   "outputs": [
    {
     "name": "stdout",
     "output_type": "stream",
     "text": [
      "green\n"
     ]
    }
   ],
   "source": [
    "alien_0 = {'color': 'green',}\n",
    "print(alien_0['color'])\n"
   ]
  },
  {
   "cell_type": "code",
   "execution_count": 15,
   "id": "069d6930",
   "metadata": {},
   "outputs": [
    {
     "name": "stdout",
     "output_type": "stream",
     "text": [
      "{'color': 'green', 'points': 5}\n",
      "{'color': 'green', 'points': 5, 'x_position': 0, 'y_position': 25}\n",
      "You just earned 5 points!\n"
     ]
    }
   ],
   "source": [
    "alien_0 = {'color': 'green', 'points': 5}\n",
    "\n",
    "print(alien_0)\n",
    "alien_0['x_position'] = 0 \n",
    "alien_0['y_position'] = 25\n",
    "print(alien_0)\n",
    "\n",
    "new_points = alien_0['points']\n",
    "print(\"You just earned \" + str(new_points) + \" points!\")"
   ]
  },
  {
   "cell_type": "code",
   "execution_count": 17,
   "id": "e904bfe7",
   "metadata": {},
   "outputs": [
    {
     "name": "stdout",
     "output_type": "stream",
     "text": [
      "Original x-position: 0\n",
      "New x-position: 2\n"
     ]
    }
   ],
   "source": [
    "alien_0 = {'x_position': 0, 'y_position': 25, 'speed': 'medium'}\n",
    "print(\"Original x-position: \" + str(alien_0['x_position']))\n",
    "   # Move the alien to the right.\n",
    "# Determine how far to move the alien based on its current speed. \n",
    "if alien_0['speed'] == 'slow':\n",
    "       x_increment = 1\n",
    "elif alien_0['speed'] == 'medium':\n",
    "       x_increment = 2\n",
    "else:\n",
    "       # This must be a fast alien.\n",
    "       x_increment = 3\n",
    "# The new position is the old position plus the increment.\n",
    "alien_0['x_position'] = alien_0['x_position'] + x_increment\n",
    "print(\"New x-position: \" + str(alien_0['x_position']))"
   ]
  },
  {
   "cell_type": "code",
   "execution_count": 14,
   "id": "5403e381",
   "metadata": {},
   "outputs": [
    {
     "data": {
      "text/plain": [
       "True"
      ]
     },
     "execution_count": 14,
     "metadata": {},
     "output_type": "execute_result"
    }
   ],
   "source": []
  },
  {
   "cell_type": "code",
   "execution_count": null,
   "id": "bceaa61e",
   "metadata": {},
   "outputs": [],
   "source": []
  }
 ],
 "metadata": {
  "kernelspec": {
   "display_name": "Python 3 (ipykernel)",
   "language": "python",
   "name": "python3"
  },
  "language_info": {
   "codemirror_mode": {
    "name": "ipython",
    "version": 3
   },
   "file_extension": ".py",
   "mimetype": "text/x-python",
   "name": "python",
   "nbconvert_exporter": "python",
   "pygments_lexer": "ipython3",
   "version": "3.9.13"
  }
 },
 "nbformat": 4,
 "nbformat_minor": 5
}

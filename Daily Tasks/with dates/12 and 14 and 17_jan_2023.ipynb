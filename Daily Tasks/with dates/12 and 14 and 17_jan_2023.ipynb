{
 "cells": [
  {
   "cell_type": "code",
   "execution_count": 393,
   "id": "8b2e5af0",
   "metadata": {},
   "outputs": [
    {
     "ename": "RuntimeError",
     "evalue": "super(): no arguments",
     "output_type": "error",
     "traceback": [
      "\u001b[0;31m---------------------------------------------------------------------------\u001b[0m",
      "\u001b[0;31mRuntimeError\u001b[0m                              Traceback (most recent call last)",
      "\u001b[0;32m/var/folders/0k/rfc7l8w10vg2gy6fqthn9r9r0000gn/T/ipykernel_3094/2486780265.py\u001b[0m in \u001b[0;36m<module>\u001b[0;34m\u001b[0m\n\u001b[1;32m      2\u001b[0m     \u001b[0mx\u001b[0m \u001b[0;34m=\u001b[0m \u001b[0;36m20\u001b[0m\u001b[0;34m\u001b[0m\u001b[0;34m\u001b[0m\u001b[0m\n\u001b[1;32m      3\u001b[0m \u001b[0;34m\u001b[0m\u001b[0m\n\u001b[0;32m----> 4\u001b[0;31m \u001b[0;32mclass\u001b[0m \u001b[0mNew\u001b[0m\u001b[0;34m(\u001b[0m\u001b[0mAndy1\u001b[0m\u001b[0;34m)\u001b[0m\u001b[0;34m:\u001b[0m\u001b[0;34m\u001b[0m\u001b[0;34m\u001b[0m\u001b[0m\n\u001b[0m\u001b[1;32m      5\u001b[0m     \u001b[0msuper\u001b[0m\u001b[0;34m(\u001b[0m\u001b[0;34m)\u001b[0m\u001b[0;34m.\u001b[0m\u001b[0m__init__\u001b[0m\u001b[0;34m(\u001b[0m\u001b[0mAndy1\u001b[0m\u001b[0;34m)\u001b[0m\u001b[0;34m\u001b[0m\u001b[0;34m\u001b[0m\u001b[0m\n\u001b[1;32m      6\u001b[0m \u001b[0mn1\u001b[0m \u001b[0;34m=\u001b[0m \u001b[0mNew\u001b[0m\u001b[0;34m(\u001b[0m\u001b[0;34m)\u001b[0m\u001b[0;34m\u001b[0m\u001b[0;34m\u001b[0m\u001b[0m\n",
      "\u001b[0;32m/var/folders/0k/rfc7l8w10vg2gy6fqthn9r9r0000gn/T/ipykernel_3094/2486780265.py\u001b[0m in \u001b[0;36mNew\u001b[0;34m()\u001b[0m\n\u001b[1;32m      3\u001b[0m \u001b[0;34m\u001b[0m\u001b[0m\n\u001b[1;32m      4\u001b[0m \u001b[0;32mclass\u001b[0m \u001b[0mNew\u001b[0m\u001b[0;34m(\u001b[0m\u001b[0mAndy1\u001b[0m\u001b[0;34m)\u001b[0m\u001b[0;34m:\u001b[0m\u001b[0;34m\u001b[0m\u001b[0;34m\u001b[0m\u001b[0m\n\u001b[0;32m----> 5\u001b[0;31m     \u001b[0msuper\u001b[0m\u001b[0;34m(\u001b[0m\u001b[0;34m)\u001b[0m\u001b[0;34m.\u001b[0m\u001b[0m__init__\u001b[0m\u001b[0;34m(\u001b[0m\u001b[0mAndy1\u001b[0m\u001b[0;34m)\u001b[0m\u001b[0;34m\u001b[0m\u001b[0;34m\u001b[0m\u001b[0m\n\u001b[0m\u001b[1;32m      6\u001b[0m \u001b[0mn1\u001b[0m \u001b[0;34m=\u001b[0m \u001b[0mNew\u001b[0m\u001b[0;34m(\u001b[0m\u001b[0;34m)\u001b[0m\u001b[0;34m\u001b[0m\u001b[0;34m\u001b[0m\u001b[0m\n\u001b[1;32m      7\u001b[0m \u001b[0mprint\u001b[0m\u001b[0;34m(\u001b[0m\u001b[0mAndy1\u001b[0m\u001b[0;34m.\u001b[0m\u001b[0mx\u001b[0m\u001b[0;34m)\u001b[0m\u001b[0;34m\u001b[0m\u001b[0;34m\u001b[0m\u001b[0m\n",
      "\u001b[0;31mRuntimeError\u001b[0m: super(): no arguments"
     ]
    }
   ],
   "source": [
    "class Andy1():\n",
    "    x = 20\n",
    "    \n",
    "class New(Andy1):\n",
    "    super().__init__(Andy1)\n",
    "n1 = New()\n",
    "print(Andy1.x)"
   ]
  },
  {
   "cell_type": "code",
   "execution_count": 4,
   "id": "0039bb88",
   "metadata": {},
   "outputs": [
    {
     "name": "stdout",
     "output_type": "stream",
     "text": [
      "Dog has four legs.\n",
      "Dog is a warm-blooded animal.\n"
     ]
    }
   ],
   "source": [
    "class Mammal(object):\n",
    "    def __init__(self, mammalName):\n",
    "        print(mammalName, 'is a warm-blooded animal.')\n",
    "    \n",
    "class Dog(Mammal):\n",
    "    def __init__(self):\n",
    "        print('Dog has four legs.')\n",
    "        super().__init__('Dog')\n",
    "    \n",
    "d1 = Dog()"
   ]
  },
  {
   "cell_type": "code",
   "execution_count": 356,
   "id": "3574807f",
   "metadata": {},
   "outputs": [
    {
     "name": "stdout",
     "output_type": "stream",
     "text": [
      "Dog has four legs.\n",
      "Dog is a warm-blooded animal.\n"
     ]
    }
   ],
   "source": [
    "class Mammal(object):\n",
    "  def __init__(self, mammalName):\n",
    "    print(mammalName, 'is a warm-blooded animal.')\n",
    "    \n",
    "class Dog(Mammal):\n",
    "  def __init__(self):\n",
    "    print('Dog has four legs.')\n",
    "    super().__init__('Dog')\n",
    "    \n",
    "d1 = Dog()\n"
   ]
  },
  {
   "cell_type": "code",
   "execution_count": 92,
   "id": "4cc60fa2",
   "metadata": {},
   "outputs": [
    {
     "name": "stdout",
     "output_type": "stream",
     "text": [
      "{'color': 'green', 'points': 5, 'x_position': 0, 'y_position': 25}\n",
      "You just earned 5 points!\n"
     ]
    }
   ],
   "source": [
    "alien_0 = {'color': 'green', 'points': 5}\n",
    "alien_0['x_position'] = 0 \n",
    "alien_0['y_position'] = 25\n",
    "print(alien_0)\n",
    "new_points = alien_0['points']\n",
    "print(\"You just earned \" + str(new_points) + \" points!\")"
   ]
  },
  {
   "cell_type": "code",
   "execution_count": 100,
   "id": "3b2d7d17",
   "metadata": {},
   "outputs": [
    {
     "name": "stdout",
     "output_type": "stream",
     "text": [
      "{'color': 'green', 'points': 5}\n"
     ]
    }
   ],
   "source": [
    "alien_0 = {}\n",
    "alien_0['color'] = 'green'\n",
    "alien_0['points'] = 5\n",
    "print(alien_0)"
   ]
  },
  {
   "cell_type": "markdown",
   "id": "1e026d88",
   "metadata": {},
   "source": [
    "##### modify values"
   ]
  },
  {
   "cell_type": "code",
   "execution_count": 104,
   "id": "898b55c6",
   "metadata": {},
   "outputs": [
    {
     "name": "stdout",
     "output_type": "stream",
     "text": [
      "The alien is green.\n",
      "The alien is now yellow.\n"
     ]
    }
   ],
   "source": [
    "alien_0 = {'color': 'green'}\n",
    "print(\"The alien is \" + alien_0['color'] + \".\")\n",
    "alien_0['color'] = 'yellow'\n",
    "print(\"The alien is now \" + alien_0['color'] + \".\")\n"
   ]
  },
  {
   "cell_type": "code",
   "execution_count": 111,
   "id": "1092a90a",
   "metadata": {},
   "outputs": [
    {
     "name": "stdout",
     "output_type": "stream",
     "text": [
      "Original x-position: 0\n",
      "New x-position: 10000000000.0\n"
     ]
    }
   ],
   "source": [
    "alien_0 = {'x_position': 0, 'y_position': 25, 'speed': 'super s'}\n",
    "print(\"Original x-position: \" + str(alien_0['x_position']))\n",
    "   # Move the alien to the right.\n",
    "# Determine how far to move the alien based on its current speed.\n",
    "if alien_0['speed'] == 'slow':\n",
    "    x_increment = 1\n",
    "if alien_0[\"speed\"]==\"super slow\":\n",
    "    x_increment = 1e-17\n",
    "elif alien_0['speed'] == 'medium':\n",
    "    x_increment = 2\n",
    "else:\n",
    "       # This must be a fast alien.\n",
    "    x_increment = 1e10\n",
    "# The new position is the old position plus the increment. \n",
    "alien_0['x_position'] = alien_0['x_position'] + x_increment\n",
    "print(\"New x-position: \" + str(alien_0['x_position']))"
   ]
  },
  {
   "cell_type": "code",
   "execution_count": null,
   "id": "945a3eae",
   "metadata": {},
   "outputs": [],
   "source": []
  },
  {
   "cell_type": "code",
   "execution_count": 116,
   "id": "ee2f75b4",
   "metadata": {},
   "outputs": [
    {
     "data": {
      "image/png": "[encoded data removed]",
      "text/plain": [
       "<Figure size 640x480 with 1 Axes>"
      ]
     },
     "metadata": {},
     "output_type": "display_data"
    }
   ],
   "source": [
    "import math\n",
    "import matplotlib.pyplot as plt\n",
    "x = []\n",
    "for i in range(361):\n",
    "    #print(\"for degree {0} the value of sine is {1}\".format(i, math.sin(math.radians(i))))\n",
    "    x.append( math.atan(math.radians(i)) )\n",
    "plt.plot(x)\n",
    "plt.title(\"atan plot\")\n",
    "plt.xlabel(\"degree\")\n",
    "plt.ylabel(\"atan value on degree\")\n",
    "plt.show()"
   ]
  },
  {
   "cell_type": "code",
   "execution_count": 117,
   "id": "66817436",
   "metadata": {},
   "outputs": [
    {
     "name": "stdout",
     "output_type": "stream",
     "text": [
      "0.8939966636005579\n"
     ]
    }
   ],
   "source": [
    "import math\n",
    "print(math.sin(90))"
   ]
  },
  {
   "cell_type": "code",
   "execution_count": 411,
   "id": "347c0190",
   "metadata": {},
   "outputs": [
    {
     "name": "stdout",
     "output_type": "stream",
     "text": [
      "-0.40125591158761975\n"
     ]
    }
   ],
   "source": [
    "import math\n",
    "print(math.sin(math.radians(32290231290124313545445451167243817691145114452134234578546111)))"
   ]
  },
  {
   "cell_type": "code",
   "execution_count": 364,
   "id": "d4147c6e",
   "metadata": {},
   "outputs": [
    {
     "name": "stdout",
     "output_type": "stream",
     "text": [
      "{'color': 'yellow', 'points': 10, 'speed': 'medium'}\n",
      "{'color': 'yellow', 'points': 10, 'speed': 'medium'}\n",
      "{'color': 'yellow', 'points': 10, 'speed': 'medium'}\n",
      "{'color': 'green', 'points': 5, 'speed': 'slow'}\n",
      "{'color': 'green', 'points': 5, 'speed': 'slow'}\n",
      "...\n"
     ]
    }
   ],
   "source": [
    "# Make an empty list for storing aliens.\n",
    "aliens = []\n",
    "# Make 30 green aliens.\n",
    "for alien_number in range (0,30):\n",
    "    new_alien = {'color': 'green', 'points': 5, 'speed': 'slow'}\n",
    "    aliens.append(new_alien)\n",
    "for alien in aliens[0:3]:\n",
    "    if alien['color'] == 'green':\n",
    "        alien['color'] = 'yellow'\n",
    "        alien['speed'] = 'medium'\n",
    "        alien['points'] = 10\n",
    "# Show the first 5 aliens:\n",
    "for alien in aliens[0:5]:\n",
    "    print(alien)\n",
    "print(\"...\")"
   ]
  },
  {
   "cell_type": "code",
   "execution_count": 365,
   "id": "c5e74c79",
   "metadata": {},
   "outputs": [],
   "source": [
    "for alien in aliens[0:3]:\n",
    "    if alien['color'] == 'green':\n",
    "        alien['color'] = 'yellow'\n",
    "        alien['speed'] = 'medium'\n",
    "        alien['points'] = 10\n",
    "    elif alien['color'] == 'yellow':\n",
    "        alien['color'] = 'red'\n",
    "        alien['speed'] = 'fast'\n",
    "        alien['points'] = 15"
   ]
  },
  {
   "cell_type": "code",
   "execution_count": 366,
   "id": "ddf96fce",
   "metadata": {},
   "outputs": [
    {
     "name": "stdout",
     "output_type": "stream",
     "text": [
      "\n",
      "I have a harry.\n",
      "My harry's name is Hamster.\n"
     ]
    }
   ],
   "source": [
    "def describe_pet(animal_type, pet_name):\n",
    "    \"\"\"Display information about a pet.\"\"\"\n",
    "    print(\"\\nI have a \" + animal_type + \".\")\n",
    "    print(\"My \" + animal_type + \"'s name is \" + pet_name.title() + \".\")\n",
    "describe_pet('harry', 'hamster')"
   ]
  },
  {
   "cell_type": "code",
   "execution_count": 118,
   "id": "b328287b",
   "metadata": {},
   "outputs": [
    {
     "name": "stdout",
     "output_type": "stream",
     "text": [
      "\n",
      "I have a hamster.\n",
      "My hamster's name is Lowlow.\n"
     ]
    }
   ],
   "source": [
    "def describe_pet(animal_type, pet_name):\n",
    "    \"\"\"Display information about a pet.\"\"\"\n",
    "    print(\"\\nI have a \" + animal_type + \".\")\n",
    "    print(\"My \" + animal_type + \"'s name is \" + pet_name.title() + \".\")\n",
    "describe_pet(animal_type='hamster', pet_name='lowlow')"
   ]
  },
  {
   "cell_type": "code",
   "execution_count": 127,
   "id": "a5e71366",
   "metadata": {},
   "outputs": [
    {
     "name": "stdout",
     "output_type": "stream",
     "text": [
      "Jimi Hendrix\n",
      "None\n"
     ]
    }
   ],
   "source": [
    "def get_formatted_name(first_name, last_name, middle_name=''):\n",
    "    if middle_name:\n",
    "        full_name = first_name + ' ' + middle_name + ' ' + last_name\n",
    "    else:\n",
    "        full_name = first_name + ' ' + last_name\n",
    "        return full_name.title()\n",
    "musician = get_formatted_name('jimi', 'hendrix')\n",
    "print(musician)\n",
    "\n",
    "musician = get_formatted_name('john', 'hooker', 'lee') \n",
    "print(musician)"
   ]
  },
  {
   "cell_type": "code",
   "execution_count": 369,
   "id": "eec8451e",
   "metadata": {},
   "outputs": [
    {
     "name": "stdout",
     "output_type": "stream",
     "text": [
      "Jimi Hendrix\n",
      "John Lee Hooker\n"
     ]
    }
   ],
   "source": [
    "def get_formatted_name(first_name, last_name, middle_name=''): \n",
    "    \"\"\"Return a full name, neatly formatted.\"\"\"\n",
    "    if middle_name:\n",
    "        full_name = first_name + ' ' + middle_name + ' ' + last_name\n",
    "    else:\n",
    "        full_name = first_name + ' ' + last_name\n",
    "    return full_name.title()\n",
    "\n",
    "musician = get_formatted_name('jimi', 'hendrix')\n",
    "print(musician)\n",
    "\n",
    "musician = get_formatted_name('john', 'hooker', 'lee') \n",
    "print(musician)"
   ]
  },
  {
   "cell_type": "code",
   "execution_count": null,
   "id": "1d8e21c0",
   "metadata": {},
   "outputs": [],
   "source": []
  },
  {
   "cell_type": "code",
   "execution_count": 128,
   "id": "6c72a1f6",
   "metadata": {},
   "outputs": [
    {
     "name": "stdout",
     "output_type": "stream",
     "text": [
      "{'color': 'green', 'points': 5}\n",
      "{'color': 'yellow', 'points': 10}\n",
      "{'color': 'red', 'points': 15}\n"
     ]
    }
   ],
   "source": [
    "alien_0 = {'color': 'green', 'points': 5}\n",
    "alien_1 = {'color': 'yellow', 'points': 10}\n",
    "alien_2 = {'color': 'red', 'points': 15}\n",
    "\n",
    "aliens = [alien_0, alien_1, alien_2] \n",
    "\n",
    "for alien in aliens:\n",
    "    \n",
    "    print(alien)"
   ]
  },
  {
   "cell_type": "code",
   "execution_count": 371,
   "id": "2c8695de",
   "metadata": {},
   "outputs": [
    {
     "name": "stdout",
     "output_type": "stream",
     "text": [
      "{'color': 'yellow', 'points': 10, 'speed': 'medium'}\n",
      "{'color': 'yellow', 'points': 10, 'speed': 'medium'}\n",
      "{'color': 'yellow', 'points': 10, 'speed': 'medium'}\n",
      "{'color': 'green', 'points': 5, 'speed': 'slow'}\n",
      "{'color': 'green', 'points': 5, 'speed': 'slow'}\n",
      "...\n",
      "Total number of aliens: 30\n"
     ]
    }
   ],
   "source": [
    "# Make an empty list for storing aliens.\n",
    "aliens = []\n",
    "\n",
    "# Make 30 green aliens.\n",
    "for alien_number in range(30):\n",
    "    new_alien = {'color': 'green', 'points': 5, 'speed': 'slow'} \n",
    "    aliens.append(new_alien)\n",
    "\n",
    "for alien in aliens[0:3]:\n",
    "    if alien['color'] == 'green':\n",
    "        alien['color'] = 'yellow'\n",
    "        alien['speed'] = 'medium'\n",
    "        alien['points'] = 10\n",
    "    \n",
    "# Show the first 5 aliens: \n",
    "for alien in aliens[0:5]:\n",
    "    print(alien)\n",
    "print(\"...\")\n",
    "\n",
    "# Show how many aliens have been created. \n",
    "print(\"Total number of aliens: \" + str(len(aliens)))"
   ]
  },
  {
   "cell_type": "code",
   "execution_count": 372,
   "id": "183f7aa6",
   "metadata": {},
   "outputs": [],
   "source": [
    "for alien in aliens[0:3]:\n",
    "    if alien['color'] == 'green':\n",
    "            alien['color'] = 'yellow'\n",
    "            alien['speed'] = 'medium'\n",
    "            alien['points'] = 10\n",
    "    elif alien['color'] == 'yellow':\n",
    "            alien['color'] = 'red'\n",
    "            alien['speed'] = 'fast'\n",
    "            alien['points'] = 15"
   ]
  },
  {
   "cell_type": "code",
   "execution_count": 373,
   "id": "b99c2de5",
   "metadata": {},
   "outputs": [
    {
     "name": "stdout",
     "output_type": "stream",
     "text": [
      "\n",
      "Jen's favorite languages are:\n",
      "\tPython\n",
      "\tRuby\n",
      "\n",
      "Sarah's favorite languages are:\n",
      "\tC\n",
      "\n",
      "Edward's favorite languages are:\n",
      "\tRuby\n",
      "\tGo\n",
      "\n",
      "Phil's favorite languages are:\n",
      "\tPython\n",
      "\tHaskell\n"
     ]
    }
   ],
   "source": [
    "favorite_languages = {\n",
    "    'jen': ['python', 'ruby'],\n",
    "       'sarah': ['c'],\n",
    "       'edward': ['ruby', 'go'],\n",
    "       'phil': ['python', 'haskell'],\n",
    "       }\n",
    "for name, languages in favorite_languages.items():\n",
    "    print(\"\\n\" + name.title() + \"'s favorite languages are:\")\n",
    "    for language in languages: \n",
    "        print(\"\\t\" + language.title())"
   ]
  },
  {
   "cell_type": "code",
   "execution_count": 374,
   "id": "de2369af",
   "metadata": {},
   "outputs": [
    {
     "name": "stdout",
     "output_type": "stream",
     "text": [
      "Umair\n"
     ]
    }
   ],
   "source": [
    "ikn = 'in'\n",
    "t = {'first_name':'Umair', 'last_name':'Ali', 'age':28,'the_city_that_they_live_'+ikn:'gujrat'}\n",
    "print(t['first_name'])"
   ]
  },
  {
   "cell_type": "code",
   "execution_count": 375,
   "id": "c8834ab6",
   "metadata": {},
   "outputs": [
    {
     "data": {
      "text/plain": [
       "{'first_name': 'Umair',\n",
       " 'last_name': 'Ali',\n",
       " 'age': 28,\n",
       " 'the_city_that_they_live_in': 'gujrat',\n",
       " 'age2': '28'}"
      ]
     },
     "execution_count": 375,
     "metadata": {},
     "output_type": "execute_result"
    }
   ],
   "source": [
    "#del t['age']\n",
    "t['age2']=\"28\"\n",
    "t"
   ]
  },
  {
   "cell_type": "code",
   "execution_count": 376,
   "id": "1b3af040",
   "metadata": {},
   "outputs": [
    {
     "name": "stdout",
     "output_type": "stream",
     "text": [
      "                     \n",
      "                      |\n",
      "                      |                      \n",
      "                      |\n",
      "                      |\n",
      "                      |\n",
      "                      |\n",
      "               \\      |      /\n",
      "                \\     |     /\n",
      "                 \\    |    /\n",
      "                  \\   |   /\n",
      "                   \\  |  /\n",
      "                    \\ | /\n",
      "                     \\ /\n"
     ]
    }
   ],
   "source": [
    "t = \"\"\"                     \n",
    "                      |\n",
    "                      |                      \n",
    "                      |\n",
    "                      |\n",
    "                      |\n",
    "                      |\n",
    "               \\      |      /\n",
    "                \\     |     /\n",
    "                 \\    |    /\n",
    "                  \\   |   /\n",
    "                   \\  |  /\n",
    "                    \\ | /\n",
    "                     \\ /\"\"\"\n",
    "print(t)"
   ]
  },
  {
   "cell_type": "code",
   "execution_count": 377,
   "id": "10912638",
   "metadata": {},
   "outputs": [
    {
     "name": "stdout",
     "output_type": "stream",
     "text": [
      "down\n"
     ]
    }
   ],
   "source": [
    "print(\"down\")"
   ]
  },
  {
   "cell_type": "code",
   "execution_count": 131,
   "id": "e2ae2af7",
   "metadata": {},
   "outputs": [
    {
     "name": "stdout",
     "output_type": "stream",
     "text": [
      "   \n",
      " /       \n",
      "  / |      \n",
      "  /  |      \n",
      "   /   |      \n",
      "   /    |      \n",
      "   /     |     \n",
      "   /      |                 |\n",
      "           |\n",
      "           |\n",
      "           |\n",
      "           |\n",
      "           |\n",
      "           | \n",
      "           |    \n",
      "           |\n"
     ]
    }
   ],
   "source": [
    " \n",
    "e=\"\"\"   \\n / \\\n",
    "      \\n  / | \\\n",
    "     \\n  /  |  \\\n",
    "    \\n   /   |   \\\n",
    "   \\n   /    |    \\\n",
    "  \\n   /     |     \\\n",
    "\\n   /      |      \\\n",
    "           |\n",
    "           |\n",
    "           |\n",
    "           |\n",
    "           |\n",
    "           |\n",
    "           | \n",
    "           |    \n",
    "           |\"\"\"\n",
    "\n",
    "print(e)"
   ]
  },
  {
   "cell_type": "code",
   "execution_count": 379,
   "id": "7746c8a7",
   "metadata": {},
   "outputs": [
    {
     "name": "stdout",
     "output_type": "stream",
     "text": [
      "[1, 2, 2, 3, 2, 1]\n"
     ]
    }
   ],
   "source": [
    "t = list((1,2,2,3,2,1))\n",
    "print(t)"
   ]
  },
  {
   "cell_type": "code",
   "execution_count": 380,
   "id": "85b82bf0",
   "metadata": {},
   "outputs": [
    {
     "name": "stdout",
     "output_type": "stream",
     "text": [
      "{1, 2, 3}\n"
     ]
    }
   ],
   "source": [
    "t = set((1,2,2,3,2,1))\n",
    "print(t)"
   ]
  },
  {
   "cell_type": "code",
   "execution_count": 134,
   "id": "127a353d",
   "metadata": {},
   "outputs": [
    {
     "ename": "SyntaxError",
     "evalue": "invalid syntax (3318525449.py, line 1)",
     "output_type": "error",
     "traceback": [
      "\u001b[0;36m  File \u001b[0;32m\"/var/folders/0k/rfc7l8w10vg2gy6fqthn9r9r0000gn/T/ipykernel_24625/3318525449.py\"\u001b[0;36m, line \u001b[0;32m1\u001b[0m\n\u001b[0;31m    44t = set((13,10,11,12,1,2,2,3,2,1,3,4,4,3,4,3,1,3,4,5,6,22,1,3,2,1,3,31,1,3,2,22,1,3,1,2,.33,2,3,4,2,3,6,7,8,2,3,5,7))\u001b[0m\n\u001b[0m      ^\u001b[0m\n\u001b[0;31mSyntaxError\u001b[0m\u001b[0;31m:\u001b[0m invalid syntax\n"
     ]
    }
   ],
   "source": [
    "44t = set((13,10,11,12,1,2,2,3,2,1,3,4,4,3,4,3,1,3,4,5,6,22,1,3,2,1,3,31,1,3,2,22,1,3,1,2,.33,2,3,4,2,3,6,7,8,2,3,5,7))\n",
    "print(t)"
   ]
  },
  {
   "cell_type": "code",
   "execution_count": null,
   "id": "265d8638",
   "metadata": {},
   "outputs": [],
   "source": []
  },
  {
   "cell_type": "code",
   "execution_count": 382,
   "id": "43b4add8",
   "metadata": {},
   "outputs": [
    {
     "data": {
      "text/plain": [
       "{'umair': 5, 'andy': 7, 'angela': 2, 'wasd_keys': 2134}"
      ]
     },
     "execution_count": 382,
     "metadata": {},
     "output_type": "execute_result"
    }
   ],
   "source": [
    "fav_numerals = dict(umair=5,andy=7,angela=2,wasd_keys=2134)\n",
    "fav_numerals"
   ]
  },
  {
   "cell_type": "code",
   "execution_count": 383,
   "id": "64ae418f",
   "metadata": {},
   "outputs": [
    {
     "name": "stdout",
     "output_type": "stream",
     "text": [
      "A cat is a mammal with four legs with fur that purrs meow\n",
      "A dog is a mammal with four legs with fur that barks\n"
     ]
    }
   ],
   "source": [
    "di = dict(cat=\"a mammal with four legs with fur that purrs meow\",dog=\"a mammal with four legs with fur that barks\")\n",
    "for each in di:\n",
    "    print(\"A\",each,\"is\",di[each])"
   ]
  },
  {
   "cell_type": "code",
   "execution_count": 384,
   "id": "284905e3",
   "metadata": {},
   "outputs": [
    {
     "name": "stdout",
     "output_type": "stream",
     "text": [
      "umair 5\n",
      "andy 7\n",
      "angela 2\n",
      "wasd_keys 2134\n"
     ]
    }
   ],
   "source": [
    "fav_numerals = dict(umair=5,andy=7,angela=2,wasd_keys=2134)\n",
    "for key,value in fav_numerals.items():\n",
    "    print(key,value)"
   ]
  },
  {
   "cell_type": "code",
   "execution_count": 385,
   "id": "030a8a9b",
   "metadata": {},
   "outputs": [
    {
     "name": "stdout",
     "output_type": "stream",
     "text": [
      "umair\n",
      "andy\n",
      "angela\n",
      "wasd_keys\n"
     ]
    }
   ],
   "source": [
    "fav_numerals = dict(umair=5,andy=7,angela=2,wasd_keys=2134)\n",
    "for key in fav_numerals.keys():\n",
    "    print(key)"
   ]
  },
  {
   "cell_type": "code",
   "execution_count": 386,
   "id": "c1a8c5f3",
   "metadata": {},
   "outputs": [
    {
     "name": "stdout",
     "output_type": "stream",
     "text": [
      "5\n",
      "7\n",
      "2\n",
      "2134\n"
     ]
    }
   ],
   "source": [
    "j = \"'d\"\n",
    "fav_numerals = dict(umair=5,andy=7,angela=2,wasd_keys=2134)\n",
    "for value in fav_numerals.values():\n",
    "    print(value)"
   ]
  },
  {
   "cell_type": "code",
   "execution_count": 387,
   "id": "46c12994",
   "metadata": {},
   "outputs": [
    {
     "ename": "SyntaxError",
     "evalue": "EOL while scanning string literal (2333665579.py, line 12)",
     "output_type": "error",
     "traceback": [
      "\u001b[0;36m  File \u001b[0;32m\"/var/folders/0k/rfc7l8w10vg2gy6fqthn9r9r0000gn/T/ipykernel_3094/2333665579.py\"\u001b[0;36m, line \u001b[0;32m12\u001b[0m\n\u001b[0;31m    print(\"there is one more person who chosealien_0 = {'color': 'green', 'points': 5}\u001b[0m\n\u001b[0m                                                                                      ^\u001b[0m\n\u001b[0;31mSyntaxError\u001b[0m\u001b[0;31m:\u001b[0m EOL while scanning string literal\n"
     ]
    }
   ],
   "source": [
    "d = \"s\"\n",
    "favorite_languages = {\n",
    "       'jen': 'python',\n",
    "       'sarah': 'c',\n",
    "       'edward': 'ruby',\n",
    "       'Andy': \"Math,Sike It's scratch\",\n",
    "       'Umair':'python'\n",
    "       }\n",
    "\n",
    "for name, language in favorite_languages.items():\n",
    "    if favorite_languages == 'Umair':\n",
    "        print(\"there is one more person who chosealien_0 = {'color': 'green', 'points': 5}\n",
    "   alien_1 = {'color': 'yellow', 'points': 10}\n",
    "   alien_2 = {'color': 'red', 'points': 15}\n",
    "ualiens = [alien_0, alien_1, alien_2] for alien in aliens:\n",
    "       print(alien) python but thanks for telling me Mr. Umair\")\n",
    "    else:\n",
    "        print(name.title() + \"'s favorite language is \" +\n",
    "            language.title() + \".\")\n",
    "        print(favorite_languages[name])"
   ]
  },
  {
   "cell_type": "markdown",
   "id": "33673b65",
   "metadata": {},
   "source": [
    "* <sub><sup> home work 6.5 and 6.6 plus.......copy paste code and do 6.7  </sub></sup>*"
   ]
  },
  {
   "cell_type": "code",
   "execution_count": 388,
   "id": "5390be22",
   "metadata": {},
   "outputs": [
    {
     "name": "stdout",
     "output_type": "stream",
     "text": [
      "Nile_River the river is in Eygypt\n",
      "Shinano_River the river is in japan\n"
     ]
    }
   ],
   "source": [
    "rivers = dict(Nile_River=\"Eygypt\",Shinano_River=\"japan\")\n",
    "for each in rivers:\n",
    "    print(each,\"the river is in\",rivers[each])"
   ]
  },
  {
   "cell_type": "code",
   "execution_count": 389,
   "id": "38fd10af",
   "metadata": {},
   "outputs": [
    {
     "name": "stdout",
     "output_type": "stream",
     "text": [
      "{'color': 'green', 'points': 5}\n",
      "{'color': 'yellow', 'points': 10}\n",
      "{'color': 'red', 'points': 15}\n"
     ]
    }
   ],
   "source": [
    "alien_0 = {'color': 'green', 'points': 5}\n",
    "alien_1 = {'color': 'yellow', 'points': 10}\n",
    "alien_2 = {'color': 'red', 'points': 15}\n",
    "\n",
    "aliens = [alien_0, alien_1, alien_2] \n",
    "\n",
    "for alien in aliens:\n",
    "    print(alien)"
   ]
  },
  {
   "cell_type": "code",
   "execution_count": 390,
   "id": "f2fb09cd",
   "metadata": {},
   "outputs": [
    {
     "name": "stdout",
     "output_type": "stream",
     "text": [
      "umair knows a lot of python\n",
      "my_mom knows everything\n"
     ]
    }
   ],
   "source": [
    "people = dict(umair=\"knows a lot of python\",my_mom=\"knows everything\")\n",
    "for each in people:\n",
    "    print(each,people[each])"
   ]
  },
  {
   "cell_type": "code",
   "execution_count": 413,
   "id": "ef97db5a",
   "metadata": {},
   "outputs": [
    {
     "name": "stdout",
     "output_type": "stream",
     "text": [
      "Awang 's owner is Angela\n",
      "Hapiy 's owner is Andy\n"
     ]
    }
   ],
   "source": [
    "i=\"'s\"\n",
    "pets = dict(Awang=\"Angela\",Hapiy=\"Andy\")\n",
    "for each in pets:\n",
    "    print(each,i,\"owner is\",pets[each])"
   ]
  },
  {
   "cell_type": "code",
   "execution_count": 392,
   "id": "fed157cd",
   "metadata": {},
   "outputs": [
    {
     "name": "stdout",
     "output_type": "stream",
     "text": [
      "Andy 's fav place is disneyland\n",
      "My_mom 's fav place is 上海\n"
     ]
    }
   ],
   "source": [
    "fav_places = dict(Andy = \"disneyland\",My_mom=\"上海\")\n",
    "for each in fav_places:\n",
    "    print(each,i,\"fav place is\",fav_places[each])"
   ]
  },
  {
   "cell_type": "code",
   "execution_count": 405,
   "id": "206ae0bd",
   "metadata": {},
   "outputs": [
    {
     "name": "stdout",
     "output_type": "stream",
     "text": [
      ":)\n"
     ]
    }
   ],
   "source": [
    "print(\":)\")\n",
    "  "
   ]
  },
  {
   "cell_type": "markdown",
   "id": "3b9b7a5d",
   "metadata": {},
   "source": [
    "# ![image of shanghai](https://theplanetd.com/images/things-to-do-in-shanghai-1.jpg)"
   ]
  },
  {
   "cell_type": "code",
   "execution_count": 415,
   "id": "466f4251",
   "metadata": {},
   "outputs": [
    {
     "name": "stdout",
     "output_type": "stream",
     "text": [
      "umair [5, 6, 7]\n",
      "andy 7\n",
      "angela 2\n",
      "wasd_keys 2134\n"
     ]
    }
   ],
   "source": [
    "fav_numerals = dict(umair=[5,6,7],andy=[7,8,0],angela=[1,2,5],wasd_keys=2134)\n",
    "for key,value in fav_numerals.items():\n",
    "    print(key,value)"
   ]
  },
  {
   "cell_type": "code",
   "execution_count": 428,
   "id": "59209ab1",
   "metadata": {},
   "outputs": [
    {
     "name": "stdout",
     "output_type": "stream",
     "text": [
      "umair's fav number is 5\n",
      "andy's fav number is 7\n",
      "angela's fav number is 1\n",
      "wasd_keys's fav number is [4, 8, 56]\n"
     ]
    }
   ],
   "source": [
    "fav_numerals = dict(umair=5,andy=7,angela=1,wasd_keys=2134)\n",
    "for each in fav_numerals:\n",
    "    print(f'{each}{i} fav number is {fav_numerals[each]}')"
   ]
  },
  {
   "cell_type": "code",
   "execution_count": 430,
   "id": "96c283a3",
   "metadata": {},
   "outputs": [
    {
     "name": "stdout",
     "output_type": "stream",
     "text": [
      "Tokyo is the biggest city of the world.  its population is 13 million.\n",
      "shanghai 3rd largest city of the world. its in china.\n"
     ]
    }
   ],
   "source": [
    "cities = dict()\n",
    "cities['Tokyo'] = \"is the biggest city of the world.  its population is 13 million.\"\n",
    "cities[\"shanghai\"]=\"3rd largest city of the world. its in china.\"\n",
    "for umair in cities:\n",
    "    print(umair,cities[umair])"
   ]
  },
  {
   "cell_type": "code",
   "execution_count": 431,
   "id": "6be51cfa",
   "metadata": {},
   "outputs": [
    {
     "name": "stdout",
     "output_type": "stream",
     "text": [
      "umair's fav number is 5\n",
      "andy's fav number is 7\n",
      "angela's fav number is 1\n",
      "wasd_keys's fav number is 2134\n",
      "umair's fav number is 55\n",
      "andy's fav number is 7\n",
      "angela's fav number is 1\n",
      "wasd_keys's fav number is 2134\n"
     ]
    }
   ],
   "source": [
    "fav_numerals = dict(umair=5,andy=7,angela=1,wasd_keys=2134)\n",
    "for each in fav_numerals:\n",
    "    print(f'{each}{i} fav number is {fav_numerals[each]}')\n",
    "fav_numerals['umair']=55\n",
    "for each2 in fav_numerals:\n",
    "    print(f'{each2}{i} fav number is {fav_numerals[each2]}')"
   ]
  },
  {
   "cell_type": "code",
   "execution_count": null,
   "id": "41d314bf",
   "metadata": {},
   "outputs": [],
   "source": [
    "while(True):\n",
    "    me = input(\"what is your age \")\n",
    "    if me == \"quit\" or \"break\":\n",
    "        yy = input(\"last chance quit or continue?\")\n",
    "    if yy == \"quit\" or \"break\":\n",
    "        break\n",
    "    elif yy == \"continue\":\n",
    "        continue\n",
    "    elif int(me) < 20:\n",
    "        print(\"you are younger than 20 \")\n",
    "    elif int(me)>20:\n",
    "        print(\"you are older than 20 \")\n",
    "    else:\n",
    "        print(\"you are equal to 20 \")"
   ]
  },
  {
   "cell_type": "code",
   "execution_count": null,
   "id": "179a10b2",
   "metadata": {},
   "outputs": [],
   "source": []
  },
  {
   "cell_type": "code",
   "execution_count": null,
   "id": "e4508b7d",
   "metadata": {},
   "outputs": [],
   "source": [
    "len([1,2,3,88,5555])"
   ]
  },
  {
   "cell_type": "code",
   "execution_count": 1,
   "id": "ee013862",
   "metadata": {},
   "outputs": [
    {
     "name": "stdout",
     "output_type": "stream",
     "text": [
      "What car do you want ÿÿÿÿÿ\n",
      "Let me see if i can find a ÿÿÿÿÿ\n"
     ]
    }
   ],
   "source": [
    "t = input(\"What car do you want \")\n",
    "print(\"Let me see if i can find a\",t)"
   ]
  },
  {
   "cell_type": "code",
   "execution_count": null,
   "id": "156818d5",
   "metadata": {},
   "outputs": [],
   "source": [
    "y = input(\"How many people at the dinner table \")\n",
    "if int(y) >= 9:\n",
    "    print(\"some people will have to wait \")\n",
    "else:\n",
    "    print(\"there is the perfect amount of people \")"
   ]
  },
  {
   "cell_type": "code",
   "execution_count": 9,
   "id": "039135f8",
   "metadata": {},
   "outputs": [
    {
     "ename": "Terminator",
     "evalue": "",
     "output_type": "error",
     "traceback": [
      "\u001b[0;31m---------------------------------------------------------------------------\u001b[0m",
      "\u001b[0;31mTerminator\u001b[0m                                Traceback (most recent call last)",
      "\u001b[0;32m/var/folders/0k/rfc7l8w10vg2gy6fqthn9r9r0000gn/T/ipykernel_11600/4223311047.py\u001b[0m in \u001b[0;36m<module>\u001b[0;34m\u001b[0m\n\u001b[1;32m      3\u001b[0m \u001b[0;32mfor\u001b[0m \u001b[0meach\u001b[0m \u001b[0;32min\u001b[0m \u001b[0mrange\u001b[0m\u001b[0;34m(\u001b[0m\u001b[0;36m1000\u001b[0m\u001b[0;34m)\u001b[0m\u001b[0;34m:\u001b[0m\u001b[0;34m\u001b[0m\u001b[0;34m\u001b[0m\u001b[0m\n\u001b[1;32m      4\u001b[0m     \u001b[0mcolor\u001b[0m \u001b[0;34m=\u001b[0m \u001b[0;34m'blue'\u001b[0m\u001b[0;34m\u001b[0m\u001b[0;34m\u001b[0m\u001b[0m\n\u001b[0;32m----> 5\u001b[0;31m     \u001b[0mturtle\u001b[0m\u001b[0;34m.\u001b[0m\u001b[0mforward\u001b[0m\u001b[0;34m(\u001b[0m\u001b[0;36m49\u001b[0m\u001b[0;34m)\u001b[0m\u001b[0;34m\u001b[0m\u001b[0;34m\u001b[0m\u001b[0m\n\u001b[0m\u001b[1;32m      6\u001b[0m     \u001b[0mturtle\u001b[0m\u001b[0;34m.\u001b[0m\u001b[0mright\u001b[0m\u001b[0;34m(\u001b[0m\u001b[0;36m79\u001b[0m\u001b[0;34m)\u001b[0m\u001b[0;34m\u001b[0m\u001b[0;34m\u001b[0m\u001b[0m\n",
      "\u001b[0;32m~/opt/anaconda3/lib/python3.9/turtle.py\u001b[0m in \u001b[0;36mforward\u001b[0;34m(distance)\u001b[0m\n",
      "\u001b[0;31mTerminator\u001b[0m: "
     ]
    }
   ],
   "source": [
    "import turtle\n",
    "turtle.speed(0)\n",
    "for each in range(1000):\n",
    "    color = 'blue'\n",
    "    turtle.forward(49)\n",
    "    turtle.right(79)"
   ]
  },
  {
   "cell_type": "markdown",
   "id": "0de395a3",
   "metadata": {},
   "source": [
    "# ![image of shanghai](https://theplanetd.com/images/things-to-do-in-shanghai-1.jpg)"
   ]
  },
  {
   "cell_type": "markdown",
   "id": "3a25b919",
   "metadata": {},
   "source": [
    "# ![image of italy](https://www.state.gov/wp-content/uploads/2018/11/Italy-2109x1406.jpg)"
   ]
  },
  {
   "cell_type": "markdown",
   "id": "2fee7f25",
   "metadata": {},
   "source": [
    "\n"
   ]
  },
  {
   "cell_type": "markdown",
   "id": "aac5f075",
   "metadata": {},
   "source": [
    " <sub><sup> Umair </sub></sup>\n",
    "# Umair"
   ]
  },
  {
   "cell_type": "code",
   "execution_count": null,
   "id": "b0cf800b",
   "metadata": {},
   "outputs": [],
   "source": [
    "x = input(\"please enter the number \")\n",
    "if int(x)%10==0 and  int(x) != 0:\n",
    "    print(str(x),\"is mutiple of ten\")\n",
    "else:\n",
    "    print(str(x),\"it is not a multiple of ten\")"
   ]
  },
  {
   "cell_type": "code",
   "execution_count": 7,
   "id": "5e760c39",
   "metadata": {},
   "outputs": [
    {
     "name": "stdout",
     "output_type": "stream",
     "text": [
      "你\n",
      "好\n",
      "世\n",
      "界\n"
     ]
    }
   ],
   "source": [
    "ii = \"你好世界\"\n",
    "for e in ii:\n",
    "    print(e)"
   ]
  },
  {
   "cell_type": "code",
   "execution_count": 8,
   "id": "761f2009",
   "metadata": {},
   "outputs": [
    {
     "name": "stdout",
     "output_type": "stream",
     "text": [
      "are you happy, if not then press quitquit\n",
      "while loop ended byee,,, stay happy buddy!!\n"
     ]
    }
   ],
   "source": [
    "x =\"\"\n",
    "while(x!=\"quit\"):#keep on doing\n",
    "    x = input(\"are you happy, if not then press quit\")\n",
    "print(\"while loop ended\",\"byee,,, stay happy buddy!!\")"
   ]
  },
  {
   "cell_type": "code",
   "execution_count": null,
   "id": "6d3ebf46",
   "metadata": {},
   "outputs": [],
   "source": [
    "### while loop\n",
    "x=0\n",
    "while(x<999999):\n",
    "    print(x,end=\",\")\n",
    "    x = x+1\n",
    "    "
   ]
  },
  {
   "cell_type": "code",
   "execution_count": 3,
   "id": "44033dda",
   "metadata": {},
   "outputs": [
    {
     "name": "stdout",
     "output_type": "stream",
     "text": [
      "what is your fav topping, press q to quit \n",
      "what is your fav topping, press q to quit c\n",
      "what is your fav topping, press q to quit \n",
      "what is your fav topping, press q to quit d\n",
      "what is your fav topping, press q to quit d\n",
      "what is your fav topping, press q to quit d\n",
      "what is your fav topping, press q to quit v\n",
      "what is your fav topping, press q to quit d\n",
      "what is your fav topping, press q to quit d\n",
      "what is your fav topping, press q to quit \n",
      "what is your fav topping, press q to quit f\n",
      "what is your fav topping, press q to quit f\n",
      "what is your fav topping, press q to quit v\n",
      "what is your fav topping, press q to quit f\n",
      "what is your fav topping, press q to quit \n",
      "what is your fav topping, press q to quit v\n",
      "what is your fav topping, press q to quit vq\n",
      "what is your fav topping, press q to quit q\n",
      "['q'] \n",
      "['q'] c\n",
      "['q'] \n",
      "['q'] d\n",
      "['q'] d\n",
      "['q'] d\n",
      "['q'] v\n",
      "['q'] d\n",
      "['q'] d\n",
      "['q'] \n",
      "['q'] f\n",
      "['q'] f\n",
      "['q'] v\n",
      "['q'] f\n",
      "['q'] \n",
      "['q'] v\n",
      "['q'] vq\n"
     ]
    }
   ],
   "source": [
    "x = \"andy\"\n",
    "toppings = []\n",
    "while x != \"q\":\n",
    "    x=input(\"what is your fav topping, press q to quit \")\n",
    "    if x !=\"q\":\n",
    "        toppings.append(x)\n",
    "for each in toppings:\n",
    "    print(list(x),each)"
   ]
  },
  {
   "cell_type": "code",
   "execution_count": 4,
   "id": "973d6ae5",
   "metadata": {},
   "outputs": [],
   "source": [
    "w = \"my fav topping is\""
   ]
  },
  {
   "cell_type": "code",
   "execution_count": null,
   "id": "0eb10cdd",
   "metadata": {},
   "outputs": [
    {
     "name": "stdout",
     "output_type": "stream",
     "text": [
      "what is your fav topping, press q to quit\n",
      "what is your fav topping, press q to quit\n",
      "what is your fav topping, press q to quit\n",
      "what is your fav topping, press q to quit\n",
      "what is your fav topping, press q to quit\n",
      "what is your fav topping, press q to quit\n",
      "what is your fav topping, press q to quit\n",
      "what is your fav topping, press q to quit\n",
      "what is your fav topping, press q to quit\n"
     ]
    }
   ],
   "source": [
    "x = \"andy\"\n",
    "toppings = []\n",
    "while x != \"q\":\n",
    "    x=input(\"what is your fav topping, press q to quit\")\n",
    "    if x !=\"q\":\n",
    "        toppings.append(x)\n",
    "        if x==\"hahaha\":\n",
    "            break\n",
    "for each in toppings:\n",
    "    print(w,each)"
   ]
  },
  {
   "cell_type": "code",
   "execution_count": null,
   "id": "11493273",
   "metadata": {},
   "outputs": [],
   "source": [
    "if "
   ]
  },
  {
   "cell_type": "code",
   "execution_count": null,
   "id": "d62dd6e7",
   "metadata": {},
   "outputs": [],
   "source": [
    "passcode = \"6HgCbz\"\n",
    "meeting_id = \"438 997 0723\"\n",
    "print(\"the meeting id is\",meeting_id,\"and the passcode is\",passcode)"
   ]
  },
  {
   "cell_type": "code",
   "execution_count": null,
   "id": "b2473735",
   "metadata": {},
   "outputs": [],
   "source": [
    "while True:\n",
    "    age = input(\"how old are you \")\n",
    "    if age == \"quit\":\n",
    "        break\n",
    "    age = int(age)\n",
    "    if age < 3:\n",
    "        print(\"your ticket to the movie is free\")\n",
    "    if age < 12 and age > 3:\n",
    "        print(\"your ticket to the movie is 10$\")\n",
    "    else:\n",
    "        print(\"your ticket to the movie is 15$\")"
   ]
  },
  {
   "cell_type": "code",
   "execution_count": null,
   "id": "8f204118",
   "metadata": {},
   "outputs": [],
   "source": [
    "47\n",
    "###### tt = dict(t=\"yut\",e=\"gh\")\n",
    "for each in tt:\n",
    "    print(each,\"=\",tt[each])"
   ]
  },
  {
   "cell_type": "code",
   "execution_count": 11,
   "id": "6fdb092b",
   "metadata": {},
   "outputs": [
    {
     "name": "stdout",
     "output_type": "stream",
     "text": [
      "t = yut\n",
      "e = gh\n"
     ]
    }
   ],
   "source": [
    "yt = {\"t\":\"yut\",\"e\":\"gh\"}\n",
    "for each in yt:\n",
    "    print(each,\"=\",yt[each])"
   ]
  },
  {
   "cell_type": "code",
   "execution_count": 1,
   "id": "08c68c3c",
   "metadata": {},
   "outputs": [
    {
     "ename": "NameError",
     "evalue": "name 'h' is not defined",
     "output_type": "error",
     "traceback": [
      "\u001b[0;31m---------------------------------------------------------------------------\u001b[0m",
      "\u001b[0;31mNameError\u001b[0m                                 Traceback (most recent call last)",
      "\u001b[0;32m/var/folders/0k/rfc7l8w10vg2gy6fqthn9r9r0000gn/T/ipykernel_22026/1693320531.py\u001b[0m in \u001b[0;36m<module>\u001b[0;34m\u001b[0m\n\u001b[1;32m      1\u001b[0m \u001b[0;32mwhile\u001b[0m \u001b[0;32mTrue\u001b[0m\u001b[0;34m:\u001b[0m\u001b[0;34m\u001b[0m\u001b[0;34m\u001b[0m\u001b[0m\n\u001b[0;32m----> 2\u001b[0;31m     \u001b[0mprint\u001b[0m\u001b[0;34m(\u001b[0m\u001b[0mh\u001b[0m\u001b[0;34m+\u001b[0m\u001b[0me\u001b[0m\u001b[0;34m+\u001b[0m\u001b[0ml\u001b[0m\u001b[0;34m+\u001b[0m\u001b[0ml\u001b[0m\u001b[0;34m+\u001b[0m\u001b[0mo\u001b[0m\u001b[0;34m)\u001b[0m\u001b[0;34m\u001b[0m\u001b[0;34m\u001b[0m\u001b[0m\n\u001b[0m",
      "\u001b[0;31mNameError\u001b[0m: name 'h' is not defined"
     ]
    }
   ],
   "source": [
    "while True:\n",
    "    print(h+e+l+l+o)"
   ]
  },
  {
   "cell_type": "code",
   "execution_count": null,
   "id": "af2b0d0b",
   "metadata": {},
   "outputs": [],
   "source": []
  }
 ],
 "metadata": {
  "kernelspec": {
   "display_name": "Python 3 (ipykernel)",
   "language": "python",
   "name": "python3"
  },
  "language_info": {
   "codemirror_mode": {
    "name": "ipython",
    "version": 3
   },
   "file_extension": ".py",
   "mimetype": "text/x-python",
   "name": "python",
   "nbconvert_exporter": "python",
   "pygments_lexer": "ipython3",
   "version": "3.9.13"
  }
 },
 "nbformat": 4,
 "nbformat_minor": 5
}

{
 "cells": [
  {
   "cell_type": "markdown",
   "metadata": {},
   "source": [
    "### Trip Planning\n",
    "\n",
    "You are planning a three-day trip, and you want to keep track of your expenses and activities. Write a Python program that allows you to do the following:\n",
    "\n",
    "1. Initialize three variables to represent your daily expenses: `day1_expense`, `day2_expense`, and `day3_expense`.\n",
    "\n",
    "2. Prompt the user to input their expenses for each day of the trip. Ensure that the input is a positive number.\n",
    "\n",
    "3. Calculate and display the total expenses for the three days.\n",
    "\n",
    "4. Create a list called `activities` to store your planned activities for each day (e.g., [\"Day 1: Hiking\", \"Day 2: Sightseeing\", \"Day 3: Beach\"]).\n",
    "\n",
    "5. Display the list of planned activities for each day.\n",
    "\n",
    "6. Ask the user to input their actual activities for each day and store them in a new list called `actual_activities`.\n",
    "\n",
    "7. Display the list of actual activities for each day.\n",
    "\n",
    "8. Calculate and display the percentage of your budget spent each day. (Percentage spent = (expenses for the day / total expenses) * 100)\n",
    "\n",
    "Your program should provide a user-friendly interface for trip planning and tracking expenses and activities over the three days."
   ]
  },
  {
   "cell_type": "code",
   "execution_count": 9,
   "metadata": {},
   "outputs": [
    {
     "name": "stdout",
     "output_type": "stream",
     "text": [
      "ohh you spent you day 1 s\n",
      "ohh you spent you day 2 d\n",
      "ohh you spent you day 3 f\n"
     ]
    }
   ],
   "source": [
    "# step 1 and step 2\n",
    "\n",
    "\n",
    "Day1_expense=input(\"what did YOU do IN the FIELD TRIP\") \n",
    "Day2_expense=input(\"what did YOU do IN the FIELD TRIP\") \n",
    "Day3_expense=input(\"what did YOU do IN the FIELD TRIP\") \n",
    "\n",
    "d1_expense=input(\"what did YOU do IN the FIELD TRIP\") \n",
    "d2_expense=input(\"what did YOU do IN the FIELD TRIP\") \n",
    "d3_expense=input(\"what did YOU do IN the FIELD TRIP\") \n",
    "# step 3\n",
    "\n",
    "print(\"ohh you spent you day 1\", Day1_expense)\n",
    "print(\"ohh you spent you day 2\", Day2_expense)\n",
    "print(\"ohh you spent you day 3\", Day3_expense)"
   ]
  },
  {
   "cell_type": "code",
   "execution_count": 12,
   "metadata": {},
   "outputs": [],
   "source": [
    "activitys=[Day1_expense,Day2_expense,Day3_expense]\n",
    "activities=[d1_expense,d2_expense,d3_expense]\n",
    "act_active=[]"
   ]
  },
  {
   "cell_type": "code",
   "execution_count": 14,
   "metadata": {},
   "outputs": [
    {
     "name": "stdout",
     "output_type": "stream",
     "text": [
      "i did s\n",
      "i did d\n",
      "i did f\n",
      "i actually did er\n",
      "i actually did a\n",
      "i actually did h\n"
     ]
    }
   ],
   "source": [
    "for each in activitys:\n",
    "    print(\"i did\",each)\n",
    "for i in activities:\n",
    "    print(\"i actually did\",i)"
   ]
  },
  {
   "cell_type": "code",
   "execution_count": 21,
   "metadata": {},
   "outputs": [],
   "source": [
    "day1 = 1000\n",
    "day2= 970\n",
    "day3 = 586\n",
    "\n",
    "total = (day1+day2+day3 )"
   ]
  },
  {
   "cell_type": "code",
   "execution_count": 22,
   "metadata": {},
   "outputs": [
    {
     "data": {
      "text/plain": [
       "39.123630672926446"
      ]
     },
     "execution_count": 22,
     "metadata": {},
     "output_type": "execute_result"
    }
   ],
   "source": [
    "day1 * 100 / total"
   ]
  },
  {
   "cell_type": "code",
   "execution_count": 23,
   "metadata": {},
   "outputs": [
    {
     "data": {
      "text/plain": [
       "37.94992175273865"
      ]
     },
     "execution_count": 23,
     "metadata": {},
     "output_type": "execute_result"
    }
   ],
   "source": [
    "day2* 100/total"
   ]
  },
  {
   "cell_type": "code",
   "execution_count": 24,
   "metadata": {},
   "outputs": [
    {
     "data": {
      "text/plain": [
       "22.926447574334897"
      ]
     },
     "execution_count": 24,
     "metadata": {},
     "output_type": "execute_result"
    }
   ],
   "source": [
    "day3* 100/total"
   ]
  },
  {
   "cell_type": "code",
   "execution_count": 25,
   "metadata": {},
   "outputs": [
    {
     "data": {
      "text/plain": [
       "2556"
      ]
     },
     "execution_count": 25,
     "metadata": {},
     "output_type": "execute_result"
    }
   ],
   "source": [
    "total"
   ]
  },
  {
   "cell_type": "code",
   "execution_count": null,
   "metadata": {},
   "outputs": [],
   "source": []
  }
 ],
 "metadata": {
  "kernelspec": {
   "display_name": "base",
   "language": "python",
   "name": "python3"
  },
  "language_info": {
   "codemirror_mode": {
    "name": "ipython",
    "version": 3
   },
   "file_extension": ".py",
   "mimetype": "text/x-python",
   "name": "python",
   "nbconvert_exporter": "python",
   "pygments_lexer": "ipython3",
   "version": "3.10.9"
  },
  "orig_nbformat": 4
 },
 "nbformat": 4,
 "nbformat_minor": 2
}

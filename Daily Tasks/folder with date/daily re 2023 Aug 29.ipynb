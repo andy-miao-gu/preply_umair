{
 "cells": [
  {
   "cell_type": "markdown",
   "metadata": {},
   "source": [
    "### Matching 1 or more with + (remember an will not include if i ask for andy and angela)"
   ]
  },
  {
   "cell_type": "code",
   "execution_count": 7,
   "metadata": {},
   "outputs": [],
   "source": [
    "import re"
   ]
  },
  {
   "cell_type": "code",
   "execution_count": 8,
   "metadata": {},
   "outputs": [
    {
     "name": "stdout",
     "output_type": "stream",
     "text": [
      "['andy', 'angela']\n"
     ]
    }
   ],
   "source": [
    "#example 1\n",
    "x = \"andy an angela \"\n",
    "pattern = re.compile(\"an[a-z]+\")\n",
    "print(pattern.findall(x))"
   ]
  },
  {
   "cell_type": "markdown",
   "metadata": {},
   "source": [
    "##### Question 1\n"
   ]
  },
  {
   "cell_type": "code",
   "execution_count": 9,
   "metadata": {},
   "outputs": [],
   "source": [
    "#task 1:\n",
    "all_words = \"Application Apprehend Mango Append Apparatus App\"\n",
    "# please get all words wwhich are starting with App using + operator\n",
    "\n",
    "\n",
    "\n",
    "\n",
    "# write you code here\n",
    "# with regular expressions \n",
    "# as shown in example"
   ]
  },
  {
   "cell_type": "code",
   "execution_count": 10,
   "metadata": {},
   "outputs": [
    {
     "name": "stdout",
     "output_type": "stream",
     "text": [
      "['andy', 'angela']\n"
     ]
    }
   ],
   "source": [
    "#example 2\n",
    "x = \"andy an angela \"\n",
    "pattern = re.compile(\"an[a-z]+\")\n",
    "print(pattern.findall(x))"
   ]
  },
  {
   "cell_type": "markdown",
   "metadata": {},
   "source": [
    "##### Question 2 "
   ]
  },
  {
   "cell_type": "code",
   "execution_count": 11,
   "metadata": {},
   "outputs": [],
   "source": [
    "#task 2:\n",
    "all_words = \"Application Apprehend Mango Append Apparatus App\"\n",
    "# please get all words wwhich are starting with App using * operator\n",
    "\n",
    "\n",
    "\n",
    "\n",
    "# write you code here\n",
    "# with regular expressions \n",
    "# as shown in example"
   ]
  },
  {
   "cell_type": "markdown",
   "metadata": {},
   "source": [
    "### what difference you found in * and + symbol in example 1 and example 2"
   ]
  },
  {
   "cell_type": "code",
   "execution_count": 12,
   "metadata": {},
   "outputs": [],
   "source": [
    "## write here\n",
    "difference = \"\"\"\n",
    "\n",
    "\n",
    "\n",
    "\"\"\""
   ]
  },
  {
   "cell_type": "markdown",
   "metadata": {},
   "source": [
    "# The Wildcard Character"
   ]
  },
  {
   "cell_type": "code",
   "execution_count": 13,
   "metadata": {},
   "outputs": [
    {
     "name": "stdout",
     "output_type": "stream",
     "text": [
      "['cat', 'hat', 'sat', 'lat', 'mat']\n"
     ]
    }
   ],
   "source": [
    "# example\n",
    "x = 'The cat in the hat sat on the flat mat.'\n",
    "pattern = re.compile(r'.at')\n",
    "print(pattern.findall(x))"
   ]
  },
  {
   "cell_type": "markdown",
   "metadata": {},
   "source": [
    "### question 3"
   ]
  },
  {
   "cell_type": "code",
   "execution_count": 14,
   "metadata": {},
   "outputs": [],
   "source": [
    "x = \"The dog on the log barked at the frog in the bog.\"\n",
    "# get .og words\n",
    "\n",
    "\n",
    "\n"
   ]
  },
  {
   "cell_type": "markdown",
   "metadata": {},
   "source": [
    "### final Question"
   ]
  },
  {
   "cell_type": "code",
   "execution_count": null,
   "metadata": {},
   "outputs": [],
   "source": [
    "# convert all string like this \n",
    "data = \"\"\"\n",
    "Trendy shoes at 200, a stylish jacket at 150, \n",
    "a high-end laptop at 800, \n",
    "a quality camera at 450, \n",
    "a sleek watch at 100, and fashionable sunglasses at 75.\n",
    "\"\"\"\n",
    "\n",
    "# Please store name as key and price as value\n",
    "## remember to use re pattern example: [a-z]* at \\d\\d\\d   what do you this this patttern will work ???\n",
    "\n",
    "\n"
   ]
  }
 ],
 "metadata": {
  "kernelspec": {
   "display_name": "Python 3 (ipykernel)",
   "language": "python",
   "name": "python3"
  },
  "language_info": {
   "codemirror_mode": {
    "name": "ipython",
    "version": 3
   },
   "file_extension": ".py",
   "mimetype": "text/x-python",
   "name": "python",
   "nbconvert_exporter": "python",
   "pygments_lexer": "ipython3",
   "version": "3.11.4"
  }
 },
 "nbformat": 4,
 "nbformat_minor": 2
}

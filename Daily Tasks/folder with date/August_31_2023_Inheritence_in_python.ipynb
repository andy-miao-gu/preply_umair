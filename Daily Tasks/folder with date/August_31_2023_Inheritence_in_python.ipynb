{
 "cells": [
  {
   "cell_type": "markdown",
   "metadata": {},
   "source": [
    "# Example 1: Single Inheritance\n"
   ]
  },
  {
   "cell_type": "code",
   "execution_count": 5,
   "metadata": {},
   "outputs": [
    {
     "name": "stdout",
     "output_type": "stream",
     "text": [
      "Buddy says Woof!\n"
     ]
    },
    {
     "data": {
      "text/plain": [
       "'grey colored Hapiy says meow i am a human *scratches the sofa noise*!'"
      ]
     },
     "execution_count": 5,
     "metadata": {},
     "output_type": "execute_result"
    }
   ],
   "source": [
    "# Example 1: Single Inheritance\n",
    "class Animal:\n",
    "    def __init__(self, name, color,position=\"sit\"):\n",
    "        self.name = name\n",
    "        self.color = color\n",
    "        self.position = position\n",
    "    \n",
    "    def get_positions(self):\n",
    "        return self.position\n",
    "    \n",
    "    def set_positions(self,pos):\n",
    "        self.position = pos\n",
    "        \n",
    "\n",
    "class Dog(Animal):\n",
    "    def speak(self):\n",
    "        return f\"{self.name} says Woof!\"\n",
    "\n",
    "# make class cat\n",
    "class Cat(Animal): # we are inheriting from Animal\n",
    "    def speak(self):\n",
    "        return f\"{self.color} colored {self.name} says meow i am a human *scratches the sofa noise*!\"\n",
    "\n",
    "# Create a Dog object\n",
    "dog = Dog(\"Buddy\",\"red\")\n",
    "print(dog.speak())\n",
    "\n",
    "cat = Cat(\"Hapiy\",\"grey\")\n",
    "cat.speak()"
   ]
  },
  {
   "cell_type": "code",
   "execution_count": 7,
   "metadata": {},
   "outputs": [
    {
     "data": {
      "text/plain": [
       "'sleeping'"
      ]
     },
     "execution_count": 7,
     "metadata": {},
     "output_type": "execute_result"
    }
   ],
   "source": [
    "# Practice 1 add two function to Animal classs function 1 is sit and function 2 is stand\n",
    "dog.get_positions()\n",
    "dog.set_positions(\"sleeping\")\n",
    "dog.get_positions()\n",
    "\n"
   ]
  },
  {
   "cell_type": "code",
   "execution_count": 9,
   "metadata": {},
   "outputs": [
    {
     "data": {
      "text/plain": [
       "'do a filp'"
      ]
     },
     "execution_count": 9,
     "metadata": {},
     "output_type": "execute_result"
    }
   ],
   "source": [
    "cat.get_positions()\n",
    "cat.set_positions(\"do a filp\")\n",
    "cat.get_positions()"
   ]
  },
  {
   "cell_type": "markdown",
   "metadata": {},
   "source": [
    "Questions for Example 1:\n",
    "\n",
    "1. What is inheritance in Python, and why is it useful?\n",
    "2. How do you define a base (parent) class in Python?\n",
    "3. What is a derived (child) class, and how is it related to the base class?\n",
    "4. In Example 1, what is the base class, and what is the derived class?\n",
    "5. What does the speak method in the Dog class do?"
   ]
  },
  {
   "cell_type": "markdown",
   "metadata": {},
   "source": [
    "# Example 2: Multiple Inheritance\n",
    "\n"
   ]
  },
  {
   "cell_type": "code",
   "execution_count": 10,
   "metadata": {},
   "outputs": [
    {
     "name": "stdout",
     "output_type": "stream",
     "text": [
      "Method A from class A\n",
      "Method B from class B\n",
      "Method C from class C\n"
     ]
    }
   ],
   "source": [
    "# Example 2: Multiple Inheritance\n",
    "class A:\n",
    "    def method_A(self):\n",
    "        return \"Method A from class A\"\n",
    "\n",
    "class B:\n",
    "    def method_B(self):\n",
    "        return \"Method B from class B\"\n",
    "\n",
    "class C(A, B):\n",
    "    def method_C(self):\n",
    "        return \"Method C from class C\"\n",
    "\n",
    "# Create a C object and call its methods\n",
    "c = C()\n",
    "print(c.method_A())\n",
    "print(c.method_B())\n",
    "print(c.method_C())\n",
    "\n"
   ]
  },
  {
   "cell_type": "code",
   "execution_count": 13,
   "metadata": {},
   "outputs": [
    {
     "name": "stdout",
     "output_type": "stream",
     "text": [
      "Method A from class A\n",
      "Method B from class B\n",
      "Method C from class C\n",
      "i am Method D from Class C\n"
     ]
    }
   ],
   "source": [
    "# can you call c.method_A ????? try\n",
    "\n",
    "\n",
    "# practice 2 Make a class D and method_D which will print i am Method D from Class and inheric C (remember C is made up of A and B)\n",
    "\n",
    "class D(C):\n",
    "        def method_D(self):\n",
    "            return \"i am Method D from Class C\"\n",
    "d = D()\n",
    "print(d.method_A())\n",
    "print(d.method_B())\n",
    "print(d.method_C())\n",
    "print(d.method_D())"
   ]
  },
  {
   "cell_type": "markdown",
   "metadata": {},
   "source": [
    "# Questions for Example 2:\n",
    "\n",
    "1. What is multiple inheritance in Python?\n",
    "2. How is multiple inheritance different from single inheritance?\n",
    "3. In Example 2, what are the base classes, and what is the derived class?\n",
    "4. How is method resolution order determined in multiple inheritance?\n",
    "5. What happens if there is a method with the same name in both base classes?"
   ]
  },
  {
   "cell_type": "markdown",
   "metadata": {},
   "source": [
    "#  Example 3: Method Overriding\n",
    "\n"
   ]
  },
  {
   "cell_type": "code",
   "execution_count": 14,
   "metadata": {},
   "outputs": [
    {
     "name": "stdout",
     "output_type": "stream",
     "text": [
      "Area of the circle: 78.53975\n"
     ]
    }
   ],
   "source": [
    "# Example 3: Method Overriding\n",
    "class Shape:\n",
    "    def area(self):\n",
    "        return 0\n",
    "\n",
    "class Circle(Shape):\n",
    "    def __init__(self, radius):\n",
    "        self.radius = radius\n",
    "\n",
    "    def area(self):  # method area of shape will remove and this will be updated function\n",
    "        return 3.14159 * self.radius**2\n",
    "\n",
    "# Create a Circle object and calculate its area\n",
    "circle = Circle(5)\n",
    "print(f\"Area of the circle: {circle.area()}\")"
   ]
  },
  {
   "cell_type": "markdown",
   "metadata": {},
   "source": [
    "# Questions for Example 3:\n",
    "\n",
    "1. What is method overriding in Python?\n",
    "2. How does method overriding relate to inheritance?\n",
    "3. In Example 3, what is the base class, and what is the derived class?\n",
    "4. What is the purpose of the area method in the Shape class?\n",
    "5. How does method overriding allow the Circle class to calculate its own area?"
   ]
  },
  {
   "cell_type": "markdown",
   "metadata": {},
   "source": [
    "# Example 4: Super() Function\n",
    "\n"
   ]
  },
  {
   "cell_type": "code",
   "execution_count": 19,
   "metadata": {},
   "outputs": [
    {
     "name": "stdout",
     "output_type": "stream",
     "text": [
      "Name: Alice, Age: 8\n"
     ]
    }
   ],
   "source": [
    "# Example 4: Super() Function\n",
    "class Parent:\n",
    "    def __init__(self, name,color):\n",
    "        self.name = name\n",
    "        self.color = color\n",
    "\n",
    "class Child(Parent):\n",
    "    def __init__(self, name,color, age):\n",
    "        super().__init__(name,color)\n",
    "        self.age = age\n",
    "\n",
    "# Create a Child object and access its attributes\n",
    "child = student(\"Alice\",\"red\", 8)\n",
    "print(f\"Name: {child.name}, Age: {child.age}\")\n"
   ]
  },
  {
   "cell_type": "code",
   "execution_count": 18,
   "metadata": {},
   "outputs": [
    {
     "name": "stdout",
     "output_type": "stream",
     "text": [
      "Name: Alice, Age: 8\n"
     ]
    }
   ],
   "source": [
    "# make a person class with attribute name and age\n",
    "\n",
    "\n",
    "\n",
    "## make a child class and inherit person class add anohter attribute registration number\n",
    "## \n",
    "class teacher:\n",
    "    def __init__(self, name,color):\n",
    "        self.name = name\n",
    "        self.color = color\n",
    "\n",
    "class student(teacher):\n",
    "    def __init__(self, name,color, age):\n",
    "        super().__init__(name,color)\n",
    "        self.age = age\n",
    "\n",
    "# Create a Child object and access its attributes\n",
    "child = Child(\"Alice\",\"red\", 8)\n",
    "print(f\"Name: {child.name}, Age: {child.age}\")\n",
    "\n",
    "\n"
   ]
  },
  {
   "cell_type": "markdown",
   "metadata": {},
   "source": [
    "# Questions for Example 4:\n",
    "\n",
    "1. What is the super() function in Python, and what is its purpose?\n",
    "2. In Example 4, what is the base class, and what is the derived class?\n",
    "3. What is the significance of the super().__init__(name) line in the Child class?\n",
    "4. How does super() help initialize attributes from the parent class?\n",
    "5. What will be printed when we create a Child object in this example?"
   ]
  },
  {
   "cell_type": "markdown",
   "metadata": {},
   "source": [
    "# Example 5: Abstract Base Classes (ABCs)\n",
    "\n"
   ]
  },
  {
   "cell_type": "code",
   "execution_count": 6,
   "metadata": {},
   "outputs": [
    {
     "name": "stdout",
     "output_type": "stream",
     "text": [
      "Area of the circle: 78.53975\n"
     ]
    }
   ],
   "source": [
    "# Example 5: Abstract Base Classes (ABCs)\n",
    "from abc import ABC, abstractmethod\n",
    "\n",
    "class Shape(ABC):\n",
    "    @abstractmethod\n",
    "    def area(self):\n",
    "        pass\n",
    "\n",
    "class Circle(Shape):\n",
    "    def __init__(self, radius):\n",
    "        self.radius = radius\n",
    "\n",
    "    def area(self):\n",
    "        return 3.14159 * self.radius**2\n",
    "\n",
    "# Create a Circle object and calculate its area\n",
    "circle = Circle(5)\n",
    "print(f\"Area of the circle: {circle.area()}\")\n"
   ]
  },
  {
   "cell_type": "markdown",
   "metadata": {},
   "source": [
    "## Questions for Example 5:\n",
    "\n",
    "1. What is an Abstract Base Class (ABC) in Python, and why is it used?\n",
    "2. How do you define an abstract method in a class?\n",
    "3. In Example 5, what is the base class, and what is the derived class?\n",
    "4. Why is it necessary to define the area method as an abstract method in the Shape class?\n",
    "5. What happens if you try to create an instance of the abstract class Shape?"
   ]
  },
  {
   "cell_type": "markdown",
   "metadata": {},
   "source": []
  }
 ],
 "metadata": {
  "kernelspec": {
   "display_name": "dsml",
   "language": "python",
   "name": "python3"
  },
  "language_info": {
   "codemirror_mode": {
    "name": "ipython",
    "version": 3
   },
   "file_extension": ".py",
   "mimetype": "text/x-python",
   "name": "python",
   "nbconvert_exporter": "python",
   "pygments_lexer": "ipython3",
   "version": "3.10.9"
  },
  "orig_nbformat": 4
 },
 "nbformat": 4,
 "nbformat_minor": 2
}

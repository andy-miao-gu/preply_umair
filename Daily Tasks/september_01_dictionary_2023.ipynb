{
 "cells": [
  {
   "cell_type": "markdown",
   "metadata": {},
   "source": [
    "\n",
    "1. Creating a Dictionary:\n",
    "\n",
    "Write Python code to create an empty dictionary and then add three key-value pairs to it. Provide an example with different data types as values (e.g., strings, integers, and lists)."
   ]
  },
  {
   "cell_type": "code",
   "execution_count": 4,
   "metadata": {},
   "outputs": [
    {
     "name": "stdout",
     "output_type": "stream",
     "text": [
      "{'k1': 'one', 'k2': True, 'k3': 10.5}\n"
     ]
    }
   ],
   "source": [
    "x = {\n",
    "    \"k1\":\"one\",\n",
    "    \"k2\":True,\n",
    "    \"k3\":10.5\n",
    "}\n",
    "print(x)"
   ]
  },
  {
   "cell_type": "code",
   "execution_count": 2,
   "metadata": {},
   "outputs": [
    {
     "name": "stdout",
     "output_type": "stream",
     "text": [
      "{}\n"
     ]
    }
   ],
   "source": [
    "dct={}\n",
    "value=[1,2,3]\n",
    "key=[\"one\", \"two\", \"three\"]\n",
    "for each in dct:\n",
    "    each.append(value[0],value[1],value[2],)\n",
    "    dct[each].append(key[0],key[1],key[2])\n",
    "print(dct)"
   ]
  },
  {
   "cell_type": "markdown",
   "metadata": {},
   "source": [
    "2. Accessing Dictionary Values:\n",
    "\n",
    "Given a dictionary with the following key-value pairs: {\"name\": \"John\", \"age\": 30, \"city\": \"New York\"}, write code to access and print the value associated with the \"age\" key."
   ]
  },
  {
   "cell_type": "code",
   "execution_count": 10,
   "metadata": {},
   "outputs": [
    {
     "name": "stdout",
     "output_type": "stream",
     "text": [
      "30\n"
     ]
    }
   ],
   "source": [
    "x={\"name\": \"John\", \"age\": 30, \"city\": \"New York\"}\n",
    "print(x[\"age\"])\n"
   ]
  },
  {
   "cell_type": "markdown",
   "metadata": {},
   "source": [
    "3. Updating Dictionary Values:\n",
    "\n",
    "Write Python code to update the value associated with the \"city\" key in the dictionary from the previous question. Change it to \"San Francisco.\""
   ]
  },
  {
   "cell_type": "code",
   "execution_count": 12,
   "metadata": {},
   "outputs": [
    {
     "data": {
      "text/plain": [
       "{'name': 'John', 'age': 30, 'city': 'San Fransico'}"
      ]
     },
     "execution_count": 12,
     "metadata": {},
     "output_type": "execute_result"
    }
   ],
   "source": [
    "x[\"city\"]=\"San Fransico\"\n",
    "x"
   ]
  },
  {
   "cell_type": "markdown",
   "metadata": {},
   "source": [
    "4. Iterating Through a Dictionary:\n",
    "\n",
    "Create a Python program that iterates through the dictionary {\"apple\": 3, \"banana\": 2, \"cherry\": 5} and prints each key and its corresponding value."
   ]
  },
  {
   "cell_type": "code",
   "execution_count": 13,
   "metadata": {},
   "outputs": [
    {
     "name": "stdout",
     "output_type": "stream",
     "text": [
      "I have 3 apple\n",
      "I have 2 banana\n",
      "I have 5 cherry\n"
     ]
    }
   ],
   "source": [
    "weee={\"apple\": 3, \"banana\": 2, \"cherry\": 5}\n",
    "for i in weee:\n",
    "    print(\"I have\",weee[i],i)"
   ]
  },
  {
   "cell_type": "markdown",
   "metadata": {},
   "source": [
    "5. Dictionary Manipulation:\n",
    "\n",
    "Write Python code to remove the key-value pair with the key \"banana\" from the dictionary {\"apple\": 3, \"banana\": 2, \"cherry\": 5} and then calculate the length (number of key-value pairs) of the updated dictionary./"
   ]
  },
  {
   "cell_type": "code",
   "execution_count": 14,
   "metadata": {},
   "outputs": [],
   "source": [
    "del(weee[\"banana\"])"
   ]
  },
  {
   "cell_type": "code",
   "execution_count": 16,
   "metadata": {},
   "outputs": [
    {
     "data": {
      "text/plain": [
       "2"
      ]
     },
     "execution_count": 16,
     "metadata": {},
     "output_type": "execute_result"
    }
   ],
   "source": [
    "len(weee)"
   ]
  },
  {
   "cell_type": "code",
   "execution_count": null,
   "metadata": {},
   "outputs": [],
   "source": []
  }
 ],
 "metadata": {
  "kernelspec": {
   "display_name": "base",
   "language": "python",
   "name": "python3"
  },
  "language_info": {
   "codemirror_mode": {
    "name": "ipython",
    "version": 3
   },
   "file_extension": ".py",
   "mimetype": "text/x-python",
   "name": "python",
   "nbconvert_exporter": "python",
   "pygments_lexer": "ipython3",
   "version": "3.10.9"
  },
  "orig_nbformat": 4
 },
 "nbformat": 4,
 "nbformat_minor": 2
}

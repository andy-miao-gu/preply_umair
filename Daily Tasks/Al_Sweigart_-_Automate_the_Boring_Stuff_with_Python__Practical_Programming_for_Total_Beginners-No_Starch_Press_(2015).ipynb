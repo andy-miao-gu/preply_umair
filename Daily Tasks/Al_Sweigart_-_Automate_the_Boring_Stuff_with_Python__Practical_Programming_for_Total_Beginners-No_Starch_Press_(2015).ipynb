{
 "cells": [
  {
   "cell_type": "markdown",
   "metadata": {},
   "source": [
    "### Matching 1 or more with + (remember an will not include if i ask for andy and angela)"
   ]
  },
  {
   "cell_type": "code",
   "execution_count": 2,
   "metadata": {},
   "outputs": [],
   "source": [
    "import re"
   ]
  },
  {
   "cell_type": "code",
   "execution_count": 3,
   "metadata": {},
   "outputs": [
    {
     "name": "stdout",
     "output_type": "stream",
     "text": [
      "['andy', 'angela']\n"
     ]
    }
   ],
   "source": [
    "#example 1\n",
    "x = \"andy an angela \"\n",
    "pattern = re.compile(\"an[a-z]+\")\n",
    "print(pattern.findall(x))"
   ]
  },
  {
   "cell_type": "markdown",
   "metadata": {},
   "source": [
    "##### Question 1\n"
   ]
  },
  {
   "cell_type": "code",
   "execution_count": 8,
   "metadata": {},
   "outputs": [
    {
     "data": {
      "text/plain": [
       "['Application', 'Apprehend', 'Append', 'Apparatus']"
      ]
     },
     "execution_count": 8,
     "metadata": {},
     "output_type": "execute_result"
    }
   ],
   "source": [
    "#task 1:\n",
    "all_words = \"Application Apprehend Mango Append Apparatus App\"\n",
    "# please get all words wwhich are starting with App using + operator\n",
    "appfinder=re.compile(r\"App[a-z]+\")\n",
    "appfinder.findall(all_words)\n",
    "\n",
    "\n",
    "# write you code here\n",
    "# with regular expressions \n",
    "# as shown in example"
   ]
  },
  {
   "cell_type": "code",
   "execution_count": 10,
   "metadata": {},
   "outputs": [
    {
     "name": "stdout",
     "output_type": "stream",
     "text": [
      "['andy', 'an', 'angela']\n"
     ]
    }
   ],
   "source": [
    "#example 2\n",
    "x = \"andy an angela \"\n",
    "pattern = re.compile(\"an[a-z]*\")\n",
    "print(pattern.findall(x))"
   ]
  },
  {
   "cell_type": "markdown",
   "metadata": {},
   "source": [
    "##### Question 2 "
   ]
  },
  {
   "cell_type": "code",
   "execution_count": 11,
   "metadata": {},
   "outputs": [
    {
     "data": {
      "text/plain": [
       "['Application', 'Apprehend', 'Append', 'Apparatus', 'App']"
      ]
     },
     "execution_count": 11,
     "metadata": {},
     "output_type": "execute_result"
    }
   ],
   "source": [
    "#task 2:\n",
    "all_words = \"Application Apprehend Mango Append Apparatus App\"\n",
    "# please get all words wwhich are starting with App using * operator\n",
    "\n",
    "appfinder=re.compile(r\"App[a-z]*\")\n",
    "appfinder.findall(all_words)\n",
    "\n",
    "\n",
    "# write you code here\n",
    "# with regular expressions \n",
    "# as shown in example"
   ]
  },
  {
   "cell_type": "markdown",
   "metadata": {},
   "source": [
    "### what difference you found in * and + symbol in example 1 and example 2"
   ]
  },
  {
   "cell_type": "code",
   "execution_count": 12,
   "metadata": {},
   "outputs": [],
   "source": [
    "## write here\n",
    "difference = \"\"\"\n",
    "star(*) makes the ones with the starting and ending word, it selects 0 (it select words itself) or mroe matching\n",
    "\n",
    "plus(+) makes the one with only the ending word, It select 1 or more matcching\n",
    "\"\"\""
   ]
  },
  {
   "cell_type": "markdown",
   "metadata": {},
   "source": [
    "# The Wildcard Character"
   ]
  },
  {
   "cell_type": "code",
   "execution_count": 13,
   "metadata": {},
   "outputs": [
    {
     "name": "stdout",
     "output_type": "stream",
     "text": [
      "['cat', 'sat', 'lat', 'mat', 'fat', 'rat', ' at', 'hat', 'cat']\n"
     ]
    }
   ],
   "source": [
    "# example\n",
    "x = 'The cat sat on a flat mat with a fat rat while being at that location.'\n",
    "pattern = re.compile(r'.at')\n",
    "print(pattern.findall(x))"
   ]
  },
  {
   "cell_type": "markdown",
   "metadata": {},
   "source": [
    "### question 3"
   ]
  },
  {
   "cell_type": "code",
   "execution_count": 23,
   "metadata": {},
   "outputs": [
    {
     "name": "stdout",
     "output_type": "stream",
     "text": [
      "[' dog', ' log', 'frog', ' bog', ' hog', 'blog']\n"
     ]
    }
   ],
   "source": [
    "x = \"The dog on the log barked at the frog in the bog with a hog and having a blog to read.\"\n",
    "# get .og words\n",
    "\n",
    "bog = re.compile(r'..og')\n",
    "print(bog.findall(x))\n"
   ]
  },
  {
   "cell_type": "markdown",
   "metadata": {},
   "source": [
    "### final Question"
   ]
  },
  {
   "cell_type": "code",
   "execution_count": 40,
   "metadata": {},
   "outputs": [
    {
     "name": "stdout",
     "output_type": "stream",
     "text": [
      "{'trendyshoes': '$200', 'stylishjacket': '$150', 'device': '$800', 'camera': '$450', 'sleek': '$100', 'sunglasses': '$757'}\n"
     ]
    }
   ],
   "source": [
    "# convert all string like this \n",
    "data = \"\"\"\n",
    "In the realm of fashion and technology,\n",
    " every item carries its own significance. trendyshoes at $200, \n",
    "  go beyond mere comfort, becoming a statement of personal flair. \n",
    " A stylishjacket at $150, blends warmth with elegance, transforming any outfit. \n",
    " device at $800, a high-end laptop isn't just a device but a portal to productivity and entertainment. \n",
    " A quality camera at $450, captures moments with clarity, preserving memories. \n",
    " A sleek at $100 watch marries function and fashion, while fashionable sunglasses at $757  offer style with eye protection. \n",
    "These items remind us how fashion and technology intertwine seamlessly in our lives, \n",
    "allowing us to express ourselves and navigate the modern world with finesse.\n",
    "\n",
    "\"\"\"\n",
    "\n",
    "# Please store name as key and price as value\n",
    "## remember to use re pattern example: [a-z]* at \\d\\d\\d   what do you this this patttern will work ???\n",
    "\n",
    "hi=re.compile(r\"\\w+ at .\\d\\d\\d\")\n",
    "\n",
    "lst = hi.findall(data)\n",
    "g = {}\n",
    "for each in lst:\n",
    "    k=each.split(\" at \")[0]\n",
    "    v=each.split(\" at \")[1]\n",
    "    g[k]= v\n",
    "print(g)\n",
    "    "
   ]
  },
  {
   "cell_type": "code",
   "execution_count": null,
   "metadata": {},
   "outputs": [],
   "source": []
  }
 ],
 "metadata": {
  "kernelspec": {
   "display_name": "Python 3 (ipykernel)",
   "language": "python",
   "name": "python3"
  },
  "language_info": {
   "codemirror_mode": {
    "name": "ipython",
    "version": 3
   },
   "file_extension": ".py",
   "mimetype": "text/x-python",
   "name": "python",
   "nbconvert_exporter": "python",
   "pygments_lexer": "ipython3",
   "version": "3.10.9"
  }
 },
 "nbformat": 4,
 "nbformat_minor": 2
}

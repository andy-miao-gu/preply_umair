{
 "cells": [
  {
   "cell_type": "code",
   "execution_count": 2,
   "metadata": {},
   "outputs": [
    {
     "name": "stdout",
     "output_type": "stream",
     "text": [
      "This is a story about dogs\n",
      "our canine pets\n",
      "Dogs are furry animals\n",
      "\n"
     ]
    }
   ],
   "source": [
    "with open(\"../DATA/One.txt\") as mt:\n",
    "    print(mt.read())"
   ]
  },
  {
   "cell_type": "code",
   "execution_count": 3,
   "metadata": {},
   "outputs": [
    {
     "name": "stdout",
     "output_type": "stream",
     "text": [
      "This story is about surfing\n",
      "Catching waves is fun\n",
      "Surfing is a popular water sport\n",
      "\n"
     ]
    }
   ],
   "source": [
    "with open(\"../DATA/Two.txt\") as ms:\n",
    "    print(ms.read())"
   ]
  },
  {
   "cell_type": "code",
   "execution_count": 5,
   "metadata": {},
   "outputs": [],
   "source": [
    "with open(\"../DATA/One.txt\") as mt:\n",
    "    data = mt.read()"
   ]
  },
  {
   "cell_type": "code",
   "execution_count": 8,
   "metadata": {},
   "outputs": [
    {
     "data": {
      "text/plain": [
       "'This is a story about dogs\\nour canine pets\\nDogs are furry animals\\n'"
      ]
     },
     "execution_count": 8,
     "metadata": {},
     "output_type": "execute_result"
    }
   ],
   "source": [
    "data"
   ]
  },
  {
   "cell_type": "code",
   "execution_count": 13,
   "metadata": {},
   "outputs": [
    {
     "name": "stdout",
     "output_type": "stream",
     "text": [
      "hiii my \n",
      "name is andy\n"
     ]
    }
   ],
   "source": [
    "s = \"hiii my name is andy\"\n",
    "print(s)"
   ]
  },
  {
   "cell_type": "code",
   "execution_count": 10,
   "metadata": {},
   "outputs": [
    {
     "data": {
      "text/plain": [
       "['This',\n",
       " 'is',\n",
       " 'a',\n",
       " 'story',\n",
       " 'about',\n",
       " 'dogs',\n",
       " 'our',\n",
       " 'canine',\n",
       " 'pets',\n",
       " 'Dogs',\n",
       " 'are',\n",
       " 'furry',\n",
       " 'animals']"
      ]
     },
     "execution_count": 10,
     "metadata": {},
     "output_type": "execute_result"
    }
   ],
   "source": [
    "words = data.split()\n",
    "words"
   ]
  },
  {
   "cell_type": "code",
   "execution_count": 14,
   "metadata": {},
   "outputs": [],
   "source": [
    "### load a fileone.txt and file 2.txt and convert it into lower case then make a list out of it using split function."
   ]
  },
  {
   "cell_type": "code",
   "execution_count": 1,
   "metadata": {},
   "outputs": [],
   "source": [
    "with open(\"../DATA/One.txt\") as ms:\n",
    "\n",
    "    data1 = ms.read()"
   ]
  },
  {
   "cell_type": "code",
   "execution_count": 5,
   "metadata": {},
   "outputs": [],
   "source": [
    "word_lower_case=data1.lower()"
   ]
  },
  {
   "cell_type": "code",
   "execution_count": 4,
   "metadata": {},
   "outputs": [],
   "source": [
    "with open(\"../DATA/Two.txt\") as ms:\n",
    "    data2 = ms.read()"
   ]
  },
  {
   "cell_type": "code",
   "execution_count": 6,
   "metadata": {},
   "outputs": [],
   "source": [
    "word_lower_case2=data2.lower()"
   ]
  },
  {
   "cell_type": "code",
   "execution_count": 11,
   "metadata": {},
   "outputs": [
    {
     "name": "stdout",
     "output_type": "stream",
     "text": [
      "the first story is \n",
      " this is a story about dogs\n",
      "our canine pets\n",
      "dogs are furry animals\n",
      " and the second story is \n",
      " this story is about surfing\n",
      "catching waves is fun\n",
      "surfing is a popular water sport\n",
      "\n"
     ]
    }
   ],
   "source": [
    "print(\"the first story is \\n\",word_lower_case,\"and the second story is \\n\",word_lower_case2)"
   ]
  },
  {
   "cell_type": "code",
   "execution_count": 18,
   "metadata": {},
   "outputs": [],
   "source": [
    "words1 = word_lower_case.split()\n",
    "words2 =word_lower_case2.split()\n",
    "words1= set(words1)\n",
    "words2 = set(words2)"
   ]
  },
  {
   "cell_type": "code",
   "execution_count": 22,
   "metadata": {},
   "outputs": [
    {
     "data": {
      "text/plain": [
       "['dogs',\n",
       " 'canine',\n",
       " 'furry',\n",
       " 'water',\n",
       " 'fun',\n",
       " 'is',\n",
       " 'surfing',\n",
       " 'this',\n",
       " 'animals',\n",
       " 'story',\n",
       " 'waves',\n",
       " 'our',\n",
       " 'are',\n",
       " 'sport',\n",
       " 'pets',\n",
       " 'a',\n",
       " 'catching',\n",
       " 'popular',\n",
       " 'about']"
      ]
     },
     "execution_count": 22,
     "metadata": {},
     "output_type": "execute_result"
    }
   ],
   "source": [
    "words = set()\n",
    "words.update(words1)\n",
    "words\n",
    "words.update(words2)\n",
    "words\n",
    "words=list(words)\n",
    "words"
   ]
  },
  {
   "cell_type": "code",
   "execution_count": 23,
   "metadata": {},
   "outputs": [],
   "source": [
    "###\"what is the main difference between list and tuple\"=\"???\"\n",
    "words1 = word_lower_case.split()\n",
    "words2 =word_lower_case2.split()\n",
    "words1=  list(words1)\n",
    "words2 = list(words2)"
   ]
  },
  {
   "cell_type": "code",
   "execution_count": 24,
   "metadata": {},
   "outputs": [],
   "source": [
    "word = list(())\n",
    "word.extend(words1)\n",
    "word.extend(words2)"
   ]
  },
  {
   "cell_type": "code",
   "execution_count": 25,
   "metadata": {},
   "outputs": [
    {
     "data": {
      "text/plain": [
       "['this',\n",
       " 'is',\n",
       " 'a',\n",
       " 'story',\n",
       " 'about',\n",
       " 'dogs',\n",
       " 'our',\n",
       " 'canine',\n",
       " 'pets',\n",
       " 'dogs',\n",
       " 'are',\n",
       " 'furry',\n",
       " 'animals',\n",
       " 'this',\n",
       " 'story',\n",
       " 'is',\n",
       " 'about',\n",
       " 'surfing',\n",
       " 'catching',\n",
       " 'waves',\n",
       " 'is',\n",
       " 'fun',\n",
       " 'surfing',\n",
       " 'is',\n",
       " 'a',\n",
       " 'popular',\n",
       " 'water',\n",
       " 'sport']"
      ]
     },
     "execution_count": 25,
     "metadata": {},
     "output_type": "execute_result"
    }
   ],
   "source": [
    "word"
   ]
  },
  {
   "cell_type": "code",
   "execution_count": 30,
   "metadata": {},
   "outputs": [
    {
     "name": "stdout",
     "output_type": "stream",
     "text": [
      "{'this': 2, 'is': 4, 'a': 2, 'story': 2, 'about': 2, 'dogs': 2, 'our': 1, 'canine': 1, 'pets': 1, 'are': 1, 'furry': 1, 'animals': 1, 'surfing': 2, 'catching': 1, 'waves': 1, 'fun': 1, 'popular': 1, 'water': 1, 'sport': 1}\n"
     ]
    }
   ],
   "source": [
    "#count number of similar words in a list....and put them to dictionary\n",
    "wordss={}\n",
    "for each in word:\n",
    "    wordss[each] = wordss.get(each,0)+1\n",
    "print(wordss)\n",
    "all_words = list(wordss.keys())"
   ]
  },
  {
   "cell_type": "code",
   "execution_count": 34,
   "metadata": {},
   "outputs": [],
   "source": [
    "#homework=\"you have allswords, can you count same words for file 1 and file 2 spearately hint is user\"\n",
    "for each in all_words:\n",
    "    if each == words1:\n",
    "        wordss[each] = wordss.get(each,0)+1\n",
    "        print(wordss)\n",
    "    if each == words2:\n",
    "        wordss[each] = wordss.get(each,0)+1\n",
    "        print(wordss)"
   ]
  },
  {
   "cell_type": "code",
   "execution_count": null,
   "metadata": {},
   "outputs": [],
   "source": []
  }
 ],
 "metadata": {
  "kernelspec": {
   "display_name": "dsml",
   "language": "python",
   "name": "python3"
  },
  "language_info": {
   "codemirror_mode": {
    "name": "ipython",
    "version": 3
   },
   "file_extension": ".py",
   "mimetype": "text/x-python",
   "name": "python",
   "nbconvert_exporter": "python",
   "pygments_lexer": "ipython3",
   "version": "3.10.4"
  },
  "orig_nbformat": 4
 },
 "nbformat": 4,
 "nbformat_minor": 2
}
